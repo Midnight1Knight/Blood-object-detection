{
 "cells": [
  {
   "cell_type": "code",
   "execution_count": 1,
   "id": "ccfb1113-16c6-45cb-8bad-544798b2a3de",
   "metadata": {},
   "outputs": [],
   "source": [
    "import os"
   ]
  },
  {
   "cell_type": "markdown",
   "id": "201c8d88-26b1-405a-9259-188b6aa3e658",
   "metadata": {},
   "source": [
    "# Устанавливаем папки"
   ]
  },
  {
   "cell_type": "code",
   "execution_count": 2,
   "id": "914b80ca-5144-4712-be36-3061692e9f50",
   "metadata": {},
   "outputs": [],
   "source": [
    "# fish_name = input(\"Напишите с какой рыбой работаем:\")\n",
    "fish_name = 'карп'\n",
    "if fish_name.lower() == 'карп':\n",
    "    LABEL_MAP_NAME = 'label_map_karp.pbtxt'\n",
    "    name = 'karp'\n",
    "elif fish_name.lower() == 'осетр':\n",
    "    LABEL_MAP_NAME = 'label_map_osetr.pbtxt'\n",
    "    name = 'osetr'\n",
    "else:\n",
    "    print('Пока нет фотографий для такой рыбы')"
   ]
  },
  {
   "cell_type": "code",
   "execution_count": 3,
   "id": "2bc1dc96-d694-4f80-898d-3169d846f01f",
   "metadata": {},
   "outputs": [],
   "source": [
    "CUSTOM_MODEL_NAME = 'my_ssd_mobnet' \n",
    "PRETRAINED_MODEL_NAME = 'ssd_mobilenet_v2_fpnlite_320x320_coco17_tpu-8'\n",
    "PRETRAINED_MODEL_URL = 'http://download.tensorflow.org/models/object_detection/tf2/20200711/ssd_mobilenet_v2_fpnlite_320x320_coco17_tpu-8.tar.gz'\n",
    "TF_RECORD_SCRIPT_NAME = 'generate_tfrecord.py'"
   ]
  },
  {
   "cell_type": "code",
   "execution_count": 4,
   "id": "8b02304f-c76b-46a0-9871-5b90039ccb3a",
   "metadata": {},
   "outputs": [],
   "source": [
    "paths = {\n",
    "    'WORKSPACE_PATH': os.path.join('Tensorflow', 'workspace'),\n",
    "    'SCRIPTS_PATH': os.path.join('Tensorflow','scripts'),\n",
    "    'APIMODEL_PATH': os.path.join('Tensorflow','models'),\n",
    "    'ANNOTATION_PATH': os.path.join('Tensorflow', 'workspace','annotations'),\n",
    "    'IMAGE_PATH': os.path.join('Tensorflow', 'workspace','data'),\n",
    "    'MODEL_PATH': os.path.join('Tensorflow', 'workspace','models'),\n",
    "    'PRETRAINED_MODEL_PATH': os.path.join('Tensorflow', 'workspace','pre-trained-models'),\n",
    "    'CHECKPOINT_PATH': os.path.join('Tensorflow', 'workspace','models',CUSTOM_MODEL_NAME, name + '_checkpoints'), \n",
    "    'OUTPUT_PATH': os.path.join('Tensorflow', 'workspace','models',CUSTOM_MODEL_NAME, 'export'), \n",
    "    'TFJS_PATH':os.path.join('Tensorflow', 'workspace','models',CUSTOM_MODEL_NAME, 'tfjsexport'), \n",
    "    'TFLITE_PATH':os.path.join('Tensorflow', 'workspace','models',CUSTOM_MODEL_NAME, 'tfliteexport'), \n",
    "    'PROTOC_PATH':os.path.join('Tensorflow','protoc')\n",
    " }"
   ]
  },
  {
   "cell_type": "code",
   "execution_count": 5,
   "id": "3d292d91-6636-4647-94fe-c558e9eac014",
   "metadata": {},
   "outputs": [],
   "source": [
    "files = {\n",
    "    'PIPELINE_CONFIG':os.path.join(paths['CHECKPOINT_PATH'], name + '_pipeline.config'),\n",
    "    'TF_RECORD_SCRIPT': os.path.join(paths['SCRIPTS_PATH'], TF_RECORD_SCRIPT_NAME), \n",
    "    'LABELMAP': os.path.join(paths['ANNOTATION_PATH'], LABEL_MAP_NAME)\n",
    "}"
   ]
  },
  {
   "cell_type": "code",
   "execution_count": 6,
   "id": "335d1dd4-799c-4077-a9cb-9e5d90955915",
   "metadata": {},
   "outputs": [],
   "source": [
    "for path in paths.values():\n",
    "    if not os.path.exists(path):\n",
    "        if os.name == 'posix':\n",
    "            !mkdir -p {path}\n",
    "        if os.name == 'nt':\n",
    "            !mkdir {path}"
   ]
  },
  {
   "cell_type": "code",
   "execution_count": 21,
   "id": "6bfd1528-18d8-42b7-9d1d-544c4527efec",
   "metadata": {},
   "outputs": [
    {
     "name": "stdout",
     "output_type": "stream",
     "text": [
      "Cloning into 'Tensorflow/models'...\n",
      "remote: Enumerating objects: 97475, done.\u001b[K\n",
      "remote: Counting objects: 100% (755/755), done.\u001b[K\n",
      "remote: Compressing objects: 100% (352/352), done.\u001b[K\n",
      "remote: Total 97475 (delta 462), reused 620 (delta 396), pack-reused 96720\u001b[K\n",
      "Receiving objects: 100% (97475/97475), 613.70 MiB | 968.00 KiB/s, done.\n",
      "Resolving deltas: 100% (70880/70880), done.\n"
     ]
    }
   ],
   "source": [
    "if not os.path.exists(os.path.join(paths['APIMODEL_PATH'], 'research', 'object_detection')):\n",
    "    !git clone https://github.com/tensorflow/models {paths['APIMODEL_PATH']}"
   ]
  },
  {
   "cell_type": "code",
   "execution_count": 53,
   "id": "8a41a029-80b6-461a-b809-7a5be9a069b3",
   "metadata": {},
   "outputs": [],
   "source": [
    "import re\n",
    "\n",
    "def update_setup():\n",
    "    file_path = 'setup.py'\n",
    "    with open(file_path, 'r', encoding='utf-8') as file:\n",
    "        setup_content = file.read()\n",
    "    \n",
    "    # Обновляем tf-models-official\n",
    "    setup_content = setup_content.replace('tf-models-official>=2.5.1', 'tf-models-official>=2.5.1, <2.14.0')\n",
    "    setup_content = setup_content.replace(\"'keras'\", \"#'keras'\")\n",
    "\n",
    "    with open(file_path, 'w', encoding='utf-8') as file:\n",
    "        file.write(setup_content)"
   ]
  },
  {
   "cell_type": "code",
   "execution_count": 55,
   "id": "02879fa3-15fb-4f75-953b-98bde0adf1ee",
   "metadata": {},
   "outputs": [
    {
     "name": "stdout",
     "output_type": "stream",
     "text": [
      "0.InstallingLibraries.ipynb  2.Training.ipynb  README.md         \u001b[0m\u001b[01;34mTensorflow\u001b[0m/\n",
      "1.DataExplore.ipynb          3.Testing.ipynb   requirements.txt\n"
     ]
    }
   ],
   "source": [
    "%ls"
   ]
  },
  {
   "cell_type": "code",
   "execution_count": 58,
   "id": "c40665d3-852b-4b1f-9f8a-11af28cdb333",
   "metadata": {
    "scrolled": true
   },
   "outputs": [
    {
     "name": "stdout",
     "output_type": "stream",
     "text": [
      "/home/midnightknight/Blood-object-detection/Tensorflow/models/research\n",
      "1\n",
      "Processing /home/midnightknight/Blood-object-detection/Tensorflow/models/research\n",
      "  Preparing metadata (setup.py) ... \u001b[?25ldone\n",
      "\u001b[?25hRequirement already satisfied: Cython in /home/midnightknight/Blood-object-detection/.obj_det/lib/python3.10/site-packages (from object-detection==0.1) (3.0.10)\n",
      "Requirement already satisfied: apache-beam in /home/midnightknight/Blood-object-detection/.obj_det/lib/python3.10/site-packages (from object-detection==0.1) (2.57.0)\n",
      "Requirement already satisfied: avro-python3 in /home/midnightknight/Blood-object-detection/.obj_det/lib/python3.10/site-packages (from object-detection==0.1) (1.10.2)\n",
      "Requirement already satisfied: contextlib2 in /home/midnightknight/Blood-object-detection/.obj_det/lib/python3.10/site-packages (from object-detection==0.1) (21.6.0)\n",
      "Requirement already satisfied: lvis in /home/midnightknight/Blood-object-detection/.obj_det/lib/python3.10/site-packages (from object-detection==0.1) (0.5.3)\n",
      "Requirement already satisfied: lxml in /home/midnightknight/Blood-object-detection/.obj_det/lib/python3.10/site-packages (from object-detection==0.1) (5.2.2)\n",
      "Requirement already satisfied: matplotlib in /home/midnightknight/Blood-object-detection/.obj_det/lib/python3.10/site-packages (from object-detection==0.1) (3.9.1)\n",
      "Requirement already satisfied: pandas in /home/midnightknight/Blood-object-detection/.obj_det/lib/python3.10/site-packages (from object-detection==0.1) (2.2.2)\n",
      "Requirement already satisfied: pillow in /home/midnightknight/Blood-object-detection/.obj_det/lib/python3.10/site-packages (from object-detection==0.1) (10.4.0)\n",
      "Requirement already satisfied: pycocotools in /home/midnightknight/Blood-object-detection/.obj_det/lib/python3.10/site-packages (from object-detection==0.1) (2.0.8)\n",
      "Requirement already satisfied: pyparsing==2.4.7 in /home/midnightknight/Blood-object-detection/.obj_det/lib/python3.10/site-packages (from object-detection==0.1) (2.4.7)\n",
      "Requirement already satisfied: sacrebleu<=2.2.0 in /home/midnightknight/Blood-object-detection/.obj_det/lib/python3.10/site-packages (from object-detection==0.1) (2.2.0)\n",
      "Requirement already satisfied: scipy in /home/midnightknight/Blood-object-detection/.obj_det/lib/python3.10/site-packages (from object-detection==0.1) (1.14.0)\n",
      "Requirement already satisfied: six in /home/midnightknight/Blood-object-detection/.obj_det/lib/python3.10/site-packages (from object-detection==0.1) (1.16.0)\n",
      "Requirement already satisfied: tensorflow_io in /home/midnightknight/Blood-object-detection/.obj_det/lib/python3.10/site-packages (from object-detection==0.1) (0.37.1)\n",
      "Collecting tf-models-official<2.14.0,>=2.5.1 (from object-detection==0.1)\n",
      "  Using cached tf_models_official-2.13.2-py2.py3-none-any.whl.metadata (1.4 kB)\n",
      "Requirement already satisfied: tf-slim in /home/midnightknight/Blood-object-detection/.obj_det/lib/python3.10/site-packages (from object-detection==0.1) (1.1.0)\n",
      "Requirement already satisfied: portalocker in /home/midnightknight/Blood-object-detection/.obj_det/lib/python3.10/site-packages (from sacrebleu<=2.2.0->object-detection==0.1) (2.10.0)\n",
      "Requirement already satisfied: regex in /home/midnightknight/Blood-object-detection/.obj_det/lib/python3.10/site-packages (from sacrebleu<=2.2.0->object-detection==0.1) (2024.5.15)\n",
      "Requirement already satisfied: tabulate>=0.8.9 in /home/midnightknight/Blood-object-detection/.obj_det/lib/python3.10/site-packages (from sacrebleu<=2.2.0->object-detection==0.1) (0.9.0)\n",
      "Requirement already satisfied: numpy>=1.17 in /home/midnightknight/Blood-object-detection/.obj_det/lib/python3.10/site-packages (from sacrebleu<=2.2.0->object-detection==0.1) (1.26.4)\n",
      "Requirement already satisfied: colorama in /home/midnightknight/Blood-object-detection/.obj_det/lib/python3.10/site-packages (from sacrebleu<=2.2.0->object-detection==0.1) (0.4.6)\n",
      "Requirement already satisfied: gin-config in /home/midnightknight/Blood-object-detection/.obj_det/lib/python3.10/site-packages (from tf-models-official<2.14.0,>=2.5.1->object-detection==0.1) (0.5.0)\n",
      "Requirement already satisfied: google-api-python-client>=1.6.7 in /home/midnightknight/Blood-object-detection/.obj_det/lib/python3.10/site-packages (from tf-models-official<2.14.0,>=2.5.1->object-detection==0.1) (2.137.0)\n",
      "Requirement already satisfied: immutabledict in /home/midnightknight/Blood-object-detection/.obj_det/lib/python3.10/site-packages (from tf-models-official<2.14.0,>=2.5.1->object-detection==0.1) (4.2.0)\n",
      "Requirement already satisfied: kaggle>=1.3.9 in /home/midnightknight/Blood-object-detection/.obj_det/lib/python3.10/site-packages (from tf-models-official<2.14.0,>=2.5.1->object-detection==0.1) (1.6.14)\n",
      "Requirement already satisfied: oauth2client in /home/midnightknight/Blood-object-detection/.obj_det/lib/python3.10/site-packages (from tf-models-official<2.14.0,>=2.5.1->object-detection==0.1) (4.1.3)\n",
      "Requirement already satisfied: opencv-python-headless in /home/midnightknight/Blood-object-detection/.obj_det/lib/python3.10/site-packages (from tf-models-official<2.14.0,>=2.5.1->object-detection==0.1) (4.10.0.84)\n",
      "Requirement already satisfied: psutil>=5.4.3 in /home/midnightknight/Blood-object-detection/.obj_det/lib/python3.10/site-packages (from tf-models-official<2.14.0,>=2.5.1->object-detection==0.1) (6.0.0)\n",
      "Requirement already satisfied: py-cpuinfo>=3.3.0 in /home/midnightknight/Blood-object-detection/.obj_det/lib/python3.10/site-packages (from tf-models-official<2.14.0,>=2.5.1->object-detection==0.1) (9.0.0)\n",
      "Requirement already satisfied: pyyaml>=6.0.0 in /home/midnightknight/Blood-object-detection/.obj_det/lib/python3.10/site-packages (from tf-models-official<2.14.0,>=2.5.1->object-detection==0.1) (6.0.1)\n",
      "Requirement already satisfied: sentencepiece in /home/midnightknight/Blood-object-detection/.obj_det/lib/python3.10/site-packages (from tf-models-official<2.14.0,>=2.5.1->object-detection==0.1) (0.2.0)\n",
      "Requirement already satisfied: seqeval in /home/midnightknight/Blood-object-detection/.obj_det/lib/python3.10/site-packages (from tf-models-official<2.14.0,>=2.5.1->object-detection==0.1) (1.2.2)\n",
      "Requirement already satisfied: tensorflow-datasets in /home/midnightknight/Blood-object-detection/.obj_det/lib/python3.10/site-packages (from tf-models-official<2.14.0,>=2.5.1->object-detection==0.1) (4.9.6)\n",
      "Requirement already satisfied: tensorflow-hub>=0.6.0 in /home/midnightknight/Blood-object-detection/.obj_det/lib/python3.10/site-packages (from tf-models-official<2.14.0,>=2.5.1->object-detection==0.1) (0.16.1)\n",
      "Requirement already satisfied: tensorflow-model-optimization>=0.4.1 in /home/midnightknight/Blood-object-detection/.obj_det/lib/python3.10/site-packages (from tf-models-official<2.14.0,>=2.5.1->object-detection==0.1) (0.8.0)\n",
      "Collecting tensorflow-text~=2.13.0 (from tf-models-official<2.14.0,>=2.5.1->object-detection==0.1)\n",
      "  Using cached tensorflow_text-2.13.0-cp310-cp310-manylinux_2_17_x86_64.manylinux2014_x86_64.whl.metadata (2.0 kB)\n",
      "Collecting tensorflow~=2.13.0 (from tf-models-official<2.14.0,>=2.5.1->object-detection==0.1)\n",
      "  Using cached tensorflow-2.13.1-cp310-cp310-manylinux_2_17_x86_64.manylinux2014_x86_64.whl.metadata (3.4 kB)\n",
      "Requirement already satisfied: python-dateutil>=2.8.2 in /home/midnightknight/Blood-object-detection/.obj_det/lib/python3.10/site-packages (from pandas->object-detection==0.1) (2.9.0.post0)\n",
      "Requirement already satisfied: pytz>=2020.1 in /home/midnightknight/Blood-object-detection/.obj_det/lib/python3.10/site-packages (from pandas->object-detection==0.1) (2024.1)\n",
      "Requirement already satisfied: tzdata>=2022.7 in /home/midnightknight/Blood-object-detection/.obj_det/lib/python3.10/site-packages (from pandas->object-detection==0.1) (2024.1)\n",
      "Requirement already satisfied: absl-py>=0.2.2 in /home/midnightknight/Blood-object-detection/.obj_det/lib/python3.10/site-packages (from tf-slim->object-detection==0.1) (1.4.0)\n",
      "Requirement already satisfied: crcmod<2.0,>=1.7 in /home/midnightknight/Blood-object-detection/.obj_det/lib/python3.10/site-packages (from apache-beam->object-detection==0.1) (1.7)\n",
      "Requirement already satisfied: orjson<4,>=3.9.7 in /home/midnightknight/Blood-object-detection/.obj_det/lib/python3.10/site-packages (from apache-beam->object-detection==0.1) (3.10.6)\n",
      "Requirement already satisfied: dill<0.3.2,>=0.3.1.1 in /home/midnightknight/Blood-object-detection/.obj_det/lib/python3.10/site-packages (from apache-beam->object-detection==0.1) (0.3.1.1)\n",
      "Requirement already satisfied: cloudpickle~=2.2.1 in /home/midnightknight/Blood-object-detection/.obj_det/lib/python3.10/site-packages (from apache-beam->object-detection==0.1) (2.2.1)\n",
      "Requirement already satisfied: fastavro<2,>=0.23.6 in /home/midnightknight/Blood-object-detection/.obj_det/lib/python3.10/site-packages (from apache-beam->object-detection==0.1) (1.9.5)\n",
      "Requirement already satisfied: fasteners<1.0,>=0.3 in /home/midnightknight/Blood-object-detection/.obj_det/lib/python3.10/site-packages (from apache-beam->object-detection==0.1) (0.19)\n",
      "Requirement already satisfied: grpcio!=1.48.0,!=1.59.*,!=1.60.*,!=1.61.*,!=1.62.0,!=1.62.1,<2,>=1.33.1 in /home/midnightknight/Blood-object-detection/.obj_det/lib/python3.10/site-packages (from apache-beam->object-detection==0.1) (1.64.1)\n",
      "Requirement already satisfied: hdfs<3.0.0,>=2.1.0 in /home/midnightknight/Blood-object-detection/.obj_det/lib/python3.10/site-packages (from apache-beam->object-detection==0.1) (2.7.3)\n",
      "Requirement already satisfied: httplib2<0.23.0,>=0.8 in /home/midnightknight/Blood-object-detection/.obj_det/lib/python3.10/site-packages (from apache-beam->object-detection==0.1) (0.22.0)\n",
      "Requirement already satisfied: jsonschema<5.0.0,>=4.0.0 in /home/midnightknight/Blood-object-detection/.obj_det/lib/python3.10/site-packages (from apache-beam->object-detection==0.1) (4.23.0)\n",
      "Requirement already satisfied: jsonpickle<4.0.0,>=3.0.0 in /home/midnightknight/Blood-object-detection/.obj_det/lib/python3.10/site-packages (from apache-beam->object-detection==0.1) (3.2.2)\n",
      "Requirement already satisfied: objsize<0.8.0,>=0.6.1 in /home/midnightknight/Blood-object-detection/.obj_det/lib/python3.10/site-packages (from apache-beam->object-detection==0.1) (0.7.0)\n",
      "Requirement already satisfied: packaging>=22.0 in /home/midnightknight/Blood-object-detection/.obj_det/lib/python3.10/site-packages (from apache-beam->object-detection==0.1) (24.1)\n",
      "Requirement already satisfied: pymongo<5.0.0,>=3.8.0 in /home/midnightknight/Blood-object-detection/.obj_det/lib/python3.10/site-packages (from apache-beam->object-detection==0.1) (4.8.0)\n",
      "Requirement already satisfied: proto-plus<2,>=1.7.1 in /home/midnightknight/Blood-object-detection/.obj_det/lib/python3.10/site-packages (from apache-beam->object-detection==0.1) (1.24.0)\n",
      "Requirement already satisfied: protobuf!=4.0.*,!=4.21.*,!=4.22.0,!=4.23.*,!=4.24.*,<4.26.0,>=3.20.3 in /home/midnightknight/Blood-object-detection/.obj_det/lib/python3.10/site-packages (from apache-beam->object-detection==0.1) (3.20.3)\n",
      "Requirement already satisfied: pydot<2,>=1.2.0 in /home/midnightknight/Blood-object-detection/.obj_det/lib/python3.10/site-packages (from apache-beam->object-detection==0.1) (1.4.2)\n",
      "Requirement already satisfied: redis<6,>=5.0.0 in /home/midnightknight/Blood-object-detection/.obj_det/lib/python3.10/site-packages (from apache-beam->object-detection==0.1) (5.0.7)\n",
      "Requirement already satisfied: requests!=2.32.*,<3.0.0,>=2.24.0 in /home/midnightknight/Blood-object-detection/.obj_det/lib/python3.10/site-packages (from apache-beam->object-detection==0.1) (2.31.0)\n",
      "Requirement already satisfied: typing-extensions>=3.7.0 in /home/midnightknight/Blood-object-detection/.obj_det/lib/python3.10/site-packages (from apache-beam->object-detection==0.1) (4.12.2)\n",
      "Requirement already satisfied: zstandard<1,>=0.18.0 in /home/midnightknight/Blood-object-detection/.obj_det/lib/python3.10/site-packages (from apache-beam->object-detection==0.1) (0.22.0)\n",
      "Requirement already satisfied: pyarrow<17.0.0,>=3.0.0 in /home/midnightknight/Blood-object-detection/.obj_det/lib/python3.10/site-packages (from apache-beam->object-detection==0.1) (16.1.0)\n",
      "Requirement already satisfied: pyarrow-hotfix<1 in /home/midnightknight/Blood-object-detection/.obj_det/lib/python3.10/site-packages (from apache-beam->object-detection==0.1) (0.6)\n",
      "Requirement already satisfied: js2py<1,>=0.74 in /home/midnightknight/Blood-object-detection/.obj_det/lib/python3.10/site-packages (from apache-beam->object-detection==0.1) (0.74)\n",
      "Requirement already satisfied: cycler>=0.10.0 in /home/midnightknight/Blood-object-detection/.obj_det/lib/python3.10/site-packages (from lvis->object-detection==0.1) (0.12.1)\n",
      "Requirement already satisfied: kiwisolver>=1.1.0 in /home/midnightknight/Blood-object-detection/.obj_det/lib/python3.10/site-packages (from lvis->object-detection==0.1) (1.4.5)\n",
      "Requirement already satisfied: opencv-python>=4.1.0.25 in /home/midnightknight/Blood-object-detection/.obj_det/lib/python3.10/site-packages (from lvis->object-detection==0.1) (4.10.0.84)\n",
      "Requirement already satisfied: contourpy>=1.0.1 in /home/midnightknight/Blood-object-detection/.obj_det/lib/python3.10/site-packages (from matplotlib->object-detection==0.1) (1.2.1)\n",
      "Requirement already satisfied: fonttools>=4.22.0 in /home/midnightknight/Blood-object-detection/.obj_det/lib/python3.10/site-packages (from matplotlib->object-detection==0.1) (4.53.1)\n",
      "Requirement already satisfied: tensorflow-io-gcs-filesystem==0.37.1 in /home/midnightknight/Blood-object-detection/.obj_det/lib/python3.10/site-packages (from tensorflow_io->object-detection==0.1) (0.37.1)\n",
      "Requirement already satisfied: google-auth!=2.24.0,!=2.25.0,<3.0.0.dev0,>=1.32.0 in /home/midnightknight/Blood-object-detection/.obj_det/lib/python3.10/site-packages (from google-api-python-client>=1.6.7->tf-models-official<2.14.0,>=2.5.1->object-detection==0.1) (2.32.0)\n",
      "Requirement already satisfied: google-auth-httplib2<1.0.0,>=0.2.0 in /home/midnightknight/Blood-object-detection/.obj_det/lib/python3.10/site-packages (from google-api-python-client>=1.6.7->tf-models-official<2.14.0,>=2.5.1->object-detection==0.1) (0.2.0)\n",
      "Requirement already satisfied: google-api-core!=2.0.*,!=2.1.*,!=2.2.*,!=2.3.0,<3.0.0.dev0,>=1.31.5 in /home/midnightknight/Blood-object-detection/.obj_det/lib/python3.10/site-packages (from google-api-python-client>=1.6.7->tf-models-official<2.14.0,>=2.5.1->object-detection==0.1) (2.19.1)\n",
      "Requirement already satisfied: uritemplate<5,>=3.0.1 in /home/midnightknight/Blood-object-detection/.obj_det/lib/python3.10/site-packages (from google-api-python-client>=1.6.7->tf-models-official<2.14.0,>=2.5.1->object-detection==0.1) (4.1.1)\n",
      "Requirement already satisfied: docopt in /home/midnightknight/Blood-object-detection/.obj_det/lib/python3.10/site-packages (from hdfs<3.0.0,>=2.1.0->apache-beam->object-detection==0.1) (0.6.2)\n",
      "Requirement already satisfied: tzlocal>=1.2 in /home/midnightknight/Blood-object-detection/.obj_det/lib/python3.10/site-packages (from js2py<1,>=0.74->apache-beam->object-detection==0.1) (5.2)\n",
      "Requirement already satisfied: pyjsparser>=2.5.1 in /home/midnightknight/Blood-object-detection/.obj_det/lib/python3.10/site-packages (from js2py<1,>=0.74->apache-beam->object-detection==0.1) (2.7.1)\n",
      "Requirement already satisfied: attrs>=22.2.0 in /home/midnightknight/Blood-object-detection/.obj_det/lib/python3.10/site-packages (from jsonschema<5.0.0,>=4.0.0->apache-beam->object-detection==0.1) (23.2.0)\n",
      "Requirement already satisfied: jsonschema-specifications>=2023.03.6 in /home/midnightknight/Blood-object-detection/.obj_det/lib/python3.10/site-packages (from jsonschema<5.0.0,>=4.0.0->apache-beam->object-detection==0.1) (2023.12.1)\n",
      "Requirement already satisfied: referencing>=0.28.4 in /home/midnightknight/Blood-object-detection/.obj_det/lib/python3.10/site-packages (from jsonschema<5.0.0,>=4.0.0->apache-beam->object-detection==0.1) (0.35.1)\n",
      "Requirement already satisfied: rpds-py>=0.7.1 in /home/midnightknight/Blood-object-detection/.obj_det/lib/python3.10/site-packages (from jsonschema<5.0.0,>=4.0.0->apache-beam->object-detection==0.1) (0.19.0)\n",
      "Requirement already satisfied: bleach in /home/midnightknight/Blood-object-detection/.obj_det/lib/python3.10/site-packages (from kaggle>=1.3.9->tf-models-official<2.14.0,>=2.5.1->object-detection==0.1) (6.1.0)\n",
      "Requirement already satisfied: certifi>=2023.7.22 in /home/midnightknight/Blood-object-detection/.obj_det/lib/python3.10/site-packages (from kaggle>=1.3.9->tf-models-official<2.14.0,>=2.5.1->object-detection==0.1) (2024.7.4)\n",
      "Requirement already satisfied: python-slugify in /home/midnightknight/Blood-object-detection/.obj_det/lib/python3.10/site-packages (from kaggle>=1.3.9->tf-models-official<2.14.0,>=2.5.1->object-detection==0.1) (8.0.4)\n",
      "Requirement already satisfied: tqdm in /home/midnightknight/Blood-object-detection/.obj_det/lib/python3.10/site-packages (from kaggle>=1.3.9->tf-models-official<2.14.0,>=2.5.1->object-detection==0.1) (4.66.4)\n",
      "Requirement already satisfied: urllib3 in /home/midnightknight/Blood-object-detection/.obj_det/lib/python3.10/site-packages (from kaggle>=1.3.9->tf-models-official<2.14.0,>=2.5.1->object-detection==0.1) (2.2.2)\n",
      "Requirement already satisfied: dnspython<3.0.0,>=1.16.0 in /home/midnightknight/Blood-object-detection/.obj_det/lib/python3.10/site-packages (from pymongo<5.0.0,>=3.8.0->apache-beam->object-detection==0.1) (2.6.1)\n",
      "Requirement already satisfied: async-timeout>=4.0.3 in /home/midnightknight/Blood-object-detection/.obj_det/lib/python3.10/site-packages (from redis<6,>=5.0.0->apache-beam->object-detection==0.1) (4.0.3)\n",
      "Requirement already satisfied: charset-normalizer<4,>=2 in /home/midnightknight/Blood-object-detection/.obj_det/lib/python3.10/site-packages (from requests!=2.32.*,<3.0.0,>=2.24.0->apache-beam->object-detection==0.1) (3.3.2)\n",
      "Requirement already satisfied: idna<4,>=2.5 in /home/midnightknight/Blood-object-detection/.obj_det/lib/python3.10/site-packages (from requests!=2.32.*,<3.0.0,>=2.24.0->apache-beam->object-detection==0.1) (3.7)\n",
      "Requirement already satisfied: astunparse>=1.6.0 in /home/midnightknight/Blood-object-detection/.obj_det/lib/python3.10/site-packages (from tensorflow~=2.13.0->tf-models-official<2.14.0,>=2.5.1->object-detection==0.1) (1.6.3)\n",
      "Requirement already satisfied: flatbuffers>=23.1.21 in /home/midnightknight/Blood-object-detection/.obj_det/lib/python3.10/site-packages (from tensorflow~=2.13.0->tf-models-official<2.14.0,>=2.5.1->object-detection==0.1) (24.3.25)\n",
      "Collecting gast<=0.4.0,>=0.2.1 (from tensorflow~=2.13.0->tf-models-official<2.14.0,>=2.5.1->object-detection==0.1)\n",
      "  Using cached gast-0.4.0-py3-none-any.whl.metadata (1.1 kB)\n",
      "Requirement already satisfied: google-pasta>=0.1.1 in /home/midnightknight/Blood-object-detection/.obj_det/lib/python3.10/site-packages (from tensorflow~=2.13.0->tf-models-official<2.14.0,>=2.5.1->object-detection==0.1) (0.2.0)\n",
      "Requirement already satisfied: h5py>=2.9.0 in /home/midnightknight/Blood-object-detection/.obj_det/lib/python3.10/site-packages (from tensorflow~=2.13.0->tf-models-official<2.14.0,>=2.5.1->object-detection==0.1) (3.11.0)\n",
      "Collecting keras<2.14,>=2.13.1 (from tensorflow~=2.13.0->tf-models-official<2.14.0,>=2.5.1->object-detection==0.1)\n",
      "  Using cached keras-2.13.1-py3-none-any.whl.metadata (2.4 kB)\n",
      "Requirement already satisfied: libclang>=13.0.0 in /home/midnightknight/Blood-object-detection/.obj_det/lib/python3.10/site-packages (from tensorflow~=2.13.0->tf-models-official<2.14.0,>=2.5.1->object-detection==0.1) (18.1.1)\n",
      "Collecting numpy>=1.17 (from sacrebleu<=2.2.0->object-detection==0.1)\n",
      "  Using cached numpy-1.24.3-cp310-cp310-manylinux_2_17_x86_64.manylinux2014_x86_64.whl.metadata (5.6 kB)\n",
      "Requirement already satisfied: opt-einsum>=2.3.2 in /home/midnightknight/Blood-object-detection/.obj_det/lib/python3.10/site-packages (from tensorflow~=2.13.0->tf-models-official<2.14.0,>=2.5.1->object-detection==0.1) (3.3.0)\n",
      "Requirement already satisfied: setuptools in /home/midnightknight/Blood-object-detection/.obj_det/lib/python3.10/site-packages (from tensorflow~=2.13.0->tf-models-official<2.14.0,>=2.5.1->object-detection==0.1) (59.6.0)\n",
      "Collecting tensorboard<2.14,>=2.13 (from tensorflow~=2.13.0->tf-models-official<2.14.0,>=2.5.1->object-detection==0.1)\n",
      "  Using cached tensorboard-2.13.0-py3-none-any.whl.metadata (1.8 kB)\n",
      "Collecting tensorflow-estimator<2.14,>=2.13.0 (from tensorflow~=2.13.0->tf-models-official<2.14.0,>=2.5.1->object-detection==0.1)\n",
      "  Using cached tensorflow_estimator-2.13.0-py2.py3-none-any.whl.metadata (1.3 kB)\n",
      "Requirement already satisfied: termcolor>=1.1.0 in /home/midnightknight/Blood-object-detection/.obj_det/lib/python3.10/site-packages (from tensorflow~=2.13.0->tf-models-official<2.14.0,>=2.5.1->object-detection==0.1) (2.4.0)\n",
      "Collecting typing-extensions>=3.7.0 (from apache-beam->object-detection==0.1)\n",
      "  Using cached typing_extensions-4.5.0-py3-none-any.whl.metadata (8.5 kB)\n",
      "Requirement already satisfied: wrapt>=1.11.0 in /home/midnightknight/Blood-object-detection/.obj_det/lib/python3.10/site-packages (from tensorflow~=2.13.0->tf-models-official<2.14.0,>=2.5.1->object-detection==0.1) (1.14.1)\n",
      "Requirement already satisfied: tf-keras>=2.14.1 in /home/midnightknight/Blood-object-detection/.obj_det/lib/python3.10/site-packages (from tensorflow-hub>=0.6.0->tf-models-official<2.14.0,>=2.5.1->object-detection==0.1) (2.15.0)\n",
      "Requirement already satisfied: dm-tree~=0.1.1 in /home/midnightknight/Blood-object-detection/.obj_det/lib/python3.10/site-packages (from tensorflow-model-optimization>=0.4.1->tf-models-official<2.14.0,>=2.5.1->object-detection==0.1) (0.1.8)\n",
      "Requirement already satisfied: pyasn1>=0.1.7 in /home/midnightknight/Blood-object-detection/.obj_det/lib/python3.10/site-packages (from oauth2client->tf-models-official<2.14.0,>=2.5.1->object-detection==0.1) (0.6.0)\n",
      "Requirement already satisfied: pyasn1-modules>=0.0.5 in /home/midnightknight/Blood-object-detection/.obj_det/lib/python3.10/site-packages (from oauth2client->tf-models-official<2.14.0,>=2.5.1->object-detection==0.1) (0.4.0)\n",
      "Requirement already satisfied: rsa>=3.1.4 in /home/midnightknight/Blood-object-detection/.obj_det/lib/python3.10/site-packages (from oauth2client->tf-models-official<2.14.0,>=2.5.1->object-detection==0.1) (4.9)\n",
      "Requirement already satisfied: scikit-learn>=0.21.3 in /home/midnightknight/Blood-object-detection/.obj_det/lib/python3.10/site-packages (from seqeval->tf-models-official<2.14.0,>=2.5.1->object-detection==0.1) (1.5.1)\n",
      "Requirement already satisfied: click in /home/midnightknight/Blood-object-detection/.obj_det/lib/python3.10/site-packages (from tensorflow-datasets->tf-models-official<2.14.0,>=2.5.1->object-detection==0.1) (8.1.7)\n",
      "Requirement already satisfied: promise in /home/midnightknight/Blood-object-detection/.obj_det/lib/python3.10/site-packages (from tensorflow-datasets->tf-models-official<2.14.0,>=2.5.1->object-detection==0.1) (2.3)\n",
      "Requirement already satisfied: simple-parsing in /home/midnightknight/Blood-object-detection/.obj_det/lib/python3.10/site-packages (from tensorflow-datasets->tf-models-official<2.14.0,>=2.5.1->object-detection==0.1) (0.1.5)\n",
      "Requirement already satisfied: tensorflow-metadata in /home/midnightknight/Blood-object-detection/.obj_det/lib/python3.10/site-packages (from tensorflow-datasets->tf-models-official<2.14.0,>=2.5.1->object-detection==0.1) (1.15.0)\n",
      "Requirement already satisfied: toml in /home/midnightknight/Blood-object-detection/.obj_det/lib/python3.10/site-packages (from tensorflow-datasets->tf-models-official<2.14.0,>=2.5.1->object-detection==0.1) (0.10.2)\n",
      "Requirement already satisfied: array-record>=0.5.0 in /home/midnightknight/Blood-object-detection/.obj_det/lib/python3.10/site-packages (from tensorflow-datasets->tf-models-official<2.14.0,>=2.5.1->object-detection==0.1) (0.5.1)\n",
      "Requirement already satisfied: etils>=1.6.0 in /home/midnightknight/Blood-object-detection/.obj_det/lib/python3.10/site-packages (from etils[enp,epath,epy,etree]>=1.6.0; python_version < \"3.11\"->tensorflow-datasets->tf-models-official<2.14.0,>=2.5.1->object-detection==0.1) (1.7.0)\n",
      "Requirement already satisfied: wheel<1.0,>=0.23.0 in /home/midnightknight/Blood-object-detection/.obj_det/lib/python3.10/site-packages (from astunparse>=1.6.0->tensorflow~=2.13.0->tf-models-official<2.14.0,>=2.5.1->object-detection==0.1) (0.43.0)\n",
      "Requirement already satisfied: fsspec in /home/midnightknight/Blood-object-detection/.obj_det/lib/python3.10/site-packages (from etils[enp,epath,epy,etree]>=1.6.0; python_version < \"3.11\"->tensorflow-datasets->tf-models-official<2.14.0,>=2.5.1->object-detection==0.1) (2024.6.1)\n",
      "Requirement already satisfied: importlib_resources in /home/midnightknight/Blood-object-detection/.obj_det/lib/python3.10/site-packages (from etils[enp,epath,epy,etree]>=1.6.0; python_version < \"3.11\"->tensorflow-datasets->tf-models-official<2.14.0,>=2.5.1->object-detection==0.1) (6.4.0)\n",
      "Requirement already satisfied: zipp in /home/midnightknight/Blood-object-detection/.obj_det/lib/python3.10/site-packages (from etils[enp,epath,epy,etree]>=1.6.0; python_version < \"3.11\"->tensorflow-datasets->tf-models-official<2.14.0,>=2.5.1->object-detection==0.1) (3.19.2)\n",
      "Requirement already satisfied: googleapis-common-protos<2.0.dev0,>=1.56.2 in /home/midnightknight/Blood-object-detection/.obj_det/lib/python3.10/site-packages (from google-api-core!=2.0.*,!=2.1.*,!=2.2.*,!=2.3.0,<3.0.0.dev0,>=1.31.5->google-api-python-client>=1.6.7->tf-models-official<2.14.0,>=2.5.1->object-detection==0.1) (1.63.2)\n",
      "Requirement already satisfied: cachetools<6.0,>=2.0.0 in /home/midnightknight/Blood-object-detection/.obj_det/lib/python3.10/site-packages (from google-auth!=2.24.0,!=2.25.0,<3.0.0.dev0,>=1.32.0->google-api-python-client>=1.6.7->tf-models-official<2.14.0,>=2.5.1->object-detection==0.1) (5.3.3)\n",
      "Requirement already satisfied: joblib>=1.2.0 in /home/midnightknight/Blood-object-detection/.obj_det/lib/python3.10/site-packages (from scikit-learn>=0.21.3->seqeval->tf-models-official<2.14.0,>=2.5.1->object-detection==0.1) (1.4.2)\n",
      "Requirement already satisfied: threadpoolctl>=3.1.0 in /home/midnightknight/Blood-object-detection/.obj_det/lib/python3.10/site-packages (from scikit-learn>=0.21.3->seqeval->tf-models-official<2.14.0,>=2.5.1->object-detection==0.1) (3.5.0)\n",
      "Requirement already satisfied: google-auth-oauthlib<1.1,>=0.5 in /home/midnightknight/Blood-object-detection/.obj_det/lib/python3.10/site-packages (from tensorboard<2.14,>=2.13->tensorflow~=2.13.0->tf-models-official<2.14.0,>=2.5.1->object-detection==0.1) (1.0.0)\n",
      "Requirement already satisfied: markdown>=2.6.8 in /home/midnightknight/Blood-object-detection/.obj_det/lib/python3.10/site-packages (from tensorboard<2.14,>=2.13->tensorflow~=2.13.0->tf-models-official<2.14.0,>=2.5.1->object-detection==0.1) (3.6)\n",
      "Requirement already satisfied: tensorboard-data-server<0.8.0,>=0.7.0 in /home/midnightknight/Blood-object-detection/.obj_det/lib/python3.10/site-packages (from tensorboard<2.14,>=2.13->tensorflow~=2.13.0->tf-models-official<2.14.0,>=2.5.1->object-detection==0.1) (0.7.2)\n",
      "Requirement already satisfied: werkzeug>=1.0.1 in /home/midnightknight/Blood-object-detection/.obj_det/lib/python3.10/site-packages (from tensorboard<2.14,>=2.13->tensorflow~=2.13.0->tf-models-official<2.14.0,>=2.5.1->object-detection==0.1) (3.0.3)\n",
      "Requirement already satisfied: webencodings in /home/midnightknight/Blood-object-detection/.obj_det/lib/python3.10/site-packages (from bleach->kaggle>=1.3.9->tf-models-official<2.14.0,>=2.5.1->object-detection==0.1) (0.5.1)\n",
      "Requirement already satisfied: text-unidecode>=1.3 in /home/midnightknight/Blood-object-detection/.obj_det/lib/python3.10/site-packages (from python-slugify->kaggle>=1.3.9->tf-models-official<2.14.0,>=2.5.1->object-detection==0.1) (1.3)\n",
      "Requirement already satisfied: docstring-parser~=0.15 in /home/midnightknight/Blood-object-detection/.obj_det/lib/python3.10/site-packages (from simple-parsing->tensorflow-datasets->tf-models-official<2.14.0,>=2.5.1->object-detection==0.1) (0.16)\n",
      "Requirement already satisfied: requests-oauthlib>=0.7.0 in /home/midnightknight/Blood-object-detection/.obj_det/lib/python3.10/site-packages (from google-auth-oauthlib<1.1,>=0.5->tensorboard<2.14,>=2.13->tensorflow~=2.13.0->tf-models-official<2.14.0,>=2.5.1->object-detection==0.1) (2.0.0)\n",
      "Requirement already satisfied: MarkupSafe>=2.1.1 in /home/midnightknight/Blood-object-detection/.obj_det/lib/python3.10/site-packages (from werkzeug>=1.0.1->tensorboard<2.14,>=2.13->tensorflow~=2.13.0->tf-models-official<2.14.0,>=2.5.1->object-detection==0.1) (2.1.5)\n",
      "Requirement already satisfied: oauthlib>=3.0.0 in /home/midnightknight/Blood-object-detection/.obj_det/lib/python3.10/site-packages (from requests-oauthlib>=0.7.0->google-auth-oauthlib<1.1,>=0.5->tensorboard<2.14,>=2.13->tensorflow~=2.13.0->tf-models-official<2.14.0,>=2.5.1->object-detection==0.1) (3.2.2)\n",
      "Using cached tf_models_official-2.13.2-py2.py3-none-any.whl (2.6 MB)\n",
      "Downloading tensorflow-2.13.1-cp310-cp310-manylinux_2_17_x86_64.manylinux2014_x86_64.whl (479.7 MB)\n",
      "\u001b[2K   \u001b[38;2;114;156;31m━━━━━━━━━━━━━━━━━━━━━━━━━━━━━━━━━━━━━━━━\u001b[0m \u001b[32m479.7/479.7 MB\u001b[0m \u001b[31m2.9 MB/s\u001b[0m eta \u001b[36m0:00:00\u001b[0mm eta \u001b[36m0:00:01\u001b[0m[36m0:00:04\u001b[0m\n",
      "\u001b[?25hUsing cached numpy-1.24.3-cp310-cp310-manylinux_2_17_x86_64.manylinux2014_x86_64.whl (17.3 MB)\n",
      "Using cached tensorflow_text-2.13.0-cp310-cp310-manylinux_2_17_x86_64.manylinux2014_x86_64.whl (6.5 MB)\n",
      "Using cached typing_extensions-4.5.0-py3-none-any.whl (27 kB)\n",
      "Using cached gast-0.4.0-py3-none-any.whl (9.8 kB)\n",
      "Using cached keras-2.13.1-py3-none-any.whl (1.7 MB)\n",
      "Using cached tensorboard-2.13.0-py3-none-any.whl (5.6 MB)\n",
      "Using cached tensorflow_estimator-2.13.0-py2.py3-none-any.whl (440 kB)\n",
      "Building wheels for collected packages: object-detection\n",
      "  Building wheel for object-detection (setup.py) ... \u001b[?25ldone\n",
      "\u001b[?25h  Created wheel for object-detection: filename=object_detection-0.1-py3-none-any.whl size=1697390 sha256=afd74d7b9a8f75eff589b19999ef54ffb8f0cca4c88aec3aa249a437cdd8fa92\n",
      "  Stored in directory: /tmp/pip-ephem-wheel-cache-jlzw0fng/wheels/52/43/32/c8905224fdc75bfb8084ed72affc32418707b30247ab0c84b5\n",
      "Successfully built object-detection\n",
      "Installing collected packages: typing-extensions, tensorflow-estimator, numpy, keras, gast, tensorboard, tensorflow, tensorflow-text, tf-models-official, object-detection\n",
      "  Attempting uninstall: typing-extensions\n",
      "    Found existing installation: typing_extensions 4.12.2\n",
      "    Uninstalling typing_extensions-4.12.2:\n",
      "      Successfully uninstalled typing_extensions-4.12.2\n",
      "  Attempting uninstall: tensorflow-estimator\n",
      "    Found existing installation: tensorflow-estimator 2.15.0\n",
      "    Uninstalling tensorflow-estimator-2.15.0:\n",
      "      Successfully uninstalled tensorflow-estimator-2.15.0\n",
      "  Attempting uninstall: numpy\n",
      "    Found existing installation: numpy 1.26.4\n",
      "    Uninstalling numpy-1.26.4:\n",
      "      Successfully uninstalled numpy-1.26.4\n",
      "  Attempting uninstall: keras\n",
      "    Found existing installation: keras 2.15.0\n",
      "    Uninstalling keras-2.15.0:\n",
      "      Successfully uninstalled keras-2.15.0\n",
      "  Attempting uninstall: gast\n",
      "    Found existing installation: gast 0.6.0\n",
      "    Uninstalling gast-0.6.0:\n",
      "      Successfully uninstalled gast-0.6.0\n",
      "  Attempting uninstall: tensorboard\n",
      "    Found existing installation: tensorboard 2.15.2\n",
      "    Uninstalling tensorboard-2.15.2:\n",
      "      Successfully uninstalled tensorboard-2.15.2\n",
      "  Attempting uninstall: tensorflow\n",
      "    Found existing installation: tensorflow 2.15.1\n",
      "    Uninstalling tensorflow-2.15.1:\n",
      "      Successfully uninstalled tensorflow-2.15.1\n",
      "  Attempting uninstall: tensorflow-text\n",
      "    Found existing installation: tensorflow-text 2.14.0\n",
      "    Uninstalling tensorflow-text-2.14.0:\n",
      "      Successfully uninstalled tensorflow-text-2.14.0\n",
      "  Attempting uninstall: tf-models-official\n",
      "    Found existing installation: tf-models-official 2.14.2\n",
      "    Uninstalling tf-models-official-2.14.2:\n",
      "      Successfully uninstalled tf-models-official-2.14.2\n",
      "  Attempting uninstall: object-detection\n",
      "    Found existing installation: object-detection 0.1\n",
      "    Uninstalling object-detection-0.1:\n",
      "      Successfully uninstalled object-detection-0.1\n",
      "\u001b[31mERROR: pip's dependency resolver does not currently take into account all the packages that are installed. This behaviour is the source of the following dependency conflicts.\n",
      "ipython 8.26.0 requires typing-extensions>=4.6; python_version < \"3.12\", but you have typing-extensions 4.5.0 which is incompatible.\u001b[0m\u001b[31m\n",
      "\u001b[0mSuccessfully installed gast-0.4.0 keras-2.13.1 numpy-1.24.3 object-detection-0.1 tensorboard-2.13.0 tensorflow-2.13.1 tensorflow-estimator-2.13.0 tensorflow-text-2.13.0 tf-models-official-2.13.2 typing-extensions-4.5.0\n",
      "Note: you may need to restart the kernel to use updated packages.\n",
      "/home/midnightknight/Blood-object-detection\n"
     ]
    }
   ],
   "source": [
    "if os.name=='posix':  \n",
    "    # !sudo apt-get install protobuf-compiler\n",
    "    %cd Tensorflow/models/research \n",
    "    !protoc object_detection/protos/*.proto --python_out=.\n",
    "    %cp object_detection/packages/tf2/setup.py .\n",
    "    update_setup()\n",
    "    %run pip install .\n",
    "    %cd ../../..\n",
    "\n",
    "if os.name=='nt':\n",
    "    url=\"https://github.com/protocolbuffers/protobuf/releases/download/v3.15.6/protoc-3.15.6-win64.zip\"\n",
    "    wget.download(url)\n",
    "    !move protoc-3.15.6-win64.zip {paths['PROTOC_PATH']}\n",
    "    !cd {paths['PROTOC_PATH']} && tar -xf protoc-3.15.6-win64.zip\n",
    "    os.environ['PATH'] += os.pathsep + os.path.abspath(os.path.join(paths['PROTOC_PATH'], 'bin'))   \n",
    "    !cd Tensorflow/models/research && protoc object_detection/protos/*.proto --python_out=. && copy object_detection\\\\packages\\\\tf2\\\\setup.py setup.py\n",
    "    update_setup()\n",
    "    !cd Tensorflow/models/research && python setup.py build && python setup.py install\n",
    "    !cd Tensorflow/models/research/slim && pip install -e . "
   ]
  },
  {
   "cell_type": "code",
   "execution_count": 59,
   "id": "1126fe0e-c0dc-4880-8786-8e08c591b44d",
   "metadata": {},
   "outputs": [
    {
     "name": "stdout",
     "output_type": "stream",
     "text": [
      "absl-py==1.4.0\n",
      "apache-beam==2.57.0\n",
      "array_record==0.5.1\n",
      "asttokens==2.4.1\n",
      "astunparse==1.6.3\n",
      "async-timeout==4.0.3\n",
      "attrs==23.2.0\n",
      "avro-python3==1.10.2\n",
      "bleach==6.1.0\n",
      "cachetools==5.3.3\n",
      "certifi==2024.7.4\n",
      "charset-normalizer==3.3.2\n",
      "click==8.1.7\n",
      "cloudpickle==2.2.1\n",
      "colorama==0.4.6\n",
      "comm==0.2.2\n",
      "contextlib2==21.6.0\n",
      "contourpy==1.2.1\n",
      "crcmod==1.7\n",
      "cycler==0.12.1\n",
      "Cython==3.0.10\n",
      "debugpy==1.8.2\n",
      "decorator==5.1.1\n",
      "dill==0.3.1.1\n",
      "dm-tree==0.1.8\n",
      "dnspython==2.6.1\n",
      "docopt==0.6.2\n",
      "docstring_parser==0.16\n",
      "etils==1.7.0\n",
      "exceptiongroup==1.2.2\n",
      "executing==2.0.1\n",
      "fastavro==1.9.5\n",
      "fasteners==0.19\n",
      "flatbuffers==24.3.25\n",
      "fonttools==4.53.1\n",
      "fsspec==2024.6.1\n",
      "gast==0.4.0\n",
      "gin-config==0.5.0\n",
      "google-api-core==2.19.1\n",
      "google-api-python-client==2.137.0\n",
      "google-auth==2.32.0\n",
      "google-auth-httplib2==0.2.0\n",
      "google-auth-oauthlib==1.0.0\n",
      "google-pasta==0.2.0\n",
      "googleapis-common-protos==1.63.2\n",
      "grpcio==1.64.1\n",
      "h5py==3.11.0\n",
      "hdfs==2.7.3\n",
      "httplib2==0.22.0\n",
      "idna==3.7\n",
      "immutabledict==4.2.0\n",
      "importlib_resources==6.4.0\n",
      "ipykernel==6.29.5\n",
      "ipython==8.26.0\n",
      "jedi==0.19.1\n",
      "joblib==1.4.2\n",
      "Js2Py==0.74\n",
      "jsonpickle==3.2.2\n",
      "jsonschema==4.23.0\n",
      "jsonschema-specifications==2023.12.1\n",
      "jupyter_client==8.6.2\n",
      "jupyter_core==5.7.2\n",
      "kaggle==1.6.14\n",
      "keras==2.13.1\n",
      "kiwisolver==1.4.5\n",
      "libclang==18.1.1\n",
      "lvis==0.5.3\n",
      "lxml==5.2.2\n",
      "Markdown==3.6\n",
      "MarkupSafe==2.1.5\n",
      "matplotlib==3.9.1\n",
      "matplotlib-inline==0.1.7\n",
      "ml-dtypes==0.3.2\n",
      "nest-asyncio==1.6.0\n",
      "numpy==1.24.3\n",
      "nvidia-cublas-cu11==11.11.3.6\n",
      "nvidia-cublas-cu12==12.2.5.6\n",
      "nvidia-cuda-cupti-cu11==11.8.87\n",
      "nvidia-cuda-cupti-cu12==12.2.142\n",
      "nvidia-cuda-nvcc-cu11==11.8.89\n",
      "nvidia-cuda-nvcc-cu12==12.2.140\n",
      "nvidia-cuda-nvrtc-cu12==12.2.140\n",
      "nvidia-cuda-runtime-cu11==11.8.89\n",
      "nvidia-cuda-runtime-cu12==12.2.140\n",
      "nvidia-cudnn-cu11==8.7.0.84\n",
      "nvidia-cudnn-cu12==8.9.4.25\n",
      "nvidia-cufft-cu11==10.9.0.58\n",
      "nvidia-cufft-cu12==11.0.8.103\n",
      "nvidia-curand-cu11==10.3.0.86\n",
      "nvidia-curand-cu12==10.3.3.141\n",
      "nvidia-cusolver-cu11==11.4.1.48\n",
      "nvidia-cusolver-cu12==11.5.2.141\n",
      "nvidia-cusparse-cu11==11.7.5.86\n",
      "nvidia-cusparse-cu12==12.1.2.141\n",
      "nvidia-nccl-cu11==2.16.5\n",
      "nvidia-nccl-cu12==2.16.5\n",
      "nvidia-nvjitlink-cu12==12.2.140\n",
      "oauth2client==4.1.3\n",
      "oauthlib==3.2.2\n",
      "object-detection @ file:///home/midnightknight/Blood-object-detection/Tensorflow/models/research\n",
      "objsize==0.7.0\n",
      "opencv-python==4.10.0.84\n",
      "opencv-python-headless==4.10.0.84\n",
      "opt-einsum==3.3.0\n",
      "orjson==3.10.6\n",
      "packaging==24.1\n",
      "pandas==2.2.2\n",
      "parso==0.8.4\n",
      "pexpect==4.9.0\n",
      "pillow==10.4.0\n",
      "platformdirs==4.2.2\n",
      "portalocker==2.10.0\n",
      "promise==2.3\n",
      "prompt_toolkit==3.0.47\n",
      "proto-plus==1.24.0\n",
      "protobuf==3.20.3\n",
      "psutil==6.0.0\n",
      "ptyprocess==0.7.0\n",
      "pure-eval==0.2.2\n",
      "py-cpuinfo==9.0.0\n",
      "pyarrow==16.1.0\n",
      "pyarrow-hotfix==0.6\n",
      "pyasn1==0.6.0\n",
      "pyasn1_modules==0.4.0\n",
      "pycocotools==2.0.8\n",
      "pydot==1.4.2\n",
      "Pygments==2.18.0\n",
      "pyjsparser==2.7.1\n",
      "pymongo==4.8.0\n",
      "pyparsing==2.4.7\n",
      "python-dateutil==2.9.0.post0\n",
      "python-slugify==8.0.4\n",
      "pytz==2024.1\n",
      "PyYAML==6.0.1\n",
      "pyzmq==26.0.3\n",
      "redis==5.0.7\n",
      "referencing==0.35.1\n",
      "regex==2024.5.15\n",
      "requests==2.31.0\n",
      "requests-oauthlib==2.0.0\n",
      "rpds-py==0.19.0\n",
      "rsa==4.9\n",
      "sacrebleu==2.2.0\n",
      "scikit-learn==1.5.1\n",
      "scipy==1.14.0\n",
      "sentencepiece==0.2.0\n",
      "seqeval==1.2.2\n",
      "simple_parsing==0.1.5\n",
      "six==1.16.0\n",
      "stack-data==0.6.3\n",
      "tabulate==0.9.0\n",
      "tensorboard==2.13.0\n",
      "tensorboard-data-server==0.7.2\n",
      "tensorflow==2.13.1\n",
      "tensorflow-datasets==4.9.6\n",
      "tensorflow-estimator==2.13.0\n",
      "tensorflow-hub==0.16.1\n",
      "tensorflow-io==0.37.1\n",
      "tensorflow-io-gcs-filesystem==0.37.1\n",
      "tensorflow-metadata==1.15.0\n",
      "tensorflow-model-optimization==0.8.0\n",
      "tensorflow-text==2.13.0\n",
      "tensorrt==8.5.3.1\n",
      "termcolor==2.4.0\n",
      "text-unidecode==1.3\n",
      "tf-keras==2.15.0\n",
      "tf-models-official==2.13.2\n",
      "tf-slim==1.1.0\n",
      "threadpoolctl==3.5.0\n",
      "toml==0.10.2\n",
      "tornado==6.4.1\n",
      "tqdm==4.66.4\n",
      "traitlets==5.14.3\n",
      "typing_extensions==4.5.0\n",
      "tzdata==2024.1\n",
      "tzlocal==5.2\n",
      "uritemplate==4.1.1\n",
      "urllib3==2.2.2\n",
      "wcwidth==0.2.13\n",
      "webencodings==0.5.1\n",
      "Werkzeug==3.0.3\n",
      "wrapt==1.14.1\n",
      "zipp==3.19.2\n",
      "zstandard==0.22.0\n",
      "Note: you may need to restart the kernel to use updated packages.\n"
     ]
    }
   ],
   "source": [
    "%pip freeze"
   ]
  },
  {
   "cell_type": "markdown",
   "id": "952b0b68-2c64-402b-8cfb-48cdddea0f75",
   "metadata": {},
   "source": [
    "## Проверяем все ли библиотеки скачались"
   ]
  },
  {
   "cell_type": "code",
   "execution_count": 60,
   "id": "dc2c6a47-0199-47c8-b94a-de1b8f9a3b73",
   "metadata": {},
   "outputs": [
    {
     "name": "stderr",
     "output_type": "stream",
     "text": [
      "2024-07-13 19:38:32.394293: I tensorflow/core/platform/cpu_feature_guard.cc:182] This TensorFlow binary is optimized to use available CPU instructions in performance-critical operations.\n",
      "To enable the following instructions: AVX2 FMA, in other operations, rebuild TensorFlow with the appropriate compiler flags.\n",
      "2024-07-13 19:38:33.260775: W tensorflow/compiler/tf2tensorrt/utils/py_utils.cc:38] TF-TRT Warning: Could not find TensorRT\n",
      "2024-07-13 19:38:35.263295: I tensorflow/compiler/xla/stream_executor/cuda/cuda_gpu_executor.cc:995] successful NUMA node read from SysFS had negative value (-1), but there must be at least one NUMA node, so returning NUMA node zero. See more at https://github.com/torvalds/linux/blob/v6.0/Documentation/ABI/testing/sysfs-bus-pci#L344-L355\n",
      "Running tests under Python 3.10.12: /home/midnightknight/Blood-object-detection/.obj_det/bin/python3\n",
      "2024-07-13 19:38:35.451839: I tensorflow/compiler/xla/stream_executor/cuda/cuda_gpu_executor.cc:995] successful NUMA node read from SysFS had negative value (-1), but there must be at least one NUMA node, so returning NUMA node zero. See more at https://github.com/torvalds/linux/blob/v6.0/Documentation/ABI/testing/sysfs-bus-pci#L344-L355\n",
      "2024-07-13 19:38:35.452375: I tensorflow/compiler/xla/stream_executor/cuda/cuda_gpu_executor.cc:995] successful NUMA node read from SysFS had negative value (-1), but there must be at least one NUMA node, so returning NUMA node zero. See more at https://github.com/torvalds/linux/blob/v6.0/Documentation/ABI/testing/sysfs-bus-pci#L344-L355\n",
      "[ RUN      ] ModelBuilderTF2Test.test_create_center_net_deepmac\n",
      "2024-07-13 19:38:35.462244: I tensorflow/compiler/xla/stream_executor/cuda/cuda_gpu_executor.cc:995] successful NUMA node read from SysFS had negative value (-1), but there must be at least one NUMA node, so returning NUMA node zero. See more at https://github.com/torvalds/linux/blob/v6.0/Documentation/ABI/testing/sysfs-bus-pci#L344-L355\n",
      "2024-07-13 19:38:35.462759: I tensorflow/compiler/xla/stream_executor/cuda/cuda_gpu_executor.cc:995] successful NUMA node read from SysFS had negative value (-1), but there must be at least one NUMA node, so returning NUMA node zero. See more at https://github.com/torvalds/linux/blob/v6.0/Documentation/ABI/testing/sysfs-bus-pci#L344-L355\n",
      "2024-07-13 19:38:35.463186: I tensorflow/compiler/xla/stream_executor/cuda/cuda_gpu_executor.cc:995] successful NUMA node read from SysFS had negative value (-1), but there must be at least one NUMA node, so returning NUMA node zero. See more at https://github.com/torvalds/linux/blob/v6.0/Documentation/ABI/testing/sysfs-bus-pci#L344-L355\n",
      "2024-07-13 19:38:36.027296: I tensorflow/compiler/xla/stream_executor/cuda/cuda_gpu_executor.cc:995] successful NUMA node read from SysFS had negative value (-1), but there must be at least one NUMA node, so returning NUMA node zero. See more at https://github.com/torvalds/linux/blob/v6.0/Documentation/ABI/testing/sysfs-bus-pci#L344-L355\n",
      "2024-07-13 19:38:36.027514: I tensorflow/compiler/xla/stream_executor/cuda/cuda_gpu_executor.cc:995] successful NUMA node read from SysFS had negative value (-1), but there must be at least one NUMA node, so returning NUMA node zero. See more at https://github.com/torvalds/linux/blob/v6.0/Documentation/ABI/testing/sysfs-bus-pci#L344-L355\n",
      "2024-07-13 19:38:36.027705: I tensorflow/compiler/xla/stream_executor/cuda/cuda_gpu_executor.cc:995] successful NUMA node read from SysFS had negative value (-1), but there must be at least one NUMA node, so returning NUMA node zero. See more at https://github.com/torvalds/linux/blob/v6.0/Documentation/ABI/testing/sysfs-bus-pci#L344-L355\n",
      "2024-07-13 19:38:36.027850: I tensorflow/core/common_runtime/gpu/gpu_device.cc:1639] Created device /job:localhost/replica:0/task:0/device:GPU:0 with 2632 MB memory:  -> device: 0, name: NVIDIA GeForce GTX 1650, pci bus id: 0000:01:00.0, compute capability: 7.5\n"
     ]
    },
    {
     "data": {
      "text/html": [
       "<pre style=\"white-space:pre;overflow-x:auto;line-height:normal;font-family:Menlo,'DejaVu Sans Mono',consolas,'Courier New',monospace\"><span style=\"color: #808000; text-decoration-color: #808000\">WARNING: `tf.keras.layers.experimental.SyncBatchNormalization` endpoint is deprecated and will be removed in a future release. Please use `tf.keras.layers.BatchNormalization` with parameter `synchronized` set to True.\n",
       "</span></pre>\n"
      ],
      "text/plain": [
       "\u001b[33mWARNING: `tf.keras.layers.experimental.SyncBatchNormalization` endpoint is deprecated and will be removed in a future release. Please use `tf.keras.layers.BatchNormalization` with parameter `synchronized` set to True.\u001b[0m\u001b[33m\n",
       "\u001b[0m"
      ]
     },
     "metadata": {},
     "output_type": "display_data"
    },
    {
     "name": "stderr",
     "output_type": "stream",
     "text": [
      "W0713 19:38:36.090312 132218468208640 batch_normalization.py:1531] `tf.keras.layers.experimental.SyncBatchNormalization` endpoint is deprecated and will be removed in a future release. Please use `tf.keras.layers.BatchNormalization` with parameter `synchronized` set to True.\n",
      "/home/midnightknight/Blood-object-detection/.obj_det/lib/python3.10/site-packages/object_detection/builders/model_builder.py:1112: DeprecationWarning: The 'warn' function is deprecated, use 'warning' instead\n",
      "  logging.warn(('Building experimental DeepMAC meta-arch.'\n"
     ]
    },
    {
     "data": {
      "text/html": [
       "<pre style=\"white-space:pre;overflow-x:auto;line-height:normal;font-family:Menlo,'DejaVu Sans Mono',consolas,'Courier New',monospace\"><span style=\"color: #808000; text-decoration-color: #808000\">WARNING: Building experimental DeepMAC meta-arch. Some features may be omitted.\n",
       "</span></pre>\n"
      ],
      "text/plain": [
       "\u001b[33mWARNING: Building experimental DeepMAC meta-arch. Some features may be omitted.\u001b[0m\u001b[33m\n",
       "\u001b[0m"
      ]
     },
     "metadata": {},
     "output_type": "display_data"
    },
    {
     "name": "stderr",
     "output_type": "stream",
     "text": [
      "W0713 19:38:36.283026 132218468208640 model_builder.py:1112] Building experimental DeepMAC meta-arch. Some features may be omitted.\n"
     ]
    },
    {
     "data": {
      "text/html": [
       "<pre style=\"white-space:pre;overflow-x:auto;line-height:normal;font-family:Menlo,'DejaVu Sans Mono',consolas,'Courier New',monospace\">time(__main__.ModelBuilderTF2Test.test_create_center_net_deepmac): 1.06s\n",
       "</pre>\n"
      ],
      "text/plain": [
       "time(__main__.ModelBuilderTF2Test.test_create_center_net_deepmac): 1.06s\n"
      ]
     },
     "metadata": {},
     "output_type": "display_data"
    },
    {
     "name": "stderr",
     "output_type": "stream",
     "text": [
      "I0713 19:38:36.516204 132218468208640 test_util.py:2462] time(__main__.ModelBuilderTF2Test.test_create_center_net_deepmac): 1.06s\n",
      "[       OK ] ModelBuilderTF2Test.test_create_center_net_deepmac\n",
      "[ RUN      ] ModelBuilderTF2Test.test_create_center_net_model0 (customize_head_params=True)\n"
     ]
    },
    {
     "data": {
      "text/html": [
       "<pre style=\"white-space:pre;overflow-x:auto;line-height:normal;font-family:Menlo,'DejaVu Sans Mono',consolas,'Courier New',monospace\">time(__main__.ModelBuilderTF2Test.test_create_center_net_model0 (customize_head_params=True)): 0.45s\n",
       "</pre>\n"
      ],
      "text/plain": [
       "time(__main__.ModelBuilderTF2Test.test_create_center_net_model0 (customize_head_params=True)): 0.45s\n"
      ]
     },
     "metadata": {},
     "output_type": "display_data"
    },
    {
     "name": "stderr",
     "output_type": "stream",
     "text": [
      "I0713 19:38:36.971147 132218468208640 test_util.py:2462] time(__main__.ModelBuilderTF2Test.test_create_center_net_model0 (customize_head_params=True)): 0.45s\n",
      "[       OK ] ModelBuilderTF2Test.test_create_center_net_model0 (customize_head_params=True)\n",
      "[ RUN      ] ModelBuilderTF2Test.test_create_center_net_model1 (customize_head_params=False)\n"
     ]
    },
    {
     "data": {
      "text/html": [
       "<pre style=\"white-space:pre;overflow-x:auto;line-height:normal;font-family:Menlo,'DejaVu Sans Mono',consolas,'Courier New',monospace\">time(__main__.ModelBuilderTF2Test.test_create_center_net_model1 (customize_head_params=False)): 0.22s\n",
       "</pre>\n"
      ],
      "text/plain": [
       "time(__main__.ModelBuilderTF2Test.test_create_center_net_model1 (customize_head_params=False)): 0.22s\n"
      ]
     },
     "metadata": {},
     "output_type": "display_data"
    },
    {
     "name": "stderr",
     "output_type": "stream",
     "text": [
      "I0713 19:38:37.190338 132218468208640 test_util.py:2462] time(__main__.ModelBuilderTF2Test.test_create_center_net_model1 (customize_head_params=False)): 0.22s\n",
      "[       OK ] ModelBuilderTF2Test.test_create_center_net_model1 (customize_head_params=False)\n",
      "[ RUN      ] ModelBuilderTF2Test.test_create_center_net_model_from_keypoints\n"
     ]
    },
    {
     "data": {
      "text/html": [
       "<pre style=\"white-space:pre;overflow-x:auto;line-height:normal;font-family:Menlo,'DejaVu Sans Mono',consolas,'Courier New',monospace\">time(__main__.ModelBuilderTF2Test.test_create_center_net_model_from_keypoints): 0.2s\n",
       "</pre>\n"
      ],
      "text/plain": [
       "time(__main__.ModelBuilderTF2Test.test_create_center_net_model_from_keypoints): 0.2s\n"
      ]
     },
     "metadata": {},
     "output_type": "display_data"
    },
    {
     "name": "stderr",
     "output_type": "stream",
     "text": [
      "I0713 19:38:37.388508 132218468208640 test_util.py:2462] time(__main__.ModelBuilderTF2Test.test_create_center_net_model_from_keypoints): 0.2s\n",
      "[       OK ] ModelBuilderTF2Test.test_create_center_net_model_from_keypoints\n",
      "[ RUN      ] ModelBuilderTF2Test.test_create_center_net_model_mobilenet\n"
     ]
    },
    {
     "data": {
      "text/html": [
       "<pre style=\"white-space:pre;overflow-x:auto;line-height:normal;font-family:Menlo,'DejaVu Sans Mono',consolas,'Courier New',monospace\">time(__main__.ModelBuilderTF2Test.test_create_center_net_model_mobilenet): 1.36s\n",
       "</pre>\n"
      ],
      "text/plain": [
       "time(__main__.ModelBuilderTF2Test.test_create_center_net_model_mobilenet): 1.36s\n"
      ]
     },
     "metadata": {},
     "output_type": "display_data"
    },
    {
     "name": "stderr",
     "output_type": "stream",
     "text": [
      "I0713 19:38:38.753310 132218468208640 test_util.py:2462] time(__main__.ModelBuilderTF2Test.test_create_center_net_model_mobilenet): 1.36s\n",
      "[       OK ] ModelBuilderTF2Test.test_create_center_net_model_mobilenet\n",
      "[ RUN      ] ModelBuilderTF2Test.test_create_experimental_model\n"
     ]
    },
    {
     "data": {
      "text/html": [
       "<pre style=\"white-space:pre;overflow-x:auto;line-height:normal;font-family:Menlo,'DejaVu Sans Mono',consolas,'Courier New',monospace\">time(__main__.ModelBuilderTF2Test.test_create_experimental_model): 0.0s\n",
       "</pre>\n"
      ],
      "text/plain": [
       "time(__main__.ModelBuilderTF2Test.test_create_experimental_model): 0.0s\n"
      ]
     },
     "metadata": {},
     "output_type": "display_data"
    },
    {
     "name": "stderr",
     "output_type": "stream",
     "text": [
      "I0713 19:38:38.762565 132218468208640 test_util.py:2462] time(__main__.ModelBuilderTF2Test.test_create_experimental_model): 0.0s\n",
      "[       OK ] ModelBuilderTF2Test.test_create_experimental_model\n",
      "[ RUN      ] ModelBuilderTF2Test.test_create_faster_rcnn_from_config_with_crop_feature0 (True)\n"
     ]
    },
    {
     "data": {
      "text/html": [
       "<pre style=\"white-space:pre;overflow-x:auto;line-height:normal;font-family:Menlo,'DejaVu Sans Mono',consolas,'Courier New',monospace\">time(__main__.ModelBuilderTF2Test.test_create_faster_rcnn_from_config_with_crop_feature0 (True)): 0.02s\n",
       "</pre>\n"
      ],
      "text/plain": [
       "time(__main__.ModelBuilderTF2Test.test_create_faster_rcnn_from_config_with_crop_feature0 (True)): 0.02s\n"
      ]
     },
     "metadata": {},
     "output_type": "display_data"
    },
    {
     "name": "stderr",
     "output_type": "stream",
     "text": [
      "I0713 19:38:38.789167 132218468208640 test_util.py:2462] time(__main__.ModelBuilderTF2Test.test_create_faster_rcnn_from_config_with_crop_feature0 (True)): 0.02s\n",
      "[       OK ] ModelBuilderTF2Test.test_create_faster_rcnn_from_config_with_crop_feature0 (True)\n",
      "[ RUN      ] ModelBuilderTF2Test.test_create_faster_rcnn_from_config_with_crop_feature1 (False)\n"
     ]
    },
    {
     "data": {
      "text/html": [
       "<pre style=\"white-space:pre;overflow-x:auto;line-height:normal;font-family:Menlo,'DejaVu Sans Mono',consolas,'Courier New',monospace\">time(__main__.ModelBuilderTF2Test.test_create_faster_rcnn_from_config_with_crop_feature1 (False)): 0.02s\n",
       "</pre>\n"
      ],
      "text/plain": [
       "time(__main__.ModelBuilderTF2Test.test_create_faster_rcnn_from_config_with_crop_feature1 (False)): 0.02s\n"
      ]
     },
     "metadata": {},
     "output_type": "display_data"
    },
    {
     "name": "stderr",
     "output_type": "stream",
     "text": [
      "I0713 19:38:38.807768 132218468208640 test_util.py:2462] time(__main__.ModelBuilderTF2Test.test_create_faster_rcnn_from_config_with_crop_feature1 (False)): 0.02s\n",
      "[       OK ] ModelBuilderTF2Test.test_create_faster_rcnn_from_config_with_crop_feature1 (False)\n",
      "[ RUN      ] ModelBuilderTF2Test.test_create_faster_rcnn_model_from_config_with_example_miner\n"
     ]
    },
    {
     "data": {
      "text/html": [
       "<pre style=\"white-space:pre;overflow-x:auto;line-height:normal;font-family:Menlo,'DejaVu Sans Mono',consolas,'Courier New',monospace\">time(__main__.ModelBuilderTF2Test.test_create_faster_rcnn_model_from_config_with_example_miner): 0.02s\n",
       "</pre>\n"
      ],
      "text/plain": [
       "time(__main__.ModelBuilderTF2Test.test_create_faster_rcnn_model_from_config_with_example_miner): 0.02s\n"
      ]
     },
     "metadata": {},
     "output_type": "display_data"
    },
    {
     "name": "stderr",
     "output_type": "stream",
     "text": [
      "I0713 19:38:38.828283 132218468208640 test_util.py:2462] time(__main__.ModelBuilderTF2Test.test_create_faster_rcnn_model_from_config_with_example_miner): 0.02s\n",
      "[       OK ] ModelBuilderTF2Test.test_create_faster_rcnn_model_from_config_with_example_miner\n",
      "[ RUN      ] ModelBuilderTF2Test.test_create_faster_rcnn_models_from_config_faster_rcnn_with_matmul\n"
     ]
    },
    {
     "data": {
      "text/html": [
       "<pre style=\"white-space:pre;overflow-x:auto;line-height:normal;font-family:Menlo,'DejaVu Sans Mono',consolas,'Courier New',monospace\">time(__main__.ModelBuilderTF2Test.test_create_faster_rcnn_models_from_config_faster_rcnn_with_matmul): 0.09s\n",
       "</pre>\n"
      ],
      "text/plain": [
       "time(__main__.ModelBuilderTF2Test.test_create_faster_rcnn_models_from_config_faster_rcnn_with_matmul): 0.09s\n"
      ]
     },
     "metadata": {},
     "output_type": "display_data"
    },
    {
     "name": "stderr",
     "output_type": "stream",
     "text": [
      "I0713 19:38:38.921570 132218468208640 test_util.py:2462] time(__main__.ModelBuilderTF2Test.test_create_faster_rcnn_models_from_config_faster_rcnn_with_matmul): 0.09s\n",
      "[       OK ] ModelBuilderTF2Test.test_create_faster_rcnn_models_from_config_faster_rcnn_with_matmul\n",
      "[ RUN      ] ModelBuilderTF2Test.test_create_faster_rcnn_models_from_config_faster_rcnn_without_matmul\n"
     ]
    },
    {
     "data": {
      "text/html": [
       "<pre style=\"white-space:pre;overflow-x:auto;line-height:normal;font-family:Menlo,'DejaVu Sans Mono',consolas,'Courier New',monospace\">time(__main__.ModelBuilderTF2Test.test_create_faster_rcnn_models_from_config_faster_rcnn_without_matmul): 0.08s\n",
       "</pre>\n"
      ],
      "text/plain": [
       "time(__main__.ModelBuilderTF2Test.test_create_faster_rcnn_models_from_config_faster_rcnn_without_matmul): 0.08s\n"
      ]
     },
     "metadata": {},
     "output_type": "display_data"
    },
    {
     "name": "stderr",
     "output_type": "stream",
     "text": [
      "I0713 19:38:39.008056 132218468208640 test_util.py:2462] time(__main__.ModelBuilderTF2Test.test_create_faster_rcnn_models_from_config_faster_rcnn_without_matmul): 0.08s\n",
      "[       OK ] ModelBuilderTF2Test.test_create_faster_rcnn_models_from_config_faster_rcnn_without_matmul\n",
      "[ RUN      ] ModelBuilderTF2Test.test_create_faster_rcnn_models_from_config_mask_rcnn_with_matmul\n"
     ]
    },
    {
     "data": {
      "text/html": [
       "<pre style=\"white-space:pre;overflow-x:auto;line-height:normal;font-family:Menlo,'DejaVu Sans Mono',consolas,'Courier New',monospace\">time(__main__.ModelBuilderTF2Test.test_create_faster_rcnn_models_from_config_mask_rcnn_with_matmul): 0.09s\n",
       "</pre>\n"
      ],
      "text/plain": [
       "time(__main__.ModelBuilderTF2Test.test_create_faster_rcnn_models_from_config_mask_rcnn_with_matmul): 0.09s\n"
      ]
     },
     "metadata": {},
     "output_type": "display_data"
    },
    {
     "name": "stderr",
     "output_type": "stream",
     "text": [
      "I0713 19:38:39.098032 132218468208640 test_util.py:2462] time(__main__.ModelBuilderTF2Test.test_create_faster_rcnn_models_from_config_mask_rcnn_with_matmul): 0.09s\n",
      "[       OK ] ModelBuilderTF2Test.test_create_faster_rcnn_models_from_config_mask_rcnn_with_matmul\n",
      "[ RUN      ] ModelBuilderTF2Test.test_create_faster_rcnn_models_from_config_mask_rcnn_without_matmul\n"
     ]
    },
    {
     "data": {
      "text/html": [
       "<pre style=\"white-space:pre;overflow-x:auto;line-height:normal;font-family:Menlo,'DejaVu Sans Mono',consolas,'Courier New',monospace\">time(__main__.ModelBuilderTF2Test.test_create_faster_rcnn_models_from_config_mask_rcnn_without_matmul): 0.08s\n",
       "</pre>\n"
      ],
      "text/plain": [
       "time(__main__.ModelBuilderTF2Test.test_create_faster_rcnn_models_from_config_mask_rcnn_without_matmul): 0.08s\n"
      ]
     },
     "metadata": {},
     "output_type": "display_data"
    },
    {
     "name": "stderr",
     "output_type": "stream",
     "text": [
      "I0713 19:38:39.182240 132218468208640 test_util.py:2462] time(__main__.ModelBuilderTF2Test.test_create_faster_rcnn_models_from_config_mask_rcnn_without_matmul): 0.08s\n",
      "[       OK ] ModelBuilderTF2Test.test_create_faster_rcnn_models_from_config_mask_rcnn_without_matmul\n",
      "[ RUN      ] ModelBuilderTF2Test.test_create_rfcn_model_from_config\n"
     ]
    },
    {
     "data": {
      "text/html": [
       "<pre style=\"white-space:pre;overflow-x:auto;line-height:normal;font-family:Menlo,'DejaVu Sans Mono',consolas,'Courier New',monospace\">time(__main__.ModelBuilderTF2Test.test_create_rfcn_model_from_config): 0.08s\n",
       "</pre>\n"
      ],
      "text/plain": [
       "time(__main__.ModelBuilderTF2Test.test_create_rfcn_model_from_config): 0.08s\n"
      ]
     },
     "metadata": {},
     "output_type": "display_data"
    },
    {
     "name": "stderr",
     "output_type": "stream",
     "text": [
      "I0713 19:38:39.264945 132218468208640 test_util.py:2462] time(__main__.ModelBuilderTF2Test.test_create_rfcn_model_from_config): 0.08s\n",
      "[       OK ] ModelBuilderTF2Test.test_create_rfcn_model_from_config\n",
      "[ RUN      ] ModelBuilderTF2Test.test_create_ssd_fpn_model_from_config\n"
     ]
    },
    {
     "data": {
      "text/html": [
       "<pre style=\"white-space:pre;overflow-x:auto;line-height:normal;font-family:Menlo,'DejaVu Sans Mono',consolas,'Courier New',monospace\">time(__main__.ModelBuilderTF2Test.test_create_ssd_fpn_model_from_config): 0.02s\n",
       "</pre>\n"
      ],
      "text/plain": [
       "time(__main__.ModelBuilderTF2Test.test_create_ssd_fpn_model_from_config): 0.02s\n"
      ]
     },
     "metadata": {},
     "output_type": "display_data"
    },
    {
     "name": "stderr",
     "output_type": "stream",
     "text": [
      "I0713 19:38:39.292157 132218468208640 test_util.py:2462] time(__main__.ModelBuilderTF2Test.test_create_ssd_fpn_model_from_config): 0.02s\n",
      "[       OK ] ModelBuilderTF2Test.test_create_ssd_fpn_model_from_config\n",
      "[ RUN      ] ModelBuilderTF2Test.test_create_ssd_models_from_config\n"
     ]
    },
    {
     "data": {
      "text/html": [
       "<pre style=\"white-space:pre;overflow-x:auto;line-height:normal;font-family:Menlo,'DejaVu Sans Mono',consolas,'Courier New',monospace\">EfficientDet EfficientNet backbone version: efficientnet-b0\n",
       "</pre>\n"
      ],
      "text/plain": [
       "EfficientDet EfficientNet backbone version: efficientnet-b0\n"
      ]
     },
     "metadata": {},
     "output_type": "display_data"
    },
    {
     "name": "stderr",
     "output_type": "stream",
     "text": [
      "I0713 19:38:39.437009 132218468208640 ssd_efficientnet_bifpn_feature_extractor.py:161] EfficientDet EfficientNet backbone version: efficientnet-b0\n"
     ]
    },
    {
     "data": {
      "text/html": [
       "<pre style=\"white-space:pre;overflow-x:auto;line-height:normal;font-family:Menlo,'DejaVu Sans Mono',consolas,'Courier New',monospace\">EfficientDet BiFPN num filters: 64\n",
       "</pre>\n"
      ],
      "text/plain": [
       "EfficientDet BiFPN num filters: 64\n"
      ]
     },
     "metadata": {},
     "output_type": "display_data"
    },
    {
     "name": "stderr",
     "output_type": "stream",
     "text": [
      "I0713 19:38:39.438518 132218468208640 ssd_efficientnet_bifpn_feature_extractor.py:163] EfficientDet BiFPN num filters: 64\n"
     ]
    },
    {
     "data": {
      "text/html": [
       "<pre style=\"white-space:pre;overflow-x:auto;line-height:normal;font-family:Menlo,'DejaVu Sans Mono',consolas,'Courier New',monospace\">EfficientDet BiFPN num iterations: 3\n",
       "</pre>\n"
      ],
      "text/plain": [
       "EfficientDet BiFPN num iterations: 3\n"
      ]
     },
     "metadata": {},
     "output_type": "display_data"
    },
    {
     "name": "stderr",
     "output_type": "stream",
     "text": [
      "I0713 19:38:39.439805 132218468208640 ssd_efficientnet_bifpn_feature_extractor.py:164] EfficientDet BiFPN num iterations: 3\n"
     ]
    },
    {
     "data": {
      "text/html": [
       "<pre style=\"white-space:pre;overflow-x:auto;line-height:normal;font-family:Menlo,'DejaVu Sans Mono',consolas,'Courier New',monospace\">round_filter input=32 output=32\n",
       "</pre>\n"
      ],
      "text/plain": [
       "round_filter input=32 output=32\n"
      ]
     },
     "metadata": {},
     "output_type": "display_data"
    },
    {
     "name": "stderr",
     "output_type": "stream",
     "text": [
      "I0713 19:38:39.443377 132218468208640 efficientnet_model.py:143] round_filter input=32 output=32\n"
     ]
    },
    {
     "data": {
      "text/html": [
       "<pre style=\"white-space:pre;overflow-x:auto;line-height:normal;font-family:Menlo,'DejaVu Sans Mono',consolas,'Courier New',monospace\">round_filter input=32 output=32\n",
       "</pre>\n"
      ],
      "text/plain": [
       "round_filter input=32 output=32\n"
      ]
     },
     "metadata": {},
     "output_type": "display_data"
    },
    {
     "name": "stderr",
     "output_type": "stream",
     "text": [
      "I0713 19:38:39.469131 132218468208640 efficientnet_model.py:143] round_filter input=32 output=32\n"
     ]
    },
    {
     "data": {
      "text/html": [
       "<pre style=\"white-space:pre;overflow-x:auto;line-height:normal;font-family:Menlo,'DejaVu Sans Mono',consolas,'Courier New',monospace\">round_filter input=16 output=16\n",
       "</pre>\n"
      ],
      "text/plain": [
       "round_filter input=16 output=16\n"
      ]
     },
     "metadata": {},
     "output_type": "display_data"
    },
    {
     "name": "stderr",
     "output_type": "stream",
     "text": [
      "I0713 19:38:39.470782 132218468208640 efficientnet_model.py:143] round_filter input=16 output=16\n"
     ]
    },
    {
     "data": {
      "text/html": [
       "<pre style=\"white-space:pre;overflow-x:auto;line-height:normal;font-family:Menlo,'DejaVu Sans Mono',consolas,'Courier New',monospace\">round_filter input=16 output=16\n",
       "</pre>\n"
      ],
      "text/plain": [
       "round_filter input=16 output=16\n"
      ]
     },
     "metadata": {},
     "output_type": "display_data"
    },
    {
     "name": "stderr",
     "output_type": "stream",
     "text": [
      "I0713 19:38:39.533025 132218468208640 efficientnet_model.py:143] round_filter input=16 output=16\n"
     ]
    },
    {
     "data": {
      "text/html": [
       "<pre style=\"white-space:pre;overflow-x:auto;line-height:normal;font-family:Menlo,'DejaVu Sans Mono',consolas,'Courier New',monospace\">round_filter input=24 output=24\n",
       "</pre>\n"
      ],
      "text/plain": [
       "round_filter input=24 output=24\n"
      ]
     },
     "metadata": {},
     "output_type": "display_data"
    },
    {
     "name": "stderr",
     "output_type": "stream",
     "text": [
      "I0713 19:38:39.534447 132218468208640 efficientnet_model.py:143] round_filter input=24 output=24\n"
     ]
    },
    {
     "data": {
      "text/html": [
       "<pre style=\"white-space:pre;overflow-x:auto;line-height:normal;font-family:Menlo,'DejaVu Sans Mono',consolas,'Courier New',monospace\">round_filter input=24 output=24\n",
       "</pre>\n"
      ],
      "text/plain": [
       "round_filter input=24 output=24\n"
      ]
     },
     "metadata": {},
     "output_type": "display_data"
    },
    {
     "name": "stderr",
     "output_type": "stream",
     "text": [
      "I0713 19:38:39.671409 132218468208640 efficientnet_model.py:143] round_filter input=24 output=24\n"
     ]
    },
    {
     "data": {
      "text/html": [
       "<pre style=\"white-space:pre;overflow-x:auto;line-height:normal;font-family:Menlo,'DejaVu Sans Mono',consolas,'Courier New',monospace\">round_filter input=40 output=40\n",
       "</pre>\n"
      ],
      "text/plain": [
       "round_filter input=40 output=40\n"
      ]
     },
     "metadata": {},
     "output_type": "display_data"
    },
    {
     "name": "stderr",
     "output_type": "stream",
     "text": [
      "I0713 19:38:39.672846 132218468208640 efficientnet_model.py:143] round_filter input=40 output=40\n"
     ]
    },
    {
     "data": {
      "text/html": [
       "<pre style=\"white-space:pre;overflow-x:auto;line-height:normal;font-family:Menlo,'DejaVu Sans Mono',consolas,'Courier New',monospace\">round_filter input=40 output=40\n",
       "</pre>\n"
      ],
      "text/plain": [
       "round_filter input=40 output=40\n"
      ]
     },
     "metadata": {},
     "output_type": "display_data"
    },
    {
     "name": "stderr",
     "output_type": "stream",
     "text": [
      "I0713 19:38:39.800335 132218468208640 efficientnet_model.py:143] round_filter input=40 output=40\n"
     ]
    },
    {
     "data": {
      "text/html": [
       "<pre style=\"white-space:pre;overflow-x:auto;line-height:normal;font-family:Menlo,'DejaVu Sans Mono',consolas,'Courier New',monospace\">round_filter input=80 output=80\n",
       "</pre>\n"
      ],
      "text/plain": [
       "round_filter input=80 output=80\n"
      ]
     },
     "metadata": {},
     "output_type": "display_data"
    },
    {
     "name": "stderr",
     "output_type": "stream",
     "text": [
      "I0713 19:38:39.801738 132218468208640 efficientnet_model.py:143] round_filter input=80 output=80\n"
     ]
    },
    {
     "data": {
      "text/html": [
       "<pre style=\"white-space:pre;overflow-x:auto;line-height:normal;font-family:Menlo,'DejaVu Sans Mono',consolas,'Courier New',monospace\">round_filter input=80 output=80\n",
       "</pre>\n"
      ],
      "text/plain": [
       "round_filter input=80 output=80\n"
      ]
     },
     "metadata": {},
     "output_type": "display_data"
    },
    {
     "name": "stderr",
     "output_type": "stream",
     "text": [
      "I0713 19:38:39.986676 132218468208640 efficientnet_model.py:143] round_filter input=80 output=80\n"
     ]
    },
    {
     "data": {
      "text/html": [
       "<pre style=\"white-space:pre;overflow-x:auto;line-height:normal;font-family:Menlo,'DejaVu Sans Mono',consolas,'Courier New',monospace\">round_filter input=112 output=112\n",
       "</pre>\n"
      ],
      "text/plain": [
       "round_filter input=112 output=112\n"
      ]
     },
     "metadata": {},
     "output_type": "display_data"
    },
    {
     "name": "stderr",
     "output_type": "stream",
     "text": [
      "I0713 19:38:39.988224 132218468208640 efficientnet_model.py:143] round_filter input=112 output=112\n"
     ]
    },
    {
     "data": {
      "text/html": [
       "<pre style=\"white-space:pre;overflow-x:auto;line-height:normal;font-family:Menlo,'DejaVu Sans Mono',consolas,'Courier New',monospace\">round_filter input=112 output=112\n",
       "</pre>\n"
      ],
      "text/plain": [
       "round_filter input=112 output=112\n"
      ]
     },
     "metadata": {},
     "output_type": "display_data"
    },
    {
     "name": "stderr",
     "output_type": "stream",
     "text": [
      "I0713 19:38:40.184774 132218468208640 efficientnet_model.py:143] round_filter input=112 output=112\n"
     ]
    },
    {
     "data": {
      "text/html": [
       "<pre style=\"white-space:pre;overflow-x:auto;line-height:normal;font-family:Menlo,'DejaVu Sans Mono',consolas,'Courier New',monospace\">round_filter input=192 output=192\n",
       "</pre>\n"
      ],
      "text/plain": [
       "round_filter input=192 output=192\n"
      ]
     },
     "metadata": {},
     "output_type": "display_data"
    },
    {
     "name": "stderr",
     "output_type": "stream",
     "text": [
      "I0713 19:38:40.186568 132218468208640 efficientnet_model.py:143] round_filter input=192 output=192\n"
     ]
    },
    {
     "data": {
      "text/html": [
       "<pre style=\"white-space:pre;overflow-x:auto;line-height:normal;font-family:Menlo,'DejaVu Sans Mono',consolas,'Courier New',monospace\">round_filter input=192 output=192\n",
       "</pre>\n"
      ],
      "text/plain": [
       "round_filter input=192 output=192\n"
      ]
     },
     "metadata": {},
     "output_type": "display_data"
    },
    {
     "name": "stderr",
     "output_type": "stream",
     "text": [
      "I0713 19:38:40.784340 132218468208640 efficientnet_model.py:143] round_filter input=192 output=192\n"
     ]
    },
    {
     "data": {
      "text/html": [
       "<pre style=\"white-space:pre;overflow-x:auto;line-height:normal;font-family:Menlo,'DejaVu Sans Mono',consolas,'Courier New',monospace\">round_filter input=320 output=320\n",
       "</pre>\n"
      ],
      "text/plain": [
       "round_filter input=320 output=320\n"
      ]
     },
     "metadata": {},
     "output_type": "display_data"
    },
    {
     "name": "stderr",
     "output_type": "stream",
     "text": [
      "I0713 19:38:40.785714 132218468208640 efficientnet_model.py:143] round_filter input=320 output=320\n"
     ]
    },
    {
     "data": {
      "text/html": [
       "<pre style=\"white-space:pre;overflow-x:auto;line-height:normal;font-family:Menlo,'DejaVu Sans Mono',consolas,'Courier New',monospace\">round_filter input=1280 output=1280\n",
       "</pre>\n"
      ],
      "text/plain": [
       "round_filter input=1280 output=1280\n"
      ]
     },
     "metadata": {},
     "output_type": "display_data"
    },
    {
     "name": "stderr",
     "output_type": "stream",
     "text": [
      "I0713 19:38:40.860516 132218468208640 efficientnet_model.py:143] round_filter input=1280 output=1280\n"
     ]
    },
    {
     "data": {
      "text/html": [
       "<pre style=\"white-space:pre;overflow-x:auto;line-height:normal;font-family:Menlo,'DejaVu Sans Mono',consolas,'Courier New',monospace\">Building model efficientnet with params ModelConfig(width_coefficient=1.0, depth_coefficient=1.0, resolution=224, dropout_rate=0.2, blocks=(BlockConfig(input_filters=32, output_filters=16, kernel_size=3, num_repeat=1, expand_ratio=1, strides=(1, 1), se_ratio=0.25, id_skip=True, fused_conv=False, conv_type='depthwise'), BlockConfig(input_filters=16, output_filters=24, kernel_size=3, num_repeat=2, expand_ratio=6, strides=(2, 2), se_ratio=0.25, id_skip=True, fused_conv=False, conv_type='depthwise'), BlockConfig(input_filters=24, output_filters=40, kernel_size=5, num_repeat=2, expand_ratio=6, strides=(2, 2), se_ratio=0.25, id_skip=True, fused_conv=False, conv_type='depthwise'), BlockConfig(input_filters=40, output_filters=80, kernel_size=3, num_repeat=3, expand_ratio=6, strides=(2, 2), se_ratio=0.25, id_skip=True, fused_conv=False, conv_type='depthwise'), BlockConfig(input_filters=80, output_filters=112, kernel_size=5, num_repeat=3, expand_ratio=6, strides=(1, 1), se_ratio=0.25, id_skip=True, fused_conv=False, conv_type='depthwise'), BlockConfig(input_filters=112, output_filters=192, kernel_size=5, num_repeat=4, expand_ratio=6, strides=(2, 2), se_ratio=0.25, id_skip=True, fused_conv=False, conv_type='depthwise'), BlockConfig(input_filters=192, output_filters=320, kernel_size=3, num_repeat=1, expand_ratio=6, strides=(1, 1), se_ratio=0.25, id_skip=True, fused_conv=False, conv_type='depthwise')), stem_base_filters=32, top_base_filters=1280, activation='simple_swish', batch_norm='default', bn_momentum=0.99, bn_epsilon=0.001, weight_decay=5e-06, drop_connect_rate=0.2, depth_divisor=8, min_depth=None, use_se=True, input_channels=3, num_classes=1000, model_name='efficientnet', rescale_input=False, data_format='channels_last', dtype='float32')\n",
       "</pre>\n"
      ],
      "text/plain": [
       "Building model efficientnet with params ModelConfig(width_coefficient=1.0, depth_coefficient=1.0, resolution=224, dropout_rate=0.2, blocks=(BlockConfig(input_filters=32, output_filters=16, kernel_size=3, num_repeat=1, expand_ratio=1, strides=(1, 1), se_ratio=0.25, id_skip=True, fused_conv=False, conv_type='depthwise'), BlockConfig(input_filters=16, output_filters=24, kernel_size=3, num_repeat=2, expand_ratio=6, strides=(2, 2), se_ratio=0.25, id_skip=True, fused_conv=False, conv_type='depthwise'), BlockConfig(input_filters=24, output_filters=40, kernel_size=5, num_repeat=2, expand_ratio=6, strides=(2, 2), se_ratio=0.25, id_skip=True, fused_conv=False, conv_type='depthwise'), BlockConfig(input_filters=40, output_filters=80, kernel_size=3, num_repeat=3, expand_ratio=6, strides=(2, 2), se_ratio=0.25, id_skip=True, fused_conv=False, conv_type='depthwise'), BlockConfig(input_filters=80, output_filters=112, kernel_size=5, num_repeat=3, expand_ratio=6, strides=(1, 1), se_ratio=0.25, id_skip=True, fused_conv=False, conv_type='depthwise'), BlockConfig(input_filters=112, output_filters=192, kernel_size=5, num_repeat=4, expand_ratio=6, strides=(2, 2), se_ratio=0.25, id_skip=True, fused_conv=False, conv_type='depthwise'), BlockConfig(input_filters=192, output_filters=320, kernel_size=3, num_repeat=1, expand_ratio=6, strides=(1, 1), se_ratio=0.25, id_skip=True, fused_conv=False, conv_type='depthwise')), stem_base_filters=32, top_base_filters=1280, activation='simple_swish', batch_norm='default', bn_momentum=0.99, bn_epsilon=0.001, weight_decay=5e-06, drop_connect_rate=0.2, depth_divisor=8, min_depth=None, use_se=True, input_channels=3, num_classes=1000, model_name='efficientnet', rescale_input=False, data_format='channels_last', dtype='float32')\n"
      ]
     },
     "metadata": {},
     "output_type": "display_data"
    },
    {
     "name": "stderr",
     "output_type": "stream",
     "text": [
      "I0713 19:38:40.895128 132218468208640 efficientnet_model.py:453] Building model efficientnet with params ModelConfig(width_coefficient=1.0, depth_coefficient=1.0, resolution=224, dropout_rate=0.2, blocks=(BlockConfig(input_filters=32, output_filters=16, kernel_size=3, num_repeat=1, expand_ratio=1, strides=(1, 1), se_ratio=0.25, id_skip=True, fused_conv=False, conv_type='depthwise'), BlockConfig(input_filters=16, output_filters=24, kernel_size=3, num_repeat=2, expand_ratio=6, strides=(2, 2), se_ratio=0.25, id_skip=True, fused_conv=False, conv_type='depthwise'), BlockConfig(input_filters=24, output_filters=40, kernel_size=5, num_repeat=2, expand_ratio=6, strides=(2, 2), se_ratio=0.25, id_skip=True, fused_conv=False, conv_type='depthwise'), BlockConfig(input_filters=40, output_filters=80, kernel_size=3, num_repeat=3, expand_ratio=6, strides=(2, 2), se_ratio=0.25, id_skip=True, fused_conv=False, conv_type='depthwise'), BlockConfig(input_filters=80, output_filters=112, kernel_size=5, num_repeat=3, expand_ratio=6, strides=(1, 1), se_ratio=0.25, id_skip=True, fused_conv=False, conv_type='depthwise'), BlockConfig(input_filters=112, output_filters=192, kernel_size=5, num_repeat=4, expand_ratio=6, strides=(2, 2), se_ratio=0.25, id_skip=True, fused_conv=False, conv_type='depthwise'), BlockConfig(input_filters=192, output_filters=320, kernel_size=3, num_repeat=1, expand_ratio=6, strides=(1, 1), se_ratio=0.25, id_skip=True, fused_conv=False, conv_type='depthwise')), stem_base_filters=32, top_base_filters=1280, activation='simple_swish', batch_norm='default', bn_momentum=0.99, bn_epsilon=0.001, weight_decay=5e-06, drop_connect_rate=0.2, depth_divisor=8, min_depth=None, use_se=True, input_channels=3, num_classes=1000, model_name='efficientnet', rescale_input=False, data_format='channels_last', dtype='float32')\n"
     ]
    },
    {
     "data": {
      "text/html": [
       "<pre style=\"white-space:pre;overflow-x:auto;line-height:normal;font-family:Menlo,'DejaVu Sans Mono',consolas,'Courier New',monospace\">EfficientDet EfficientNet backbone version: efficientnet-b1\n",
       "</pre>\n"
      ],
      "text/plain": [
       "EfficientDet EfficientNet backbone version: efficientnet-b1\n"
      ]
     },
     "metadata": {},
     "output_type": "display_data"
    },
    {
     "name": "stderr",
     "output_type": "stream",
     "text": [
      "I0713 19:38:40.938979 132218468208640 ssd_efficientnet_bifpn_feature_extractor.py:161] EfficientDet EfficientNet backbone version: efficientnet-b1\n"
     ]
    },
    {
     "data": {
      "text/html": [
       "<pre style=\"white-space:pre;overflow-x:auto;line-height:normal;font-family:Menlo,'DejaVu Sans Mono',consolas,'Courier New',monospace\">EfficientDet BiFPN num filters: 88\n",
       "</pre>\n"
      ],
      "text/plain": [
       "EfficientDet BiFPN num filters: 88\n"
      ]
     },
     "metadata": {},
     "output_type": "display_data"
    },
    {
     "name": "stderr",
     "output_type": "stream",
     "text": [
      "I0713 19:38:40.940332 132218468208640 ssd_efficientnet_bifpn_feature_extractor.py:163] EfficientDet BiFPN num filters: 88\n"
     ]
    },
    {
     "data": {
      "text/html": [
       "<pre style=\"white-space:pre;overflow-x:auto;line-height:normal;font-family:Menlo,'DejaVu Sans Mono',consolas,'Courier New',monospace\">EfficientDet BiFPN num iterations: 4\n",
       "</pre>\n"
      ],
      "text/plain": [
       "EfficientDet BiFPN num iterations: 4\n"
      ]
     },
     "metadata": {},
     "output_type": "display_data"
    },
    {
     "name": "stderr",
     "output_type": "stream",
     "text": [
      "I0713 19:38:40.941667 132218468208640 ssd_efficientnet_bifpn_feature_extractor.py:164] EfficientDet BiFPN num iterations: 4\n"
     ]
    },
    {
     "data": {
      "text/html": [
       "<pre style=\"white-space:pre;overflow-x:auto;line-height:normal;font-family:Menlo,'DejaVu Sans Mono',consolas,'Courier New',monospace\">round_filter input=32 output=32\n",
       "</pre>\n"
      ],
      "text/plain": [
       "round_filter input=32 output=32\n"
      ]
     },
     "metadata": {},
     "output_type": "display_data"
    },
    {
     "name": "stderr",
     "output_type": "stream",
     "text": [
      "I0713 19:38:40.944558 132218468208640 efficientnet_model.py:143] round_filter input=32 output=32\n"
     ]
    },
    {
     "data": {
      "text/html": [
       "<pre style=\"white-space:pre;overflow-x:auto;line-height:normal;font-family:Menlo,'DejaVu Sans Mono',consolas,'Courier New',monospace\">round_filter input=32 output=32\n",
       "</pre>\n"
      ],
      "text/plain": [
       "round_filter input=32 output=32\n"
      ]
     },
     "metadata": {},
     "output_type": "display_data"
    },
    {
     "name": "stderr",
     "output_type": "stream",
     "text": [
      "I0713 19:38:40.960146 132218468208640 efficientnet_model.py:143] round_filter input=32 output=32\n"
     ]
    },
    {
     "data": {
      "text/html": [
       "<pre style=\"white-space:pre;overflow-x:auto;line-height:normal;font-family:Menlo,'DejaVu Sans Mono',consolas,'Courier New',monospace\">round_filter input=16 output=16\n",
       "</pre>\n"
      ],
      "text/plain": [
       "round_filter input=16 output=16\n"
      ]
     },
     "metadata": {},
     "output_type": "display_data"
    },
    {
     "name": "stderr",
     "output_type": "stream",
     "text": [
      "I0713 19:38:40.961693 132218468208640 efficientnet_model.py:143] round_filter input=16 output=16\n"
     ]
    },
    {
     "data": {
      "text/html": [
       "<pre style=\"white-space:pre;overflow-x:auto;line-height:normal;font-family:Menlo,'DejaVu Sans Mono',consolas,'Courier New',monospace\">round_filter input=16 output=16\n",
       "</pre>\n"
      ],
      "text/plain": [
       "round_filter input=16 output=16\n"
      ]
     },
     "metadata": {},
     "output_type": "display_data"
    },
    {
     "name": "stderr",
     "output_type": "stream",
     "text": [
      "I0713 19:38:41.059576 132218468208640 efficientnet_model.py:143] round_filter input=16 output=16\n"
     ]
    },
    {
     "data": {
      "text/html": [
       "<pre style=\"white-space:pre;overflow-x:auto;line-height:normal;font-family:Menlo,'DejaVu Sans Mono',consolas,'Courier New',monospace\">round_filter input=24 output=24\n",
       "</pre>\n"
      ],
      "text/plain": [
       "round_filter input=24 output=24\n"
      ]
     },
     "metadata": {},
     "output_type": "display_data"
    },
    {
     "name": "stderr",
     "output_type": "stream",
     "text": [
      "I0713 19:38:41.060996 132218468208640 efficientnet_model.py:143] round_filter input=24 output=24\n"
     ]
    },
    {
     "data": {
      "text/html": [
       "<pre style=\"white-space:pre;overflow-x:auto;line-height:normal;font-family:Menlo,'DejaVu Sans Mono',consolas,'Courier New',monospace\">round_filter input=24 output=24\n",
       "</pre>\n"
      ],
      "text/plain": [
       "round_filter input=24 output=24\n"
      ]
     },
     "metadata": {},
     "output_type": "display_data"
    },
    {
     "name": "stderr",
     "output_type": "stream",
     "text": [
      "I0713 19:38:41.236562 132218468208640 efficientnet_model.py:143] round_filter input=24 output=24\n"
     ]
    },
    {
     "data": {
      "text/html": [
       "<pre style=\"white-space:pre;overflow-x:auto;line-height:normal;font-family:Menlo,'DejaVu Sans Mono',consolas,'Courier New',monospace\">round_filter input=40 output=40\n",
       "</pre>\n"
      ],
      "text/plain": [
       "round_filter input=40 output=40\n"
      ]
     },
     "metadata": {},
     "output_type": "display_data"
    },
    {
     "name": "stderr",
     "output_type": "stream",
     "text": [
      "I0713 19:38:41.237909 132218468208640 efficientnet_model.py:143] round_filter input=40 output=40\n"
     ]
    },
    {
     "data": {
      "text/html": [
       "<pre style=\"white-space:pre;overflow-x:auto;line-height:normal;font-family:Menlo,'DejaVu Sans Mono',consolas,'Courier New',monospace\">round_filter input=40 output=40\n",
       "</pre>\n"
      ],
      "text/plain": [
       "round_filter input=40 output=40\n"
      ]
     },
     "metadata": {},
     "output_type": "display_data"
    },
    {
     "name": "stderr",
     "output_type": "stream",
     "text": [
      "I0713 19:38:41.419108 132218468208640 efficientnet_model.py:143] round_filter input=40 output=40\n"
     ]
    },
    {
     "data": {
      "text/html": [
       "<pre style=\"white-space:pre;overflow-x:auto;line-height:normal;font-family:Menlo,'DejaVu Sans Mono',consolas,'Courier New',monospace\">round_filter input=80 output=80\n",
       "</pre>\n"
      ],
      "text/plain": [
       "round_filter input=80 output=80\n"
      ]
     },
     "metadata": {},
     "output_type": "display_data"
    },
    {
     "name": "stderr",
     "output_type": "stream",
     "text": [
      "I0713 19:38:41.420628 132218468208640 efficientnet_model.py:143] round_filter input=80 output=80\n"
     ]
    },
    {
     "data": {
      "text/html": [
       "<pre style=\"white-space:pre;overflow-x:auto;line-height:normal;font-family:Menlo,'DejaVu Sans Mono',consolas,'Courier New',monospace\">round_filter input=80 output=80\n",
       "</pre>\n"
      ],
      "text/plain": [
       "round_filter input=80 output=80\n"
      ]
     },
     "metadata": {},
     "output_type": "display_data"
    },
    {
     "name": "stderr",
     "output_type": "stream",
     "text": [
      "I0713 19:38:41.682652 132218468208640 efficientnet_model.py:143] round_filter input=80 output=80\n"
     ]
    },
    {
     "data": {
      "text/html": [
       "<pre style=\"white-space:pre;overflow-x:auto;line-height:normal;font-family:Menlo,'DejaVu Sans Mono',consolas,'Courier New',monospace\">round_filter input=112 output=112\n",
       "</pre>\n"
      ],
      "text/plain": [
       "round_filter input=112 output=112\n"
      ]
     },
     "metadata": {},
     "output_type": "display_data"
    },
    {
     "name": "stderr",
     "output_type": "stream",
     "text": [
      "I0713 19:38:41.684235 132218468208640 efficientnet_model.py:143] round_filter input=112 output=112\n"
     ]
    },
    {
     "data": {
      "text/html": [
       "<pre style=\"white-space:pre;overflow-x:auto;line-height:normal;font-family:Menlo,'DejaVu Sans Mono',consolas,'Courier New',monospace\">round_filter input=112 output=112\n",
       "</pre>\n"
      ],
      "text/plain": [
       "round_filter input=112 output=112\n"
      ]
     },
     "metadata": {},
     "output_type": "display_data"
    },
    {
     "name": "stderr",
     "output_type": "stream",
     "text": [
      "I0713 19:38:41.922760 132218468208640 efficientnet_model.py:143] round_filter input=112 output=112\n"
     ]
    },
    {
     "data": {
      "text/html": [
       "<pre style=\"white-space:pre;overflow-x:auto;line-height:normal;font-family:Menlo,'DejaVu Sans Mono',consolas,'Courier New',monospace\">round_filter input=192 output=192\n",
       "</pre>\n"
      ],
      "text/plain": [
       "round_filter input=192 output=192\n"
      ]
     },
     "metadata": {},
     "output_type": "display_data"
    },
    {
     "name": "stderr",
     "output_type": "stream",
     "text": [
      "I0713 19:38:41.924120 132218468208640 efficientnet_model.py:143] round_filter input=192 output=192\n"
     ]
    },
    {
     "data": {
      "text/html": [
       "<pre style=\"white-space:pre;overflow-x:auto;line-height:normal;font-family:Menlo,'DejaVu Sans Mono',consolas,'Courier New',monospace\">round_filter input=192 output=192\n",
       "</pre>\n"
      ],
      "text/plain": [
       "round_filter input=192 output=192\n"
      ]
     },
     "metadata": {},
     "output_type": "display_data"
    },
    {
     "name": "stderr",
     "output_type": "stream",
     "text": [
      "I0713 19:38:42.212355 132218468208640 efficientnet_model.py:143] round_filter input=192 output=192\n"
     ]
    },
    {
     "data": {
      "text/html": [
       "<pre style=\"white-space:pre;overflow-x:auto;line-height:normal;font-family:Menlo,'DejaVu Sans Mono',consolas,'Courier New',monospace\">round_filter input=320 output=320\n",
       "</pre>\n"
      ],
      "text/plain": [
       "round_filter input=320 output=320\n"
      ]
     },
     "metadata": {},
     "output_type": "display_data"
    },
    {
     "name": "stderr",
     "output_type": "stream",
     "text": [
      "I0713 19:38:42.213795 132218468208640 efficientnet_model.py:143] round_filter input=320 output=320\n"
     ]
    },
    {
     "data": {
      "text/html": [
       "<pre style=\"white-space:pre;overflow-x:auto;line-height:normal;font-family:Menlo,'DejaVu Sans Mono',consolas,'Courier New',monospace\">round_filter input=1280 output=1280\n",
       "</pre>\n"
      ],
      "text/plain": [
       "round_filter input=1280 output=1280\n"
      ]
     },
     "metadata": {},
     "output_type": "display_data"
    },
    {
     "name": "stderr",
     "output_type": "stream",
     "text": [
      "I0713 19:38:42.334874 132218468208640 efficientnet_model.py:143] round_filter input=1280 output=1280\n"
     ]
    },
    {
     "data": {
      "text/html": [
       "<pre style=\"white-space:pre;overflow-x:auto;line-height:normal;font-family:Menlo,'DejaVu Sans Mono',consolas,'Courier New',monospace\">Building model efficientnet with params ModelConfig(width_coefficient=1.0, depth_coefficient=1.1, resolution=240, dropout_rate=0.2, blocks=(BlockConfig(input_filters=32, output_filters=16, kernel_size=3, num_repeat=1, expand_ratio=1, strides=(1, 1), se_ratio=0.25, id_skip=True, fused_conv=False, conv_type='depthwise'), BlockConfig(input_filters=16, output_filters=24, kernel_size=3, num_repeat=2, expand_ratio=6, strides=(2, 2), se_ratio=0.25, id_skip=True, fused_conv=False, conv_type='depthwise'), BlockConfig(input_filters=24, output_filters=40, kernel_size=5, num_repeat=2, expand_ratio=6, strides=(2, 2), se_ratio=0.25, id_skip=True, fused_conv=False, conv_type='depthwise'), BlockConfig(input_filters=40, output_filters=80, kernel_size=3, num_repeat=3, expand_ratio=6, strides=(2, 2), se_ratio=0.25, id_skip=True, fused_conv=False, conv_type='depthwise'), BlockConfig(input_filters=80, output_filters=112, kernel_size=5, num_repeat=3, expand_ratio=6, strides=(1, 1), se_ratio=0.25, id_skip=True, fused_conv=False, conv_type='depthwise'), BlockConfig(input_filters=112, output_filters=192, kernel_size=5, num_repeat=4, expand_ratio=6, strides=(2, 2), se_ratio=0.25, id_skip=True, fused_conv=False, conv_type='depthwise'), BlockConfig(input_filters=192, output_filters=320, kernel_size=3, num_repeat=1, expand_ratio=6, strides=(1, 1), se_ratio=0.25, id_skip=True, fused_conv=False, conv_type='depthwise')), stem_base_filters=32, top_base_filters=1280, activation='simple_swish', batch_norm='default', bn_momentum=0.99, bn_epsilon=0.001, weight_decay=5e-06, drop_connect_rate=0.2, depth_divisor=8, min_depth=None, use_se=True, input_channels=3, num_classes=1000, model_name='efficientnet', rescale_input=False, data_format='channels_last', dtype='float32')\n",
       "</pre>\n"
      ],
      "text/plain": [
       "Building model efficientnet with params ModelConfig(width_coefficient=1.0, depth_coefficient=1.1, resolution=240, dropout_rate=0.2, blocks=(BlockConfig(input_filters=32, output_filters=16, kernel_size=3, num_repeat=1, expand_ratio=1, strides=(1, 1), se_ratio=0.25, id_skip=True, fused_conv=False, conv_type='depthwise'), BlockConfig(input_filters=16, output_filters=24, kernel_size=3, num_repeat=2, expand_ratio=6, strides=(2, 2), se_ratio=0.25, id_skip=True, fused_conv=False, conv_type='depthwise'), BlockConfig(input_filters=24, output_filters=40, kernel_size=5, num_repeat=2, expand_ratio=6, strides=(2, 2), se_ratio=0.25, id_skip=True, fused_conv=False, conv_type='depthwise'), BlockConfig(input_filters=40, output_filters=80, kernel_size=3, num_repeat=3, expand_ratio=6, strides=(2, 2), se_ratio=0.25, id_skip=True, fused_conv=False, conv_type='depthwise'), BlockConfig(input_filters=80, output_filters=112, kernel_size=5, num_repeat=3, expand_ratio=6, strides=(1, 1), se_ratio=0.25, id_skip=True, fused_conv=False, conv_type='depthwise'), BlockConfig(input_filters=112, output_filters=192, kernel_size=5, num_repeat=4, expand_ratio=6, strides=(2, 2), se_ratio=0.25, id_skip=True, fused_conv=False, conv_type='depthwise'), BlockConfig(input_filters=192, output_filters=320, kernel_size=3, num_repeat=1, expand_ratio=6, strides=(1, 1), se_ratio=0.25, id_skip=True, fused_conv=False, conv_type='depthwise')), stem_base_filters=32, top_base_filters=1280, activation='simple_swish', batch_norm='default', bn_momentum=0.99, bn_epsilon=0.001, weight_decay=5e-06, drop_connect_rate=0.2, depth_divisor=8, min_depth=None, use_se=True, input_channels=3, num_classes=1000, model_name='efficientnet', rescale_input=False, data_format='channels_last', dtype='float32')\n"
      ]
     },
     "metadata": {},
     "output_type": "display_data"
    },
    {
     "name": "stderr",
     "output_type": "stream",
     "text": [
      "I0713 19:38:42.360804 132218468208640 efficientnet_model.py:453] Building model efficientnet with params ModelConfig(width_coefficient=1.0, depth_coefficient=1.1, resolution=240, dropout_rate=0.2, blocks=(BlockConfig(input_filters=32, output_filters=16, kernel_size=3, num_repeat=1, expand_ratio=1, strides=(1, 1), se_ratio=0.25, id_skip=True, fused_conv=False, conv_type='depthwise'), BlockConfig(input_filters=16, output_filters=24, kernel_size=3, num_repeat=2, expand_ratio=6, strides=(2, 2), se_ratio=0.25, id_skip=True, fused_conv=False, conv_type='depthwise'), BlockConfig(input_filters=24, output_filters=40, kernel_size=5, num_repeat=2, expand_ratio=6, strides=(2, 2), se_ratio=0.25, id_skip=True, fused_conv=False, conv_type='depthwise'), BlockConfig(input_filters=40, output_filters=80, kernel_size=3, num_repeat=3, expand_ratio=6, strides=(2, 2), se_ratio=0.25, id_skip=True, fused_conv=False, conv_type='depthwise'), BlockConfig(input_filters=80, output_filters=112, kernel_size=5, num_repeat=3, expand_ratio=6, strides=(1, 1), se_ratio=0.25, id_skip=True, fused_conv=False, conv_type='depthwise'), BlockConfig(input_filters=112, output_filters=192, kernel_size=5, num_repeat=4, expand_ratio=6, strides=(2, 2), se_ratio=0.25, id_skip=True, fused_conv=False, conv_type='depthwise'), BlockConfig(input_filters=192, output_filters=320, kernel_size=3, num_repeat=1, expand_ratio=6, strides=(1, 1), se_ratio=0.25, id_skip=True, fused_conv=False, conv_type='depthwise')), stem_base_filters=32, top_base_filters=1280, activation='simple_swish', batch_norm='default', bn_momentum=0.99, bn_epsilon=0.001, weight_decay=5e-06, drop_connect_rate=0.2, depth_divisor=8, min_depth=None, use_se=True, input_channels=3, num_classes=1000, model_name='efficientnet', rescale_input=False, data_format='channels_last', dtype='float32')\n"
     ]
    },
    {
     "data": {
      "text/html": [
       "<pre style=\"white-space:pre;overflow-x:auto;line-height:normal;font-family:Menlo,'DejaVu Sans Mono',consolas,'Courier New',monospace\">EfficientDet EfficientNet backbone version: efficientnet-b2\n",
       "</pre>\n"
      ],
      "text/plain": [
       "EfficientDet EfficientNet backbone version: efficientnet-b2\n"
      ]
     },
     "metadata": {},
     "output_type": "display_data"
    },
    {
     "name": "stderr",
     "output_type": "stream",
     "text": [
      "I0713 19:38:42.405643 132218468208640 ssd_efficientnet_bifpn_feature_extractor.py:161] EfficientDet EfficientNet backbone version: efficientnet-b2\n"
     ]
    },
    {
     "data": {
      "text/html": [
       "<pre style=\"white-space:pre;overflow-x:auto;line-height:normal;font-family:Menlo,'DejaVu Sans Mono',consolas,'Courier New',monospace\">EfficientDet BiFPN num filters: 112\n",
       "</pre>\n"
      ],
      "text/plain": [
       "EfficientDet BiFPN num filters: 112\n"
      ]
     },
     "metadata": {},
     "output_type": "display_data"
    },
    {
     "name": "stderr",
     "output_type": "stream",
     "text": [
      "I0713 19:38:42.406993 132218468208640 ssd_efficientnet_bifpn_feature_extractor.py:163] EfficientDet BiFPN num filters: 112\n"
     ]
    },
    {
     "data": {
      "text/html": [
       "<pre style=\"white-space:pre;overflow-x:auto;line-height:normal;font-family:Menlo,'DejaVu Sans Mono',consolas,'Courier New',monospace\">EfficientDet BiFPN num iterations: 5\n",
       "</pre>\n"
      ],
      "text/plain": [
       "EfficientDet BiFPN num iterations: 5\n"
      ]
     },
     "metadata": {},
     "output_type": "display_data"
    },
    {
     "name": "stderr",
     "output_type": "stream",
     "text": [
      "I0713 19:38:42.407988 132218468208640 ssd_efficientnet_bifpn_feature_extractor.py:164] EfficientDet BiFPN num iterations: 5\n"
     ]
    },
    {
     "data": {
      "text/html": [
       "<pre style=\"white-space:pre;overflow-x:auto;line-height:normal;font-family:Menlo,'DejaVu Sans Mono',consolas,'Courier New',monospace\">round_filter input=32 output=32\n",
       "</pre>\n"
      ],
      "text/plain": [
       "round_filter input=32 output=32\n"
      ]
     },
     "metadata": {},
     "output_type": "display_data"
    },
    {
     "name": "stderr",
     "output_type": "stream",
     "text": [
      "I0713 19:38:42.410252 132218468208640 efficientnet_model.py:143] round_filter input=32 output=32\n"
     ]
    },
    {
     "data": {
      "text/html": [
       "<pre style=\"white-space:pre;overflow-x:auto;line-height:normal;font-family:Menlo,'DejaVu Sans Mono',consolas,'Courier New',monospace\">round_filter input=32 output=32\n",
       "</pre>\n"
      ],
      "text/plain": [
       "round_filter input=32 output=32\n"
      ]
     },
     "metadata": {},
     "output_type": "display_data"
    },
    {
     "name": "stderr",
     "output_type": "stream",
     "text": [
      "I0713 19:38:42.424644 132218468208640 efficientnet_model.py:143] round_filter input=32 output=32\n"
     ]
    },
    {
     "data": {
      "text/html": [
       "<pre style=\"white-space:pre;overflow-x:auto;line-height:normal;font-family:Menlo,'DejaVu Sans Mono',consolas,'Courier New',monospace\">round_filter input=16 output=16\n",
       "</pre>\n"
      ],
      "text/plain": [
       "round_filter input=16 output=16\n"
      ]
     },
     "metadata": {},
     "output_type": "display_data"
    },
    {
     "name": "stderr",
     "output_type": "stream",
     "text": [
      "I0713 19:38:42.425930 132218468208640 efficientnet_model.py:143] round_filter input=16 output=16\n"
     ]
    },
    {
     "data": {
      "text/html": [
       "<pre style=\"white-space:pre;overflow-x:auto;line-height:normal;font-family:Menlo,'DejaVu Sans Mono',consolas,'Courier New',monospace\">round_filter input=16 output=16\n",
       "</pre>\n"
      ],
      "text/plain": [
       "round_filter input=16 output=16\n"
      ]
     },
     "metadata": {},
     "output_type": "display_data"
    },
    {
     "name": "stderr",
     "output_type": "stream",
     "text": [
      "I0713 19:38:42.517303 132218468208640 efficientnet_model.py:143] round_filter input=16 output=16\n"
     ]
    },
    {
     "data": {
      "text/html": [
       "<pre style=\"white-space:pre;overflow-x:auto;line-height:normal;font-family:Menlo,'DejaVu Sans Mono',consolas,'Courier New',monospace\">round_filter input=24 output=24\n",
       "</pre>\n"
      ],
      "text/plain": [
       "round_filter input=24 output=24\n"
      ]
     },
     "metadata": {},
     "output_type": "display_data"
    },
    {
     "name": "stderr",
     "output_type": "stream",
     "text": [
      "I0713 19:38:42.518775 132218468208640 efficientnet_model.py:143] round_filter input=24 output=24\n"
     ]
    },
    {
     "data": {
      "text/html": [
       "<pre style=\"white-space:pre;overflow-x:auto;line-height:normal;font-family:Menlo,'DejaVu Sans Mono',consolas,'Courier New',monospace\">round_filter input=24 output=24\n",
       "</pre>\n"
      ],
      "text/plain": [
       "round_filter input=24 output=24\n"
      ]
     },
     "metadata": {},
     "output_type": "display_data"
    },
    {
     "name": "stderr",
     "output_type": "stream",
     "text": [
      "I0713 19:38:42.690954 132218468208640 efficientnet_model.py:143] round_filter input=24 output=24\n"
     ]
    },
    {
     "data": {
      "text/html": [
       "<pre style=\"white-space:pre;overflow-x:auto;line-height:normal;font-family:Menlo,'DejaVu Sans Mono',consolas,'Courier New',monospace\">round_filter input=40 output=48\n",
       "</pre>\n"
      ],
      "text/plain": [
       "round_filter input=40 output=48\n"
      ]
     },
     "metadata": {},
     "output_type": "display_data"
    },
    {
     "name": "stderr",
     "output_type": "stream",
     "text": [
      "I0713 19:38:42.692397 132218468208640 efficientnet_model.py:143] round_filter input=40 output=48\n"
     ]
    },
    {
     "data": {
      "text/html": [
       "<pre style=\"white-space:pre;overflow-x:auto;line-height:normal;font-family:Menlo,'DejaVu Sans Mono',consolas,'Courier New',monospace\">round_filter input=40 output=48\n",
       "</pre>\n"
      ],
      "text/plain": [
       "round_filter input=40 output=48\n"
      ]
     },
     "metadata": {},
     "output_type": "display_data"
    },
    {
     "name": "stderr",
     "output_type": "stream",
     "text": [
      "I0713 19:38:42.875304 132218468208640 efficientnet_model.py:143] round_filter input=40 output=48\n"
     ]
    },
    {
     "data": {
      "text/html": [
       "<pre style=\"white-space:pre;overflow-x:auto;line-height:normal;font-family:Menlo,'DejaVu Sans Mono',consolas,'Courier New',monospace\">round_filter input=80 output=88\n",
       "</pre>\n"
      ],
      "text/plain": [
       "round_filter input=80 output=88\n"
      ]
     },
     "metadata": {},
     "output_type": "display_data"
    },
    {
     "name": "stderr",
     "output_type": "stream",
     "text": [
      "I0713 19:38:42.876689 132218468208640 efficientnet_model.py:143] round_filter input=80 output=88\n"
     ]
    },
    {
     "data": {
      "text/html": [
       "<pre style=\"white-space:pre;overflow-x:auto;line-height:normal;font-family:Menlo,'DejaVu Sans Mono',consolas,'Courier New',monospace\">round_filter input=80 output=88\n",
       "</pre>\n"
      ],
      "text/plain": [
       "round_filter input=80 output=88\n"
      ]
     },
     "metadata": {},
     "output_type": "display_data"
    },
    {
     "name": "stderr",
     "output_type": "stream",
     "text": [
      "I0713 19:38:43.116956 132218468208640 efficientnet_model.py:143] round_filter input=80 output=88\n"
     ]
    },
    {
     "data": {
      "text/html": [
       "<pre style=\"white-space:pre;overflow-x:auto;line-height:normal;font-family:Menlo,'DejaVu Sans Mono',consolas,'Courier New',monospace\">round_filter input=112 output=120\n",
       "</pre>\n"
      ],
      "text/plain": [
       "round_filter input=112 output=120\n"
      ]
     },
     "metadata": {},
     "output_type": "display_data"
    },
    {
     "name": "stderr",
     "output_type": "stream",
     "text": [
      "I0713 19:38:43.118320 132218468208640 efficientnet_model.py:143] round_filter input=112 output=120\n"
     ]
    },
    {
     "data": {
      "text/html": [
       "<pre style=\"white-space:pre;overflow-x:auto;line-height:normal;font-family:Menlo,'DejaVu Sans Mono',consolas,'Courier New',monospace\">round_filter input=112 output=120\n",
       "</pre>\n"
      ],
      "text/plain": [
       "round_filter input=112 output=120\n"
      ]
     },
     "metadata": {},
     "output_type": "display_data"
    },
    {
     "name": "stderr",
     "output_type": "stream",
     "text": [
      "I0713 19:38:43.367506 132218468208640 efficientnet_model.py:143] round_filter input=112 output=120\n"
     ]
    },
    {
     "data": {
      "text/html": [
       "<pre style=\"white-space:pre;overflow-x:auto;line-height:normal;font-family:Menlo,'DejaVu Sans Mono',consolas,'Courier New',monospace\">round_filter input=192 output=208\n",
       "</pre>\n"
      ],
      "text/plain": [
       "round_filter input=192 output=208\n"
      ]
     },
     "metadata": {},
     "output_type": "display_data"
    },
    {
     "name": "stderr",
     "output_type": "stream",
     "text": [
      "I0713 19:38:43.368886 132218468208640 efficientnet_model.py:143] round_filter input=192 output=208\n"
     ]
    },
    {
     "data": {
      "text/html": [
       "<pre style=\"white-space:pre;overflow-x:auto;line-height:normal;font-family:Menlo,'DejaVu Sans Mono',consolas,'Courier New',monospace\">round_filter input=192 output=208\n",
       "</pre>\n"
      ],
      "text/plain": [
       "round_filter input=192 output=208\n"
      ]
     },
     "metadata": {},
     "output_type": "display_data"
    },
    {
     "name": "stderr",
     "output_type": "stream",
     "text": [
      "I0713 19:38:43.669526 132218468208640 efficientnet_model.py:143] round_filter input=192 output=208\n"
     ]
    },
    {
     "data": {
      "text/html": [
       "<pre style=\"white-space:pre;overflow-x:auto;line-height:normal;font-family:Menlo,'DejaVu Sans Mono',consolas,'Courier New',monospace\">round_filter input=320 output=352\n",
       "</pre>\n"
      ],
      "text/plain": [
       "round_filter input=320 output=352\n"
      ]
     },
     "metadata": {},
     "output_type": "display_data"
    },
    {
     "name": "stderr",
     "output_type": "stream",
     "text": [
      "I0713 19:38:43.671014 132218468208640 efficientnet_model.py:143] round_filter input=320 output=352\n"
     ]
    },
    {
     "data": {
      "text/html": [
       "<pre style=\"white-space:pre;overflow-x:auto;line-height:normal;font-family:Menlo,'DejaVu Sans Mono',consolas,'Courier New',monospace\">round_filter input=1280 output=1408\n",
       "</pre>\n"
      ],
      "text/plain": [
       "round_filter input=1280 output=1408\n"
      ]
     },
     "metadata": {},
     "output_type": "display_data"
    },
    {
     "name": "stderr",
     "output_type": "stream",
     "text": [
      "I0713 19:38:43.796383 132218468208640 efficientnet_model.py:143] round_filter input=1280 output=1408\n"
     ]
    },
    {
     "data": {
      "text/html": [
       "<pre style=\"white-space:pre;overflow-x:auto;line-height:normal;font-family:Menlo,'DejaVu Sans Mono',consolas,'Courier New',monospace\">Building model efficientnet with params ModelConfig(width_coefficient=1.1, depth_coefficient=1.2, resolution=260, dropout_rate=0.3, blocks=(BlockConfig(input_filters=32, output_filters=16, kernel_size=3, num_repeat=1, expand_ratio=1, strides=(1, 1), se_ratio=0.25, id_skip=True, fused_conv=False, conv_type='depthwise'), BlockConfig(input_filters=16, output_filters=24, kernel_size=3, num_repeat=2, expand_ratio=6, strides=(2, 2), se_ratio=0.25, id_skip=True, fused_conv=False, conv_type='depthwise'), BlockConfig(input_filters=24, output_filters=40, kernel_size=5, num_repeat=2, expand_ratio=6, strides=(2, 2), se_ratio=0.25, id_skip=True, fused_conv=False, conv_type='depthwise'), BlockConfig(input_filters=40, output_filters=80, kernel_size=3, num_repeat=3, expand_ratio=6, strides=(2, 2), se_ratio=0.25, id_skip=True, fused_conv=False, conv_type='depthwise'), BlockConfig(input_filters=80, output_filters=112, kernel_size=5, num_repeat=3, expand_ratio=6, strides=(1, 1), se_ratio=0.25, id_skip=True, fused_conv=False, conv_type='depthwise'), BlockConfig(input_filters=112, output_filters=192, kernel_size=5, num_repeat=4, expand_ratio=6, strides=(2, 2), se_ratio=0.25, id_skip=True, fused_conv=False, conv_type='depthwise'), BlockConfig(input_filters=192, output_filters=320, kernel_size=3, num_repeat=1, expand_ratio=6, strides=(1, 1), se_ratio=0.25, id_skip=True, fused_conv=False, conv_type='depthwise')), stem_base_filters=32, top_base_filters=1280, activation='simple_swish', batch_norm='default', bn_momentum=0.99, bn_epsilon=0.001, weight_decay=5e-06, drop_connect_rate=0.2, depth_divisor=8, min_depth=None, use_se=True, input_channels=3, num_classes=1000, model_name='efficientnet', rescale_input=False, data_format='channels_last', dtype='float32')\n",
       "</pre>\n"
      ],
      "text/plain": [
       "Building model efficientnet with params ModelConfig(width_coefficient=1.1, depth_coefficient=1.2, resolution=260, dropout_rate=0.3, blocks=(BlockConfig(input_filters=32, output_filters=16, kernel_size=3, num_repeat=1, expand_ratio=1, strides=(1, 1), se_ratio=0.25, id_skip=True, fused_conv=False, conv_type='depthwise'), BlockConfig(input_filters=16, output_filters=24, kernel_size=3, num_repeat=2, expand_ratio=6, strides=(2, 2), se_ratio=0.25, id_skip=True, fused_conv=False, conv_type='depthwise'), BlockConfig(input_filters=24, output_filters=40, kernel_size=5, num_repeat=2, expand_ratio=6, strides=(2, 2), se_ratio=0.25, id_skip=True, fused_conv=False, conv_type='depthwise'), BlockConfig(input_filters=40, output_filters=80, kernel_size=3, num_repeat=3, expand_ratio=6, strides=(2, 2), se_ratio=0.25, id_skip=True, fused_conv=False, conv_type='depthwise'), BlockConfig(input_filters=80, output_filters=112, kernel_size=5, num_repeat=3, expand_ratio=6, strides=(1, 1), se_ratio=0.25, id_skip=True, fused_conv=False, conv_type='depthwise'), BlockConfig(input_filters=112, output_filters=192, kernel_size=5, num_repeat=4, expand_ratio=6, strides=(2, 2), se_ratio=0.25, id_skip=True, fused_conv=False, conv_type='depthwise'), BlockConfig(input_filters=192, output_filters=320, kernel_size=3, num_repeat=1, expand_ratio=6, strides=(1, 1), se_ratio=0.25, id_skip=True, fused_conv=False, conv_type='depthwise')), stem_base_filters=32, top_base_filters=1280, activation='simple_swish', batch_norm='default', bn_momentum=0.99, bn_epsilon=0.001, weight_decay=5e-06, drop_connect_rate=0.2, depth_divisor=8, min_depth=None, use_se=True, input_channels=3, num_classes=1000, model_name='efficientnet', rescale_input=False, data_format='channels_last', dtype='float32')\n"
      ]
     },
     "metadata": {},
     "output_type": "display_data"
    },
    {
     "name": "stderr",
     "output_type": "stream",
     "text": [
      "I0713 19:38:43.823343 132218468208640 efficientnet_model.py:453] Building model efficientnet with params ModelConfig(width_coefficient=1.1, depth_coefficient=1.2, resolution=260, dropout_rate=0.3, blocks=(BlockConfig(input_filters=32, output_filters=16, kernel_size=3, num_repeat=1, expand_ratio=1, strides=(1, 1), se_ratio=0.25, id_skip=True, fused_conv=False, conv_type='depthwise'), BlockConfig(input_filters=16, output_filters=24, kernel_size=3, num_repeat=2, expand_ratio=6, strides=(2, 2), se_ratio=0.25, id_skip=True, fused_conv=False, conv_type='depthwise'), BlockConfig(input_filters=24, output_filters=40, kernel_size=5, num_repeat=2, expand_ratio=6, strides=(2, 2), se_ratio=0.25, id_skip=True, fused_conv=False, conv_type='depthwise'), BlockConfig(input_filters=40, output_filters=80, kernel_size=3, num_repeat=3, expand_ratio=6, strides=(2, 2), se_ratio=0.25, id_skip=True, fused_conv=False, conv_type='depthwise'), BlockConfig(input_filters=80, output_filters=112, kernel_size=5, num_repeat=3, expand_ratio=6, strides=(1, 1), se_ratio=0.25, id_skip=True, fused_conv=False, conv_type='depthwise'), BlockConfig(input_filters=112, output_filters=192, kernel_size=5, num_repeat=4, expand_ratio=6, strides=(2, 2), se_ratio=0.25, id_skip=True, fused_conv=False, conv_type='depthwise'), BlockConfig(input_filters=192, output_filters=320, kernel_size=3, num_repeat=1, expand_ratio=6, strides=(1, 1), se_ratio=0.25, id_skip=True, fused_conv=False, conv_type='depthwise')), stem_base_filters=32, top_base_filters=1280, activation='simple_swish', batch_norm='default', bn_momentum=0.99, bn_epsilon=0.001, weight_decay=5e-06, drop_connect_rate=0.2, depth_divisor=8, min_depth=None, use_se=True, input_channels=3, num_classes=1000, model_name='efficientnet', rescale_input=False, data_format='channels_last', dtype='float32')\n"
     ]
    },
    {
     "data": {
      "text/html": [
       "<pre style=\"white-space:pre;overflow-x:auto;line-height:normal;font-family:Menlo,'DejaVu Sans Mono',consolas,'Courier New',monospace\">EfficientDet EfficientNet backbone version: efficientnet-b3\n",
       "</pre>\n"
      ],
      "text/plain": [
       "EfficientDet EfficientNet backbone version: efficientnet-b3\n"
      ]
     },
     "metadata": {},
     "output_type": "display_data"
    },
    {
     "name": "stderr",
     "output_type": "stream",
     "text": [
      "I0713 19:38:43.867280 132218468208640 ssd_efficientnet_bifpn_feature_extractor.py:161] EfficientDet EfficientNet backbone version: efficientnet-b3\n"
     ]
    },
    {
     "data": {
      "text/html": [
       "<pre style=\"white-space:pre;overflow-x:auto;line-height:normal;font-family:Menlo,'DejaVu Sans Mono',consolas,'Courier New',monospace\">EfficientDet BiFPN num filters: 160\n",
       "</pre>\n"
      ],
      "text/plain": [
       "EfficientDet BiFPN num filters: 160\n"
      ]
     },
     "metadata": {},
     "output_type": "display_data"
    },
    {
     "name": "stderr",
     "output_type": "stream",
     "text": [
      "I0713 19:38:43.868673 132218468208640 ssd_efficientnet_bifpn_feature_extractor.py:163] EfficientDet BiFPN num filters: 160\n"
     ]
    },
    {
     "data": {
      "text/html": [
       "<pre style=\"white-space:pre;overflow-x:auto;line-height:normal;font-family:Menlo,'DejaVu Sans Mono',consolas,'Courier New',monospace\">EfficientDet BiFPN num iterations: 6\n",
       "</pre>\n"
      ],
      "text/plain": [
       "EfficientDet BiFPN num iterations: 6\n"
      ]
     },
     "metadata": {},
     "output_type": "display_data"
    },
    {
     "name": "stderr",
     "output_type": "stream",
     "text": [
      "I0713 19:38:43.869830 132218468208640 ssd_efficientnet_bifpn_feature_extractor.py:164] EfficientDet BiFPN num iterations: 6\n"
     ]
    },
    {
     "data": {
      "text/html": [
       "<pre style=\"white-space:pre;overflow-x:auto;line-height:normal;font-family:Menlo,'DejaVu Sans Mono',consolas,'Courier New',monospace\">round_filter input=32 output=40\n",
       "</pre>\n"
      ],
      "text/plain": [
       "round_filter input=32 output=40\n"
      ]
     },
     "metadata": {},
     "output_type": "display_data"
    },
    {
     "name": "stderr",
     "output_type": "stream",
     "text": [
      "I0713 19:38:43.872428 132218468208640 efficientnet_model.py:143] round_filter input=32 output=40\n"
     ]
    },
    {
     "data": {
      "text/html": [
       "<pre style=\"white-space:pre;overflow-x:auto;line-height:normal;font-family:Menlo,'DejaVu Sans Mono',consolas,'Courier New',monospace\">round_filter input=32 output=40\n",
       "</pre>\n"
      ],
      "text/plain": [
       "round_filter input=32 output=40\n"
      ]
     },
     "metadata": {},
     "output_type": "display_data"
    },
    {
     "name": "stderr",
     "output_type": "stream",
     "text": [
      "I0713 19:38:43.887322 132218468208640 efficientnet_model.py:143] round_filter input=32 output=40\n"
     ]
    },
    {
     "data": {
      "text/html": [
       "<pre style=\"white-space:pre;overflow-x:auto;line-height:normal;font-family:Menlo,'DejaVu Sans Mono',consolas,'Courier New',monospace\">round_filter input=16 output=24\n",
       "</pre>\n"
      ],
      "text/plain": [
       "round_filter input=16 output=24\n"
      ]
     },
     "metadata": {},
     "output_type": "display_data"
    },
    {
     "name": "stderr",
     "output_type": "stream",
     "text": [
      "I0713 19:38:43.888634 132218468208640 efficientnet_model.py:143] round_filter input=16 output=24\n"
     ]
    },
    {
     "data": {
      "text/html": [
       "<pre style=\"white-space:pre;overflow-x:auto;line-height:normal;font-family:Menlo,'DejaVu Sans Mono',consolas,'Courier New',monospace\">round_filter input=16 output=24\n",
       "</pre>\n"
      ],
      "text/plain": [
       "round_filter input=16 output=24\n"
      ]
     },
     "metadata": {},
     "output_type": "display_data"
    },
    {
     "name": "stderr",
     "output_type": "stream",
     "text": [
      "I0713 19:38:43.987583 132218468208640 efficientnet_model.py:143] round_filter input=16 output=24\n"
     ]
    },
    {
     "data": {
      "text/html": [
       "<pre style=\"white-space:pre;overflow-x:auto;line-height:normal;font-family:Menlo,'DejaVu Sans Mono',consolas,'Courier New',monospace\">round_filter input=24 output=32\n",
       "</pre>\n"
      ],
      "text/plain": [
       "round_filter input=24 output=32\n"
      ]
     },
     "metadata": {},
     "output_type": "display_data"
    },
    {
     "name": "stderr",
     "output_type": "stream",
     "text": [
      "I0713 19:38:43.988971 132218468208640 efficientnet_model.py:143] round_filter input=24 output=32\n"
     ]
    },
    {
     "data": {
      "text/html": [
       "<pre style=\"white-space:pre;overflow-x:auto;line-height:normal;font-family:Menlo,'DejaVu Sans Mono',consolas,'Courier New',monospace\">round_filter input=24 output=32\n",
       "</pre>\n"
      ],
      "text/plain": [
       "round_filter input=24 output=32\n"
      ]
     },
     "metadata": {},
     "output_type": "display_data"
    },
    {
     "name": "stderr",
     "output_type": "stream",
     "text": [
      "I0713 19:38:44.168361 132218468208640 efficientnet_model.py:143] round_filter input=24 output=32\n"
     ]
    },
    {
     "data": {
      "text/html": [
       "<pre style=\"white-space:pre;overflow-x:auto;line-height:normal;font-family:Menlo,'DejaVu Sans Mono',consolas,'Courier New',monospace\">round_filter input=40 output=48\n",
       "</pre>\n"
      ],
      "text/plain": [
       "round_filter input=40 output=48\n"
      ]
     },
     "metadata": {},
     "output_type": "display_data"
    },
    {
     "name": "stderr",
     "output_type": "stream",
     "text": [
      "I0713 19:38:44.169791 132218468208640 efficientnet_model.py:143] round_filter input=40 output=48\n"
     ]
    },
    {
     "data": {
      "text/html": [
       "<pre style=\"white-space:pre;overflow-x:auto;line-height:normal;font-family:Menlo,'DejaVu Sans Mono',consolas,'Courier New',monospace\">round_filter input=40 output=48\n",
       "</pre>\n"
      ],
      "text/plain": [
       "round_filter input=40 output=48\n"
      ]
     },
     "metadata": {},
     "output_type": "display_data"
    },
    {
     "name": "stderr",
     "output_type": "stream",
     "text": [
      "I0713 19:38:44.344331 132218468208640 efficientnet_model.py:143] round_filter input=40 output=48\n"
     ]
    },
    {
     "data": {
      "text/html": [
       "<pre style=\"white-space:pre;overflow-x:auto;line-height:normal;font-family:Menlo,'DejaVu Sans Mono',consolas,'Courier New',monospace\">round_filter input=80 output=96\n",
       "</pre>\n"
      ],
      "text/plain": [
       "round_filter input=80 output=96\n"
      ]
     },
     "metadata": {},
     "output_type": "display_data"
    },
    {
     "name": "stderr",
     "output_type": "stream",
     "text": [
      "I0713 19:38:44.345756 132218468208640 efficientnet_model.py:143] round_filter input=80 output=96\n"
     ]
    },
    {
     "data": {
      "text/html": [
       "<pre style=\"white-space:pre;overflow-x:auto;line-height:normal;font-family:Menlo,'DejaVu Sans Mono',consolas,'Courier New',monospace\">round_filter input=80 output=96\n",
       "</pre>\n"
      ],
      "text/plain": [
       "round_filter input=80 output=96\n"
      ]
     },
     "metadata": {},
     "output_type": "display_data"
    },
    {
     "name": "stderr",
     "output_type": "stream",
     "text": [
      "I0713 19:38:44.648466 132218468208640 efficientnet_model.py:143] round_filter input=80 output=96\n"
     ]
    },
    {
     "data": {
      "text/html": [
       "<pre style=\"white-space:pre;overflow-x:auto;line-height:normal;font-family:Menlo,'DejaVu Sans Mono',consolas,'Courier New',monospace\">round_filter input=112 output=136\n",
       "</pre>\n"
      ],
      "text/plain": [
       "round_filter input=112 output=136\n"
      ]
     },
     "metadata": {},
     "output_type": "display_data"
    },
    {
     "name": "stderr",
     "output_type": "stream",
     "text": [
      "I0713 19:38:44.649981 132218468208640 efficientnet_model.py:143] round_filter input=112 output=136\n"
     ]
    },
    {
     "data": {
      "text/html": [
       "<pre style=\"white-space:pre;overflow-x:auto;line-height:normal;font-family:Menlo,'DejaVu Sans Mono',consolas,'Courier New',monospace\">round_filter input=112 output=136\n",
       "</pre>\n"
      ],
      "text/plain": [
       "round_filter input=112 output=136\n"
      ]
     },
     "metadata": {},
     "output_type": "display_data"
    },
    {
     "name": "stderr",
     "output_type": "stream",
     "text": [
      "I0713 19:38:44.949702 132218468208640 efficientnet_model.py:143] round_filter input=112 output=136\n"
     ]
    },
    {
     "data": {
      "text/html": [
       "<pre style=\"white-space:pre;overflow-x:auto;line-height:normal;font-family:Menlo,'DejaVu Sans Mono',consolas,'Courier New',monospace\">round_filter input=192 output=232\n",
       "</pre>\n"
      ],
      "text/plain": [
       "round_filter input=192 output=232\n"
      ]
     },
     "metadata": {},
     "output_type": "display_data"
    },
    {
     "name": "stderr",
     "output_type": "stream",
     "text": [
      "I0713 19:38:44.951067 132218468208640 efficientnet_model.py:143] round_filter input=192 output=232\n"
     ]
    },
    {
     "data": {
      "text/html": [
       "<pre style=\"white-space:pre;overflow-x:auto;line-height:normal;font-family:Menlo,'DejaVu Sans Mono',consolas,'Courier New',monospace\">round_filter input=192 output=232\n",
       "</pre>\n"
      ],
      "text/plain": [
       "round_filter input=192 output=232\n"
      ]
     },
     "metadata": {},
     "output_type": "display_data"
    },
    {
     "name": "stderr",
     "output_type": "stream",
     "text": [
      "I0713 19:38:45.309664 132218468208640 efficientnet_model.py:143] round_filter input=192 output=232\n"
     ]
    },
    {
     "data": {
      "text/html": [
       "<pre style=\"white-space:pre;overflow-x:auto;line-height:normal;font-family:Menlo,'DejaVu Sans Mono',consolas,'Courier New',monospace\">round_filter input=320 output=384\n",
       "</pre>\n"
      ],
      "text/plain": [
       "round_filter input=320 output=384\n"
      ]
     },
     "metadata": {},
     "output_type": "display_data"
    },
    {
     "name": "stderr",
     "output_type": "stream",
     "text": [
      "I0713 19:38:45.311066 132218468208640 efficientnet_model.py:143] round_filter input=320 output=384\n"
     ]
    },
    {
     "data": {
      "text/html": [
       "<pre style=\"white-space:pre;overflow-x:auto;line-height:normal;font-family:Menlo,'DejaVu Sans Mono',consolas,'Courier New',monospace\">round_filter input=1280 output=1536\n",
       "</pre>\n"
      ],
      "text/plain": [
       "round_filter input=1280 output=1536\n"
      ]
     },
     "metadata": {},
     "output_type": "display_data"
    },
    {
     "name": "stderr",
     "output_type": "stream",
     "text": [
      "I0713 19:38:45.436691 132218468208640 efficientnet_model.py:143] round_filter input=1280 output=1536\n"
     ]
    },
    {
     "data": {
      "text/html": [
       "<pre style=\"white-space:pre;overflow-x:auto;line-height:normal;font-family:Menlo,'DejaVu Sans Mono',consolas,'Courier New',monospace\">Building model efficientnet with params ModelConfig(width_coefficient=1.2, depth_coefficient=1.4, resolution=300, dropout_rate=0.3, blocks=(BlockConfig(input_filters=32, output_filters=16, kernel_size=3, num_repeat=1, expand_ratio=1, strides=(1, 1), se_ratio=0.25, id_skip=True, fused_conv=False, conv_type='depthwise'), BlockConfig(input_filters=16, output_filters=24, kernel_size=3, num_repeat=2, expand_ratio=6, strides=(2, 2), se_ratio=0.25, id_skip=True, fused_conv=False, conv_type='depthwise'), BlockConfig(input_filters=24, output_filters=40, kernel_size=5, num_repeat=2, expand_ratio=6, strides=(2, 2), se_ratio=0.25, id_skip=True, fused_conv=False, conv_type='depthwise'), BlockConfig(input_filters=40, output_filters=80, kernel_size=3, num_repeat=3, expand_ratio=6, strides=(2, 2), se_ratio=0.25, id_skip=True, fused_conv=False, conv_type='depthwise'), BlockConfig(input_filters=80, output_filters=112, kernel_size=5, num_repeat=3, expand_ratio=6, strides=(1, 1), se_ratio=0.25, id_skip=True, fused_conv=False, conv_type='depthwise'), BlockConfig(input_filters=112, output_filters=192, kernel_size=5, num_repeat=4, expand_ratio=6, strides=(2, 2), se_ratio=0.25, id_skip=True, fused_conv=False, conv_type='depthwise'), BlockConfig(input_filters=192, output_filters=320, kernel_size=3, num_repeat=1, expand_ratio=6, strides=(1, 1), se_ratio=0.25, id_skip=True, fused_conv=False, conv_type='depthwise')), stem_base_filters=32, top_base_filters=1280, activation='simple_swish', batch_norm='default', bn_momentum=0.99, bn_epsilon=0.001, weight_decay=5e-06, drop_connect_rate=0.2, depth_divisor=8, min_depth=None, use_se=True, input_channels=3, num_classes=1000, model_name='efficientnet', rescale_input=False, data_format='channels_last', dtype='float32')\n",
       "</pre>\n"
      ],
      "text/plain": [
       "Building model efficientnet with params ModelConfig(width_coefficient=1.2, depth_coefficient=1.4, resolution=300, dropout_rate=0.3, blocks=(BlockConfig(input_filters=32, output_filters=16, kernel_size=3, num_repeat=1, expand_ratio=1, strides=(1, 1), se_ratio=0.25, id_skip=True, fused_conv=False, conv_type='depthwise'), BlockConfig(input_filters=16, output_filters=24, kernel_size=3, num_repeat=2, expand_ratio=6, strides=(2, 2), se_ratio=0.25, id_skip=True, fused_conv=False, conv_type='depthwise'), BlockConfig(input_filters=24, output_filters=40, kernel_size=5, num_repeat=2, expand_ratio=6, strides=(2, 2), se_ratio=0.25, id_skip=True, fused_conv=False, conv_type='depthwise'), BlockConfig(input_filters=40, output_filters=80, kernel_size=3, num_repeat=3, expand_ratio=6, strides=(2, 2), se_ratio=0.25, id_skip=True, fused_conv=False, conv_type='depthwise'), BlockConfig(input_filters=80, output_filters=112, kernel_size=5, num_repeat=3, expand_ratio=6, strides=(1, 1), se_ratio=0.25, id_skip=True, fused_conv=False, conv_type='depthwise'), BlockConfig(input_filters=112, output_filters=192, kernel_size=5, num_repeat=4, expand_ratio=6, strides=(2, 2), se_ratio=0.25, id_skip=True, fused_conv=False, conv_type='depthwise'), BlockConfig(input_filters=192, output_filters=320, kernel_size=3, num_repeat=1, expand_ratio=6, strides=(1, 1), se_ratio=0.25, id_skip=True, fused_conv=False, conv_type='depthwise')), stem_base_filters=32, top_base_filters=1280, activation='simple_swish', batch_norm='default', bn_momentum=0.99, bn_epsilon=0.001, weight_decay=5e-06, drop_connect_rate=0.2, depth_divisor=8, min_depth=None, use_se=True, input_channels=3, num_classes=1000, model_name='efficientnet', rescale_input=False, data_format='channels_last', dtype='float32')\n"
      ]
     },
     "metadata": {},
     "output_type": "display_data"
    },
    {
     "name": "stderr",
     "output_type": "stream",
     "text": [
      "I0713 19:38:45.464843 132218468208640 efficientnet_model.py:453] Building model efficientnet with params ModelConfig(width_coefficient=1.2, depth_coefficient=1.4, resolution=300, dropout_rate=0.3, blocks=(BlockConfig(input_filters=32, output_filters=16, kernel_size=3, num_repeat=1, expand_ratio=1, strides=(1, 1), se_ratio=0.25, id_skip=True, fused_conv=False, conv_type='depthwise'), BlockConfig(input_filters=16, output_filters=24, kernel_size=3, num_repeat=2, expand_ratio=6, strides=(2, 2), se_ratio=0.25, id_skip=True, fused_conv=False, conv_type='depthwise'), BlockConfig(input_filters=24, output_filters=40, kernel_size=5, num_repeat=2, expand_ratio=6, strides=(2, 2), se_ratio=0.25, id_skip=True, fused_conv=False, conv_type='depthwise'), BlockConfig(input_filters=40, output_filters=80, kernel_size=3, num_repeat=3, expand_ratio=6, strides=(2, 2), se_ratio=0.25, id_skip=True, fused_conv=False, conv_type='depthwise'), BlockConfig(input_filters=80, output_filters=112, kernel_size=5, num_repeat=3, expand_ratio=6, strides=(1, 1), se_ratio=0.25, id_skip=True, fused_conv=False, conv_type='depthwise'), BlockConfig(input_filters=112, output_filters=192, kernel_size=5, num_repeat=4, expand_ratio=6, strides=(2, 2), se_ratio=0.25, id_skip=True, fused_conv=False, conv_type='depthwise'), BlockConfig(input_filters=192, output_filters=320, kernel_size=3, num_repeat=1, expand_ratio=6, strides=(1, 1), se_ratio=0.25, id_skip=True, fused_conv=False, conv_type='depthwise')), stem_base_filters=32, top_base_filters=1280, activation='simple_swish', batch_norm='default', bn_momentum=0.99, bn_epsilon=0.001, weight_decay=5e-06, drop_connect_rate=0.2, depth_divisor=8, min_depth=None, use_se=True, input_channels=3, num_classes=1000, model_name='efficientnet', rescale_input=False, data_format='channels_last', dtype='float32')\n"
     ]
    },
    {
     "data": {
      "text/html": [
       "<pre style=\"white-space:pre;overflow-x:auto;line-height:normal;font-family:Menlo,'DejaVu Sans Mono',consolas,'Courier New',monospace\">EfficientDet EfficientNet backbone version: efficientnet-b4\n",
       "</pre>\n"
      ],
      "text/plain": [
       "EfficientDet EfficientNet backbone version: efficientnet-b4\n"
      ]
     },
     "metadata": {},
     "output_type": "display_data"
    },
    {
     "name": "stderr",
     "output_type": "stream",
     "text": [
      "I0713 19:38:45.513909 132218468208640 ssd_efficientnet_bifpn_feature_extractor.py:161] EfficientDet EfficientNet backbone version: efficientnet-b4\n"
     ]
    },
    {
     "data": {
      "text/html": [
       "<pre style=\"white-space:pre;overflow-x:auto;line-height:normal;font-family:Menlo,'DejaVu Sans Mono',consolas,'Courier New',monospace\">EfficientDet BiFPN num filters: 224\n",
       "</pre>\n"
      ],
      "text/plain": [
       "EfficientDet BiFPN num filters: 224\n"
      ]
     },
     "metadata": {},
     "output_type": "display_data"
    },
    {
     "name": "stderr",
     "output_type": "stream",
     "text": [
      "I0713 19:38:45.515271 132218468208640 ssd_efficientnet_bifpn_feature_extractor.py:163] EfficientDet BiFPN num filters: 224\n"
     ]
    },
    {
     "data": {
      "text/html": [
       "<pre style=\"white-space:pre;overflow-x:auto;line-height:normal;font-family:Menlo,'DejaVu Sans Mono',consolas,'Courier New',monospace\">EfficientDet BiFPN num iterations: 7\n",
       "</pre>\n"
      ],
      "text/plain": [
       "EfficientDet BiFPN num iterations: 7\n"
      ]
     },
     "metadata": {},
     "output_type": "display_data"
    },
    {
     "name": "stderr",
     "output_type": "stream",
     "text": [
      "I0713 19:38:45.516372 132218468208640 ssd_efficientnet_bifpn_feature_extractor.py:164] EfficientDet BiFPN num iterations: 7\n"
     ]
    },
    {
     "data": {
      "text/html": [
       "<pre style=\"white-space:pre;overflow-x:auto;line-height:normal;font-family:Menlo,'DejaVu Sans Mono',consolas,'Courier New',monospace\">round_filter input=32 output=48\n",
       "</pre>\n"
      ],
      "text/plain": [
       "round_filter input=32 output=48\n"
      ]
     },
     "metadata": {},
     "output_type": "display_data"
    },
    {
     "name": "stderr",
     "output_type": "stream",
     "text": [
      "I0713 19:38:45.518729 132218468208640 efficientnet_model.py:143] round_filter input=32 output=48\n"
     ]
    },
    {
     "data": {
      "text/html": [
       "<pre style=\"white-space:pre;overflow-x:auto;line-height:normal;font-family:Menlo,'DejaVu Sans Mono',consolas,'Courier New',monospace\">round_filter input=32 output=48\n",
       "</pre>\n"
      ],
      "text/plain": [
       "round_filter input=32 output=48\n"
      ]
     },
     "metadata": {},
     "output_type": "display_data"
    },
    {
     "name": "stderr",
     "output_type": "stream",
     "text": [
      "I0713 19:38:45.533637 132218468208640 efficientnet_model.py:143] round_filter input=32 output=48\n"
     ]
    },
    {
     "data": {
      "text/html": [
       "<pre style=\"white-space:pre;overflow-x:auto;line-height:normal;font-family:Menlo,'DejaVu Sans Mono',consolas,'Courier New',monospace\">round_filter input=16 output=24\n",
       "</pre>\n"
      ],
      "text/plain": [
       "round_filter input=16 output=24\n"
      ]
     },
     "metadata": {},
     "output_type": "display_data"
    },
    {
     "name": "stderr",
     "output_type": "stream",
     "text": [
      "I0713 19:38:45.534884 132218468208640 efficientnet_model.py:143] round_filter input=16 output=24\n"
     ]
    },
    {
     "data": {
      "text/html": [
       "<pre style=\"white-space:pre;overflow-x:auto;line-height:normal;font-family:Menlo,'DejaVu Sans Mono',consolas,'Courier New',monospace\">round_filter input=16 output=24\n",
       "</pre>\n"
      ],
      "text/plain": [
       "round_filter input=16 output=24\n"
      ]
     },
     "metadata": {},
     "output_type": "display_data"
    },
    {
     "name": "stderr",
     "output_type": "stream",
     "text": [
      "I0713 19:38:45.632105 132218468208640 efficientnet_model.py:143] round_filter input=16 output=24\n"
     ]
    },
    {
     "data": {
      "text/html": [
       "<pre style=\"white-space:pre;overflow-x:auto;line-height:normal;font-family:Menlo,'DejaVu Sans Mono',consolas,'Courier New',monospace\">round_filter input=24 output=32\n",
       "</pre>\n"
      ],
      "text/plain": [
       "round_filter input=24 output=32\n"
      ]
     },
     "metadata": {},
     "output_type": "display_data"
    },
    {
     "name": "stderr",
     "output_type": "stream",
     "text": [
      "I0713 19:38:45.633560 132218468208640 efficientnet_model.py:143] round_filter input=24 output=32\n"
     ]
    },
    {
     "data": {
      "text/html": [
       "<pre style=\"white-space:pre;overflow-x:auto;line-height:normal;font-family:Menlo,'DejaVu Sans Mono',consolas,'Courier New',monospace\">round_filter input=24 output=32\n",
       "</pre>\n"
      ],
      "text/plain": [
       "round_filter input=24 output=32\n"
      ]
     },
     "metadata": {},
     "output_type": "display_data"
    },
    {
     "name": "stderr",
     "output_type": "stream",
     "text": [
      "I0713 19:38:45.864731 132218468208640 efficientnet_model.py:143] round_filter input=24 output=32\n"
     ]
    },
    {
     "data": {
      "text/html": [
       "<pre style=\"white-space:pre;overflow-x:auto;line-height:normal;font-family:Menlo,'DejaVu Sans Mono',consolas,'Courier New',monospace\">round_filter input=40 output=56\n",
       "</pre>\n"
      ],
      "text/plain": [
       "round_filter input=40 output=56\n"
      ]
     },
     "metadata": {},
     "output_type": "display_data"
    },
    {
     "name": "stderr",
     "output_type": "stream",
     "text": [
      "I0713 19:38:45.866193 132218468208640 efficientnet_model.py:143] round_filter input=40 output=56\n"
     ]
    },
    {
     "data": {
      "text/html": [
       "<pre style=\"white-space:pre;overflow-x:auto;line-height:normal;font-family:Menlo,'DejaVu Sans Mono',consolas,'Courier New',monospace\">round_filter input=40 output=56\n",
       "</pre>\n"
      ],
      "text/plain": [
       "round_filter input=40 output=56\n"
      ]
     },
     "metadata": {},
     "output_type": "display_data"
    },
    {
     "name": "stderr",
     "output_type": "stream",
     "text": [
      "I0713 19:38:46.106237 132218468208640 efficientnet_model.py:143] round_filter input=40 output=56\n"
     ]
    },
    {
     "data": {
      "text/html": [
       "<pre style=\"white-space:pre;overflow-x:auto;line-height:normal;font-family:Menlo,'DejaVu Sans Mono',consolas,'Courier New',monospace\">round_filter input=80 output=112\n",
       "</pre>\n"
      ],
      "text/plain": [
       "round_filter input=80 output=112\n"
      ]
     },
     "metadata": {},
     "output_type": "display_data"
    },
    {
     "name": "stderr",
     "output_type": "stream",
     "text": [
      "I0713 19:38:46.107707 132218468208640 efficientnet_model.py:143] round_filter input=80 output=112\n"
     ]
    },
    {
     "data": {
      "text/html": [
       "<pre style=\"white-space:pre;overflow-x:auto;line-height:normal;font-family:Menlo,'DejaVu Sans Mono',consolas,'Courier New',monospace\">round_filter input=80 output=112\n",
       "</pre>\n"
      ],
      "text/plain": [
       "round_filter input=80 output=112\n"
      ]
     },
     "metadata": {},
     "output_type": "display_data"
    },
    {
     "name": "stderr",
     "output_type": "stream",
     "text": [
      "I0713 19:38:46.459714 132218468208640 efficientnet_model.py:143] round_filter input=80 output=112\n"
     ]
    },
    {
     "data": {
      "text/html": [
       "<pre style=\"white-space:pre;overflow-x:auto;line-height:normal;font-family:Menlo,'DejaVu Sans Mono',consolas,'Courier New',monospace\">round_filter input=112 output=160\n",
       "</pre>\n"
      ],
      "text/plain": [
       "round_filter input=112 output=160\n"
      ]
     },
     "metadata": {},
     "output_type": "display_data"
    },
    {
     "name": "stderr",
     "output_type": "stream",
     "text": [
      "I0713 19:38:46.461091 132218468208640 efficientnet_model.py:143] round_filter input=112 output=160\n"
     ]
    },
    {
     "data": {
      "text/html": [
       "<pre style=\"white-space:pre;overflow-x:auto;line-height:normal;font-family:Menlo,'DejaVu Sans Mono',consolas,'Courier New',monospace\">round_filter input=112 output=160\n",
       "</pre>\n"
      ],
      "text/plain": [
       "round_filter input=112 output=160\n"
      ]
     },
     "metadata": {},
     "output_type": "display_data"
    },
    {
     "name": "stderr",
     "output_type": "stream",
     "text": [
      "I0713 19:38:46.818043 132218468208640 efficientnet_model.py:143] round_filter input=112 output=160\n"
     ]
    },
    {
     "data": {
      "text/html": [
       "<pre style=\"white-space:pre;overflow-x:auto;line-height:normal;font-family:Menlo,'DejaVu Sans Mono',consolas,'Courier New',monospace\">round_filter input=192 output=272\n",
       "</pre>\n"
      ],
      "text/plain": [
       "round_filter input=192 output=272\n"
      ]
     },
     "metadata": {},
     "output_type": "display_data"
    },
    {
     "name": "stderr",
     "output_type": "stream",
     "text": [
      "I0713 19:38:46.819469 132218468208640 efficientnet_model.py:143] round_filter input=192 output=272\n"
     ]
    },
    {
     "data": {
      "text/html": [
       "<pre style=\"white-space:pre;overflow-x:auto;line-height:normal;font-family:Menlo,'DejaVu Sans Mono',consolas,'Courier New',monospace\">round_filter input=192 output=272\n",
       "</pre>\n"
      ],
      "text/plain": [
       "round_filter input=192 output=272\n"
      ]
     },
     "metadata": {},
     "output_type": "display_data"
    },
    {
     "name": "stderr",
     "output_type": "stream",
     "text": [
      "I0713 19:38:47.291371 132218468208640 efficientnet_model.py:143] round_filter input=192 output=272\n"
     ]
    },
    {
     "data": {
      "text/html": [
       "<pre style=\"white-space:pre;overflow-x:auto;line-height:normal;font-family:Menlo,'DejaVu Sans Mono',consolas,'Courier New',monospace\">round_filter input=320 output=448\n",
       "</pre>\n"
      ],
      "text/plain": [
       "round_filter input=320 output=448\n"
      ]
     },
     "metadata": {},
     "output_type": "display_data"
    },
    {
     "name": "stderr",
     "output_type": "stream",
     "text": [
      "I0713 19:38:47.292907 132218468208640 efficientnet_model.py:143] round_filter input=320 output=448\n"
     ]
    },
    {
     "data": {
      "text/html": [
       "<pre style=\"white-space:pre;overflow-x:auto;line-height:normal;font-family:Menlo,'DejaVu Sans Mono',consolas,'Courier New',monospace\">round_filter input=1280 output=1792\n",
       "</pre>\n"
      ],
      "text/plain": [
       "round_filter input=1280 output=1792\n"
      ]
     },
     "metadata": {},
     "output_type": "display_data"
    },
    {
     "name": "stderr",
     "output_type": "stream",
     "text": [
      "I0713 19:38:47.418963 132218468208640 efficientnet_model.py:143] round_filter input=1280 output=1792\n"
     ]
    },
    {
     "data": {
      "text/html": [
       "<pre style=\"white-space:pre;overflow-x:auto;line-height:normal;font-family:Menlo,'DejaVu Sans Mono',consolas,'Courier New',monospace\">Building model efficientnet with params ModelConfig(width_coefficient=1.4, depth_coefficient=1.8, resolution=380, dropout_rate=0.4, blocks=(BlockConfig(input_filters=32, output_filters=16, kernel_size=3, num_repeat=1, expand_ratio=1, strides=(1, 1), se_ratio=0.25, id_skip=True, fused_conv=False, conv_type='depthwise'), BlockConfig(input_filters=16, output_filters=24, kernel_size=3, num_repeat=2, expand_ratio=6, strides=(2, 2), se_ratio=0.25, id_skip=True, fused_conv=False, conv_type='depthwise'), BlockConfig(input_filters=24, output_filters=40, kernel_size=5, num_repeat=2, expand_ratio=6, strides=(2, 2), se_ratio=0.25, id_skip=True, fused_conv=False, conv_type='depthwise'), BlockConfig(input_filters=40, output_filters=80, kernel_size=3, num_repeat=3, expand_ratio=6, strides=(2, 2), se_ratio=0.25, id_skip=True, fused_conv=False, conv_type='depthwise'), BlockConfig(input_filters=80, output_filters=112, kernel_size=5, num_repeat=3, expand_ratio=6, strides=(1, 1), se_ratio=0.25, id_skip=True, fused_conv=False, conv_type='depthwise'), BlockConfig(input_filters=112, output_filters=192, kernel_size=5, num_repeat=4, expand_ratio=6, strides=(2, 2), se_ratio=0.25, id_skip=True, fused_conv=False, conv_type='depthwise'), BlockConfig(input_filters=192, output_filters=320, kernel_size=3, num_repeat=1, expand_ratio=6, strides=(1, 1), se_ratio=0.25, id_skip=True, fused_conv=False, conv_type='depthwise')), stem_base_filters=32, top_base_filters=1280, activation='simple_swish', batch_norm='default', bn_momentum=0.99, bn_epsilon=0.001, weight_decay=5e-06, drop_connect_rate=0.2, depth_divisor=8, min_depth=None, use_se=True, input_channels=3, num_classes=1000, model_name='efficientnet', rescale_input=False, data_format='channels_last', dtype='float32')\n",
       "</pre>\n"
      ],
      "text/plain": [
       "Building model efficientnet with params ModelConfig(width_coefficient=1.4, depth_coefficient=1.8, resolution=380, dropout_rate=0.4, blocks=(BlockConfig(input_filters=32, output_filters=16, kernel_size=3, num_repeat=1, expand_ratio=1, strides=(1, 1), se_ratio=0.25, id_skip=True, fused_conv=False, conv_type='depthwise'), BlockConfig(input_filters=16, output_filters=24, kernel_size=3, num_repeat=2, expand_ratio=6, strides=(2, 2), se_ratio=0.25, id_skip=True, fused_conv=False, conv_type='depthwise'), BlockConfig(input_filters=24, output_filters=40, kernel_size=5, num_repeat=2, expand_ratio=6, strides=(2, 2), se_ratio=0.25, id_skip=True, fused_conv=False, conv_type='depthwise'), BlockConfig(input_filters=40, output_filters=80, kernel_size=3, num_repeat=3, expand_ratio=6, strides=(2, 2), se_ratio=0.25, id_skip=True, fused_conv=False, conv_type='depthwise'), BlockConfig(input_filters=80, output_filters=112, kernel_size=5, num_repeat=3, expand_ratio=6, strides=(1, 1), se_ratio=0.25, id_skip=True, fused_conv=False, conv_type='depthwise'), BlockConfig(input_filters=112, output_filters=192, kernel_size=5, num_repeat=4, expand_ratio=6, strides=(2, 2), se_ratio=0.25, id_skip=True, fused_conv=False, conv_type='depthwise'), BlockConfig(input_filters=192, output_filters=320, kernel_size=3, num_repeat=1, expand_ratio=6, strides=(1, 1), se_ratio=0.25, id_skip=True, fused_conv=False, conv_type='depthwise')), stem_base_filters=32, top_base_filters=1280, activation='simple_swish', batch_norm='default', bn_momentum=0.99, bn_epsilon=0.001, weight_decay=5e-06, drop_connect_rate=0.2, depth_divisor=8, min_depth=None, use_se=True, input_channels=3, num_classes=1000, model_name='efficientnet', rescale_input=False, data_format='channels_last', dtype='float32')\n"
      ]
     },
     "metadata": {},
     "output_type": "display_data"
    },
    {
     "name": "stderr",
     "output_type": "stream",
     "text": [
      "I0713 19:38:47.447100 132218468208640 efficientnet_model.py:453] Building model efficientnet with params ModelConfig(width_coefficient=1.4, depth_coefficient=1.8, resolution=380, dropout_rate=0.4, blocks=(BlockConfig(input_filters=32, output_filters=16, kernel_size=3, num_repeat=1, expand_ratio=1, strides=(1, 1), se_ratio=0.25, id_skip=True, fused_conv=False, conv_type='depthwise'), BlockConfig(input_filters=16, output_filters=24, kernel_size=3, num_repeat=2, expand_ratio=6, strides=(2, 2), se_ratio=0.25, id_skip=True, fused_conv=False, conv_type='depthwise'), BlockConfig(input_filters=24, output_filters=40, kernel_size=5, num_repeat=2, expand_ratio=6, strides=(2, 2), se_ratio=0.25, id_skip=True, fused_conv=False, conv_type='depthwise'), BlockConfig(input_filters=40, output_filters=80, kernel_size=3, num_repeat=3, expand_ratio=6, strides=(2, 2), se_ratio=0.25, id_skip=True, fused_conv=False, conv_type='depthwise'), BlockConfig(input_filters=80, output_filters=112, kernel_size=5, num_repeat=3, expand_ratio=6, strides=(1, 1), se_ratio=0.25, id_skip=True, fused_conv=False, conv_type='depthwise'), BlockConfig(input_filters=112, output_filters=192, kernel_size=5, num_repeat=4, expand_ratio=6, strides=(2, 2), se_ratio=0.25, id_skip=True, fused_conv=False, conv_type='depthwise'), BlockConfig(input_filters=192, output_filters=320, kernel_size=3, num_repeat=1, expand_ratio=6, strides=(1, 1), se_ratio=0.25, id_skip=True, fused_conv=False, conv_type='depthwise')), stem_base_filters=32, top_base_filters=1280, activation='simple_swish', batch_norm='default', bn_momentum=0.99, bn_epsilon=0.001, weight_decay=5e-06, drop_connect_rate=0.2, depth_divisor=8, min_depth=None, use_se=True, input_channels=3, num_classes=1000, model_name='efficientnet', rescale_input=False, data_format='channels_last', dtype='float32')\n"
     ]
    },
    {
     "data": {
      "text/html": [
       "<pre style=\"white-space:pre;overflow-x:auto;line-height:normal;font-family:Menlo,'DejaVu Sans Mono',consolas,'Courier New',monospace\">EfficientDet EfficientNet backbone version: efficientnet-b5\n",
       "</pre>\n"
      ],
      "text/plain": [
       "EfficientDet EfficientNet backbone version: efficientnet-b5\n"
      ]
     },
     "metadata": {},
     "output_type": "display_data"
    },
    {
     "name": "stderr",
     "output_type": "stream",
     "text": [
      "I0713 19:38:47.505251 132218468208640 ssd_efficientnet_bifpn_feature_extractor.py:161] EfficientDet EfficientNet backbone version: efficientnet-b5\n"
     ]
    },
    {
     "data": {
      "text/html": [
       "<pre style=\"white-space:pre;overflow-x:auto;line-height:normal;font-family:Menlo,'DejaVu Sans Mono',consolas,'Courier New',monospace\">EfficientDet BiFPN num filters: 288\n",
       "</pre>\n"
      ],
      "text/plain": [
       "EfficientDet BiFPN num filters: 288\n"
      ]
     },
     "metadata": {},
     "output_type": "display_data"
    },
    {
     "name": "stderr",
     "output_type": "stream",
     "text": [
      "I0713 19:38:47.506765 132218468208640 ssd_efficientnet_bifpn_feature_extractor.py:163] EfficientDet BiFPN num filters: 288\n"
     ]
    },
    {
     "data": {
      "text/html": [
       "<pre style=\"white-space:pre;overflow-x:auto;line-height:normal;font-family:Menlo,'DejaVu Sans Mono',consolas,'Courier New',monospace\">EfficientDet BiFPN num iterations: 7\n",
       "</pre>\n"
      ],
      "text/plain": [
       "EfficientDet BiFPN num iterations: 7\n"
      ]
     },
     "metadata": {},
     "output_type": "display_data"
    },
    {
     "name": "stderr",
     "output_type": "stream",
     "text": [
      "I0713 19:38:47.507960 132218468208640 ssd_efficientnet_bifpn_feature_extractor.py:164] EfficientDet BiFPN num iterations: 7\n"
     ]
    },
    {
     "data": {
      "text/html": [
       "<pre style=\"white-space:pre;overflow-x:auto;line-height:normal;font-family:Menlo,'DejaVu Sans Mono',consolas,'Courier New',monospace\">round_filter input=32 output=48\n",
       "</pre>\n"
      ],
      "text/plain": [
       "round_filter input=32 output=48\n"
      ]
     },
     "metadata": {},
     "output_type": "display_data"
    },
    {
     "name": "stderr",
     "output_type": "stream",
     "text": [
      "I0713 19:38:47.510856 132218468208640 efficientnet_model.py:143] round_filter input=32 output=48\n"
     ]
    },
    {
     "data": {
      "text/html": [
       "<pre style=\"white-space:pre;overflow-x:auto;line-height:normal;font-family:Menlo,'DejaVu Sans Mono',consolas,'Courier New',monospace\">round_filter input=32 output=48\n",
       "</pre>\n"
      ],
      "text/plain": [
       "round_filter input=32 output=48\n"
      ]
     },
     "metadata": {},
     "output_type": "display_data"
    },
    {
     "name": "stderr",
     "output_type": "stream",
     "text": [
      "I0713 19:38:47.524715 132218468208640 efficientnet_model.py:143] round_filter input=32 output=48\n"
     ]
    },
    {
     "data": {
      "text/html": [
       "<pre style=\"white-space:pre;overflow-x:auto;line-height:normal;font-family:Menlo,'DejaVu Sans Mono',consolas,'Courier New',monospace\">round_filter input=16 output=24\n",
       "</pre>\n"
      ],
      "text/plain": [
       "round_filter input=16 output=24\n"
      ]
     },
     "metadata": {},
     "output_type": "display_data"
    },
    {
     "name": "stderr",
     "output_type": "stream",
     "text": [
      "I0713 19:38:47.525959 132218468208640 efficientnet_model.py:143] round_filter input=16 output=24\n"
     ]
    },
    {
     "data": {
      "text/html": [
       "<pre style=\"white-space:pre;overflow-x:auto;line-height:normal;font-family:Menlo,'DejaVu Sans Mono',consolas,'Courier New',monospace\">round_filter input=16 output=24\n",
       "</pre>\n"
      ],
      "text/plain": [
       "round_filter input=16 output=24\n"
      ]
     },
     "metadata": {},
     "output_type": "display_data"
    },
    {
     "name": "stderr",
     "output_type": "stream",
     "text": [
      "I0713 19:38:47.664733 132218468208640 efficientnet_model.py:143] round_filter input=16 output=24\n"
     ]
    },
    {
     "data": {
      "text/html": [
       "<pre style=\"white-space:pre;overflow-x:auto;line-height:normal;font-family:Menlo,'DejaVu Sans Mono',consolas,'Courier New',monospace\">round_filter input=24 output=40\n",
       "</pre>\n"
      ],
      "text/plain": [
       "round_filter input=24 output=40\n"
      ]
     },
     "metadata": {},
     "output_type": "display_data"
    },
    {
     "name": "stderr",
     "output_type": "stream",
     "text": [
      "I0713 19:38:47.666110 132218468208640 efficientnet_model.py:143] round_filter input=24 output=40\n"
     ]
    },
    {
     "data": {
      "text/html": [
       "<pre style=\"white-space:pre;overflow-x:auto;line-height:normal;font-family:Menlo,'DejaVu Sans Mono',consolas,'Courier New',monospace\">round_filter input=24 output=40\n",
       "</pre>\n"
      ],
      "text/plain": [
       "round_filter input=24 output=40\n"
      ]
     },
     "metadata": {},
     "output_type": "display_data"
    },
    {
     "name": "stderr",
     "output_type": "stream",
     "text": [
      "I0713 19:38:47.951496 132218468208640 efficientnet_model.py:143] round_filter input=24 output=40\n"
     ]
    },
    {
     "data": {
      "text/html": [
       "<pre style=\"white-space:pre;overflow-x:auto;line-height:normal;font-family:Menlo,'DejaVu Sans Mono',consolas,'Courier New',monospace\">round_filter input=40 output=64\n",
       "</pre>\n"
      ],
      "text/plain": [
       "round_filter input=40 output=64\n"
      ]
     },
     "metadata": {},
     "output_type": "display_data"
    },
    {
     "name": "stderr",
     "output_type": "stream",
     "text": [
      "I0713 19:38:47.952884 132218468208640 efficientnet_model.py:143] round_filter input=40 output=64\n"
     ]
    },
    {
     "data": {
      "text/html": [
       "<pre style=\"white-space:pre;overflow-x:auto;line-height:normal;font-family:Menlo,'DejaVu Sans Mono',consolas,'Courier New',monospace\">round_filter input=40 output=64\n",
       "</pre>\n"
      ],
      "text/plain": [
       "round_filter input=40 output=64\n"
      ]
     },
     "metadata": {},
     "output_type": "display_data"
    },
    {
     "name": "stderr",
     "output_type": "stream",
     "text": [
      "I0713 19:38:48.249580 132218468208640 efficientnet_model.py:143] round_filter input=40 output=64\n"
     ]
    },
    {
     "data": {
      "text/html": [
       "<pre style=\"white-space:pre;overflow-x:auto;line-height:normal;font-family:Menlo,'DejaVu Sans Mono',consolas,'Courier New',monospace\">round_filter input=80 output=128\n",
       "</pre>\n"
      ],
      "text/plain": [
       "round_filter input=80 output=128\n"
      ]
     },
     "metadata": {},
     "output_type": "display_data"
    },
    {
     "name": "stderr",
     "output_type": "stream",
     "text": [
      "I0713 19:38:48.251040 132218468208640 efficientnet_model.py:143] round_filter input=80 output=128\n"
     ]
    },
    {
     "data": {
      "text/html": [
       "<pre style=\"white-space:pre;overflow-x:auto;line-height:normal;font-family:Menlo,'DejaVu Sans Mono',consolas,'Courier New',monospace\">round_filter input=80 output=128\n",
       "</pre>\n"
      ],
      "text/plain": [
       "round_filter input=80 output=128\n"
      ]
     },
     "metadata": {},
     "output_type": "display_data"
    },
    {
     "name": "stderr",
     "output_type": "stream",
     "text": [
      "I0713 19:38:48.667179 132218468208640 efficientnet_model.py:143] round_filter input=80 output=128\n"
     ]
    },
    {
     "data": {
      "text/html": [
       "<pre style=\"white-space:pre;overflow-x:auto;line-height:normal;font-family:Menlo,'DejaVu Sans Mono',consolas,'Courier New',monospace\">round_filter input=112 output=176\n",
       "</pre>\n"
      ],
      "text/plain": [
       "round_filter input=112 output=176\n"
      ]
     },
     "metadata": {},
     "output_type": "display_data"
    },
    {
     "name": "stderr",
     "output_type": "stream",
     "text": [
      "I0713 19:38:48.668645 132218468208640 efficientnet_model.py:143] round_filter input=112 output=176\n"
     ]
    },
    {
     "data": {
      "text/html": [
       "<pre style=\"white-space:pre;overflow-x:auto;line-height:normal;font-family:Menlo,'DejaVu Sans Mono',consolas,'Courier New',monospace\">round_filter input=112 output=176\n",
       "</pre>\n"
      ],
      "text/plain": [
       "round_filter input=112 output=176\n"
      ]
     },
     "metadata": {},
     "output_type": "display_data"
    },
    {
     "name": "stderr",
     "output_type": "stream",
     "text": [
      "I0713 19:38:49.087124 132218468208640 efficientnet_model.py:143] round_filter input=112 output=176\n"
     ]
    },
    {
     "data": {
      "text/html": [
       "<pre style=\"white-space:pre;overflow-x:auto;line-height:normal;font-family:Menlo,'DejaVu Sans Mono',consolas,'Courier New',monospace\">round_filter input=192 output=304\n",
       "</pre>\n"
      ],
      "text/plain": [
       "round_filter input=192 output=304\n"
      ]
     },
     "metadata": {},
     "output_type": "display_data"
    },
    {
     "name": "stderr",
     "output_type": "stream",
     "text": [
      "I0713 19:38:49.088549 132218468208640 efficientnet_model.py:143] round_filter input=192 output=304\n"
     ]
    },
    {
     "data": {
      "text/html": [
       "<pre style=\"white-space:pre;overflow-x:auto;line-height:normal;font-family:Menlo,'DejaVu Sans Mono',consolas,'Courier New',monospace\">round_filter input=192 output=304\n",
       "</pre>\n"
      ],
      "text/plain": [
       "round_filter input=192 output=304\n"
      ]
     },
     "metadata": {},
     "output_type": "display_data"
    },
    {
     "name": "stderr",
     "output_type": "stream",
     "text": [
      "I0713 19:38:50.039493 132218468208640 efficientnet_model.py:143] round_filter input=192 output=304\n"
     ]
    },
    {
     "data": {
      "text/html": [
       "<pre style=\"white-space:pre;overflow-x:auto;line-height:normal;font-family:Menlo,'DejaVu Sans Mono',consolas,'Courier New',monospace\">round_filter input=320 output=512\n",
       "</pre>\n"
      ],
      "text/plain": [
       "round_filter input=320 output=512\n"
      ]
     },
     "metadata": {},
     "output_type": "display_data"
    },
    {
     "name": "stderr",
     "output_type": "stream",
     "text": [
      "I0713 19:38:50.040916 132218468208640 efficientnet_model.py:143] round_filter input=320 output=512\n"
     ]
    },
    {
     "data": {
      "text/html": [
       "<pre style=\"white-space:pre;overflow-x:auto;line-height:normal;font-family:Menlo,'DejaVu Sans Mono',consolas,'Courier New',monospace\">round_filter input=1280 output=2048\n",
       "</pre>\n"
      ],
      "text/plain": [
       "round_filter input=1280 output=2048\n"
      ]
     },
     "metadata": {},
     "output_type": "display_data"
    },
    {
     "name": "stderr",
     "output_type": "stream",
     "text": [
      "I0713 19:38:50.230730 132218468208640 efficientnet_model.py:143] round_filter input=1280 output=2048\n"
     ]
    },
    {
     "data": {
      "text/html": [
       "<pre style=\"white-space:pre;overflow-x:auto;line-height:normal;font-family:Menlo,'DejaVu Sans Mono',consolas,'Courier New',monospace\">Building model efficientnet with params ModelConfig(width_coefficient=1.6, depth_coefficient=2.2, resolution=456, dropout_rate=0.4, blocks=(BlockConfig(input_filters=32, output_filters=16, kernel_size=3, num_repeat=1, expand_ratio=1, strides=(1, 1), se_ratio=0.25, id_skip=True, fused_conv=False, conv_type='depthwise'), BlockConfig(input_filters=16, output_filters=24, kernel_size=3, num_repeat=2, expand_ratio=6, strides=(2, 2), se_ratio=0.25, id_skip=True, fused_conv=False, conv_type='depthwise'), BlockConfig(input_filters=24, output_filters=40, kernel_size=5, num_repeat=2, expand_ratio=6, strides=(2, 2), se_ratio=0.25, id_skip=True, fused_conv=False, conv_type='depthwise'), BlockConfig(input_filters=40, output_filters=80, kernel_size=3, num_repeat=3, expand_ratio=6, strides=(2, 2), se_ratio=0.25, id_skip=True, fused_conv=False, conv_type='depthwise'), BlockConfig(input_filters=80, output_filters=112, kernel_size=5, num_repeat=3, expand_ratio=6, strides=(1, 1), se_ratio=0.25, id_skip=True, fused_conv=False, conv_type='depthwise'), BlockConfig(input_filters=112, output_filters=192, kernel_size=5, num_repeat=4, expand_ratio=6, strides=(2, 2), se_ratio=0.25, id_skip=True, fused_conv=False, conv_type='depthwise'), BlockConfig(input_filters=192, output_filters=320, kernel_size=3, num_repeat=1, expand_ratio=6, strides=(1, 1), se_ratio=0.25, id_skip=True, fused_conv=False, conv_type='depthwise')), stem_base_filters=32, top_base_filters=1280, activation='simple_swish', batch_norm='default', bn_momentum=0.99, bn_epsilon=0.001, weight_decay=5e-06, drop_connect_rate=0.2, depth_divisor=8, min_depth=None, use_se=True, input_channels=3, num_classes=1000, model_name='efficientnet', rescale_input=False, data_format='channels_last', dtype='float32')\n",
       "</pre>\n"
      ],
      "text/plain": [
       "Building model efficientnet with params ModelConfig(width_coefficient=1.6, depth_coefficient=2.2, resolution=456, dropout_rate=0.4, blocks=(BlockConfig(input_filters=32, output_filters=16, kernel_size=3, num_repeat=1, expand_ratio=1, strides=(1, 1), se_ratio=0.25, id_skip=True, fused_conv=False, conv_type='depthwise'), BlockConfig(input_filters=16, output_filters=24, kernel_size=3, num_repeat=2, expand_ratio=6, strides=(2, 2), se_ratio=0.25, id_skip=True, fused_conv=False, conv_type='depthwise'), BlockConfig(input_filters=24, output_filters=40, kernel_size=5, num_repeat=2, expand_ratio=6, strides=(2, 2), se_ratio=0.25, id_skip=True, fused_conv=False, conv_type='depthwise'), BlockConfig(input_filters=40, output_filters=80, kernel_size=3, num_repeat=3, expand_ratio=6, strides=(2, 2), se_ratio=0.25, id_skip=True, fused_conv=False, conv_type='depthwise'), BlockConfig(input_filters=80, output_filters=112, kernel_size=5, num_repeat=3, expand_ratio=6, strides=(1, 1), se_ratio=0.25, id_skip=True, fused_conv=False, conv_type='depthwise'), BlockConfig(input_filters=112, output_filters=192, kernel_size=5, num_repeat=4, expand_ratio=6, strides=(2, 2), se_ratio=0.25, id_skip=True, fused_conv=False, conv_type='depthwise'), BlockConfig(input_filters=192, output_filters=320, kernel_size=3, num_repeat=1, expand_ratio=6, strides=(1, 1), se_ratio=0.25, id_skip=True, fused_conv=False, conv_type='depthwise')), stem_base_filters=32, top_base_filters=1280, activation='simple_swish', batch_norm='default', bn_momentum=0.99, bn_epsilon=0.001, weight_decay=5e-06, drop_connect_rate=0.2, depth_divisor=8, min_depth=None, use_se=True, input_channels=3, num_classes=1000, model_name='efficientnet', rescale_input=False, data_format='channels_last', dtype='float32')\n"
      ]
     },
     "metadata": {},
     "output_type": "display_data"
    },
    {
     "name": "stderr",
     "output_type": "stream",
     "text": [
      "I0713 19:38:50.258733 132218468208640 efficientnet_model.py:453] Building model efficientnet with params ModelConfig(width_coefficient=1.6, depth_coefficient=2.2, resolution=456, dropout_rate=0.4, blocks=(BlockConfig(input_filters=32, output_filters=16, kernel_size=3, num_repeat=1, expand_ratio=1, strides=(1, 1), se_ratio=0.25, id_skip=True, fused_conv=False, conv_type='depthwise'), BlockConfig(input_filters=16, output_filters=24, kernel_size=3, num_repeat=2, expand_ratio=6, strides=(2, 2), se_ratio=0.25, id_skip=True, fused_conv=False, conv_type='depthwise'), BlockConfig(input_filters=24, output_filters=40, kernel_size=5, num_repeat=2, expand_ratio=6, strides=(2, 2), se_ratio=0.25, id_skip=True, fused_conv=False, conv_type='depthwise'), BlockConfig(input_filters=40, output_filters=80, kernel_size=3, num_repeat=3, expand_ratio=6, strides=(2, 2), se_ratio=0.25, id_skip=True, fused_conv=False, conv_type='depthwise'), BlockConfig(input_filters=80, output_filters=112, kernel_size=5, num_repeat=3, expand_ratio=6, strides=(1, 1), se_ratio=0.25, id_skip=True, fused_conv=False, conv_type='depthwise'), BlockConfig(input_filters=112, output_filters=192, kernel_size=5, num_repeat=4, expand_ratio=6, strides=(2, 2), se_ratio=0.25, id_skip=True, fused_conv=False, conv_type='depthwise'), BlockConfig(input_filters=192, output_filters=320, kernel_size=3, num_repeat=1, expand_ratio=6, strides=(1, 1), se_ratio=0.25, id_skip=True, fused_conv=False, conv_type='depthwise')), stem_base_filters=32, top_base_filters=1280, activation='simple_swish', batch_norm='default', bn_momentum=0.99, bn_epsilon=0.001, weight_decay=5e-06, drop_connect_rate=0.2, depth_divisor=8, min_depth=None, use_se=True, input_channels=3, num_classes=1000, model_name='efficientnet', rescale_input=False, data_format='channels_last', dtype='float32')\n"
     ]
    },
    {
     "data": {
      "text/html": [
       "<pre style=\"white-space:pre;overflow-x:auto;line-height:normal;font-family:Menlo,'DejaVu Sans Mono',consolas,'Courier New',monospace\">EfficientDet EfficientNet backbone version: efficientnet-b6\n",
       "</pre>\n"
      ],
      "text/plain": [
       "EfficientDet EfficientNet backbone version: efficientnet-b6\n"
      ]
     },
     "metadata": {},
     "output_type": "display_data"
    },
    {
     "name": "stderr",
     "output_type": "stream",
     "text": [
      "I0713 19:38:50.321169 132218468208640 ssd_efficientnet_bifpn_feature_extractor.py:161] EfficientDet EfficientNet backbone version: efficientnet-b6\n"
     ]
    },
    {
     "data": {
      "text/html": [
       "<pre style=\"white-space:pre;overflow-x:auto;line-height:normal;font-family:Menlo,'DejaVu Sans Mono',consolas,'Courier New',monospace\">EfficientDet BiFPN num filters: 384\n",
       "</pre>\n"
      ],
      "text/plain": [
       "EfficientDet BiFPN num filters: 384\n"
      ]
     },
     "metadata": {},
     "output_type": "display_data"
    },
    {
     "name": "stderr",
     "output_type": "stream",
     "text": [
      "I0713 19:38:50.322526 132218468208640 ssd_efficientnet_bifpn_feature_extractor.py:163] EfficientDet BiFPN num filters: 384\n"
     ]
    },
    {
     "data": {
      "text/html": [
       "<pre style=\"white-space:pre;overflow-x:auto;line-height:normal;font-family:Menlo,'DejaVu Sans Mono',consolas,'Courier New',monospace\">EfficientDet BiFPN num iterations: 8\n",
       "</pre>\n"
      ],
      "text/plain": [
       "EfficientDet BiFPN num iterations: 8\n"
      ]
     },
     "metadata": {},
     "output_type": "display_data"
    },
    {
     "name": "stderr",
     "output_type": "stream",
     "text": [
      "I0713 19:38:50.323567 132218468208640 ssd_efficientnet_bifpn_feature_extractor.py:164] EfficientDet BiFPN num iterations: 8\n"
     ]
    },
    {
     "data": {
      "text/html": [
       "<pre style=\"white-space:pre;overflow-x:auto;line-height:normal;font-family:Menlo,'DejaVu Sans Mono',consolas,'Courier New',monospace\">round_filter input=32 output=56\n",
       "</pre>\n"
      ],
      "text/plain": [
       "round_filter input=32 output=56\n"
      ]
     },
     "metadata": {},
     "output_type": "display_data"
    },
    {
     "name": "stderr",
     "output_type": "stream",
     "text": [
      "I0713 19:38:50.325867 132218468208640 efficientnet_model.py:143] round_filter input=32 output=56\n"
     ]
    },
    {
     "data": {
      "text/html": [
       "<pre style=\"white-space:pre;overflow-x:auto;line-height:normal;font-family:Menlo,'DejaVu Sans Mono',consolas,'Courier New',monospace\">round_filter input=32 output=56\n",
       "</pre>\n"
      ],
      "text/plain": [
       "round_filter input=32 output=56\n"
      ]
     },
     "metadata": {},
     "output_type": "display_data"
    },
    {
     "name": "stderr",
     "output_type": "stream",
     "text": [
      "I0713 19:38:50.340846 132218468208640 efficientnet_model.py:143] round_filter input=32 output=56\n"
     ]
    },
    {
     "data": {
      "text/html": [
       "<pre style=\"white-space:pre;overflow-x:auto;line-height:normal;font-family:Menlo,'DejaVu Sans Mono',consolas,'Courier New',monospace\">round_filter input=16 output=32\n",
       "</pre>\n"
      ],
      "text/plain": [
       "round_filter input=16 output=32\n"
      ]
     },
     "metadata": {},
     "output_type": "display_data"
    },
    {
     "name": "stderr",
     "output_type": "stream",
     "text": [
      "I0713 19:38:50.342067 132218468208640 efficientnet_model.py:143] round_filter input=16 output=32\n"
     ]
    },
    {
     "data": {
      "text/html": [
       "<pre style=\"white-space:pre;overflow-x:auto;line-height:normal;font-family:Menlo,'DejaVu Sans Mono',consolas,'Courier New',monospace\">round_filter input=16 output=32\n",
       "</pre>\n"
      ],
      "text/plain": [
       "round_filter input=16 output=32\n"
      ]
     },
     "metadata": {},
     "output_type": "display_data"
    },
    {
     "name": "stderr",
     "output_type": "stream",
     "text": [
      "I0713 19:38:50.492322 132218468208640 efficientnet_model.py:143] round_filter input=16 output=32\n"
     ]
    },
    {
     "data": {
      "text/html": [
       "<pre style=\"white-space:pre;overflow-x:auto;line-height:normal;font-family:Menlo,'DejaVu Sans Mono',consolas,'Courier New',monospace\">round_filter input=24 output=40\n",
       "</pre>\n"
      ],
      "text/plain": [
       "round_filter input=24 output=40\n"
      ]
     },
     "metadata": {},
     "output_type": "display_data"
    },
    {
     "name": "stderr",
     "output_type": "stream",
     "text": [
      "I0713 19:38:50.493702 132218468208640 efficientnet_model.py:143] round_filter input=24 output=40\n"
     ]
    },
    {
     "data": {
      "text/html": [
       "<pre style=\"white-space:pre;overflow-x:auto;line-height:normal;font-family:Menlo,'DejaVu Sans Mono',consolas,'Courier New',monospace\">round_filter input=24 output=40\n",
       "</pre>\n"
      ],
      "text/plain": [
       "round_filter input=24 output=40\n"
      ]
     },
     "metadata": {},
     "output_type": "display_data"
    },
    {
     "name": "stderr",
     "output_type": "stream",
     "text": [
      "I0713 19:38:50.842037 132218468208640 efficientnet_model.py:143] round_filter input=24 output=40\n"
     ]
    },
    {
     "data": {
      "text/html": [
       "<pre style=\"white-space:pre;overflow-x:auto;line-height:normal;font-family:Menlo,'DejaVu Sans Mono',consolas,'Courier New',monospace\">round_filter input=40 output=72\n",
       "</pre>\n"
      ],
      "text/plain": [
       "round_filter input=40 output=72\n"
      ]
     },
     "metadata": {},
     "output_type": "display_data"
    },
    {
     "name": "stderr",
     "output_type": "stream",
     "text": [
      "I0713 19:38:50.843389 132218468208640 efficientnet_model.py:143] round_filter input=40 output=72\n"
     ]
    },
    {
     "data": {
      "text/html": [
       "<pre style=\"white-space:pre;overflow-x:auto;line-height:normal;font-family:Menlo,'DejaVu Sans Mono',consolas,'Courier New',monospace\">round_filter input=40 output=72\n",
       "</pre>\n"
      ],
      "text/plain": [
       "round_filter input=40 output=72\n"
      ]
     },
     "metadata": {},
     "output_type": "display_data"
    },
    {
     "name": "stderr",
     "output_type": "stream",
     "text": [
      "I0713 19:38:51.201000 132218468208640 efficientnet_model.py:143] round_filter input=40 output=72\n"
     ]
    },
    {
     "data": {
      "text/html": [
       "<pre style=\"white-space:pre;overflow-x:auto;line-height:normal;font-family:Menlo,'DejaVu Sans Mono',consolas,'Courier New',monospace\">round_filter input=80 output=144\n",
       "</pre>\n"
      ],
      "text/plain": [
       "round_filter input=80 output=144\n"
      ]
     },
     "metadata": {},
     "output_type": "display_data"
    },
    {
     "name": "stderr",
     "output_type": "stream",
     "text": [
      "I0713 19:38:51.202452 132218468208640 efficientnet_model.py:143] round_filter input=80 output=144\n"
     ]
    },
    {
     "data": {
      "text/html": [
       "<pre style=\"white-space:pre;overflow-x:auto;line-height:normal;font-family:Menlo,'DejaVu Sans Mono',consolas,'Courier New',monospace\">round_filter input=80 output=144\n",
       "</pre>\n"
      ],
      "text/plain": [
       "round_filter input=80 output=144\n"
      ]
     },
     "metadata": {},
     "output_type": "display_data"
    },
    {
     "name": "stderr",
     "output_type": "stream",
     "text": [
      "I0713 19:38:51.676334 132218468208640 efficientnet_model.py:143] round_filter input=80 output=144\n"
     ]
    },
    {
     "data": {
      "text/html": [
       "<pre style=\"white-space:pre;overflow-x:auto;line-height:normal;font-family:Menlo,'DejaVu Sans Mono',consolas,'Courier New',monospace\">round_filter input=112 output=200\n",
       "</pre>\n"
      ],
      "text/plain": [
       "round_filter input=112 output=200\n"
      ]
     },
     "metadata": {},
     "output_type": "display_data"
    },
    {
     "name": "stderr",
     "output_type": "stream",
     "text": [
      "I0713 19:38:51.677861 132218468208640 efficientnet_model.py:143] round_filter input=112 output=200\n"
     ]
    },
    {
     "data": {
      "text/html": [
       "<pre style=\"white-space:pre;overflow-x:auto;line-height:normal;font-family:Menlo,'DejaVu Sans Mono',consolas,'Courier New',monospace\">round_filter input=112 output=200\n",
       "</pre>\n"
      ],
      "text/plain": [
       "round_filter input=112 output=200\n"
      ]
     },
     "metadata": {},
     "output_type": "display_data"
    },
    {
     "name": "stderr",
     "output_type": "stream",
     "text": [
      "I0713 19:38:52.147707 132218468208640 efficientnet_model.py:143] round_filter input=112 output=200\n"
     ]
    },
    {
     "data": {
      "text/html": [
       "<pre style=\"white-space:pre;overflow-x:auto;line-height:normal;font-family:Menlo,'DejaVu Sans Mono',consolas,'Courier New',monospace\">round_filter input=192 output=344\n",
       "</pre>\n"
      ],
      "text/plain": [
       "round_filter input=192 output=344\n"
      ]
     },
     "metadata": {},
     "output_type": "display_data"
    },
    {
     "name": "stderr",
     "output_type": "stream",
     "text": [
      "I0713 19:38:52.149139 132218468208640 efficientnet_model.py:143] round_filter input=192 output=344\n"
     ]
    },
    {
     "data": {
      "text/html": [
       "<pre style=\"white-space:pre;overflow-x:auto;line-height:normal;font-family:Menlo,'DejaVu Sans Mono',consolas,'Courier New',monospace\">round_filter input=192 output=344\n",
       "</pre>\n"
      ],
      "text/plain": [
       "round_filter input=192 output=344\n"
      ]
     },
     "metadata": {},
     "output_type": "display_data"
    },
    {
     "name": "stderr",
     "output_type": "stream",
     "text": [
      "I0713 19:38:52.801444 132218468208640 efficientnet_model.py:143] round_filter input=192 output=344\n"
     ]
    },
    {
     "data": {
      "text/html": [
       "<pre style=\"white-space:pre;overflow-x:auto;line-height:normal;font-family:Menlo,'DejaVu Sans Mono',consolas,'Courier New',monospace\">round_filter input=320 output=576\n",
       "</pre>\n"
      ],
      "text/plain": [
       "round_filter input=320 output=576\n"
      ]
     },
     "metadata": {},
     "output_type": "display_data"
    },
    {
     "name": "stderr",
     "output_type": "stream",
     "text": [
      "I0713 19:38:52.802923 132218468208640 efficientnet_model.py:143] round_filter input=320 output=576\n"
     ]
    },
    {
     "data": {
      "text/html": [
       "<pre style=\"white-space:pre;overflow-x:auto;line-height:normal;font-family:Menlo,'DejaVu Sans Mono',consolas,'Courier New',monospace\">round_filter input=1280 output=2304\n",
       "</pre>\n"
      ],
      "text/plain": [
       "round_filter input=1280 output=2304\n"
      ]
     },
     "metadata": {},
     "output_type": "display_data"
    },
    {
     "name": "stderr",
     "output_type": "stream",
     "text": [
      "I0713 19:38:52.983073 132218468208640 efficientnet_model.py:143] round_filter input=1280 output=2304\n"
     ]
    },
    {
     "data": {
      "text/html": [
       "<pre style=\"white-space:pre;overflow-x:auto;line-height:normal;font-family:Menlo,'DejaVu Sans Mono',consolas,'Courier New',monospace\">Building model efficientnet with params ModelConfig(width_coefficient=1.8, depth_coefficient=2.6, resolution=528, dropout_rate=0.5, blocks=(BlockConfig(input_filters=32, output_filters=16, kernel_size=3, num_repeat=1, expand_ratio=1, strides=(1, 1), se_ratio=0.25, id_skip=True, fused_conv=False, conv_type='depthwise'), BlockConfig(input_filters=16, output_filters=24, kernel_size=3, num_repeat=2, expand_ratio=6, strides=(2, 2), se_ratio=0.25, id_skip=True, fused_conv=False, conv_type='depthwise'), BlockConfig(input_filters=24, output_filters=40, kernel_size=5, num_repeat=2, expand_ratio=6, strides=(2, 2), se_ratio=0.25, id_skip=True, fused_conv=False, conv_type='depthwise'), BlockConfig(input_filters=40, output_filters=80, kernel_size=3, num_repeat=3, expand_ratio=6, strides=(2, 2), se_ratio=0.25, id_skip=True, fused_conv=False, conv_type='depthwise'), BlockConfig(input_filters=80, output_filters=112, kernel_size=5, num_repeat=3, expand_ratio=6, strides=(1, 1), se_ratio=0.25, id_skip=True, fused_conv=False, conv_type='depthwise'), BlockConfig(input_filters=112, output_filters=192, kernel_size=5, num_repeat=4, expand_ratio=6, strides=(2, 2), se_ratio=0.25, id_skip=True, fused_conv=False, conv_type='depthwise'), BlockConfig(input_filters=192, output_filters=320, kernel_size=3, num_repeat=1, expand_ratio=6, strides=(1, 1), se_ratio=0.25, id_skip=True, fused_conv=False, conv_type='depthwise')), stem_base_filters=32, top_base_filters=1280, activation='simple_swish', batch_norm='default', bn_momentum=0.99, bn_epsilon=0.001, weight_decay=5e-06, drop_connect_rate=0.2, depth_divisor=8, min_depth=None, use_se=True, input_channels=3, num_classes=1000, model_name='efficientnet', rescale_input=False, data_format='channels_last', dtype='float32')\n",
       "</pre>\n"
      ],
      "text/plain": [
       "Building model efficientnet with params ModelConfig(width_coefficient=1.8, depth_coefficient=2.6, resolution=528, dropout_rate=0.5, blocks=(BlockConfig(input_filters=32, output_filters=16, kernel_size=3, num_repeat=1, expand_ratio=1, strides=(1, 1), se_ratio=0.25, id_skip=True, fused_conv=False, conv_type='depthwise'), BlockConfig(input_filters=16, output_filters=24, kernel_size=3, num_repeat=2, expand_ratio=6, strides=(2, 2), se_ratio=0.25, id_skip=True, fused_conv=False, conv_type='depthwise'), BlockConfig(input_filters=24, output_filters=40, kernel_size=5, num_repeat=2, expand_ratio=6, strides=(2, 2), se_ratio=0.25, id_skip=True, fused_conv=False, conv_type='depthwise'), BlockConfig(input_filters=40, output_filters=80, kernel_size=3, num_repeat=3, expand_ratio=6, strides=(2, 2), se_ratio=0.25, id_skip=True, fused_conv=False, conv_type='depthwise'), BlockConfig(input_filters=80, output_filters=112, kernel_size=5, num_repeat=3, expand_ratio=6, strides=(1, 1), se_ratio=0.25, id_skip=True, fused_conv=False, conv_type='depthwise'), BlockConfig(input_filters=112, output_filters=192, kernel_size=5, num_repeat=4, expand_ratio=6, strides=(2, 2), se_ratio=0.25, id_skip=True, fused_conv=False, conv_type='depthwise'), BlockConfig(input_filters=192, output_filters=320, kernel_size=3, num_repeat=1, expand_ratio=6, strides=(1, 1), se_ratio=0.25, id_skip=True, fused_conv=False, conv_type='depthwise')), stem_base_filters=32, top_base_filters=1280, activation='simple_swish', batch_norm='default', bn_momentum=0.99, bn_epsilon=0.001, weight_decay=5e-06, drop_connect_rate=0.2, depth_divisor=8, min_depth=None, use_se=True, input_channels=3, num_classes=1000, model_name='efficientnet', rescale_input=False, data_format='channels_last', dtype='float32')\n"
      ]
     },
     "metadata": {},
     "output_type": "display_data"
    },
    {
     "name": "stderr",
     "output_type": "stream",
     "text": [
      "I0713 19:38:53.009299 132218468208640 efficientnet_model.py:453] Building model efficientnet with params ModelConfig(width_coefficient=1.8, depth_coefficient=2.6, resolution=528, dropout_rate=0.5, blocks=(BlockConfig(input_filters=32, output_filters=16, kernel_size=3, num_repeat=1, expand_ratio=1, strides=(1, 1), se_ratio=0.25, id_skip=True, fused_conv=False, conv_type='depthwise'), BlockConfig(input_filters=16, output_filters=24, kernel_size=3, num_repeat=2, expand_ratio=6, strides=(2, 2), se_ratio=0.25, id_skip=True, fused_conv=False, conv_type='depthwise'), BlockConfig(input_filters=24, output_filters=40, kernel_size=5, num_repeat=2, expand_ratio=6, strides=(2, 2), se_ratio=0.25, id_skip=True, fused_conv=False, conv_type='depthwise'), BlockConfig(input_filters=40, output_filters=80, kernel_size=3, num_repeat=3, expand_ratio=6, strides=(2, 2), se_ratio=0.25, id_skip=True, fused_conv=False, conv_type='depthwise'), BlockConfig(input_filters=80, output_filters=112, kernel_size=5, num_repeat=3, expand_ratio=6, strides=(1, 1), se_ratio=0.25, id_skip=True, fused_conv=False, conv_type='depthwise'), BlockConfig(input_filters=112, output_filters=192, kernel_size=5, num_repeat=4, expand_ratio=6, strides=(2, 2), se_ratio=0.25, id_skip=True, fused_conv=False, conv_type='depthwise'), BlockConfig(input_filters=192, output_filters=320, kernel_size=3, num_repeat=1, expand_ratio=6, strides=(1, 1), se_ratio=0.25, id_skip=True, fused_conv=False, conv_type='depthwise')), stem_base_filters=32, top_base_filters=1280, activation='simple_swish', batch_norm='default', bn_momentum=0.99, bn_epsilon=0.001, weight_decay=5e-06, drop_connect_rate=0.2, depth_divisor=8, min_depth=None, use_se=True, input_channels=3, num_classes=1000, model_name='efficientnet', rescale_input=False, data_format='channels_last', dtype='float32')\n"
     ]
    },
    {
     "data": {
      "text/html": [
       "<pre style=\"white-space:pre;overflow-x:auto;line-height:normal;font-family:Menlo,'DejaVu Sans Mono',consolas,'Courier New',monospace\">EfficientDet EfficientNet backbone version: efficientnet-b7\n",
       "</pre>\n"
      ],
      "text/plain": [
       "EfficientDet EfficientNet backbone version: efficientnet-b7\n"
      ]
     },
     "metadata": {},
     "output_type": "display_data"
    },
    {
     "name": "stderr",
     "output_type": "stream",
     "text": [
      "I0713 19:38:53.081898 132218468208640 ssd_efficientnet_bifpn_feature_extractor.py:161] EfficientDet EfficientNet backbone version: efficientnet-b7\n"
     ]
    },
    {
     "data": {
      "text/html": [
       "<pre style=\"white-space:pre;overflow-x:auto;line-height:normal;font-family:Menlo,'DejaVu Sans Mono',consolas,'Courier New',monospace\">EfficientDet BiFPN num filters: 384\n",
       "</pre>\n"
      ],
      "text/plain": [
       "EfficientDet BiFPN num filters: 384\n"
      ]
     },
     "metadata": {},
     "output_type": "display_data"
    },
    {
     "name": "stderr",
     "output_type": "stream",
     "text": [
      "I0713 19:38:53.083360 132218468208640 ssd_efficientnet_bifpn_feature_extractor.py:163] EfficientDet BiFPN num filters: 384\n"
     ]
    },
    {
     "data": {
      "text/html": [
       "<pre style=\"white-space:pre;overflow-x:auto;line-height:normal;font-family:Menlo,'DejaVu Sans Mono',consolas,'Courier New',monospace\">EfficientDet BiFPN num iterations: 8\n",
       "</pre>\n"
      ],
      "text/plain": [
       "EfficientDet BiFPN num iterations: 8\n"
      ]
     },
     "metadata": {},
     "output_type": "display_data"
    },
    {
     "name": "stderr",
     "output_type": "stream",
     "text": [
      "I0713 19:38:53.084683 132218468208640 ssd_efficientnet_bifpn_feature_extractor.py:164] EfficientDet BiFPN num iterations: 8\n"
     ]
    },
    {
     "data": {
      "text/html": [
       "<pre style=\"white-space:pre;overflow-x:auto;line-height:normal;font-family:Menlo,'DejaVu Sans Mono',consolas,'Courier New',monospace\">round_filter input=32 output=64\n",
       "</pre>\n"
      ],
      "text/plain": [
       "round_filter input=32 output=64\n"
      ]
     },
     "metadata": {},
     "output_type": "display_data"
    },
    {
     "name": "stderr",
     "output_type": "stream",
     "text": [
      "I0713 19:38:53.087225 132218468208640 efficientnet_model.py:143] round_filter input=32 output=64\n"
     ]
    },
    {
     "data": {
      "text/html": [
       "<pre style=\"white-space:pre;overflow-x:auto;line-height:normal;font-family:Menlo,'DejaVu Sans Mono',consolas,'Courier New',monospace\">round_filter input=32 output=64\n",
       "</pre>\n"
      ],
      "text/plain": [
       "round_filter input=32 output=64\n"
      ]
     },
     "metadata": {},
     "output_type": "display_data"
    },
    {
     "name": "stderr",
     "output_type": "stream",
     "text": [
      "I0713 19:38:53.101933 132218468208640 efficientnet_model.py:143] round_filter input=32 output=64\n"
     ]
    },
    {
     "data": {
      "text/html": [
       "<pre style=\"white-space:pre;overflow-x:auto;line-height:normal;font-family:Menlo,'DejaVu Sans Mono',consolas,'Courier New',monospace\">round_filter input=16 output=32\n",
       "</pre>\n"
      ],
      "text/plain": [
       "round_filter input=16 output=32\n"
      ]
     },
     "metadata": {},
     "output_type": "display_data"
    },
    {
     "name": "stderr",
     "output_type": "stream",
     "text": [
      "I0713 19:38:53.103096 132218468208640 efficientnet_model.py:143] round_filter input=16 output=32\n"
     ]
    },
    {
     "data": {
      "text/html": [
       "<pre style=\"white-space:pre;overflow-x:auto;line-height:normal;font-family:Menlo,'DejaVu Sans Mono',consolas,'Courier New',monospace\">round_filter input=16 output=32\n",
       "</pre>\n"
      ],
      "text/plain": [
       "round_filter input=16 output=32\n"
      ]
     },
     "metadata": {},
     "output_type": "display_data"
    },
    {
     "name": "stderr",
     "output_type": "stream",
     "text": [
      "I0713 19:38:53.293030 132218468208640 efficientnet_model.py:143] round_filter input=16 output=32\n"
     ]
    },
    {
     "data": {
      "text/html": [
       "<pre style=\"white-space:pre;overflow-x:auto;line-height:normal;font-family:Menlo,'DejaVu Sans Mono',consolas,'Courier New',monospace\">round_filter input=24 output=48\n",
       "</pre>\n"
      ],
      "text/plain": [
       "round_filter input=24 output=48\n"
      ]
     },
     "metadata": {},
     "output_type": "display_data"
    },
    {
     "name": "stderr",
     "output_type": "stream",
     "text": [
      "I0713 19:38:53.294444 132218468208640 efficientnet_model.py:143] round_filter input=24 output=48\n"
     ]
    },
    {
     "data": {
      "text/html": [
       "<pre style=\"white-space:pre;overflow-x:auto;line-height:normal;font-family:Menlo,'DejaVu Sans Mono',consolas,'Courier New',monospace\">round_filter input=24 output=48\n",
       "</pre>\n"
      ],
      "text/plain": [
       "round_filter input=24 output=48\n"
      ]
     },
     "metadata": {},
     "output_type": "display_data"
    },
    {
     "name": "stderr",
     "output_type": "stream",
     "text": [
      "I0713 19:38:53.698209 132218468208640 efficientnet_model.py:143] round_filter input=24 output=48\n"
     ]
    },
    {
     "data": {
      "text/html": [
       "<pre style=\"white-space:pre;overflow-x:auto;line-height:normal;font-family:Menlo,'DejaVu Sans Mono',consolas,'Courier New',monospace\">round_filter input=40 output=80\n",
       "</pre>\n"
      ],
      "text/plain": [
       "round_filter input=40 output=80\n"
      ]
     },
     "metadata": {},
     "output_type": "display_data"
    },
    {
     "name": "stderr",
     "output_type": "stream",
     "text": [
      "I0713 19:38:53.699612 132218468208640 efficientnet_model.py:143] round_filter input=40 output=80\n"
     ]
    },
    {
     "data": {
      "text/html": [
       "<pre style=\"white-space:pre;overflow-x:auto;line-height:normal;font-family:Menlo,'DejaVu Sans Mono',consolas,'Courier New',monospace\">round_filter input=40 output=80\n",
       "</pre>\n"
      ],
      "text/plain": [
       "round_filter input=40 output=80\n"
      ]
     },
     "metadata": {},
     "output_type": "display_data"
    },
    {
     "name": "stderr",
     "output_type": "stream",
     "text": [
      "I0713 19:38:54.099865 132218468208640 efficientnet_model.py:143] round_filter input=40 output=80\n"
     ]
    },
    {
     "data": {
      "text/html": [
       "<pre style=\"white-space:pre;overflow-x:auto;line-height:normal;font-family:Menlo,'DejaVu Sans Mono',consolas,'Courier New',monospace\">round_filter input=80 output=160\n",
       "</pre>\n"
      ],
      "text/plain": [
       "round_filter input=80 output=160\n"
      ]
     },
     "metadata": {},
     "output_type": "display_data"
    },
    {
     "name": "stderr",
     "output_type": "stream",
     "text": [
      "I0713 19:38:54.101242 132218468208640 efficientnet_model.py:143] round_filter input=80 output=160\n"
     ]
    },
    {
     "data": {
      "text/html": [
       "<pre style=\"white-space:pre;overflow-x:auto;line-height:normal;font-family:Menlo,'DejaVu Sans Mono',consolas,'Courier New',monospace\">round_filter input=80 output=160\n",
       "</pre>\n"
      ],
      "text/plain": [
       "round_filter input=80 output=160\n"
      ]
     },
     "metadata": {},
     "output_type": "display_data"
    },
    {
     "name": "stderr",
     "output_type": "stream",
     "text": [
      "I0713 19:38:54.690090 132218468208640 efficientnet_model.py:143] round_filter input=80 output=160\n"
     ]
    },
    {
     "data": {
      "text/html": [
       "<pre style=\"white-space:pre;overflow-x:auto;line-height:normal;font-family:Menlo,'DejaVu Sans Mono',consolas,'Courier New',monospace\">round_filter input=112 output=224\n",
       "</pre>\n"
      ],
      "text/plain": [
       "round_filter input=112 output=224\n"
      ]
     },
     "metadata": {},
     "output_type": "display_data"
    },
    {
     "name": "stderr",
     "output_type": "stream",
     "text": [
      "I0713 19:38:54.691536 132218468208640 efficientnet_model.py:143] round_filter input=112 output=224\n"
     ]
    },
    {
     "data": {
      "text/html": [
       "<pre style=\"white-space:pre;overflow-x:auto;line-height:normal;font-family:Menlo,'DejaVu Sans Mono',consolas,'Courier New',monospace\">round_filter input=112 output=224\n",
       "</pre>\n"
      ],
      "text/plain": [
       "round_filter input=112 output=224\n"
      ]
     },
     "metadata": {},
     "output_type": "display_data"
    },
    {
     "name": "stderr",
     "output_type": "stream",
     "text": [
      "I0713 19:38:55.282998 132218468208640 efficientnet_model.py:143] round_filter input=112 output=224\n"
     ]
    },
    {
     "data": {
      "text/html": [
       "<pre style=\"white-space:pre;overflow-x:auto;line-height:normal;font-family:Menlo,'DejaVu Sans Mono',consolas,'Courier New',monospace\">round_filter input=192 output=384\n",
       "</pre>\n"
      ],
      "text/plain": [
       "round_filter input=192 output=384\n"
      ]
     },
     "metadata": {},
     "output_type": "display_data"
    },
    {
     "name": "stderr",
     "output_type": "stream",
     "text": [
      "I0713 19:38:55.284351 132218468208640 efficientnet_model.py:143] round_filter input=192 output=384\n"
     ]
    },
    {
     "data": {
      "text/html": [
       "<pre style=\"white-space:pre;overflow-x:auto;line-height:normal;font-family:Menlo,'DejaVu Sans Mono',consolas,'Courier New',monospace\">round_filter input=192 output=384\n",
       "</pre>\n"
      ],
      "text/plain": [
       "round_filter input=192 output=384\n"
      ]
     },
     "metadata": {},
     "output_type": "display_data"
    },
    {
     "name": "stderr",
     "output_type": "stream",
     "text": [
      "I0713 19:38:56.033398 132218468208640 efficientnet_model.py:143] round_filter input=192 output=384\n"
     ]
    },
    {
     "data": {
      "text/html": [
       "<pre style=\"white-space:pre;overflow-x:auto;line-height:normal;font-family:Menlo,'DejaVu Sans Mono',consolas,'Courier New',monospace\">round_filter input=320 output=640\n",
       "</pre>\n"
      ],
      "text/plain": [
       "round_filter input=320 output=640\n"
      ]
     },
     "metadata": {},
     "output_type": "display_data"
    },
    {
     "name": "stderr",
     "output_type": "stream",
     "text": [
      "I0713 19:38:56.034758 132218468208640 efficientnet_model.py:143] round_filter input=320 output=640\n"
     ]
    },
    {
     "data": {
      "text/html": [
       "<pre style=\"white-space:pre;overflow-x:auto;line-height:normal;font-family:Menlo,'DejaVu Sans Mono',consolas,'Courier New',monospace\">round_filter input=1280 output=2560\n",
       "</pre>\n"
      ],
      "text/plain": [
       "round_filter input=1280 output=2560\n"
      ]
     },
     "metadata": {},
     "output_type": "display_data"
    },
    {
     "name": "stderr",
     "output_type": "stream",
     "text": [
      "I0713 19:38:56.272837 132218468208640 efficientnet_model.py:143] round_filter input=1280 output=2560\n"
     ]
    },
    {
     "data": {
      "text/html": [
       "<pre style=\"white-space:pre;overflow-x:auto;line-height:normal;font-family:Menlo,'DejaVu Sans Mono',consolas,'Courier New',monospace\">Building model efficientnet with params ModelConfig(width_coefficient=2.0, depth_coefficient=3.1, resolution=600, dropout_rate=0.5, blocks=(BlockConfig(input_filters=32, output_filters=16, kernel_size=3, num_repeat=1, expand_ratio=1, strides=(1, 1), se_ratio=0.25, id_skip=True, fused_conv=False, conv_type='depthwise'), BlockConfig(input_filters=16, output_filters=24, kernel_size=3, num_repeat=2, expand_ratio=6, strides=(2, 2), se_ratio=0.25, id_skip=True, fused_conv=False, conv_type='depthwise'), BlockConfig(input_filters=24, output_filters=40, kernel_size=5, num_repeat=2, expand_ratio=6, strides=(2, 2), se_ratio=0.25, id_skip=True, fused_conv=False, conv_type='depthwise'), BlockConfig(input_filters=40, output_filters=80, kernel_size=3, num_repeat=3, expand_ratio=6, strides=(2, 2), se_ratio=0.25, id_skip=True, fused_conv=False, conv_type='depthwise'), BlockConfig(input_filters=80, output_filters=112, kernel_size=5, num_repeat=3, expand_ratio=6, strides=(1, 1), se_ratio=0.25, id_skip=True, fused_conv=False, conv_type='depthwise'), BlockConfig(input_filters=112, output_filters=192, kernel_size=5, num_repeat=4, expand_ratio=6, strides=(2, 2), se_ratio=0.25, id_skip=True, fused_conv=False, conv_type='depthwise'), BlockConfig(input_filters=192, output_filters=320, kernel_size=3, num_repeat=1, expand_ratio=6, strides=(1, 1), se_ratio=0.25, id_skip=True, fused_conv=False, conv_type='depthwise')), stem_base_filters=32, top_base_filters=1280, activation='simple_swish', batch_norm='default', bn_momentum=0.99, bn_epsilon=0.001, weight_decay=5e-06, drop_connect_rate=0.2, depth_divisor=8, min_depth=None, use_se=True, input_channels=3, num_classes=1000, model_name='efficientnet', rescale_input=False, data_format='channels_last', dtype='float32')\n",
       "</pre>\n"
      ],
      "text/plain": [
       "Building model efficientnet with params ModelConfig(width_coefficient=2.0, depth_coefficient=3.1, resolution=600, dropout_rate=0.5, blocks=(BlockConfig(input_filters=32, output_filters=16, kernel_size=3, num_repeat=1, expand_ratio=1, strides=(1, 1), se_ratio=0.25, id_skip=True, fused_conv=False, conv_type='depthwise'), BlockConfig(input_filters=16, output_filters=24, kernel_size=3, num_repeat=2, expand_ratio=6, strides=(2, 2), se_ratio=0.25, id_skip=True, fused_conv=False, conv_type='depthwise'), BlockConfig(input_filters=24, output_filters=40, kernel_size=5, num_repeat=2, expand_ratio=6, strides=(2, 2), se_ratio=0.25, id_skip=True, fused_conv=False, conv_type='depthwise'), BlockConfig(input_filters=40, output_filters=80, kernel_size=3, num_repeat=3, expand_ratio=6, strides=(2, 2), se_ratio=0.25, id_skip=True, fused_conv=False, conv_type='depthwise'), BlockConfig(input_filters=80, output_filters=112, kernel_size=5, num_repeat=3, expand_ratio=6, strides=(1, 1), se_ratio=0.25, id_skip=True, fused_conv=False, conv_type='depthwise'), BlockConfig(input_filters=112, output_filters=192, kernel_size=5, num_repeat=4, expand_ratio=6, strides=(2, 2), se_ratio=0.25, id_skip=True, fused_conv=False, conv_type='depthwise'), BlockConfig(input_filters=192, output_filters=320, kernel_size=3, num_repeat=1, expand_ratio=6, strides=(1, 1), se_ratio=0.25, id_skip=True, fused_conv=False, conv_type='depthwise')), stem_base_filters=32, top_base_filters=1280, activation='simple_swish', batch_norm='default', bn_momentum=0.99, bn_epsilon=0.001, weight_decay=5e-06, drop_connect_rate=0.2, depth_divisor=8, min_depth=None, use_se=True, input_channels=3, num_classes=1000, model_name='efficientnet', rescale_input=False, data_format='channels_last', dtype='float32')\n"
      ]
     },
     "metadata": {},
     "output_type": "display_data"
    },
    {
     "name": "stderr",
     "output_type": "stream",
     "text": [
      "I0713 19:38:56.299473 132218468208640 efficientnet_model.py:453] Building model efficientnet with params ModelConfig(width_coefficient=2.0, depth_coefficient=3.1, resolution=600, dropout_rate=0.5, blocks=(BlockConfig(input_filters=32, output_filters=16, kernel_size=3, num_repeat=1, expand_ratio=1, strides=(1, 1), se_ratio=0.25, id_skip=True, fused_conv=False, conv_type='depthwise'), BlockConfig(input_filters=16, output_filters=24, kernel_size=3, num_repeat=2, expand_ratio=6, strides=(2, 2), se_ratio=0.25, id_skip=True, fused_conv=False, conv_type='depthwise'), BlockConfig(input_filters=24, output_filters=40, kernel_size=5, num_repeat=2, expand_ratio=6, strides=(2, 2), se_ratio=0.25, id_skip=True, fused_conv=False, conv_type='depthwise'), BlockConfig(input_filters=40, output_filters=80, kernel_size=3, num_repeat=3, expand_ratio=6, strides=(2, 2), se_ratio=0.25, id_skip=True, fused_conv=False, conv_type='depthwise'), BlockConfig(input_filters=80, output_filters=112, kernel_size=5, num_repeat=3, expand_ratio=6, strides=(1, 1), se_ratio=0.25, id_skip=True, fused_conv=False, conv_type='depthwise'), BlockConfig(input_filters=112, output_filters=192, kernel_size=5, num_repeat=4, expand_ratio=6, strides=(2, 2), se_ratio=0.25, id_skip=True, fused_conv=False, conv_type='depthwise'), BlockConfig(input_filters=192, output_filters=320, kernel_size=3, num_repeat=1, expand_ratio=6, strides=(1, 1), se_ratio=0.25, id_skip=True, fused_conv=False, conv_type='depthwise')), stem_base_filters=32, top_base_filters=1280, activation='simple_swish', batch_norm='default', bn_momentum=0.99, bn_epsilon=0.001, weight_decay=5e-06, drop_connect_rate=0.2, depth_divisor=8, min_depth=None, use_se=True, input_channels=3, num_classes=1000, model_name='efficientnet', rescale_input=False, data_format='channels_last', dtype='float32')\n"
     ]
    },
    {
     "data": {
      "text/html": [
       "<pre style=\"white-space:pre;overflow-x:auto;line-height:normal;font-family:Menlo,'DejaVu Sans Mono',consolas,'Courier New',monospace\">time(__main__.ModelBuilderTF2Test.test_create_ssd_models_from_config): 17.09s\n",
       "</pre>\n"
      ],
      "text/plain": [
       "time(__main__.ModelBuilderTF2Test.test_create_ssd_models_from_config): 17.09s\n"
      ]
     },
     "metadata": {},
     "output_type": "display_data"
    },
    {
     "name": "stderr",
     "output_type": "stream",
     "text": [
      "I0713 19:38:56.382488 132218468208640 test_util.py:2462] time(__main__.ModelBuilderTF2Test.test_create_ssd_models_from_config): 17.09s\n",
      "[       OK ] ModelBuilderTF2Test.test_create_ssd_models_from_config\n",
      "[ RUN      ] ModelBuilderTF2Test.test_invalid_faster_rcnn_batchnorm_update\n"
     ]
    },
    {
     "data": {
      "text/html": [
       "<pre style=\"white-space:pre;overflow-x:auto;line-height:normal;font-family:Menlo,'DejaVu Sans Mono',consolas,'Courier New',monospace\">time(__main__.ModelBuilderTF2Test.test_invalid_faster_rcnn_batchnorm_update): 0.0s\n",
       "</pre>\n"
      ],
      "text/plain": [
       "time(__main__.ModelBuilderTF2Test.test_invalid_faster_rcnn_batchnorm_update): 0.0s\n"
      ]
     },
     "metadata": {},
     "output_type": "display_data"
    },
    {
     "name": "stderr",
     "output_type": "stream",
     "text": [
      "I0713 19:38:56.401682 132218468208640 test_util.py:2462] time(__main__.ModelBuilderTF2Test.test_invalid_faster_rcnn_batchnorm_update): 0.0s\n",
      "[       OK ] ModelBuilderTF2Test.test_invalid_faster_rcnn_batchnorm_update\n",
      "[ RUN      ] ModelBuilderTF2Test.test_invalid_first_stage_nms_iou_threshold\n"
     ]
    },
    {
     "data": {
      "text/html": [
       "<pre style=\"white-space:pre;overflow-x:auto;line-height:normal;font-family:Menlo,'DejaVu Sans Mono',consolas,'Courier New',monospace\">time(__main__.ModelBuilderTF2Test.test_invalid_first_stage_nms_iou_threshold): 0.0s\n",
       "</pre>\n"
      ],
      "text/plain": [
       "time(__main__.ModelBuilderTF2Test.test_invalid_first_stage_nms_iou_threshold): 0.0s\n"
      ]
     },
     "metadata": {},
     "output_type": "display_data"
    },
    {
     "name": "stderr",
     "output_type": "stream",
     "text": [
      "I0713 19:38:56.404962 132218468208640 test_util.py:2462] time(__main__.ModelBuilderTF2Test.test_invalid_first_stage_nms_iou_threshold): 0.0s\n",
      "[       OK ] ModelBuilderTF2Test.test_invalid_first_stage_nms_iou_threshold\n",
      "[ RUN      ] ModelBuilderTF2Test.test_invalid_model_config_proto\n"
     ]
    },
    {
     "data": {
      "text/html": [
       "<pre style=\"white-space:pre;overflow-x:auto;line-height:normal;font-family:Menlo,'DejaVu Sans Mono',consolas,'Courier New',monospace\">time(__main__.ModelBuilderTF2Test.test_invalid_model_config_proto): 0.0s\n",
       "</pre>\n"
      ],
      "text/plain": [
       "time(__main__.ModelBuilderTF2Test.test_invalid_model_config_proto): 0.0s\n"
      ]
     },
     "metadata": {},
     "output_type": "display_data"
    },
    {
     "name": "stderr",
     "output_type": "stream",
     "text": [
      "I0713 19:38:56.407150 132218468208640 test_util.py:2462] time(__main__.ModelBuilderTF2Test.test_invalid_model_config_proto): 0.0s\n",
      "[       OK ] ModelBuilderTF2Test.test_invalid_model_config_proto\n",
      "[ RUN      ] ModelBuilderTF2Test.test_invalid_second_stage_batch_size\n"
     ]
    },
    {
     "data": {
      "text/html": [
       "<pre style=\"white-space:pre;overflow-x:auto;line-height:normal;font-family:Menlo,'DejaVu Sans Mono',consolas,'Courier New',monospace\">time(__main__.ModelBuilderTF2Test.test_invalid_second_stage_batch_size): 0.0s\n",
       "</pre>\n"
      ],
      "text/plain": [
       "time(__main__.ModelBuilderTF2Test.test_invalid_second_stage_batch_size): 0.0s\n"
      ]
     },
     "metadata": {},
     "output_type": "display_data"
    },
    {
     "name": "stderr",
     "output_type": "stream",
     "text": [
      "I0713 19:38:56.409870 132218468208640 test_util.py:2462] time(__main__.ModelBuilderTF2Test.test_invalid_second_stage_batch_size): 0.0s\n",
      "[       OK ] ModelBuilderTF2Test.test_invalid_second_stage_batch_size\n",
      "[ RUN      ] ModelBuilderTF2Test.test_session\n",
      "[  SKIPPED ] ModelBuilderTF2Test.test_session\n",
      "[ RUN      ] ModelBuilderTF2Test.test_unknown_faster_rcnn_feature_extractor\n"
     ]
    },
    {
     "data": {
      "text/html": [
       "<pre style=\"white-space:pre;overflow-x:auto;line-height:normal;font-family:Menlo,'DejaVu Sans Mono',consolas,'Courier New',monospace\">time(__main__.ModelBuilderTF2Test.test_unknown_faster_rcnn_feature_extractor): 0.0s\n",
       "</pre>\n"
      ],
      "text/plain": [
       "time(__main__.ModelBuilderTF2Test.test_unknown_faster_rcnn_feature_extractor): 0.0s\n"
      ]
     },
     "metadata": {},
     "output_type": "display_data"
    },
    {
     "name": "stderr",
     "output_type": "stream",
     "text": [
      "I0713 19:38:56.413019 132218468208640 test_util.py:2462] time(__main__.ModelBuilderTF2Test.test_unknown_faster_rcnn_feature_extractor): 0.0s\n",
      "[       OK ] ModelBuilderTF2Test.test_unknown_faster_rcnn_feature_extractor\n",
      "[ RUN      ] ModelBuilderTF2Test.test_unknown_meta_architecture\n"
     ]
    },
    {
     "data": {
      "text/html": [
       "<pre style=\"white-space:pre;overflow-x:auto;line-height:normal;font-family:Menlo,'DejaVu Sans Mono',consolas,'Courier New',monospace\">time(__main__.ModelBuilderTF2Test.test_unknown_meta_architecture): 0.0s\n",
       "</pre>\n"
      ],
      "text/plain": [
       "time(__main__.ModelBuilderTF2Test.test_unknown_meta_architecture): 0.0s\n"
      ]
     },
     "metadata": {},
     "output_type": "display_data"
    },
    {
     "name": "stderr",
     "output_type": "stream",
     "text": [
      "I0713 19:38:56.415050 132218468208640 test_util.py:2462] time(__main__.ModelBuilderTF2Test.test_unknown_meta_architecture): 0.0s\n",
      "[       OK ] ModelBuilderTF2Test.test_unknown_meta_architecture\n",
      "[ RUN      ] ModelBuilderTF2Test.test_unknown_ssd_feature_extractor\n"
     ]
    },
    {
     "data": {
      "text/html": [
       "<pre style=\"white-space:pre;overflow-x:auto;line-height:normal;font-family:Menlo,'DejaVu Sans Mono',consolas,'Courier New',monospace\">time(__main__.ModelBuilderTF2Test.test_unknown_ssd_feature_extractor): 0.0s\n",
       "</pre>\n"
      ],
      "text/plain": [
       "time(__main__.ModelBuilderTF2Test.test_unknown_ssd_feature_extractor): 0.0s\n"
      ]
     },
     "metadata": {},
     "output_type": "display_data"
    },
    {
     "name": "stderr",
     "output_type": "stream",
     "text": [
      "I0713 19:38:56.417317 132218468208640 test_util.py:2462] time(__main__.ModelBuilderTF2Test.test_unknown_ssd_feature_extractor): 0.0s\n",
      "[       OK ] ModelBuilderTF2Test.test_unknown_ssd_feature_extractor\n",
      "----------------------------------------------------------------------\n",
      "Ran 24 tests in 20.963s\n",
      "\n",
      "OK (skipped=1)\n"
     ]
    }
   ],
   "source": [
    "VERIFICATION_SCRIPT = os.path.join(paths['APIMODEL_PATH'], 'research', 'object_detection', 'builders', 'model_builder_tf2_test.py')\n",
    "# Verify Installation\n",
    "%run {VERIFICATION_SCRIPT}"
   ]
  },
  {
   "cell_type": "code",
   "execution_count": 61,
   "id": "dcbaca73-daeb-477b-8559-7cf076dd1905",
   "metadata": {
    "scrolled": true
   },
   "outputs": [
    {
     "name": "stdout",
     "output_type": "stream",
     "text": [
      "Collecting tensorflow==2.13.0 (from tensorflow[and-cuda]==2.13.0)\n",
      "  Using cached tensorflow-2.13.0-cp310-cp310-manylinux_2_17_x86_64.manylinux2014_x86_64.whl.metadata (3.4 kB)\n",
      "Requirement already satisfied: absl-py>=1.0.0 in ./.obj_det/lib/python3.10/site-packages (from tensorflow==2.13.0->tensorflow[and-cuda]==2.13.0) (1.4.0)\n",
      "Requirement already satisfied: astunparse>=1.6.0 in ./.obj_det/lib/python3.10/site-packages (from tensorflow==2.13.0->tensorflow[and-cuda]==2.13.0) (1.6.3)\n",
      "Requirement already satisfied: flatbuffers>=23.1.21 in ./.obj_det/lib/python3.10/site-packages (from tensorflow==2.13.0->tensorflow[and-cuda]==2.13.0) (24.3.25)\n",
      "Requirement already satisfied: gast<=0.4.0,>=0.2.1 in ./.obj_det/lib/python3.10/site-packages (from tensorflow==2.13.0->tensorflow[and-cuda]==2.13.0) (0.4.0)\n",
      "Requirement already satisfied: google-pasta>=0.1.1 in ./.obj_det/lib/python3.10/site-packages (from tensorflow==2.13.0->tensorflow[and-cuda]==2.13.0) (0.2.0)\n",
      "Requirement already satisfied: grpcio<2.0,>=1.24.3 in ./.obj_det/lib/python3.10/site-packages (from tensorflow==2.13.0->tensorflow[and-cuda]==2.13.0) (1.64.1)\n",
      "Requirement already satisfied: h5py>=2.9.0 in ./.obj_det/lib/python3.10/site-packages (from tensorflow==2.13.0->tensorflow[and-cuda]==2.13.0) (3.11.0)\n",
      "Requirement already satisfied: keras<2.14,>=2.13.1 in ./.obj_det/lib/python3.10/site-packages (from tensorflow==2.13.0->tensorflow[and-cuda]==2.13.0) (2.13.1)\n",
      "Requirement already satisfied: libclang>=13.0.0 in ./.obj_det/lib/python3.10/site-packages (from tensorflow==2.13.0->tensorflow[and-cuda]==2.13.0) (18.1.1)\n",
      "Requirement already satisfied: numpy<=1.24.3,>=1.22 in ./.obj_det/lib/python3.10/site-packages (from tensorflow==2.13.0->tensorflow[and-cuda]==2.13.0) (1.24.3)\n",
      "Requirement already satisfied: opt-einsum>=2.3.2 in ./.obj_det/lib/python3.10/site-packages (from tensorflow==2.13.0->tensorflow[and-cuda]==2.13.0) (3.3.0)\n",
      "Requirement already satisfied: packaging in ./.obj_det/lib/python3.10/site-packages (from tensorflow==2.13.0->tensorflow[and-cuda]==2.13.0) (24.1)\n",
      "Requirement already satisfied: protobuf!=4.21.0,!=4.21.1,!=4.21.2,!=4.21.3,!=4.21.4,!=4.21.5,<5.0.0dev,>=3.20.3 in ./.obj_det/lib/python3.10/site-packages (from tensorflow==2.13.0->tensorflow[and-cuda]==2.13.0) (3.20.3)\n",
      "Requirement already satisfied: setuptools in ./.obj_det/lib/python3.10/site-packages (from tensorflow==2.13.0->tensorflow[and-cuda]==2.13.0) (59.6.0)\n",
      "Requirement already satisfied: six>=1.12.0 in ./.obj_det/lib/python3.10/site-packages (from tensorflow==2.13.0->tensorflow[and-cuda]==2.13.0) (1.16.0)\n",
      "Requirement already satisfied: tensorboard<2.14,>=2.13 in ./.obj_det/lib/python3.10/site-packages (from tensorflow==2.13.0->tensorflow[and-cuda]==2.13.0) (2.13.0)\n",
      "Requirement already satisfied: tensorflow-estimator<2.14,>=2.13.0 in ./.obj_det/lib/python3.10/site-packages (from tensorflow==2.13.0->tensorflow[and-cuda]==2.13.0) (2.13.0)\n",
      "Requirement already satisfied: termcolor>=1.1.0 in ./.obj_det/lib/python3.10/site-packages (from tensorflow==2.13.0->tensorflow[and-cuda]==2.13.0) (2.4.0)\n",
      "Requirement already satisfied: typing-extensions<4.6.0,>=3.6.6 in ./.obj_det/lib/python3.10/site-packages (from tensorflow==2.13.0->tensorflow[and-cuda]==2.13.0) (4.5.0)\n",
      "Requirement already satisfied: wrapt>=1.11.0 in ./.obj_det/lib/python3.10/site-packages (from tensorflow==2.13.0->tensorflow[and-cuda]==2.13.0) (1.14.1)\n",
      "Requirement already satisfied: tensorflow-io-gcs-filesystem>=0.23.1 in ./.obj_det/lib/python3.10/site-packages (from tensorflow==2.13.0->tensorflow[and-cuda]==2.13.0) (0.37.1)\n",
      "\u001b[33mWARNING: tensorflow 2.13.0 does not provide the extra 'and-cuda'\u001b[0m\u001b[33m\n",
      "\u001b[0mRequirement already satisfied: wheel<1.0,>=0.23.0 in ./.obj_det/lib/python3.10/site-packages (from astunparse>=1.6.0->tensorflow==2.13.0->tensorflow[and-cuda]==2.13.0) (0.43.0)\n",
      "Requirement already satisfied: google-auth<3,>=1.6.3 in ./.obj_det/lib/python3.10/site-packages (from tensorboard<2.14,>=2.13->tensorflow==2.13.0->tensorflow[and-cuda]==2.13.0) (2.32.0)\n",
      "Requirement already satisfied: google-auth-oauthlib<1.1,>=0.5 in ./.obj_det/lib/python3.10/site-packages (from tensorboard<2.14,>=2.13->tensorflow==2.13.0->tensorflow[and-cuda]==2.13.0) (1.0.0)\n",
      "Requirement already satisfied: markdown>=2.6.8 in ./.obj_det/lib/python3.10/site-packages (from tensorboard<2.14,>=2.13->tensorflow==2.13.0->tensorflow[and-cuda]==2.13.0) (3.6)\n",
      "Requirement already satisfied: requests<3,>=2.21.0 in ./.obj_det/lib/python3.10/site-packages (from tensorboard<2.14,>=2.13->tensorflow==2.13.0->tensorflow[and-cuda]==2.13.0) (2.31.0)\n",
      "Requirement already satisfied: tensorboard-data-server<0.8.0,>=0.7.0 in ./.obj_det/lib/python3.10/site-packages (from tensorboard<2.14,>=2.13->tensorflow==2.13.0->tensorflow[and-cuda]==2.13.0) (0.7.2)\n",
      "Requirement already satisfied: werkzeug>=1.0.1 in ./.obj_det/lib/python3.10/site-packages (from tensorboard<2.14,>=2.13->tensorflow==2.13.0->tensorflow[and-cuda]==2.13.0) (3.0.3)\n",
      "Requirement already satisfied: cachetools<6.0,>=2.0.0 in ./.obj_det/lib/python3.10/site-packages (from google-auth<3,>=1.6.3->tensorboard<2.14,>=2.13->tensorflow==2.13.0->tensorflow[and-cuda]==2.13.0) (5.3.3)\n",
      "Requirement already satisfied: pyasn1-modules>=0.2.1 in ./.obj_det/lib/python3.10/site-packages (from google-auth<3,>=1.6.3->tensorboard<2.14,>=2.13->tensorflow==2.13.0->tensorflow[and-cuda]==2.13.0) (0.4.0)\n",
      "Requirement already satisfied: rsa<5,>=3.1.4 in ./.obj_det/lib/python3.10/site-packages (from google-auth<3,>=1.6.3->tensorboard<2.14,>=2.13->tensorflow==2.13.0->tensorflow[and-cuda]==2.13.0) (4.9)\n",
      "Requirement already satisfied: requests-oauthlib>=0.7.0 in ./.obj_det/lib/python3.10/site-packages (from google-auth-oauthlib<1.1,>=0.5->tensorboard<2.14,>=2.13->tensorflow==2.13.0->tensorflow[and-cuda]==2.13.0) (2.0.0)\n",
      "Requirement already satisfied: charset-normalizer<4,>=2 in ./.obj_det/lib/python3.10/site-packages (from requests<3,>=2.21.0->tensorboard<2.14,>=2.13->tensorflow==2.13.0->tensorflow[and-cuda]==2.13.0) (3.3.2)\n",
      "Requirement already satisfied: idna<4,>=2.5 in ./.obj_det/lib/python3.10/site-packages (from requests<3,>=2.21.0->tensorboard<2.14,>=2.13->tensorflow==2.13.0->tensorflow[and-cuda]==2.13.0) (3.7)\n",
      "Requirement already satisfied: urllib3<3,>=1.21.1 in ./.obj_det/lib/python3.10/site-packages (from requests<3,>=2.21.0->tensorboard<2.14,>=2.13->tensorflow==2.13.0->tensorflow[and-cuda]==2.13.0) (2.2.2)\n",
      "Requirement already satisfied: certifi>=2017.4.17 in ./.obj_det/lib/python3.10/site-packages (from requests<3,>=2.21.0->tensorboard<2.14,>=2.13->tensorflow==2.13.0->tensorflow[and-cuda]==2.13.0) (2024.7.4)\n",
      "Requirement already satisfied: MarkupSafe>=2.1.1 in ./.obj_det/lib/python3.10/site-packages (from werkzeug>=1.0.1->tensorboard<2.14,>=2.13->tensorflow==2.13.0->tensorflow[and-cuda]==2.13.0) (2.1.5)\n",
      "Requirement already satisfied: pyasn1<0.7.0,>=0.4.6 in ./.obj_det/lib/python3.10/site-packages (from pyasn1-modules>=0.2.1->google-auth<3,>=1.6.3->tensorboard<2.14,>=2.13->tensorflow==2.13.0->tensorflow[and-cuda]==2.13.0) (0.6.0)\n",
      "Requirement already satisfied: oauthlib>=3.0.0 in ./.obj_det/lib/python3.10/site-packages (from requests-oauthlib>=0.7.0->google-auth-oauthlib<1.1,>=0.5->tensorboard<2.14,>=2.13->tensorflow==2.13.0->tensorflow[and-cuda]==2.13.0) (3.2.2)\n",
      "Using cached tensorflow-2.13.0-cp310-cp310-manylinux_2_17_x86_64.manylinux2014_x86_64.whl (524.1 MB)\n",
      "Installing collected packages: tensorflow\n",
      "  Attempting uninstall: tensorflow\n",
      "    Found existing installation: tensorflow 2.13.1\n",
      "    Uninstalling tensorflow-2.13.1:\n",
      "      Successfully uninstalled tensorflow-2.13.1\n",
      "Successfully installed tensorflow-2.13.0\n",
      "Note: you may need to restart the kernel to use updated packages.\n"
     ]
    }
   ],
   "source": [
    "%pip install tensorflow[and-cuda]==2.13.0"
   ]
  },
  {
   "cell_type": "code",
   "execution_count": null,
   "id": "c14ff036-8fa6-4d95-8ce8-fc4811c95b59",
   "metadata": {},
   "outputs": [
    {
     "name": "stderr",
     "output_type": "stream",
     "text": [
      "Running tests under Python 3.10.12: /home/midnightknight/Blood-object-detection/.obj_det/bin/python3\n",
      "Warning, backtrace signal handler for signal 11 overwrote previous handler.\n",
      "Warning, backtrace signal handler for signal 6 overwrote previous handler.\n",
      "Warning, backtrace signal handler for signal 7 overwrote previous handler.\n",
      "Warning, backtrace signal handler for signal 4 overwrote previous handler.\n",
      "Warning, backtrace signal handler for signal 8 overwrote previous handler.\n",
      "[ RUN      ] ModelBuilderTF2Test.test_create_center_net_deepmac\n",
      "/home/midnightknight/Blood-object-detection/.obj_det/lib/python3.10/site-packages/object_detection/builders/model_builder.py:1112: DeprecationWarning: The 'warn' function is deprecated, use 'warning' instead\n",
      "  logging.warn(('Building experimental DeepMAC meta-arch.'\n"
     ]
    },
    {
     "data": {
      "text/html": [
       "<pre style=\"white-space:pre;overflow-x:auto;line-height:normal;font-family:Menlo,'DejaVu Sans Mono',consolas,'Courier New',monospace\"><span style=\"color: #808000; text-decoration-color: #808000\">WARNING: Building experimental DeepMAC meta-arch. Some features may be omitted.\n",
       "</span></pre>\n"
      ],
      "text/plain": [
       "\u001b[33mWARNING: Building experimental DeepMAC meta-arch. Some features may be omitted.\u001b[0m\u001b[33m\n",
       "\u001b[0m"
      ]
     },
     "metadata": {},
     "output_type": "display_data"
    },
    {
     "name": "stderr",
     "output_type": "stream",
     "text": [
      "W0713 19:40:07.584423 132218468208640 model_builder.py:1112] Building experimental DeepMAC meta-arch. Some features may be omitted.\n"
     ]
    },
    {
     "data": {
      "text/html": [
       "<pre style=\"white-space:pre;overflow-x:auto;line-height:normal;font-family:Menlo,'DejaVu Sans Mono',consolas,'Courier New',monospace\">time(__main__.ModelBuilderTF2Test.test_create_center_net_deepmac): 0.44s\n",
       "</pre>\n"
      ],
      "text/plain": [
       "time(__main__.ModelBuilderTF2Test.test_create_center_net_deepmac): 0.44s\n"
      ]
     },
     "metadata": {},
     "output_type": "display_data"
    },
    {
     "name": "stderr",
     "output_type": "stream",
     "text": [
      "I0713 19:40:07.818273 132218468208640 test_util.py:2462] time(__main__.ModelBuilderTF2Test.test_create_center_net_deepmac): 0.44s\n",
      "[       OK ] ModelBuilderTF2Test.test_create_center_net_deepmac\n",
      "[ RUN      ] ModelBuilderTF2Test.test_create_center_net_model0 (customize_head_params=True)\n"
     ]
    },
    {
     "data": {
      "text/html": [
       "<pre style=\"white-space:pre;overflow-x:auto;line-height:normal;font-family:Menlo,'DejaVu Sans Mono',consolas,'Courier New',monospace\">time(__main__.ModelBuilderTF2Test.test_create_center_net_model0 (customize_head_params=True)): 0.24s\n",
       "</pre>\n"
      ],
      "text/plain": [
       "time(__main__.ModelBuilderTF2Test.test_create_center_net_model0 (customize_head_params=True)): 0.24s\n"
      ]
     },
     "metadata": {},
     "output_type": "display_data"
    },
    {
     "name": "stderr",
     "output_type": "stream",
     "text": [
      "I0713 19:40:08.058408 132218468208640 test_util.py:2462] time(__main__.ModelBuilderTF2Test.test_create_center_net_model0 (customize_head_params=True)): 0.24s\n",
      "[       OK ] ModelBuilderTF2Test.test_create_center_net_model0 (customize_head_params=True)\n",
      "[ RUN      ] ModelBuilderTF2Test.test_create_center_net_model1 (customize_head_params=False)\n"
     ]
    },
    {
     "data": {
      "text/html": [
       "<pre style=\"white-space:pre;overflow-x:auto;line-height:normal;font-family:Menlo,'DejaVu Sans Mono',consolas,'Courier New',monospace\">time(__main__.ModelBuilderTF2Test.test_create_center_net_model1 (customize_head_params=False)): 0.83s\n",
       "</pre>\n"
      ],
      "text/plain": [
       "time(__main__.ModelBuilderTF2Test.test_create_center_net_model1 (customize_head_params=False)): 0.83s\n"
      ]
     },
     "metadata": {},
     "output_type": "display_data"
    },
    {
     "name": "stderr",
     "output_type": "stream",
     "text": [
      "I0713 19:40:08.895463 132218468208640 test_util.py:2462] time(__main__.ModelBuilderTF2Test.test_create_center_net_model1 (customize_head_params=False)): 0.83s\n",
      "[       OK ] ModelBuilderTF2Test.test_create_center_net_model1 (customize_head_params=False)\n",
      "[ RUN      ] ModelBuilderTF2Test.test_create_center_net_model_from_keypoints\n"
     ]
    },
    {
     "data": {
      "text/html": [
       "<pre style=\"white-space:pre;overflow-x:auto;line-height:normal;font-family:Menlo,'DejaVu Sans Mono',consolas,'Courier New',monospace\">time(__main__.ModelBuilderTF2Test.test_create_center_net_model_from_keypoints): 0.2s\n",
       "</pre>\n"
      ],
      "text/plain": [
       "time(__main__.ModelBuilderTF2Test.test_create_center_net_model_from_keypoints): 0.2s\n"
      ]
     },
     "metadata": {},
     "output_type": "display_data"
    },
    {
     "name": "stderr",
     "output_type": "stream",
     "text": [
      "I0713 19:40:09.095798 132218468208640 test_util.py:2462] time(__main__.ModelBuilderTF2Test.test_create_center_net_model_from_keypoints): 0.2s\n",
      "[       OK ] ModelBuilderTF2Test.test_create_center_net_model_from_keypoints\n",
      "[ RUN      ] ModelBuilderTF2Test.test_create_center_net_model_mobilenet\n"
     ]
    },
    {
     "data": {
      "text/html": [
       "<pre style=\"white-space:pre;overflow-x:auto;line-height:normal;font-family:Menlo,'DejaVu Sans Mono',consolas,'Courier New',monospace\">time(__main__.ModelBuilderTF2Test.test_create_center_net_model_mobilenet): 1.37s\n",
       "</pre>\n"
      ],
      "text/plain": [
       "time(__main__.ModelBuilderTF2Test.test_create_center_net_model_mobilenet): 1.37s\n"
      ]
     },
     "metadata": {},
     "output_type": "display_data"
    },
    {
     "name": "stderr",
     "output_type": "stream",
     "text": [
      "I0713 19:40:10.464886 132218468208640 test_util.py:2462] time(__main__.ModelBuilderTF2Test.test_create_center_net_model_mobilenet): 1.37s\n",
      "[       OK ] ModelBuilderTF2Test.test_create_center_net_model_mobilenet\n",
      "[ RUN      ] ModelBuilderTF2Test.test_create_experimental_model\n"
     ]
    },
    {
     "data": {
      "text/html": [
       "<pre style=\"white-space:pre;overflow-x:auto;line-height:normal;font-family:Menlo,'DejaVu Sans Mono',consolas,'Courier New',monospace\">time(__main__.ModelBuilderTF2Test.test_create_experimental_model): 0.0s\n",
       "</pre>\n"
      ],
      "text/plain": [
       "time(__main__.ModelBuilderTF2Test.test_create_experimental_model): 0.0s\n"
      ]
     },
     "metadata": {},
     "output_type": "display_data"
    },
    {
     "name": "stderr",
     "output_type": "stream",
     "text": [
      "I0713 19:40:10.472651 132218468208640 test_util.py:2462] time(__main__.ModelBuilderTF2Test.test_create_experimental_model): 0.0s\n",
      "[       OK ] ModelBuilderTF2Test.test_create_experimental_model\n",
      "[ RUN      ] ModelBuilderTF2Test.test_create_faster_rcnn_from_config_with_crop_feature0 (True)\n"
     ]
    },
    {
     "data": {
      "text/html": [
       "<pre style=\"white-space:pre;overflow-x:auto;line-height:normal;font-family:Menlo,'DejaVu Sans Mono',consolas,'Courier New',monospace\">time(__main__.ModelBuilderTF2Test.test_create_faster_rcnn_from_config_with_crop_feature0 (True)): 0.01s\n",
       "</pre>\n"
      ],
      "text/plain": [
       "time(__main__.ModelBuilderTF2Test.test_create_faster_rcnn_from_config_with_crop_feature0 (True)): 0.01s\n"
      ]
     },
     "metadata": {},
     "output_type": "display_data"
    },
    {
     "name": "stderr",
     "output_type": "stream",
     "text": [
      "I0713 19:40:10.490398 132218468208640 test_util.py:2462] time(__main__.ModelBuilderTF2Test.test_create_faster_rcnn_from_config_with_crop_feature0 (True)): 0.01s\n",
      "[       OK ] ModelBuilderTF2Test.test_create_faster_rcnn_from_config_with_crop_feature0 (True)\n",
      "[ RUN      ] ModelBuilderTF2Test.test_create_faster_rcnn_from_config_with_crop_feature1 (False)\n"
     ]
    },
    {
     "data": {
      "text/html": [
       "<pre style=\"white-space:pre;overflow-x:auto;line-height:normal;font-family:Menlo,'DejaVu Sans Mono',consolas,'Courier New',monospace\">time(__main__.ModelBuilderTF2Test.test_create_faster_rcnn_from_config_with_crop_feature1 (False)): 0.02s\n",
       "</pre>\n"
      ],
      "text/plain": [
       "time(__main__.ModelBuilderTF2Test.test_create_faster_rcnn_from_config_with_crop_feature1 (False)): 0.02s\n"
      ]
     },
     "metadata": {},
     "output_type": "display_data"
    },
    {
     "name": "stderr",
     "output_type": "stream",
     "text": [
      "I0713 19:40:10.508011 132218468208640 test_util.py:2462] time(__main__.ModelBuilderTF2Test.test_create_faster_rcnn_from_config_with_crop_feature1 (False)): 0.02s\n",
      "[       OK ] ModelBuilderTF2Test.test_create_faster_rcnn_from_config_with_crop_feature1 (False)\n",
      "[ RUN      ] ModelBuilderTF2Test.test_create_faster_rcnn_model_from_config_with_example_miner\n"
     ]
    },
    {
     "data": {
      "text/html": [
       "<pre style=\"white-space:pre;overflow-x:auto;line-height:normal;font-family:Menlo,'DejaVu Sans Mono',consolas,'Courier New',monospace\">time(__main__.ModelBuilderTF2Test.test_create_faster_rcnn_model_from_config_with_example_miner): 0.02s\n",
       "</pre>\n"
      ],
      "text/plain": [
       "time(__main__.ModelBuilderTF2Test.test_create_faster_rcnn_model_from_config_with_example_miner): 0.02s\n"
      ]
     },
     "metadata": {},
     "output_type": "display_data"
    },
    {
     "name": "stderr",
     "output_type": "stream",
     "text": [
      "I0713 19:40:10.526323 132218468208640 test_util.py:2462] time(__main__.ModelBuilderTF2Test.test_create_faster_rcnn_model_from_config_with_example_miner): 0.02s\n",
      "[       OK ] ModelBuilderTF2Test.test_create_faster_rcnn_model_from_config_with_example_miner\n",
      "[ RUN      ] ModelBuilderTF2Test.test_create_faster_rcnn_models_from_config_faster_rcnn_with_matmul\n"
     ]
    },
    {
     "data": {
      "text/html": [
       "<pre style=\"white-space:pre;overflow-x:auto;line-height:normal;font-family:Menlo,'DejaVu Sans Mono',consolas,'Courier New',monospace\">time(__main__.ModelBuilderTF2Test.test_create_faster_rcnn_models_from_config_faster_rcnn_with_matmul): 0.08s\n",
       "</pre>\n"
      ],
      "text/plain": [
       "time(__main__.ModelBuilderTF2Test.test_create_faster_rcnn_models_from_config_faster_rcnn_with_matmul): 0.08s\n"
      ]
     },
     "metadata": {},
     "output_type": "display_data"
    },
    {
     "name": "stderr",
     "output_type": "stream",
     "text": [
      "I0713 19:40:10.610966 132218468208640 test_util.py:2462] time(__main__.ModelBuilderTF2Test.test_create_faster_rcnn_models_from_config_faster_rcnn_with_matmul): 0.08s\n",
      "[       OK ] ModelBuilderTF2Test.test_create_faster_rcnn_models_from_config_faster_rcnn_with_matmul\n",
      "[ RUN      ] ModelBuilderTF2Test.test_create_faster_rcnn_models_from_config_faster_rcnn_without_matmul\n"
     ]
    },
    {
     "data": {
      "text/html": [
       "<pre style=\"white-space:pre;overflow-x:auto;line-height:normal;font-family:Menlo,'DejaVu Sans Mono',consolas,'Courier New',monospace\">time(__main__.ModelBuilderTF2Test.test_create_faster_rcnn_models_from_config_faster_rcnn_without_matmul): 0.08s\n",
       "</pre>\n"
      ],
      "text/plain": [
       "time(__main__.ModelBuilderTF2Test.test_create_faster_rcnn_models_from_config_faster_rcnn_without_matmul): 0.08s\n"
      ]
     },
     "metadata": {},
     "output_type": "display_data"
    },
    {
     "name": "stderr",
     "output_type": "stream",
     "text": [
      "I0713 19:40:10.695084 132218468208640 test_util.py:2462] time(__main__.ModelBuilderTF2Test.test_create_faster_rcnn_models_from_config_faster_rcnn_without_matmul): 0.08s\n",
      "[       OK ] ModelBuilderTF2Test.test_create_faster_rcnn_models_from_config_faster_rcnn_without_matmul\n",
      "[ RUN      ] ModelBuilderTF2Test.test_create_faster_rcnn_models_from_config_mask_rcnn_with_matmul\n"
     ]
    },
    {
     "data": {
      "text/html": [
       "<pre style=\"white-space:pre;overflow-x:auto;line-height:normal;font-family:Menlo,'DejaVu Sans Mono',consolas,'Courier New',monospace\">time(__main__.ModelBuilderTF2Test.test_create_faster_rcnn_models_from_config_mask_rcnn_with_matmul): 0.08s\n",
       "</pre>\n"
      ],
      "text/plain": [
       "time(__main__.ModelBuilderTF2Test.test_create_faster_rcnn_models_from_config_mask_rcnn_with_matmul): 0.08s\n"
      ]
     },
     "metadata": {},
     "output_type": "display_data"
    },
    {
     "name": "stderr",
     "output_type": "stream",
     "text": [
      "I0713 19:40:10.779927 132218468208640 test_util.py:2462] time(__main__.ModelBuilderTF2Test.test_create_faster_rcnn_models_from_config_mask_rcnn_with_matmul): 0.08s\n",
      "[       OK ] ModelBuilderTF2Test.test_create_faster_rcnn_models_from_config_mask_rcnn_with_matmul\n",
      "[ RUN      ] ModelBuilderTF2Test.test_create_faster_rcnn_models_from_config_mask_rcnn_without_matmul\n"
     ]
    },
    {
     "data": {
      "text/html": [
       "<pre style=\"white-space:pre;overflow-x:auto;line-height:normal;font-family:Menlo,'DejaVu Sans Mono',consolas,'Courier New',monospace\">time(__main__.ModelBuilderTF2Test.test_create_faster_rcnn_models_from_config_mask_rcnn_without_matmul): 0.09s\n",
       "</pre>\n"
      ],
      "text/plain": [
       "time(__main__.ModelBuilderTF2Test.test_create_faster_rcnn_models_from_config_mask_rcnn_without_matmul): 0.09s\n"
      ]
     },
     "metadata": {},
     "output_type": "display_data"
    },
    {
     "name": "stderr",
     "output_type": "stream",
     "text": [
      "I0713 19:40:10.867437 132218468208640 test_util.py:2462] time(__main__.ModelBuilderTF2Test.test_create_faster_rcnn_models_from_config_mask_rcnn_without_matmul): 0.09s\n",
      "[       OK ] ModelBuilderTF2Test.test_create_faster_rcnn_models_from_config_mask_rcnn_without_matmul\n",
      "[ RUN      ] ModelBuilderTF2Test.test_create_rfcn_model_from_config\n"
     ]
    },
    {
     "data": {
      "text/html": [
       "<pre style=\"white-space:pre;overflow-x:auto;line-height:normal;font-family:Menlo,'DejaVu Sans Mono',consolas,'Courier New',monospace\">time(__main__.ModelBuilderTF2Test.test_create_rfcn_model_from_config): 0.08s\n",
       "</pre>\n"
      ],
      "text/plain": [
       "time(__main__.ModelBuilderTF2Test.test_create_rfcn_model_from_config): 0.08s\n"
      ]
     },
     "metadata": {},
     "output_type": "display_data"
    },
    {
     "name": "stderr",
     "output_type": "stream",
     "text": [
      "I0713 19:40:10.949096 132218468208640 test_util.py:2462] time(__main__.ModelBuilderTF2Test.test_create_rfcn_model_from_config): 0.08s\n",
      "[       OK ] ModelBuilderTF2Test.test_create_rfcn_model_from_config\n",
      "[ RUN      ] ModelBuilderTF2Test.test_create_ssd_fpn_model_from_config\n"
     ]
    },
    {
     "data": {
      "text/html": [
       "<pre style=\"white-space:pre;overflow-x:auto;line-height:normal;font-family:Menlo,'DejaVu Sans Mono',consolas,'Courier New',monospace\">time(__main__.ModelBuilderTF2Test.test_create_ssd_fpn_model_from_config): 0.02s\n",
       "</pre>\n"
      ],
      "text/plain": [
       "time(__main__.ModelBuilderTF2Test.test_create_ssd_fpn_model_from_config): 0.02s\n"
      ]
     },
     "metadata": {},
     "output_type": "display_data"
    },
    {
     "name": "stderr",
     "output_type": "stream",
     "text": [
      "I0713 19:40:10.975652 132218468208640 test_util.py:2462] time(__main__.ModelBuilderTF2Test.test_create_ssd_fpn_model_from_config): 0.02s\n",
      "[       OK ] ModelBuilderTF2Test.test_create_ssd_fpn_model_from_config\n",
      "[ RUN      ] ModelBuilderTF2Test.test_create_ssd_models_from_config\n"
     ]
    },
    {
     "data": {
      "text/html": [
       "<pre style=\"white-space:pre;overflow-x:auto;line-height:normal;font-family:Menlo,'DejaVu Sans Mono',consolas,'Courier New',monospace\">EfficientDet EfficientNet backbone version: efficientnet-b0\n",
       "</pre>\n"
      ],
      "text/plain": [
       "EfficientDet EfficientNet backbone version: efficientnet-b0\n"
      ]
     },
     "metadata": {},
     "output_type": "display_data"
    },
    {
     "name": "stderr",
     "output_type": "stream",
     "text": [
      "I0713 19:40:11.113096 132218468208640 ssd_efficientnet_bifpn_feature_extractor.py:161] EfficientDet EfficientNet backbone version: efficientnet-b0\n"
     ]
    },
    {
     "data": {
      "text/html": [
       "<pre style=\"white-space:pre;overflow-x:auto;line-height:normal;font-family:Menlo,'DejaVu Sans Mono',consolas,'Courier New',monospace\">EfficientDet BiFPN num filters: 64\n",
       "</pre>\n"
      ],
      "text/plain": [
       "EfficientDet BiFPN num filters: 64\n"
      ]
     },
     "metadata": {},
     "output_type": "display_data"
    },
    {
     "name": "stderr",
     "output_type": "stream",
     "text": [
      "I0713 19:40:11.114623 132218468208640 ssd_efficientnet_bifpn_feature_extractor.py:163] EfficientDet BiFPN num filters: 64\n"
     ]
    },
    {
     "data": {
      "text/html": [
       "<pre style=\"white-space:pre;overflow-x:auto;line-height:normal;font-family:Menlo,'DejaVu Sans Mono',consolas,'Courier New',monospace\">EfficientDet BiFPN num iterations: 3\n",
       "</pre>\n"
      ],
      "text/plain": [
       "EfficientDet BiFPN num iterations: 3\n"
      ]
     },
     "metadata": {},
     "output_type": "display_data"
    },
    {
     "name": "stderr",
     "output_type": "stream",
     "text": [
      "I0713 19:40:11.116058 132218468208640 ssd_efficientnet_bifpn_feature_extractor.py:164] EfficientDet BiFPN num iterations: 3\n"
     ]
    },
    {
     "data": {
      "text/html": [
       "<pre style=\"white-space:pre;overflow-x:auto;line-height:normal;font-family:Menlo,'DejaVu Sans Mono',consolas,'Courier New',monospace\">round_filter input=32 output=32\n",
       "</pre>\n"
      ],
      "text/plain": [
       "round_filter input=32 output=32\n"
      ]
     },
     "metadata": {},
     "output_type": "display_data"
    },
    {
     "name": "stderr",
     "output_type": "stream",
     "text": [
      "I0713 19:40:11.118850 132218468208640 efficientnet_model.py:143] round_filter input=32 output=32\n"
     ]
    },
    {
     "data": {
      "text/html": [
       "<pre style=\"white-space:pre;overflow-x:auto;line-height:normal;font-family:Menlo,'DejaVu Sans Mono',consolas,'Courier New',monospace\">round_filter input=32 output=32\n",
       "</pre>\n"
      ],
      "text/plain": [
       "round_filter input=32 output=32\n"
      ]
     },
     "metadata": {},
     "output_type": "display_data"
    },
    {
     "name": "stderr",
     "output_type": "stream",
     "text": [
      "I0713 19:40:11.141510 132218468208640 efficientnet_model.py:143] round_filter input=32 output=32\n"
     ]
    },
    {
     "data": {
      "text/html": [
       "<pre style=\"white-space:pre;overflow-x:auto;line-height:normal;font-family:Menlo,'DejaVu Sans Mono',consolas,'Courier New',monospace\">round_filter input=16 output=16\n",
       "</pre>\n"
      ],
      "text/plain": [
       "round_filter input=16 output=16\n"
      ]
     },
     "metadata": {},
     "output_type": "display_data"
    },
    {
     "name": "stderr",
     "output_type": "stream",
     "text": [
      "I0713 19:40:11.143146 132218468208640 efficientnet_model.py:143] round_filter input=16 output=16\n"
     ]
    },
    {
     "data": {
      "text/html": [
       "<pre style=\"white-space:pre;overflow-x:auto;line-height:normal;font-family:Menlo,'DejaVu Sans Mono',consolas,'Courier New',monospace\">round_filter input=16 output=16\n",
       "</pre>\n"
      ],
      "text/plain": [
       "round_filter input=16 output=16\n"
      ]
     },
     "metadata": {},
     "output_type": "display_data"
    },
    {
     "name": "stderr",
     "output_type": "stream",
     "text": [
      "I0713 19:40:11.204741 132218468208640 efficientnet_model.py:143] round_filter input=16 output=16\n"
     ]
    },
    {
     "data": {
      "text/html": [
       "<pre style=\"white-space:pre;overflow-x:auto;line-height:normal;font-family:Menlo,'DejaVu Sans Mono',consolas,'Courier New',monospace\">round_filter input=24 output=24\n",
       "</pre>\n"
      ],
      "text/plain": [
       "round_filter input=24 output=24\n"
      ]
     },
     "metadata": {},
     "output_type": "display_data"
    },
    {
     "name": "stderr",
     "output_type": "stream",
     "text": [
      "I0713 19:40:11.206263 132218468208640 efficientnet_model.py:143] round_filter input=24 output=24\n"
     ]
    },
    {
     "data": {
      "text/html": [
       "<pre style=\"white-space:pre;overflow-x:auto;line-height:normal;font-family:Menlo,'DejaVu Sans Mono',consolas,'Courier New',monospace\">round_filter input=24 output=24\n",
       "</pre>\n"
      ],
      "text/plain": [
       "round_filter input=24 output=24\n"
      ]
     },
     "metadata": {},
     "output_type": "display_data"
    },
    {
     "name": "stderr",
     "output_type": "stream",
     "text": [
      "I0713 19:40:11.369156 132218468208640 efficientnet_model.py:143] round_filter input=24 output=24\n"
     ]
    },
    {
     "data": {
      "text/html": [
       "<pre style=\"white-space:pre;overflow-x:auto;line-height:normal;font-family:Menlo,'DejaVu Sans Mono',consolas,'Courier New',monospace\">round_filter input=40 output=40\n",
       "</pre>\n"
      ],
      "text/plain": [
       "round_filter input=40 output=40\n"
      ]
     },
     "metadata": {},
     "output_type": "display_data"
    },
    {
     "name": "stderr",
     "output_type": "stream",
     "text": [
      "I0713 19:40:11.370853 132218468208640 efficientnet_model.py:143] round_filter input=40 output=40\n"
     ]
    },
    {
     "data": {
      "text/html": [
       "<pre style=\"white-space:pre;overflow-x:auto;line-height:normal;font-family:Menlo,'DejaVu Sans Mono',consolas,'Courier New',monospace\">round_filter input=40 output=40\n",
       "</pre>\n"
      ],
      "text/plain": [
       "round_filter input=40 output=40\n"
      ]
     },
     "metadata": {},
     "output_type": "display_data"
    },
    {
     "name": "stderr",
     "output_type": "stream",
     "text": [
      "I0713 19:40:11.522276 132218468208640 efficientnet_model.py:143] round_filter input=40 output=40\n"
     ]
    },
    {
     "data": {
      "text/html": [
       "<pre style=\"white-space:pre;overflow-x:auto;line-height:normal;font-family:Menlo,'DejaVu Sans Mono',consolas,'Courier New',monospace\">round_filter input=80 output=80\n",
       "</pre>\n"
      ],
      "text/plain": [
       "round_filter input=80 output=80\n"
      ]
     },
     "metadata": {},
     "output_type": "display_data"
    },
    {
     "name": "stderr",
     "output_type": "stream",
     "text": [
      "I0713 19:40:11.523873 132218468208640 efficientnet_model.py:143] round_filter input=80 output=80\n"
     ]
    },
    {
     "data": {
      "text/html": [
       "<pre style=\"white-space:pre;overflow-x:auto;line-height:normal;font-family:Menlo,'DejaVu Sans Mono',consolas,'Courier New',monospace\">round_filter input=80 output=80\n",
       "</pre>\n"
      ],
      "text/plain": [
       "round_filter input=80 output=80\n"
      ]
     },
     "metadata": {},
     "output_type": "display_data"
    },
    {
     "name": "stderr",
     "output_type": "stream",
     "text": [
      "I0713 19:40:11.723036 132218468208640 efficientnet_model.py:143] round_filter input=80 output=80\n"
     ]
    },
    {
     "data": {
      "text/html": [
       "<pre style=\"white-space:pre;overflow-x:auto;line-height:normal;font-family:Menlo,'DejaVu Sans Mono',consolas,'Courier New',monospace\">round_filter input=112 output=112\n",
       "</pre>\n"
      ],
      "text/plain": [
       "round_filter input=112 output=112\n"
      ]
     },
     "metadata": {},
     "output_type": "display_data"
    },
    {
     "name": "stderr",
     "output_type": "stream",
     "text": [
      "I0713 19:40:11.724643 132218468208640 efficientnet_model.py:143] round_filter input=112 output=112\n"
     ]
    },
    {
     "data": {
      "text/html": [
       "<pre style=\"white-space:pre;overflow-x:auto;line-height:normal;font-family:Menlo,'DejaVu Sans Mono',consolas,'Courier New',monospace\">round_filter input=112 output=112\n",
       "</pre>\n"
      ],
      "text/plain": [
       "round_filter input=112 output=112\n"
      ]
     },
     "metadata": {},
     "output_type": "display_data"
    },
    {
     "name": "stderr",
     "output_type": "stream",
     "text": [
      "I0713 19:40:11.916774 132218468208640 efficientnet_model.py:143] round_filter input=112 output=112\n"
     ]
    },
    {
     "data": {
      "text/html": [
       "<pre style=\"white-space:pre;overflow-x:auto;line-height:normal;font-family:Menlo,'DejaVu Sans Mono',consolas,'Courier New',monospace\">round_filter input=192 output=192\n",
       "</pre>\n"
      ],
      "text/plain": [
       "round_filter input=192 output=192\n"
      ]
     },
     "metadata": {},
     "output_type": "display_data"
    },
    {
     "name": "stderr",
     "output_type": "stream",
     "text": [
      "I0713 19:40:11.918189 132218468208640 efficientnet_model.py:143] round_filter input=192 output=192\n"
     ]
    },
    {
     "data": {
      "text/html": [
       "<pre style=\"white-space:pre;overflow-x:auto;line-height:normal;font-family:Menlo,'DejaVu Sans Mono',consolas,'Courier New',monospace\">round_filter input=192 output=192\n",
       "</pre>\n"
      ],
      "text/plain": [
       "round_filter input=192 output=192\n"
      ]
     },
     "metadata": {},
     "output_type": "display_data"
    },
    {
     "name": "stderr",
     "output_type": "stream",
     "text": [
      "I0713 19:40:12.154975 132218468208640 efficientnet_model.py:143] round_filter input=192 output=192\n"
     ]
    },
    {
     "data": {
      "text/html": [
       "<pre style=\"white-space:pre;overflow-x:auto;line-height:normal;font-family:Menlo,'DejaVu Sans Mono',consolas,'Courier New',monospace\">round_filter input=320 output=320\n",
       "</pre>\n"
      ],
      "text/plain": [
       "round_filter input=320 output=320\n"
      ]
     },
     "metadata": {},
     "output_type": "display_data"
    },
    {
     "name": "stderr",
     "output_type": "stream",
     "text": [
      "I0713 19:40:12.156390 132218468208640 efficientnet_model.py:143] round_filter input=320 output=320\n"
     ]
    },
    {
     "data": {
      "text/html": [
       "<pre style=\"white-space:pre;overflow-x:auto;line-height:normal;font-family:Menlo,'DejaVu Sans Mono',consolas,'Courier New',monospace\">round_filter input=1280 output=1280\n",
       "</pre>\n"
      ],
      "text/plain": [
       "round_filter input=1280 output=1280\n"
      ]
     },
     "metadata": {},
     "output_type": "display_data"
    },
    {
     "name": "stderr",
     "output_type": "stream",
     "text": [
      "I0713 19:40:12.215045 132218468208640 efficientnet_model.py:143] round_filter input=1280 output=1280\n"
     ]
    },
    {
     "data": {
      "text/html": [
       "<pre style=\"white-space:pre;overflow-x:auto;line-height:normal;font-family:Menlo,'DejaVu Sans Mono',consolas,'Courier New',monospace\">Building model efficientnet with params ModelConfig(width_coefficient=1.0, depth_coefficient=1.0, resolution=224, dropout_rate=0.2, blocks=(BlockConfig(input_filters=32, output_filters=16, kernel_size=3, num_repeat=1, expand_ratio=1, strides=(1, 1), se_ratio=0.25, id_skip=True, fused_conv=False, conv_type='depthwise'), BlockConfig(input_filters=16, output_filters=24, kernel_size=3, num_repeat=2, expand_ratio=6, strides=(2, 2), se_ratio=0.25, id_skip=True, fused_conv=False, conv_type='depthwise'), BlockConfig(input_filters=24, output_filters=40, kernel_size=5, num_repeat=2, expand_ratio=6, strides=(2, 2), se_ratio=0.25, id_skip=True, fused_conv=False, conv_type='depthwise'), BlockConfig(input_filters=40, output_filters=80, kernel_size=3, num_repeat=3, expand_ratio=6, strides=(2, 2), se_ratio=0.25, id_skip=True, fused_conv=False, conv_type='depthwise'), BlockConfig(input_filters=80, output_filters=112, kernel_size=5, num_repeat=3, expand_ratio=6, strides=(1, 1), se_ratio=0.25, id_skip=True, fused_conv=False, conv_type='depthwise'), BlockConfig(input_filters=112, output_filters=192, kernel_size=5, num_repeat=4, expand_ratio=6, strides=(2, 2), se_ratio=0.25, id_skip=True, fused_conv=False, conv_type='depthwise'), BlockConfig(input_filters=192, output_filters=320, kernel_size=3, num_repeat=1, expand_ratio=6, strides=(1, 1), se_ratio=0.25, id_skip=True, fused_conv=False, conv_type='depthwise')), stem_base_filters=32, top_base_filters=1280, activation='simple_swish', batch_norm='default', bn_momentum=0.99, bn_epsilon=0.001, weight_decay=5e-06, drop_connect_rate=0.2, depth_divisor=8, min_depth=None, use_se=True, input_channels=3, num_classes=1000, model_name='efficientnet', rescale_input=False, data_format='channels_last', dtype='float32')\n",
       "</pre>\n"
      ],
      "text/plain": [
       "Building model efficientnet with params ModelConfig(width_coefficient=1.0, depth_coefficient=1.0, resolution=224, dropout_rate=0.2, blocks=(BlockConfig(input_filters=32, output_filters=16, kernel_size=3, num_repeat=1, expand_ratio=1, strides=(1, 1), se_ratio=0.25, id_skip=True, fused_conv=False, conv_type='depthwise'), BlockConfig(input_filters=16, output_filters=24, kernel_size=3, num_repeat=2, expand_ratio=6, strides=(2, 2), se_ratio=0.25, id_skip=True, fused_conv=False, conv_type='depthwise'), BlockConfig(input_filters=24, output_filters=40, kernel_size=5, num_repeat=2, expand_ratio=6, strides=(2, 2), se_ratio=0.25, id_skip=True, fused_conv=False, conv_type='depthwise'), BlockConfig(input_filters=40, output_filters=80, kernel_size=3, num_repeat=3, expand_ratio=6, strides=(2, 2), se_ratio=0.25, id_skip=True, fused_conv=False, conv_type='depthwise'), BlockConfig(input_filters=80, output_filters=112, kernel_size=5, num_repeat=3, expand_ratio=6, strides=(1, 1), se_ratio=0.25, id_skip=True, fused_conv=False, conv_type='depthwise'), BlockConfig(input_filters=112, output_filters=192, kernel_size=5, num_repeat=4, expand_ratio=6, strides=(2, 2), se_ratio=0.25, id_skip=True, fused_conv=False, conv_type='depthwise'), BlockConfig(input_filters=192, output_filters=320, kernel_size=3, num_repeat=1, expand_ratio=6, strides=(1, 1), se_ratio=0.25, id_skip=True, fused_conv=False, conv_type='depthwise')), stem_base_filters=32, top_base_filters=1280, activation='simple_swish', batch_norm='default', bn_momentum=0.99, bn_epsilon=0.001, weight_decay=5e-06, drop_connect_rate=0.2, depth_divisor=8, min_depth=None, use_se=True, input_channels=3, num_classes=1000, model_name='efficientnet', rescale_input=False, data_format='channels_last', dtype='float32')\n"
      ]
     },
     "metadata": {},
     "output_type": "display_data"
    },
    {
     "name": "stderr",
     "output_type": "stream",
     "text": [
      "I0713 19:40:12.246017 132218468208640 efficientnet_model.py:453] Building model efficientnet with params ModelConfig(width_coefficient=1.0, depth_coefficient=1.0, resolution=224, dropout_rate=0.2, blocks=(BlockConfig(input_filters=32, output_filters=16, kernel_size=3, num_repeat=1, expand_ratio=1, strides=(1, 1), se_ratio=0.25, id_skip=True, fused_conv=False, conv_type='depthwise'), BlockConfig(input_filters=16, output_filters=24, kernel_size=3, num_repeat=2, expand_ratio=6, strides=(2, 2), se_ratio=0.25, id_skip=True, fused_conv=False, conv_type='depthwise'), BlockConfig(input_filters=24, output_filters=40, kernel_size=5, num_repeat=2, expand_ratio=6, strides=(2, 2), se_ratio=0.25, id_skip=True, fused_conv=False, conv_type='depthwise'), BlockConfig(input_filters=40, output_filters=80, kernel_size=3, num_repeat=3, expand_ratio=6, strides=(2, 2), se_ratio=0.25, id_skip=True, fused_conv=False, conv_type='depthwise'), BlockConfig(input_filters=80, output_filters=112, kernel_size=5, num_repeat=3, expand_ratio=6, strides=(1, 1), se_ratio=0.25, id_skip=True, fused_conv=False, conv_type='depthwise'), BlockConfig(input_filters=112, output_filters=192, kernel_size=5, num_repeat=4, expand_ratio=6, strides=(2, 2), se_ratio=0.25, id_skip=True, fused_conv=False, conv_type='depthwise'), BlockConfig(input_filters=192, output_filters=320, kernel_size=3, num_repeat=1, expand_ratio=6, strides=(1, 1), se_ratio=0.25, id_skip=True, fused_conv=False, conv_type='depthwise')), stem_base_filters=32, top_base_filters=1280, activation='simple_swish', batch_norm='default', bn_momentum=0.99, bn_epsilon=0.001, weight_decay=5e-06, drop_connect_rate=0.2, depth_divisor=8, min_depth=None, use_se=True, input_channels=3, num_classes=1000, model_name='efficientnet', rescale_input=False, data_format='channels_last', dtype='float32')\n"
     ]
    },
    {
     "data": {
      "text/html": [
       "<pre style=\"white-space:pre;overflow-x:auto;line-height:normal;font-family:Menlo,'DejaVu Sans Mono',consolas,'Courier New',monospace\">EfficientDet EfficientNet backbone version: efficientnet-b1\n",
       "</pre>\n"
      ],
      "text/plain": [
       "EfficientDet EfficientNet backbone version: efficientnet-b1\n"
      ]
     },
     "metadata": {},
     "output_type": "display_data"
    },
    {
     "name": "stderr",
     "output_type": "stream",
     "text": [
      "I0713 19:40:12.285032 132218468208640 ssd_efficientnet_bifpn_feature_extractor.py:161] EfficientDet EfficientNet backbone version: efficientnet-b1\n"
     ]
    },
    {
     "data": {
      "text/html": [
       "<pre style=\"white-space:pre;overflow-x:auto;line-height:normal;font-family:Menlo,'DejaVu Sans Mono',consolas,'Courier New',monospace\">EfficientDet BiFPN num filters: 88\n",
       "</pre>\n"
      ],
      "text/plain": [
       "EfficientDet BiFPN num filters: 88\n"
      ]
     },
     "metadata": {},
     "output_type": "display_data"
    },
    {
     "name": "stderr",
     "output_type": "stream",
     "text": [
      "I0713 19:40:12.286411 132218468208640 ssd_efficientnet_bifpn_feature_extractor.py:163] EfficientDet BiFPN num filters: 88\n"
     ]
    },
    {
     "data": {
      "text/html": [
       "<pre style=\"white-space:pre;overflow-x:auto;line-height:normal;font-family:Menlo,'DejaVu Sans Mono',consolas,'Courier New',monospace\">EfficientDet BiFPN num iterations: 4\n",
       "</pre>\n"
      ],
      "text/plain": [
       "EfficientDet BiFPN num iterations: 4\n"
      ]
     },
     "metadata": {},
     "output_type": "display_data"
    },
    {
     "name": "stderr",
     "output_type": "stream",
     "text": [
      "I0713 19:40:12.287814 132218468208640 ssd_efficientnet_bifpn_feature_extractor.py:164] EfficientDet BiFPN num iterations: 4\n"
     ]
    },
    {
     "data": {
      "text/html": [
       "<pre style=\"white-space:pre;overflow-x:auto;line-height:normal;font-family:Menlo,'DejaVu Sans Mono',consolas,'Courier New',monospace\">round_filter input=32 output=32\n",
       "</pre>\n"
      ],
      "text/plain": [
       "round_filter input=32 output=32\n"
      ]
     },
     "metadata": {},
     "output_type": "display_data"
    },
    {
     "name": "stderr",
     "output_type": "stream",
     "text": [
      "I0713 19:40:12.291003 132218468208640 efficientnet_model.py:143] round_filter input=32 output=32\n"
     ]
    },
    {
     "data": {
      "text/html": [
       "<pre style=\"white-space:pre;overflow-x:auto;line-height:normal;font-family:Menlo,'DejaVu Sans Mono',consolas,'Courier New',monospace\">round_filter input=32 output=32\n",
       "</pre>\n"
      ],
      "text/plain": [
       "round_filter input=32 output=32\n"
      ]
     },
     "metadata": {},
     "output_type": "display_data"
    },
    {
     "name": "stderr",
     "output_type": "stream",
     "text": [
      "I0713 19:40:12.305183 132218468208640 efficientnet_model.py:143] round_filter input=32 output=32\n"
     ]
    },
    {
     "data": {
      "text/html": [
       "<pre style=\"white-space:pre;overflow-x:auto;line-height:normal;font-family:Menlo,'DejaVu Sans Mono',consolas,'Courier New',monospace\">round_filter input=16 output=16\n",
       "</pre>\n"
      ],
      "text/plain": [
       "round_filter input=16 output=16\n"
      ]
     },
     "metadata": {},
     "output_type": "display_data"
    },
    {
     "name": "stderr",
     "output_type": "stream",
     "text": [
      "I0713 19:40:12.306523 132218468208640 efficientnet_model.py:143] round_filter input=16 output=16\n"
     ]
    },
    {
     "data": {
      "text/html": [
       "<pre style=\"white-space:pre;overflow-x:auto;line-height:normal;font-family:Menlo,'DejaVu Sans Mono',consolas,'Courier New',monospace\">round_filter input=16 output=16\n",
       "</pre>\n"
      ],
      "text/plain": [
       "round_filter input=16 output=16\n"
      ]
     },
     "metadata": {},
     "output_type": "display_data"
    },
    {
     "name": "stderr",
     "output_type": "stream",
     "text": [
      "I0713 19:40:12.407043 132218468208640 efficientnet_model.py:143] round_filter input=16 output=16\n"
     ]
    },
    {
     "data": {
      "text/html": [
       "<pre style=\"white-space:pre;overflow-x:auto;line-height:normal;font-family:Menlo,'DejaVu Sans Mono',consolas,'Courier New',monospace\">round_filter input=24 output=24\n",
       "</pre>\n"
      ],
      "text/plain": [
       "round_filter input=24 output=24\n"
      ]
     },
     "metadata": {},
     "output_type": "display_data"
    },
    {
     "name": "stderr",
     "output_type": "stream",
     "text": [
      "I0713 19:40:12.408585 132218468208640 efficientnet_model.py:143] round_filter input=24 output=24\n"
     ]
    },
    {
     "data": {
      "text/html": [
       "<pre style=\"white-space:pre;overflow-x:auto;line-height:normal;font-family:Menlo,'DejaVu Sans Mono',consolas,'Courier New',monospace\">round_filter input=24 output=24\n",
       "</pre>\n"
      ],
      "text/plain": [
       "round_filter input=24 output=24\n"
      ]
     },
     "metadata": {},
     "output_type": "display_data"
    },
    {
     "name": "stderr",
     "output_type": "stream",
     "text": [
      "I0713 19:40:12.610378 132218468208640 efficientnet_model.py:143] round_filter input=24 output=24\n"
     ]
    },
    {
     "data": {
      "text/html": [
       "<pre style=\"white-space:pre;overflow-x:auto;line-height:normal;font-family:Menlo,'DejaVu Sans Mono',consolas,'Courier New',monospace\">round_filter input=40 output=40\n",
       "</pre>\n"
      ],
      "text/plain": [
       "round_filter input=40 output=40\n"
      ]
     },
     "metadata": {},
     "output_type": "display_data"
    },
    {
     "name": "stderr",
     "output_type": "stream",
     "text": [
      "I0713 19:40:12.611853 132218468208640 efficientnet_model.py:143] round_filter input=40 output=40\n"
     ]
    },
    {
     "data": {
      "text/html": [
       "<pre style=\"white-space:pre;overflow-x:auto;line-height:normal;font-family:Menlo,'DejaVu Sans Mono',consolas,'Courier New',monospace\">round_filter input=40 output=40\n",
       "</pre>\n"
      ],
      "text/plain": [
       "round_filter input=40 output=40\n"
      ]
     },
     "metadata": {},
     "output_type": "display_data"
    },
    {
     "name": "stderr",
     "output_type": "stream",
     "text": [
      "I0713 19:40:12.813405 132218468208640 efficientnet_model.py:143] round_filter input=40 output=40\n"
     ]
    },
    {
     "data": {
      "text/html": [
       "<pre style=\"white-space:pre;overflow-x:auto;line-height:normal;font-family:Menlo,'DejaVu Sans Mono',consolas,'Courier New',monospace\">round_filter input=80 output=80\n",
       "</pre>\n"
      ],
      "text/plain": [
       "round_filter input=80 output=80\n"
      ]
     },
     "metadata": {},
     "output_type": "display_data"
    },
    {
     "name": "stderr",
     "output_type": "stream",
     "text": [
      "I0713 19:40:12.814806 132218468208640 efficientnet_model.py:143] round_filter input=80 output=80\n"
     ]
    },
    {
     "data": {
      "text/html": [
       "<pre style=\"white-space:pre;overflow-x:auto;line-height:normal;font-family:Menlo,'DejaVu Sans Mono',consolas,'Courier New',monospace\">round_filter input=80 output=80\n",
       "</pre>\n"
      ],
      "text/plain": [
       "round_filter input=80 output=80\n"
      ]
     },
     "metadata": {},
     "output_type": "display_data"
    },
    {
     "name": "stderr",
     "output_type": "stream",
     "text": [
      "I0713 19:40:13.047392 132218468208640 efficientnet_model.py:143] round_filter input=80 output=80\n"
     ]
    },
    {
     "data": {
      "text/html": [
       "<pre style=\"white-space:pre;overflow-x:auto;line-height:normal;font-family:Menlo,'DejaVu Sans Mono',consolas,'Courier New',monospace\">round_filter input=112 output=112\n",
       "</pre>\n"
      ],
      "text/plain": [
       "round_filter input=112 output=112\n"
      ]
     },
     "metadata": {},
     "output_type": "display_data"
    },
    {
     "name": "stderr",
     "output_type": "stream",
     "text": [
      "I0713 19:40:13.048747 132218468208640 efficientnet_model.py:143] round_filter input=112 output=112\n"
     ]
    },
    {
     "data": {
      "text/html": [
       "<pre style=\"white-space:pre;overflow-x:auto;line-height:normal;font-family:Menlo,'DejaVu Sans Mono',consolas,'Courier New',monospace\">round_filter input=112 output=112\n",
       "</pre>\n"
      ],
      "text/plain": [
       "round_filter input=112 output=112\n"
      ]
     },
     "metadata": {},
     "output_type": "display_data"
    },
    {
     "name": "stderr",
     "output_type": "stream",
     "text": [
      "I0713 19:40:13.299295 132218468208640 efficientnet_model.py:143] round_filter input=112 output=112\n"
     ]
    },
    {
     "data": {
      "text/html": [
       "<pre style=\"white-space:pre;overflow-x:auto;line-height:normal;font-family:Menlo,'DejaVu Sans Mono',consolas,'Courier New',monospace\">round_filter input=192 output=192\n",
       "</pre>\n"
      ],
      "text/plain": [
       "round_filter input=192 output=192\n"
      ]
     },
     "metadata": {},
     "output_type": "display_data"
    },
    {
     "name": "stderr",
     "output_type": "stream",
     "text": [
      "I0713 19:40:13.300632 132218468208640 efficientnet_model.py:143] round_filter input=192 output=192\n"
     ]
    },
    {
     "data": {
      "text/html": [
       "<pre style=\"white-space:pre;overflow-x:auto;line-height:normal;font-family:Menlo,'DejaVu Sans Mono',consolas,'Courier New',monospace\">round_filter input=192 output=192\n",
       "</pre>\n"
      ],
      "text/plain": [
       "round_filter input=192 output=192\n"
      ]
     },
     "metadata": {},
     "output_type": "display_data"
    },
    {
     "name": "stderr",
     "output_type": "stream",
     "text": [
      "I0713 19:40:13.589459 132218468208640 efficientnet_model.py:143] round_filter input=192 output=192\n"
     ]
    },
    {
     "data": {
      "text/html": [
       "<pre style=\"white-space:pre;overflow-x:auto;line-height:normal;font-family:Menlo,'DejaVu Sans Mono',consolas,'Courier New',monospace\">round_filter input=320 output=320\n",
       "</pre>\n"
      ],
      "text/plain": [
       "round_filter input=320 output=320\n"
      ]
     },
     "metadata": {},
     "output_type": "display_data"
    },
    {
     "name": "stderr",
     "output_type": "stream",
     "text": [
      "I0713 19:40:13.590958 132218468208640 efficientnet_model.py:143] round_filter input=320 output=320\n"
     ]
    },
    {
     "data": {
      "text/html": [
       "<pre style=\"white-space:pre;overflow-x:auto;line-height:normal;font-family:Menlo,'DejaVu Sans Mono',consolas,'Courier New',monospace\">round_filter input=1280 output=1280\n",
       "</pre>\n"
      ],
      "text/plain": [
       "round_filter input=1280 output=1280\n"
      ]
     },
     "metadata": {},
     "output_type": "display_data"
    },
    {
     "name": "stderr",
     "output_type": "stream",
     "text": [
      "I0713 19:40:13.733827 132218468208640 efficientnet_model.py:143] round_filter input=1280 output=1280\n"
     ]
    },
    {
     "data": {
      "text/html": [
       "<pre style=\"white-space:pre;overflow-x:auto;line-height:normal;font-family:Menlo,'DejaVu Sans Mono',consolas,'Courier New',monospace\">Building model efficientnet with params ModelConfig(width_coefficient=1.0, depth_coefficient=1.1, resolution=240, dropout_rate=0.2, blocks=(BlockConfig(input_filters=32, output_filters=16, kernel_size=3, num_repeat=1, expand_ratio=1, strides=(1, 1), se_ratio=0.25, id_skip=True, fused_conv=False, conv_type='depthwise'), BlockConfig(input_filters=16, output_filters=24, kernel_size=3, num_repeat=2, expand_ratio=6, strides=(2, 2), se_ratio=0.25, id_skip=True, fused_conv=False, conv_type='depthwise'), BlockConfig(input_filters=24, output_filters=40, kernel_size=5, num_repeat=2, expand_ratio=6, strides=(2, 2), se_ratio=0.25, id_skip=True, fused_conv=False, conv_type='depthwise'), BlockConfig(input_filters=40, output_filters=80, kernel_size=3, num_repeat=3, expand_ratio=6, strides=(2, 2), se_ratio=0.25, id_skip=True, fused_conv=False, conv_type='depthwise'), BlockConfig(input_filters=80, output_filters=112, kernel_size=5, num_repeat=3, expand_ratio=6, strides=(1, 1), se_ratio=0.25, id_skip=True, fused_conv=False, conv_type='depthwise'), BlockConfig(input_filters=112, output_filters=192, kernel_size=5, num_repeat=4, expand_ratio=6, strides=(2, 2), se_ratio=0.25, id_skip=True, fused_conv=False, conv_type='depthwise'), BlockConfig(input_filters=192, output_filters=320, kernel_size=3, num_repeat=1, expand_ratio=6, strides=(1, 1), se_ratio=0.25, id_skip=True, fused_conv=False, conv_type='depthwise')), stem_base_filters=32, top_base_filters=1280, activation='simple_swish', batch_norm='default', bn_momentum=0.99, bn_epsilon=0.001, weight_decay=5e-06, drop_connect_rate=0.2, depth_divisor=8, min_depth=None, use_se=True, input_channels=3, num_classes=1000, model_name='efficientnet', rescale_input=False, data_format='channels_last', dtype='float32')\n",
       "</pre>\n"
      ],
      "text/plain": [
       "Building model efficientnet with params ModelConfig(width_coefficient=1.0, depth_coefficient=1.1, resolution=240, dropout_rate=0.2, blocks=(BlockConfig(input_filters=32, output_filters=16, kernel_size=3, num_repeat=1, expand_ratio=1, strides=(1, 1), se_ratio=0.25, id_skip=True, fused_conv=False, conv_type='depthwise'), BlockConfig(input_filters=16, output_filters=24, kernel_size=3, num_repeat=2, expand_ratio=6, strides=(2, 2), se_ratio=0.25, id_skip=True, fused_conv=False, conv_type='depthwise'), BlockConfig(input_filters=24, output_filters=40, kernel_size=5, num_repeat=2, expand_ratio=6, strides=(2, 2), se_ratio=0.25, id_skip=True, fused_conv=False, conv_type='depthwise'), BlockConfig(input_filters=40, output_filters=80, kernel_size=3, num_repeat=3, expand_ratio=6, strides=(2, 2), se_ratio=0.25, id_skip=True, fused_conv=False, conv_type='depthwise'), BlockConfig(input_filters=80, output_filters=112, kernel_size=5, num_repeat=3, expand_ratio=6, strides=(1, 1), se_ratio=0.25, id_skip=True, fused_conv=False, conv_type='depthwise'), BlockConfig(input_filters=112, output_filters=192, kernel_size=5, num_repeat=4, expand_ratio=6, strides=(2, 2), se_ratio=0.25, id_skip=True, fused_conv=False, conv_type='depthwise'), BlockConfig(input_filters=192, output_filters=320, kernel_size=3, num_repeat=1, expand_ratio=6, strides=(1, 1), se_ratio=0.25, id_skip=True, fused_conv=False, conv_type='depthwise')), stem_base_filters=32, top_base_filters=1280, activation='simple_swish', batch_norm='default', bn_momentum=0.99, bn_epsilon=0.001, weight_decay=5e-06, drop_connect_rate=0.2, depth_divisor=8, min_depth=None, use_se=True, input_channels=3, num_classes=1000, model_name='efficientnet', rescale_input=False, data_format='channels_last', dtype='float32')\n"
      ]
     },
     "metadata": {},
     "output_type": "display_data"
    },
    {
     "name": "stderr",
     "output_type": "stream",
     "text": [
      "I0713 19:40:13.760292 132218468208640 efficientnet_model.py:453] Building model efficientnet with params ModelConfig(width_coefficient=1.0, depth_coefficient=1.1, resolution=240, dropout_rate=0.2, blocks=(BlockConfig(input_filters=32, output_filters=16, kernel_size=3, num_repeat=1, expand_ratio=1, strides=(1, 1), se_ratio=0.25, id_skip=True, fused_conv=False, conv_type='depthwise'), BlockConfig(input_filters=16, output_filters=24, kernel_size=3, num_repeat=2, expand_ratio=6, strides=(2, 2), se_ratio=0.25, id_skip=True, fused_conv=False, conv_type='depthwise'), BlockConfig(input_filters=24, output_filters=40, kernel_size=5, num_repeat=2, expand_ratio=6, strides=(2, 2), se_ratio=0.25, id_skip=True, fused_conv=False, conv_type='depthwise'), BlockConfig(input_filters=40, output_filters=80, kernel_size=3, num_repeat=3, expand_ratio=6, strides=(2, 2), se_ratio=0.25, id_skip=True, fused_conv=False, conv_type='depthwise'), BlockConfig(input_filters=80, output_filters=112, kernel_size=5, num_repeat=3, expand_ratio=6, strides=(1, 1), se_ratio=0.25, id_skip=True, fused_conv=False, conv_type='depthwise'), BlockConfig(input_filters=112, output_filters=192, kernel_size=5, num_repeat=4, expand_ratio=6, strides=(2, 2), se_ratio=0.25, id_skip=True, fused_conv=False, conv_type='depthwise'), BlockConfig(input_filters=192, output_filters=320, kernel_size=3, num_repeat=1, expand_ratio=6, strides=(1, 1), se_ratio=0.25, id_skip=True, fused_conv=False, conv_type='depthwise')), stem_base_filters=32, top_base_filters=1280, activation='simple_swish', batch_norm='default', bn_momentum=0.99, bn_epsilon=0.001, weight_decay=5e-06, drop_connect_rate=0.2, depth_divisor=8, min_depth=None, use_se=True, input_channels=3, num_classes=1000, model_name='efficientnet', rescale_input=False, data_format='channels_last', dtype='float32')\n"
     ]
    },
    {
     "data": {
      "text/html": [
       "<pre style=\"white-space:pre;overflow-x:auto;line-height:normal;font-family:Menlo,'DejaVu Sans Mono',consolas,'Courier New',monospace\">EfficientDet EfficientNet backbone version: efficientnet-b2\n",
       "</pre>\n"
      ],
      "text/plain": [
       "EfficientDet EfficientNet backbone version: efficientnet-b2\n"
      ]
     },
     "metadata": {},
     "output_type": "display_data"
    },
    {
     "name": "stderr",
     "output_type": "stream",
     "text": [
      "I0713 19:40:13.806942 132218468208640 ssd_efficientnet_bifpn_feature_extractor.py:161] EfficientDet EfficientNet backbone version: efficientnet-b2\n"
     ]
    },
    {
     "data": {
      "text/html": [
       "<pre style=\"white-space:pre;overflow-x:auto;line-height:normal;font-family:Menlo,'DejaVu Sans Mono',consolas,'Courier New',monospace\">EfficientDet BiFPN num filters: 112\n",
       "</pre>\n"
      ],
      "text/plain": [
       "EfficientDet BiFPN num filters: 112\n"
      ]
     },
     "metadata": {},
     "output_type": "display_data"
    },
    {
     "name": "stderr",
     "output_type": "stream",
     "text": [
      "I0713 19:40:13.808390 132218468208640 ssd_efficientnet_bifpn_feature_extractor.py:163] EfficientDet BiFPN num filters: 112\n"
     ]
    },
    {
     "data": {
      "text/html": [
       "<pre style=\"white-space:pre;overflow-x:auto;line-height:normal;font-family:Menlo,'DejaVu Sans Mono',consolas,'Courier New',monospace\">EfficientDet BiFPN num iterations: 5\n",
       "</pre>\n"
      ],
      "text/plain": [
       "EfficientDet BiFPN num iterations: 5\n"
      ]
     },
     "metadata": {},
     "output_type": "display_data"
    },
    {
     "name": "stderr",
     "output_type": "stream",
     "text": [
      "I0713 19:40:13.809693 132218468208640 ssd_efficientnet_bifpn_feature_extractor.py:164] EfficientDet BiFPN num iterations: 5\n"
     ]
    },
    {
     "data": {
      "text/html": [
       "<pre style=\"white-space:pre;overflow-x:auto;line-height:normal;font-family:Menlo,'DejaVu Sans Mono',consolas,'Courier New',monospace\">round_filter input=32 output=32\n",
       "</pre>\n"
      ],
      "text/plain": [
       "round_filter input=32 output=32\n"
      ]
     },
     "metadata": {},
     "output_type": "display_data"
    },
    {
     "name": "stderr",
     "output_type": "stream",
     "text": [
      "I0713 19:40:13.812251 132218468208640 efficientnet_model.py:143] round_filter input=32 output=32\n"
     ]
    },
    {
     "data": {
      "text/html": [
       "<pre style=\"white-space:pre;overflow-x:auto;line-height:normal;font-family:Menlo,'DejaVu Sans Mono',consolas,'Courier New',monospace\">round_filter input=32 output=32\n",
       "</pre>\n"
      ],
      "text/plain": [
       "round_filter input=32 output=32\n"
      ]
     },
     "metadata": {},
     "output_type": "display_data"
    },
    {
     "name": "stderr",
     "output_type": "stream",
     "text": [
      "I0713 19:40:13.827477 132218468208640 efficientnet_model.py:143] round_filter input=32 output=32\n"
     ]
    },
    {
     "data": {
      "text/html": [
       "<pre style=\"white-space:pre;overflow-x:auto;line-height:normal;font-family:Menlo,'DejaVu Sans Mono',consolas,'Courier New',monospace\">round_filter input=16 output=16\n",
       "</pre>\n"
      ],
      "text/plain": [
       "round_filter input=16 output=16\n"
      ]
     },
     "metadata": {},
     "output_type": "display_data"
    },
    {
     "name": "stderr",
     "output_type": "stream",
     "text": [
      "I0713 19:40:13.829173 132218468208640 efficientnet_model.py:143] round_filter input=16 output=16\n"
     ]
    },
    {
     "data": {
      "text/html": [
       "<pre style=\"white-space:pre;overflow-x:auto;line-height:normal;font-family:Menlo,'DejaVu Sans Mono',consolas,'Courier New',monospace\">round_filter input=16 output=16\n",
       "</pre>\n"
      ],
      "text/plain": [
       "round_filter input=16 output=16\n"
      ]
     },
     "metadata": {},
     "output_type": "display_data"
    },
    {
     "name": "stderr",
     "output_type": "stream",
     "text": [
      "I0713 19:40:13.927894 132218468208640 efficientnet_model.py:143] round_filter input=16 output=16\n"
     ]
    },
    {
     "data": {
      "text/html": [
       "<pre style=\"white-space:pre;overflow-x:auto;line-height:normal;font-family:Menlo,'DejaVu Sans Mono',consolas,'Courier New',monospace\">round_filter input=24 output=24\n",
       "</pre>\n"
      ],
      "text/plain": [
       "round_filter input=24 output=24\n"
      ]
     },
     "metadata": {},
     "output_type": "display_data"
    },
    {
     "name": "stderr",
     "output_type": "stream",
     "text": [
      "I0713 19:40:13.929339 132218468208640 efficientnet_model.py:143] round_filter input=24 output=24\n"
     ]
    },
    {
     "data": {
      "text/html": [
       "<pre style=\"white-space:pre;overflow-x:auto;line-height:normal;font-family:Menlo,'DejaVu Sans Mono',consolas,'Courier New',monospace\">round_filter input=24 output=24\n",
       "</pre>\n"
      ],
      "text/plain": [
       "round_filter input=24 output=24\n"
      ]
     },
     "metadata": {},
     "output_type": "display_data"
    },
    {
     "name": "stderr",
     "output_type": "stream",
     "text": [
      "I0713 19:40:14.103433 132218468208640 efficientnet_model.py:143] round_filter input=24 output=24\n"
     ]
    },
    {
     "data": {
      "text/html": [
       "<pre style=\"white-space:pre;overflow-x:auto;line-height:normal;font-family:Menlo,'DejaVu Sans Mono',consolas,'Courier New',monospace\">round_filter input=40 output=48\n",
       "</pre>\n"
      ],
      "text/plain": [
       "round_filter input=40 output=48\n"
      ]
     },
     "metadata": {},
     "output_type": "display_data"
    },
    {
     "name": "stderr",
     "output_type": "stream",
     "text": [
      "I0713 19:40:14.104835 132218468208640 efficientnet_model.py:143] round_filter input=40 output=48\n"
     ]
    },
    {
     "data": {
      "text/html": [
       "<pre style=\"white-space:pre;overflow-x:auto;line-height:normal;font-family:Menlo,'DejaVu Sans Mono',consolas,'Courier New',monospace\">round_filter input=40 output=48\n",
       "</pre>\n"
      ],
      "text/plain": [
       "round_filter input=40 output=48\n"
      ]
     },
     "metadata": {},
     "output_type": "display_data"
    },
    {
     "name": "stderr",
     "output_type": "stream",
     "text": [
      "I0713 19:40:14.287776 132218468208640 efficientnet_model.py:143] round_filter input=40 output=48\n"
     ]
    },
    {
     "data": {
      "text/html": [
       "<pre style=\"white-space:pre;overflow-x:auto;line-height:normal;font-family:Menlo,'DejaVu Sans Mono',consolas,'Courier New',monospace\">round_filter input=80 output=88\n",
       "</pre>\n"
      ],
      "text/plain": [
       "round_filter input=80 output=88\n"
      ]
     },
     "metadata": {},
     "output_type": "display_data"
    },
    {
     "name": "stderr",
     "output_type": "stream",
     "text": [
      "I0713 19:40:14.289223 132218468208640 efficientnet_model.py:143] round_filter input=80 output=88\n"
     ]
    },
    {
     "data": {
      "text/html": [
       "<pre style=\"white-space:pre;overflow-x:auto;line-height:normal;font-family:Menlo,'DejaVu Sans Mono',consolas,'Courier New',monospace\">round_filter input=80 output=88\n",
       "</pre>\n"
      ],
      "text/plain": [
       "round_filter input=80 output=88\n"
      ]
     },
     "metadata": {},
     "output_type": "display_data"
    },
    {
     "name": "stderr",
     "output_type": "stream",
     "text": [
      "I0713 19:40:14.563512 132218468208640 efficientnet_model.py:143] round_filter input=80 output=88\n"
     ]
    },
    {
     "data": {
      "text/html": [
       "<pre style=\"white-space:pre;overflow-x:auto;line-height:normal;font-family:Menlo,'DejaVu Sans Mono',consolas,'Courier New',monospace\">round_filter input=112 output=120\n",
       "</pre>\n"
      ],
      "text/plain": [
       "round_filter input=112 output=120\n"
      ]
     },
     "metadata": {},
     "output_type": "display_data"
    },
    {
     "name": "stderr",
     "output_type": "stream",
     "text": [
      "I0713 19:40:14.565011 132218468208640 efficientnet_model.py:143] round_filter input=112 output=120\n"
     ]
    }
   ],
   "source": [
    "%run {VERIFICATION_SCRIPT}"
   ]
  }
 ],
 "metadata": {
  "kernelspec": {
   "display_name": "obj_det",
   "language": "python",
   "name": "obj_det"
  },
  "language_info": {
   "codemirror_mode": {
    "name": "ipython",
    "version": 3
   },
   "file_extension": ".py",
   "mimetype": "text/x-python",
   "name": "python",
   "nbconvert_exporter": "python",
   "pygments_lexer": "ipython3",
   "version": "3.10.12"
  }
 },
 "nbformat": 4,
 "nbformat_minor": 5
}
