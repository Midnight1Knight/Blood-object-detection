{
 "cells": [
  {
   "cell_type": "code",
   "execution_count": 4,
   "id": "ccfb1113-16c6-45cb-8bad-544798b2a3de",
   "metadata": {},
   "outputs": [],
   "source": [
    "import os"
   ]
  },
  {
   "cell_type": "markdown",
   "id": "201c8d88-26b1-405a-9259-188b6aa3e658",
   "metadata": {},
   "source": [
    "# Устанавливаем папки"
   ]
  },
  {
   "cell_type": "code",
   "execution_count": 1,
   "id": "914b80ca-5144-4712-be36-3061692e9f50",
   "metadata": {},
   "outputs": [
    {
     "name": "stdin",
     "output_type": "stream",
     "text": [
      "Напишите с какой рыбой работаем: карп\n"
     ]
    }
   ],
   "source": [
    "fish_name = input(\"Напишите с какой рыбой работаем:\")\n",
    "if fish_name.lower() == 'карп':\n",
    "    LABEL_MAP_NAME = 'label_map_karp.pbtxt'\n",
    "    name = 'karp'\n",
    "elif fish_name.lower() == 'осетр':\n",
    "    LABEL_MAP_NAME = 'label_map_osetr.pbtxt'\n",
    "    name = 'osetr'\n",
    "else:\n",
    "    print('Пока нет фотографий для такой рыбы')"
   ]
  },
  {
   "cell_type": "code",
   "execution_count": 2,
   "id": "2bc1dc96-d694-4f80-898d-3169d846f01f",
   "metadata": {},
   "outputs": [],
   "source": [
    "CUSTOM_MODEL_NAME = 'my_ssd_mobnet' \n",
    "PRETRAINED_MODEL_NAME = 'ssd_mobilenet_v2_fpnlite_320x320_coco17_tpu-8'\n",
    "PRETRAINED_MODEL_URL = 'http://download.tensorflow.org/models/object_detection/tf2/20200711/ssd_mobilenet_v2_fpnlite_320x320_coco17_tpu-8.tar.gz'\n",
    "TF_RECORD_SCRIPT_NAME = 'generate_tfrecord.py'"
   ]
  },
  {
   "cell_type": "code",
   "execution_count": 5,
   "id": "8b02304f-c76b-46a0-9871-5b90039ccb3a",
   "metadata": {},
   "outputs": [],
   "source": [
    "paths = {\n",
    "    'WORKSPACE_PATH': os.path.join('Tensorflow', 'workspace'),\n",
    "    'SCRIPTS_PATH': os.path.join('Tensorflow','scripts'),\n",
    "    'APIMODEL_PATH': os.path.join('Tensorflow','models'),\n",
    "    'ANNOTATION_PATH': os.path.join('Tensorflow', 'workspace','annotations'),\n",
    "    'IMAGE_PATH': os.path.join('Tensorflow', 'workspace','data'),\n",
    "    'MODEL_PATH': os.path.join('Tensorflow', 'workspace','models'),\n",
    "    'PRETRAINED_MODEL_PATH': os.path.join('Tensorflow', 'workspace','pre-trained-models'),\n",
    "    'CHECKPOINT_PATH': os.path.join('Tensorflow', 'workspace','models',CUSTOM_MODEL_NAME, name + '_checkpoints'), \n",
    "    'OUTPUT_PATH': os.path.join('Tensorflow', 'workspace','models',CUSTOM_MODEL_NAME, 'export'), \n",
    "    'TFJS_PATH':os.path.join('Tensorflow', 'workspace','models',CUSTOM_MODEL_NAME, 'tfjsexport'), \n",
    "    'TFLITE_PATH':os.path.join('Tensorflow', 'workspace','models',CUSTOM_MODEL_NAME, 'tfliteexport'), \n",
    "    'PROTOC_PATH':os.path.join('Tensorflow','protoc')\n",
    " }"
   ]
  },
  {
   "cell_type": "code",
   "execution_count": 6,
   "id": "3d292d91-6636-4647-94fe-c558e9eac014",
   "metadata": {},
   "outputs": [],
   "source": [
    "files = {\n",
    "    'PIPELINE_CONFIG':os.path.join(paths['CHECKPOINT_PATH'], name + '_pipeline.config'),\n",
    "    'TF_RECORD_SCRIPT': os.path.join(paths['SCRIPTS_PATH'], TF_RECORD_SCRIPT_NAME), \n",
    "    'LABELMAP': os.path.join(paths['ANNOTATION_PATH'], LABEL_MAP_NAME)\n",
    "}"
   ]
  },
  {
   "cell_type": "code",
   "execution_count": 7,
   "id": "335d1dd4-799c-4077-a9cb-9e5d90955915",
   "metadata": {},
   "outputs": [],
   "source": [
    "for path in paths.values():\n",
    "    if not os.path.exists(path):\n",
    "        if os.name == 'posix':\n",
    "            !mkdir -p {path}\n",
    "        if os.name == 'nt':\n",
    "            !mkdir {path}"
   ]
  },
  {
   "cell_type": "code",
   "execution_count": 8,
   "id": "6bfd1528-18d8-42b7-9d1d-544c4527efec",
   "metadata": {},
   "outputs": [],
   "source": [
    "if not os.path.exists(os.path.join(paths['APIMODEL_PATH'], 'research', 'object_detection')):\n",
    "    !git clone https://github.com/tensorflow/models {paths['APIMODEL_PATH']}"
   ]
  },
  {
   "cell_type": "code",
   "execution_count": null,
   "id": "c40665d3-852b-4b1f-9f8a-11af28cdb333",
   "metadata": {},
   "outputs": [],
   "source": []
  },
  {
   "cell_type": "code",
   "execution_count": 11,
   "id": "014b70a9-0f8f-44c2-8312-21c573067c9f",
   "metadata": {},
   "outputs": [
    {
     "name": "stdout",
     "output_type": "stream",
     "text": [
      "E: Could not open lock file /var/lib/dpkg/lock-frontend - open (13: Permission denied)\n",
      "E: Unable to acquire the dpkg frontend lock (/var/lib/dpkg/lock-frontend), are you root?\n",
      "Defaulting to user installation because normal site-packages is not writeable\n",
      "Processing /home/midnightknight/Blood-object-detection/Tensorflow/models/research\n",
      "  Preparing metadata (setup.py) ... \u001b[?25ldone\n",
      "\u001b[?25hCollecting avro-python3 (from object_detection==0.1)\n",
      "  Using cached avro_python3-1.10.2-py3-none-any.whl\n",
      "Collecting apache-beam (from object_detection==0.1)\n",
      "  Downloading apache_beam-2.57.0-cp310-cp310-manylinux_2_17_x86_64.manylinux2014_x86_64.whl.metadata (7.6 kB)\n",
      "Requirement already satisfied: pillow in /home/midnightknight/.local/lib/python3.10/site-packages (from object_detection==0.1) (10.2.0)\n",
      "Requirement already satisfied: lxml in /home/midnightknight/.local/lib/python3.10/site-packages (from object_detection==0.1) (5.2.2)\n",
      "Requirement already satisfied: matplotlib in /home/midnightknight/.local/lib/python3.10/site-packages (from object_detection==0.1) (3.8.2)\n",
      "Collecting Cython (from object_detection==0.1)\n",
      "  Using cached Cython-3.0.10-cp310-cp310-manylinux_2_17_x86_64.manylinux2014_x86_64.whl.metadata (3.2 kB)\n",
      "Collecting contextlib2 (from object_detection==0.1)\n",
      "  Using cached contextlib2-21.6.0-py2.py3-none-any.whl.metadata (4.1 kB)\n",
      "Collecting tf-slim (from object_detection==0.1)\n",
      "  Using cached tf_slim-1.1.0-py2.py3-none-any.whl.metadata (1.6 kB)\n",
      "Requirement already satisfied: six in /usr/lib/python3/dist-packages (from object_detection==0.1) (1.16.0)\n",
      "Collecting pycocotools (from object_detection==0.1)\n",
      "  Using cached pycocotools-2.0.8-cp310-cp310-manylinux_2_17_x86_64.manylinux2014_x86_64.whl.metadata (1.1 kB)\n",
      "Collecting lvis (from object_detection==0.1)\n",
      "  Using cached lvis-0.5.3-py3-none-any.whl.metadata (856 bytes)\n",
      "Requirement already satisfied: scipy in /home/midnightknight/.local/lib/python3.10/site-packages (from object_detection==0.1) (1.12.0)\n",
      "Requirement already satisfied: pandas in /home/midnightknight/.local/lib/python3.10/site-packages (from object_detection==0.1) (2.2.1)\n",
      "Collecting tf-models-official<2.16.0,>=2.5.1 (from object_detection==0.1)\n",
      "  Using cached tf_models_official-2.15.0-py2.py3-none-any.whl.metadata (1.4 kB)\n",
      "Collecting tensorflow_io (from object_detection==0.1)\n",
      "  Downloading tensorflow_io-0.37.1-cp310-cp310-manylinux_2_17_x86_64.manylinux2014_x86_64.whl.metadata (14 kB)\n",
      "Requirement already satisfied: pyparsing==2.4.7 in /usr/lib/python3/dist-packages (from object_detection==0.1) (2.4.7)\n",
      "Collecting sacrebleu<=2.2.0 (from object_detection==0.1)\n",
      "  Using cached sacrebleu-2.2.0-py3-none-any.whl.metadata (55 kB)\n",
      "Collecting portalocker (from sacrebleu<=2.2.0->object_detection==0.1)\n",
      "  Downloading portalocker-2.10.0-py3-none-any.whl.metadata (8.5 kB)\n",
      "Requirement already satisfied: regex in /home/midnightknight/.local/lib/python3.10/site-packages (from sacrebleu<=2.2.0->object_detection==0.1) (2024.5.15)\n",
      "Requirement already satisfied: tabulate>=0.8.9 in /home/midnightknight/.local/lib/python3.10/site-packages (from sacrebleu<=2.2.0->object_detection==0.1) (0.9.0)\n",
      "Requirement already satisfied: numpy>=1.17 in /home/midnightknight/.local/lib/python3.10/site-packages (from sacrebleu<=2.2.0->object_detection==0.1) (1.26.3)\n",
      "Requirement already satisfied: colorama in /usr/lib/python3/dist-packages (from sacrebleu<=2.2.0->object_detection==0.1) (0.4.4)\n",
      "Collecting gin-config (from tf-models-official<2.16.0,>=2.5.1->object_detection==0.1)\n",
      "  Using cached gin_config-0.5.0-py3-none-any.whl.metadata (2.9 kB)\n",
      "Collecting google-api-python-client>=1.6.7 (from tf-models-official<2.16.0,>=2.5.1->object_detection==0.1)\n",
      "  Downloading google_api_python_client-2.137.0-py2.py3-none-any.whl.metadata (6.7 kB)\n",
      "Collecting immutabledict (from tf-models-official<2.16.0,>=2.5.1->object_detection==0.1)\n",
      "  Using cached immutabledict-4.2.0-py3-none-any.whl.metadata (3.4 kB)\n",
      "Collecting kaggle>=1.3.9 (from tf-models-official<2.16.0,>=2.5.1->object_detection==0.1)\n",
      "  Using cached kaggle-1.6.14-py3-none-any.whl\n",
      "Collecting oauth2client (from tf-models-official<2.16.0,>=2.5.1->object_detection==0.1)\n",
      "  Using cached oauth2client-4.1.3-py2.py3-none-any.whl.metadata (1.2 kB)\n",
      "Collecting opencv-python-headless (from tf-models-official<2.16.0,>=2.5.1->object_detection==0.1)\n",
      "  Using cached opencv_python_headless-4.10.0.84-cp37-abi3-manylinux_2_17_x86_64.manylinux2014_x86_64.whl.metadata (20 kB)\n",
      "Requirement already satisfied: psutil>=5.4.3 in /home/midnightknight/.local/lib/python3.10/site-packages (from tf-models-official<2.16.0,>=2.5.1->object_detection==0.1) (5.9.7)\n",
      "Collecting py-cpuinfo>=3.3.0 (from tf-models-official<2.16.0,>=2.5.1->object_detection==0.1)\n",
      "  Using cached py_cpuinfo-9.0.0-py3-none-any.whl.metadata (794 bytes)\n",
      "Collecting pyyaml>=6.0.0 (from tf-models-official<2.16.0,>=2.5.1->object_detection==0.1)\n",
      "  Using cached PyYAML-6.0.1-cp310-cp310-manylinux_2_17_x86_64.manylinux2014_x86_64.whl.metadata (2.1 kB)\n",
      "Requirement already satisfied: sentencepiece in /home/midnightknight/.local/lib/python3.10/site-packages (from tf-models-official<2.16.0,>=2.5.1->object_detection==0.1) (0.2.0)\n",
      "Collecting seqeval (from tf-models-official<2.16.0,>=2.5.1->object_detection==0.1)\n",
      "  Using cached seqeval-1.2.2-py3-none-any.whl\n",
      "Collecting tensorflow-datasets (from tf-models-official<2.16.0,>=2.5.1->object_detection==0.1)\n",
      "  Using cached tensorflow_datasets-4.9.6-py3-none-any.whl.metadata (9.5 kB)\n",
      "Collecting tensorflow-hub>=0.6.0 (from tf-models-official<2.16.0,>=2.5.1->object_detection==0.1)\n",
      "  Using cached tensorflow_hub-0.16.1-py2.py3-none-any.whl.metadata (1.3 kB)\n",
      "Collecting tensorflow-model-optimization>=0.4.1 (from tf-models-official<2.16.0,>=2.5.1->object_detection==0.1)\n",
      "  Using cached tensorflow_model_optimization-0.8.0-py2.py3-none-any.whl.metadata (904 bytes)\n",
      "Collecting tensorflow-text~=2.15.0 (from tf-models-official<2.16.0,>=2.5.1->object_detection==0.1)\n",
      "  Using cached tensorflow_text-2.15.0-cp310-cp310-manylinux_2_17_x86_64.manylinux2014_x86_64.whl.metadata (1.9 kB)\n",
      "Collecting tensorflow~=2.15.0 (from tf-models-official<2.16.0,>=2.5.1->object_detection==0.1)\n",
      "  Using cached tensorflow-2.15.1-cp310-cp310-manylinux_2_17_x86_64.manylinux2014_x86_64.whl.metadata (4.2 kB)\n",
      "Requirement already satisfied: python-dateutil>=2.8.2 in /home/midnightknight/.local/lib/python3.10/site-packages (from pandas->object_detection==0.1) (2.8.2)\n",
      "Requirement already satisfied: pytz>=2020.1 in /usr/lib/python3/dist-packages (from pandas->object_detection==0.1) (2022.1)\n",
      "Requirement already satisfied: tzdata>=2022.7 in /home/midnightknight/.local/lib/python3.10/site-packages (from pandas->object_detection==0.1) (2023.4)\n",
      "Requirement already satisfied: absl-py>=0.2.2 in /usr/local/lib/python3.10/dist-packages (from tf-slim->object_detection==0.1) (2.1.0)\n",
      "Collecting crcmod<2.0,>=1.7 (from apache-beam->object_detection==0.1)\n",
      "  Using cached crcmod-1.7-cp310-cp310-linux_x86_64.whl\n",
      "Collecting orjson<4,>=3.9.7 (from apache-beam->object_detection==0.1)\n",
      "  Downloading orjson-3.10.6-cp310-cp310-manylinux_2_17_x86_64.manylinux2014_x86_64.whl.metadata (50 kB)\n",
      "\u001b[2K     \u001b[38;2;114;156;31m━━━━━━━━━━━━━━━━━━━━━━━━━━━━━━━━━━━━━━━\u001b[0m \u001b[32m50.4/50.4 kB\u001b[0m \u001b[31m729.1 kB/s\u001b[0m eta \u001b[36m0:00:00\u001b[0mm eta \u001b[36m-:--:--\u001b[0m\n",
      "\u001b[?25hCollecting dill<0.3.2,>=0.3.1.1 (from apache-beam->object_detection==0.1)\n",
      "  Using cached dill-0.3.1.1-py3-none-any.whl\n",
      "Collecting cloudpickle~=2.2.1 (from apache-beam->object_detection==0.1)\n",
      "  Using cached cloudpickle-2.2.1-py3-none-any.whl.metadata (6.9 kB)\n",
      "Collecting fastavro<2,>=0.23.6 (from apache-beam->object_detection==0.1)\n",
      "  Downloading fastavro-1.9.5-cp310-cp310-manylinux_2_17_x86_64.manylinux2014_x86_64.whl.metadata (5.5 kB)\n",
      "Collecting fasteners<1.0,>=0.3 (from apache-beam->object_detection==0.1)\n",
      "  Using cached fasteners-0.19-py3-none-any.whl.metadata (4.9 kB)\n",
      "Requirement already satisfied: grpcio!=1.48.0,!=1.59.*,!=1.60.*,!=1.61.*,!=1.62.0,!=1.62.1,<2,>=1.33.1 in /home/midnightknight/.local/lib/python3.10/site-packages (from apache-beam->object_detection==0.1) (1.54.0)\n",
      "Collecting hdfs<3.0.0,>=2.1.0 (from apache-beam->object_detection==0.1)\n",
      "  Using cached hdfs-2.7.3-py3-none-any.whl\n",
      "Requirement already satisfied: httplib2<0.23.0,>=0.8 in /usr/lib/python3/dist-packages (from apache-beam->object_detection==0.1) (0.20.2)\n",
      "Requirement already satisfied: jsonschema<5.0.0,>=4.0.0 in /home/midnightknight/.local/lib/python3.10/site-packages (from apache-beam->object_detection==0.1) (4.20.0)\n",
      "Collecting jsonpickle<4.0.0,>=3.0.0 (from apache-beam->object_detection==0.1)\n",
      "  Downloading jsonpickle-3.2.2-py3-none-any.whl.metadata (7.2 kB)\n",
      "Collecting objsize<0.8.0,>=0.6.1 (from apache-beam->object_detection==0.1)\n",
      "  Using cached objsize-0.7.0-py3-none-any.whl.metadata (12 kB)\n",
      "Requirement already satisfied: packaging>=22.0 in /home/midnightknight/.local/lib/python3.10/site-packages (from apache-beam->object_detection==0.1) (23.2)\n",
      "Collecting pymongo<5.0.0,>=3.8.0 (from apache-beam->object_detection==0.1)\n",
      "  Downloading pymongo-4.8.0-cp310-cp310-manylinux_2_17_x86_64.manylinux2014_x86_64.whl.metadata (22 kB)\n",
      "Collecting proto-plus<2,>=1.7.1 (from apache-beam->object_detection==0.1)\n",
      "  Downloading proto_plus-1.24.0-py3-none-any.whl.metadata (2.2 kB)\n",
      "Requirement already satisfied: protobuf!=4.0.*,!=4.21.*,!=4.22.0,!=4.23.*,!=4.24.*,<4.26.0,>=3.20.3 in /home/midnightknight/.local/lib/python3.10/site-packages (from apache-beam->object_detection==0.1) (4.22.3)\n",
      "Collecting pydot<2,>=1.2.0 (from apache-beam->object_detection==0.1)\n",
      "  Using cached pydot-1.4.2-py2.py3-none-any.whl.metadata (8.0 kB)\n",
      "Collecting redis<6,>=5.0.0 (from apache-beam->object_detection==0.1)\n",
      "  Downloading redis-5.0.7-py3-none-any.whl.metadata (9.3 kB)\n",
      "Collecting requests!=2.32.*,<3.0.0,>=2.24.0 (from apache-beam->object_detection==0.1)\n",
      "  Using cached requests-2.31.0-py3-none-any.whl.metadata (4.6 kB)\n",
      "Requirement already satisfied: typing-extensions>=3.7.0 in /home/midnightknight/.local/lib/python3.10/site-packages (from apache-beam->object_detection==0.1) (4.9.0)\n",
      "Collecting zstandard<1,>=0.18.0 (from apache-beam->object_detection==0.1)\n",
      "  Using cached zstandard-0.22.0-cp310-cp310-manylinux_2_17_x86_64.manylinux2014_x86_64.whl.metadata (2.9 kB)\n",
      "Requirement already satisfied: pyarrow<17.0.0,>=3.0.0 in /home/midnightknight/.local/lib/python3.10/site-packages (from apache-beam->object_detection==0.1) (16.1.0)\n",
      "Requirement already satisfied: pyarrow-hotfix<1 in /home/midnightknight/.local/lib/python3.10/site-packages (from apache-beam->object_detection==0.1) (0.6)\n",
      "Collecting js2py<1,>=0.74 (from apache-beam->object_detection==0.1)\n",
      "  Using cached Js2Py-0.74-py3-none-any.whl.metadata (868 bytes)\n",
      "Requirement already satisfied: cycler>=0.10.0 in /home/midnightknight/.local/lib/python3.10/site-packages (from lvis->object_detection==0.1) (0.12.1)\n",
      "Requirement already satisfied: kiwisolver>=1.1.0 in /home/midnightknight/.local/lib/python3.10/site-packages (from lvis->object_detection==0.1) (1.4.5)\n",
      "Collecting opencv-python>=4.1.0.25 (from lvis->object_detection==0.1)\n",
      "  Using cached opencv_python-4.10.0.84-cp37-abi3-manylinux_2_17_x86_64.manylinux2014_x86_64.whl.metadata (20 kB)\n",
      "Requirement already satisfied: contourpy>=1.0.1 in /home/midnightknight/.local/lib/python3.10/site-packages (from matplotlib->object_detection==0.1) (1.2.0)\n",
      "Requirement already satisfied: fonttools>=4.22.0 in /home/midnightknight/.local/lib/python3.10/site-packages (from matplotlib->object_detection==0.1) (4.47.2)\n",
      "Collecting tensorflow-io-gcs-filesystem==0.37.1 (from tensorflow_io->object_detection==0.1)\n",
      "  Downloading tensorflow_io_gcs_filesystem-0.37.1-cp310-cp310-manylinux_2_17_x86_64.manylinux2014_x86_64.whl.metadata (14 kB)\n",
      "Collecting google-auth!=2.24.0,!=2.25.0,<3.0.0.dev0,>=1.32.0 (from google-api-python-client>=1.6.7->tf-models-official<2.16.0,>=2.5.1->object_detection==0.1)\n",
      "  Downloading google_auth-2.32.0-py2.py3-none-any.whl.metadata (4.7 kB)\n",
      "Collecting google-auth-httplib2<1.0.0,>=0.2.0 (from google-api-python-client>=1.6.7->tf-models-official<2.16.0,>=2.5.1->object_detection==0.1)\n",
      "  Using cached google_auth_httplib2-0.2.0-py2.py3-none-any.whl.metadata (2.2 kB)\n",
      "Collecting google-api-core!=2.0.*,!=2.1.*,!=2.2.*,!=2.3.0,<3.0.0.dev0,>=1.31.5 (from google-api-python-client>=1.6.7->tf-models-official<2.16.0,>=2.5.1->object_detection==0.1)\n",
      "  Downloading google_api_core-2.19.1-py3-none-any.whl.metadata (2.7 kB)\n",
      "Collecting uritemplate<5,>=3.0.1 (from google-api-python-client>=1.6.7->tf-models-official<2.16.0,>=2.5.1->object_detection==0.1)\n",
      "  Using cached uritemplate-4.1.1-py2.py3-none-any.whl.metadata (2.9 kB)\n",
      "Requirement already satisfied: docopt in /home/midnightknight/.local/lib/python3.10/site-packages (from hdfs<3.0.0,>=2.1.0->apache-beam->object_detection==0.1) (0.6.2)\n",
      "Collecting tzlocal>=1.2 (from js2py<1,>=0.74->apache-beam->object_detection==0.1)\n",
      "  Using cached tzlocal-5.2-py3-none-any.whl.metadata (7.8 kB)\n",
      "Collecting pyjsparser>=2.5.1 (from js2py<1,>=0.74->apache-beam->object_detection==0.1)\n",
      "  Using cached pyjsparser-2.7.1-py3-none-any.whl\n",
      "Requirement already satisfied: attrs>=22.2.0 in /home/midnightknight/.local/lib/python3.10/site-packages (from jsonschema<5.0.0,>=4.0.0->apache-beam->object_detection==0.1) (23.2.0)\n",
      "Requirement already satisfied: jsonschema-specifications>=2023.03.6 in /home/midnightknight/.local/lib/python3.10/site-packages (from jsonschema<5.0.0,>=4.0.0->apache-beam->object_detection==0.1) (2023.12.1)\n",
      "Requirement already satisfied: referencing>=0.28.4 in /home/midnightknight/.local/lib/python3.10/site-packages (from jsonschema<5.0.0,>=4.0.0->apache-beam->object_detection==0.1) (0.32.1)\n",
      "Requirement already satisfied: rpds-py>=0.7.1 in /home/midnightknight/.local/lib/python3.10/site-packages (from jsonschema<5.0.0,>=4.0.0->apache-beam->object_detection==0.1) (0.16.2)\n",
      "Requirement already satisfied: bleach in /home/midnightknight/.local/lib/python3.10/site-packages (from kaggle>=1.3.9->tf-models-official<2.16.0,>=2.5.1->object_detection==0.1) (6.1.0)\n",
      "Collecting certifi>=2023.7.22 (from kaggle>=1.3.9->tf-models-official<2.16.0,>=2.5.1->object_detection==0.1)\n",
      "  Downloading certifi-2024.7.4-py3-none-any.whl.metadata (2.2 kB)\n",
      "Collecting python-slugify (from kaggle>=1.3.9->tf-models-official<2.16.0,>=2.5.1->object_detection==0.1)\n",
      "  Using cached python_slugify-8.0.4-py2.py3-none-any.whl.metadata (8.5 kB)\n",
      "Requirement already satisfied: tqdm in /home/midnightknight/.local/lib/python3.10/site-packages (from kaggle>=1.3.9->tf-models-official<2.16.0,>=2.5.1->object_detection==0.1) (4.66.4)\n",
      "Requirement already satisfied: urllib3 in /usr/lib/python3/dist-packages (from kaggle>=1.3.9->tf-models-official<2.16.0,>=2.5.1->object_detection==0.1) (1.26.5)\n",
      "Collecting dnspython<3.0.0,>=1.16.0 (from pymongo<5.0.0,>=3.8.0->apache-beam->object_detection==0.1)\n",
      "  Using cached dnspython-2.6.1-py3-none-any.whl.metadata (5.8 kB)\n",
      "Requirement already satisfied: async-timeout>=4.0.3 in /home/midnightknight/.local/lib/python3.10/site-packages (from redis<6,>=5.0.0->apache-beam->object_detection==0.1) (4.0.3)\n",
      "Requirement already satisfied: charset-normalizer<4,>=2 in /home/midnightknight/.local/lib/python3.10/site-packages (from requests!=2.32.*,<3.0.0,>=2.24.0->apache-beam->object_detection==0.1) (3.3.2)\n",
      "Requirement already satisfied: idna<4,>=2.5 in /usr/lib/python3/dist-packages (from requests!=2.32.*,<3.0.0,>=2.24.0->apache-beam->object_detection==0.1) (3.3)\n",
      "Collecting astunparse>=1.6.0 (from tensorflow~=2.15.0->tf-models-official<2.16.0,>=2.5.1->object_detection==0.1)\n",
      "  Using cached astunparse-1.6.3-py2.py3-none-any.whl.metadata (4.4 kB)\n",
      "Collecting flatbuffers>=23.5.26 (from tensorflow~=2.15.0->tf-models-official<2.16.0,>=2.5.1->object_detection==0.1)\n",
      "  Using cached flatbuffers-24.3.25-py2.py3-none-any.whl.metadata (850 bytes)\n",
      "Collecting gast!=0.5.0,!=0.5.1,!=0.5.2,>=0.2.1 (from tensorflow~=2.15.0->tf-models-official<2.16.0,>=2.5.1->object_detection==0.1)\n",
      "  Downloading gast-0.6.0-py3-none-any.whl.metadata (1.3 kB)\n",
      "Collecting google-pasta>=0.1.1 (from tensorflow~=2.15.0->tf-models-official<2.16.0,>=2.5.1->object_detection==0.1)\n",
      "  Using cached google_pasta-0.2.0-py3-none-any.whl.metadata (814 bytes)\n",
      "Collecting h5py>=2.9.0 (from tensorflow~=2.15.0->tf-models-official<2.16.0,>=2.5.1->object_detection==0.1)\n",
      "  Using cached h5py-3.11.0-cp310-cp310-manylinux_2_17_x86_64.manylinux2014_x86_64.whl.metadata (2.5 kB)\n",
      "Collecting libclang>=13.0.0 (from tensorflow~=2.15.0->tf-models-official<2.16.0,>=2.5.1->object_detection==0.1)\n",
      "  Using cached libclang-18.1.1-py2.py3-none-manylinux2010_x86_64.whl.metadata (5.2 kB)\n",
      "Collecting ml-dtypes~=0.3.1 (from tensorflow~=2.15.0->tf-models-official<2.16.0,>=2.5.1->object_detection==0.1)\n",
      "  Using cached ml_dtypes-0.3.2-cp310-cp310-manylinux_2_17_x86_64.manylinux2014_x86_64.whl.metadata (20 kB)\n",
      "Collecting opt-einsum>=2.3.2 (from tensorflow~=2.15.0->tf-models-official<2.16.0,>=2.5.1->object_detection==0.1)\n",
      "  Using cached opt_einsum-3.3.0-py3-none-any.whl.metadata (6.5 kB)\n",
      "Requirement already satisfied: setuptools in /home/midnightknight/.local/lib/python3.10/site-packages (from tensorflow~=2.15.0->tf-models-official<2.16.0,>=2.5.1->object_detection==0.1) (69.5.1)\n",
      "Collecting termcolor>=1.1.0 (from tensorflow~=2.15.0->tf-models-official<2.16.0,>=2.5.1->object_detection==0.1)\n",
      "  Using cached termcolor-2.4.0-py3-none-any.whl.metadata (6.1 kB)\n",
      "Collecting wrapt<1.15,>=1.11.0 (from tensorflow~=2.15.0->tf-models-official<2.16.0,>=2.5.1->object_detection==0.1)\n",
      "  Using cached wrapt-1.14.1-cp310-cp310-manylinux_2_5_x86_64.manylinux1_x86_64.manylinux_2_17_x86_64.manylinux2014_x86_64.whl.metadata (6.7 kB)\n",
      "Collecting tensorboard<2.16,>=2.15 (from tensorflow~=2.15.0->tf-models-official<2.16.0,>=2.5.1->object_detection==0.1)\n",
      "  Using cached tensorboard-2.15.2-py3-none-any.whl.metadata (1.7 kB)\n",
      "Collecting tensorflow-estimator<2.16,>=2.15.0 (from tensorflow~=2.15.0->tf-models-official<2.16.0,>=2.5.1->object_detection==0.1)\n",
      "  Using cached tensorflow_estimator-2.15.0-py2.py3-none-any.whl.metadata (1.3 kB)\n",
      "Collecting keras<2.16,>=2.15.0 (from tensorflow~=2.15.0->tf-models-official<2.16.0,>=2.5.1->object_detection==0.1)\n",
      "  Using cached keras-2.15.0-py3-none-any.whl.metadata (2.4 kB)\n",
      "Collecting tf-keras>=2.14.1 (from tensorflow-hub>=0.6.0->tf-models-official<2.16.0,>=2.5.1->object_detection==0.1)\n",
      "  Using cached tf_keras-2.16.0-py3-none-any.whl.metadata (1.6 kB)\n",
      "Collecting absl-py>=0.2.2 (from tf-slim->object_detection==0.1)\n",
      "  Using cached absl_py-1.4.0-py3-none-any.whl.metadata (2.3 kB)\n",
      "Collecting dm-tree~=0.1.1 (from tensorflow-model-optimization>=0.4.1->tf-models-official<2.16.0,>=2.5.1->object_detection==0.1)\n",
      "  Using cached dm_tree-0.1.8-cp310-cp310-manylinux_2_17_x86_64.manylinux2014_x86_64.whl.metadata (1.9 kB)\n",
      "Requirement already satisfied: pyasn1>=0.1.7 in /usr/lib/python3/dist-packages (from oauth2client->tf-models-official<2.16.0,>=2.5.1->object_detection==0.1) (0.4.8)\n",
      "Requirement already satisfied: pyasn1-modules>=0.0.5 in /usr/lib/python3/dist-packages (from oauth2client->tf-models-official<2.16.0,>=2.5.1->object_detection==0.1) (0.2.1)\n",
      "Collecting rsa>=3.1.4 (from oauth2client->tf-models-official<2.16.0,>=2.5.1->object_detection==0.1)\n",
      "  Using cached rsa-4.9-py3-none-any.whl.metadata (4.2 kB)\n",
      "Requirement already satisfied: scikit-learn>=0.21.3 in /home/midnightknight/.local/lib/python3.10/site-packages (from seqeval->tf-models-official<2.16.0,>=2.5.1->object_detection==0.1) (1.4.1.post1)\n",
      "Requirement already satisfied: click in /usr/lib/python3/dist-packages (from tensorflow-datasets->tf-models-official<2.16.0,>=2.5.1->object_detection==0.1) (8.0.3)\n",
      "Collecting promise (from tensorflow-datasets->tf-models-official<2.16.0,>=2.5.1->object_detection==0.1)\n",
      "  Using cached promise-2.3-py3-none-any.whl\n",
      "Collecting simple-parsing (from tensorflow-datasets->tf-models-official<2.16.0,>=2.5.1->object_detection==0.1)\n",
      "  Using cached simple_parsing-0.1.5-py3-none-any.whl.metadata (7.7 kB)\n",
      "Collecting tensorflow-metadata (from tensorflow-datasets->tf-models-official<2.16.0,>=2.5.1->object_detection==0.1)\n",
      "  Using cached tensorflow_metadata-1.15.0-py3-none-any.whl.metadata (2.4 kB)\n",
      "Collecting toml (from tensorflow-datasets->tf-models-official<2.16.0,>=2.5.1->object_detection==0.1)\n",
      "  Using cached toml-0.10.2-py2.py3-none-any.whl.metadata (7.1 kB)\n",
      "Collecting array-record>=0.5.0 (from tensorflow-datasets->tf-models-official<2.16.0,>=2.5.1->object_detection==0.1)\n",
      "  Using cached array_record-0.5.1-cp310-cp310-manylinux_2_17_x86_64.manylinux2014_x86_64.whl.metadata (699 bytes)\n",
      "Collecting etils>=1.6.0 (from etils[enp,epath,epy,etree]>=1.6.0; python_version < \"3.11\"->tensorflow-datasets->tf-models-official<2.16.0,>=2.5.1->object_detection==0.1)\n",
      "  Using cached etils-1.7.0-py3-none-any.whl.metadata (6.4 kB)\n",
      "Requirement already satisfied: wheel<1.0,>=0.23.0 in /usr/lib/python3/dist-packages (from astunparse>=1.6.0->tensorflow~=2.15.0->tf-models-official<2.16.0,>=2.5.1->object_detection==0.1) (0.37.1)\n",
      "Requirement already satisfied: fsspec in /home/midnightknight/.local/lib/python3.10/site-packages (from etils[enp,epath,epy,etree]>=1.6.0; python_version < \"3.11\"->tensorflow-datasets->tf-models-official<2.16.0,>=2.5.1->object_detection==0.1) (2024.3.1)\n",
      "Collecting importlib_resources (from etils[enp,epath,epy,etree]>=1.6.0; python_version < \"3.11\"->tensorflow-datasets->tf-models-official<2.16.0,>=2.5.1->object_detection==0.1)\n",
      "  Using cached importlib_resources-6.4.0-py3-none-any.whl.metadata (3.9 kB)\n",
      "Requirement already satisfied: zipp in /usr/lib/python3/dist-packages (from etils[enp,epath,epy,etree]>=1.6.0; python_version < \"3.11\"->tensorflow-datasets->tf-models-official<2.16.0,>=2.5.1->object_detection==0.1) (1.0.0)\n",
      "Collecting googleapis-common-protos<2.0.dev0,>=1.56.2 (from google-api-core!=2.0.*,!=2.1.*,!=2.2.*,!=2.3.0,<3.0.0.dev0,>=1.31.5->google-api-python-client>=1.6.7->tf-models-official<2.16.0,>=2.5.1->object_detection==0.1)\n",
      "  Downloading googleapis_common_protos-1.63.2-py2.py3-none-any.whl.metadata (1.5 kB)\n",
      "Collecting cachetools<6.0,>=2.0.0 (from google-auth!=2.24.0,!=2.25.0,<3.0.0.dev0,>=1.32.0->google-api-python-client>=1.6.7->tf-models-official<2.16.0,>=2.5.1->object_detection==0.1)\n",
      "  Using cached cachetools-5.3.3-py3-none-any.whl.metadata (5.3 kB)\n",
      "Requirement already satisfied: joblib>=1.2.0 in /home/midnightknight/.local/lib/python3.10/site-packages (from scikit-learn>=0.21.3->seqeval->tf-models-official<2.16.0,>=2.5.1->object_detection==0.1) (1.3.2)\n",
      "Requirement already satisfied: threadpoolctl>=2.0.0 in /home/midnightknight/.local/lib/python3.10/site-packages (from scikit-learn>=0.21.3->seqeval->tf-models-official<2.16.0,>=2.5.1->object_detection==0.1) (3.4.0)\n",
      "Collecting google-auth-oauthlib<2,>=0.5 (from tensorboard<2.16,>=2.15->tensorflow~=2.15.0->tf-models-official<2.16.0,>=2.5.1->object_detection==0.1)\n",
      "  Downloading google_auth_oauthlib-1.2.1-py2.py3-none-any.whl.metadata (2.7 kB)\n",
      "Collecting markdown>=2.6.8 (from tensorboard<2.16,>=2.15->tensorflow~=2.15.0->tf-models-official<2.16.0,>=2.5.1->object_detection==0.1)\n",
      "  Using cached Markdown-3.6-py3-none-any.whl.metadata (7.0 kB)\n",
      "Collecting tensorboard-data-server<0.8.0,>=0.7.0 (from tensorboard<2.16,>=2.15->tensorflow~=2.15.0->tf-models-official<2.16.0,>=2.5.1->object_detection==0.1)\n",
      "  Using cached tensorboard_data_server-0.7.2-py3-none-manylinux_2_31_x86_64.whl.metadata (1.1 kB)\n",
      "Collecting werkzeug>=1.0.1 (from tensorboard<2.16,>=2.15->tensorflow~=2.15.0->tf-models-official<2.16.0,>=2.5.1->object_detection==0.1)\n",
      "  Using cached werkzeug-3.0.3-py3-none-any.whl.metadata (3.7 kB)\n",
      "INFO: pip is looking at multiple versions of tf-keras to determine which version is compatible with other requirements. This could take a while.\n",
      "Collecting tf-keras>=2.14.1 (from tensorflow-hub>=0.6.0->tf-models-official<2.16.0,>=2.5.1->object_detection==0.1)\n",
      "  Using cached tf_keras-2.15.1-py3-none-any.whl.metadata (1.7 kB)\n",
      "Requirement already satisfied: webencodings in /home/midnightknight/.local/lib/python3.10/site-packages (from bleach->kaggle>=1.3.9->tf-models-official<2.16.0,>=2.5.1->object_detection==0.1) (0.5.1)\n",
      "Collecting text-unidecode>=1.3 (from python-slugify->kaggle>=1.3.9->tf-models-official<2.16.0,>=2.5.1->object_detection==0.1)\n",
      "  Using cached text_unidecode-1.3-py2.py3-none-any.whl.metadata (2.4 kB)\n",
      "Collecting docstring-parser~=0.15 (from simple-parsing->tensorflow-datasets->tf-models-official<2.16.0,>=2.5.1->object_detection==0.1)\n",
      "  Using cached docstring_parser-0.16-py3-none-any.whl.metadata (3.0 kB)\n",
      "Collecting protobuf!=4.0.*,!=4.21.*,!=4.22.0,!=4.23.*,!=4.24.*,<4.26.0,>=3.20.3 (from apache-beam->object_detection==0.1)\n",
      "  Using cached protobuf-3.20.3-cp310-cp310-manylinux_2_12_x86_64.manylinux2010_x86_64.whl.metadata (679 bytes)\n",
      "Collecting requests-oauthlib>=0.7.0 (from google-auth-oauthlib<2,>=0.5->tensorboard<2.16,>=2.15->tensorflow~=2.15.0->tf-models-official<2.16.0,>=2.5.1->object_detection==0.1)\n",
      "  Using cached requests_oauthlib-2.0.0-py2.py3-none-any.whl.metadata (11 kB)\n",
      "Requirement already satisfied: MarkupSafe>=2.1.1 in /home/midnightknight/.local/lib/python3.10/site-packages (from werkzeug>=1.0.1->tensorboard<2.16,>=2.15->tensorflow~=2.15.0->tf-models-official<2.16.0,>=2.5.1->object_detection==0.1) (2.1.3)\n",
      "Requirement already satisfied: oauthlib>=3.0.0 in /usr/lib/python3/dist-packages (from requests-oauthlib>=0.7.0->google-auth-oauthlib<2,>=0.5->tensorboard<2.16,>=2.15->tensorflow~=2.15.0->tf-models-official<2.16.0,>=2.5.1->object_detection==0.1) (3.2.0)\n",
      "Using cached sacrebleu-2.2.0-py3-none-any.whl (116 kB)\n",
      "Using cached tf_models_official-2.15.0-py2.py3-none-any.whl (2.7 MB)\n",
      "Using cached tf_slim-1.1.0-py2.py3-none-any.whl (352 kB)\n",
      "Downloading apache_beam-2.57.0-cp310-cp310-manylinux_2_17_x86_64.manylinux2014_x86_64.whl (14.5 MB)\n",
      "\u001b[2K   \u001b[38;2;114;156;31m━━━━━━━━━━━━━━━━━━━━━━━━━━━━━━━━━━━━━━━━\u001b[0m \u001b[32m14.5/14.5 MB\u001b[0m \u001b[31m835.0 kB/s\u001b[0m eta \u001b[36m0:00:00\u001b[0mm eta \u001b[36m0:00:01\u001b[0m[36m0:00:01\u001b[0m\n",
      "\u001b[?25hUsing cached contextlib2-21.6.0-py2.py3-none-any.whl (13 kB)\n",
      "Using cached Cython-3.0.10-cp310-cp310-manylinux_2_17_x86_64.manylinux2014_x86_64.whl (3.6 MB)\n",
      "Using cached lvis-0.5.3-py3-none-any.whl (14 kB)\n",
      "Using cached pycocotools-2.0.8-cp310-cp310-manylinux_2_17_x86_64.manylinux2014_x86_64.whl (427 kB)\n",
      "Downloading tensorflow_io-0.37.1-cp310-cp310-manylinux_2_17_x86_64.manylinux2014_x86_64.whl (49.6 MB)\n",
      "\u001b[2K   \u001b[38;2;114;156;31m━━━━━━━━━━━━━━━━━━━━━━━━━━━━━━━━━━━━━━━━\u001b[0m \u001b[32m49.6/49.6 MB\u001b[0m \u001b[31m871.2 kB/s\u001b[0m eta \u001b[36m0:00:00\u001b[0mm eta \u001b[36m0:00:01\u001b[0m[36m0:00:02\u001b[0m\n",
      "\u001b[?25hDownloading tensorflow_io_gcs_filesystem-0.37.1-cp310-cp310-manylinux_2_17_x86_64.manylinux2014_x86_64.whl (5.1 MB)\n",
      "\u001b[2K   \u001b[38;2;114;156;31m━━━━━━━━━━━━━━━━━━━━━━━━━━━━━━━━━━━━━━━━\u001b[0m \u001b[32m5.1/5.1 MB\u001b[0m \u001b[31m1.4 MB/s\u001b[0m eta \u001b[36m0:00:00\u001b[0mm eta \u001b[36m0:00:01\u001b[0m[36m0:00:01\u001b[0m0m\n",
      "\u001b[?25hUsing cached cloudpickle-2.2.1-py3-none-any.whl (25 kB)\n",
      "Downloading fastavro-1.9.5-cp310-cp310-manylinux_2_17_x86_64.manylinux2014_x86_64.whl (3.1 MB)\n",
      "\u001b[2K   \u001b[38;2;114;156;31m━━━━━━━━━━━━━━━━━━━━━━━━━━━━━━━━━━━━━━━━\u001b[0m \u001b[32m3.1/3.1 MB\u001b[0m \u001b[31m892.9 kB/s\u001b[0m eta \u001b[36m0:00:00\u001b[0mm eta \u001b[36m0:00:01\u001b[0m[36m0:00:01\u001b[0m\n",
      "\u001b[?25hUsing cached fasteners-0.19-py3-none-any.whl (18 kB)\n",
      "Downloading google_api_python_client-2.137.0-py2.py3-none-any.whl (12.0 MB)\n",
      "\u001b[2K   \u001b[38;2;114;156;31m━━━━━━━━━━━━━━━━━━━━━━━━━━━━━━━━━━━━━━━━\u001b[0m \u001b[32m12.0/12.0 MB\u001b[0m \u001b[31m859.4 kB/s\u001b[0m eta \u001b[36m0:00:00\u001b[0mm eta \u001b[36m0:00:01\u001b[0m[36m0:00:01\u001b[0m\n",
      "\u001b[?25hUsing cached Js2Py-0.74-py3-none-any.whl (1.0 MB)\n",
      "Downloading jsonpickle-3.2.2-py3-none-any.whl (41 kB)\n",
      "\u001b[2K   \u001b[38;2;114;156;31m━━━━━━━━━━━━━━━━━━━━━━━━━━━━━━━━━━━━━━━━\u001b[0m \u001b[32m41.8/41.8 kB\u001b[0m \u001b[31m849.0 kB/s\u001b[0m eta \u001b[36m0:00:00\u001b[0mB/s\u001b[0m eta \u001b[36m0:00:01\u001b[0m\n",
      "\u001b[?25hUsing cached objsize-0.7.0-py3-none-any.whl (11 kB)\n",
      "Using cached opencv_python-4.10.0.84-cp37-abi3-manylinux_2_17_x86_64.manylinux2014_x86_64.whl (62.5 MB)\n",
      "Downloading orjson-3.10.6-cp310-cp310-manylinux_2_17_x86_64.manylinux2014_x86_64.whl (141 kB)\n",
      "\u001b[2K   \u001b[38;2;114;156;31m━━━━━━━━━━━━━━━━━━━━━━━━━━━━━━━━━━━━━━━\u001b[0m \u001b[32m141.1/141.1 kB\u001b[0m \u001b[31m874.6 kB/s\u001b[0m eta \u001b[36m0:00:00\u001b[0m1m880.9 kB/s\u001b[0m eta \u001b[36m0:00:01\u001b[0m\n",
      "\u001b[?25hDownloading proto_plus-1.24.0-py3-none-any.whl (50 kB)\n",
      "\u001b[2K   \u001b[38;2;114;156;31m━━━━━━━━━━━━━━━━━━━━━━━━━━━━━━━━━━━━━━━━\u001b[0m \u001b[32m50.1/50.1 kB\u001b[0m \u001b[31m964.2 kB/s\u001b[0m eta \u001b[36m0:00:00\u001b[0m1m1.4 MB/s\u001b[0m eta \u001b[36m0:00:01\u001b[0m\n",
      "\u001b[?25hUsing cached py_cpuinfo-9.0.0-py3-none-any.whl (22 kB)\n",
      "Using cached pydot-1.4.2-py2.py3-none-any.whl (21 kB)\n",
      "Downloading pymongo-4.8.0-cp310-cp310-manylinux_2_17_x86_64.manylinux2014_x86_64.whl (1.2 MB)\n",
      "\u001b[2K   \u001b[38;2;114;156;31m━━━━━━━━━━━━━━━━━━━━━━━━━━━━━━━━━━━━━━━━\u001b[0m \u001b[32m1.2/1.2 MB\u001b[0m \u001b[31m613.7 kB/s\u001b[0m eta \u001b[36m0:00:00\u001b[0m1m609.3 kB/s\u001b[0m eta \u001b[36m0:00:01\u001b[0m\n",
      "\u001b[?25hUsing cached PyYAML-6.0.1-cp310-cp310-manylinux_2_17_x86_64.manylinux2014_x86_64.whl (705 kB)\n",
      "Downloading redis-5.0.7-py3-none-any.whl (252 kB)\n",
      "\u001b[2K   \u001b[38;2;114;156;31m━━━━━━━━━━━━━━━━━━━━━━━━━━━━━━━━━━━━━━━\u001b[0m \u001b[32m252.1/252.1 kB\u001b[0m \u001b[31m881.9 kB/s\u001b[0m eta \u001b[36m0:00:00\u001b[0m[36m0:00:01\u001b[0mm eta \u001b[36m0:00:01\u001b[0m\n",
      "\u001b[?25hUsing cached requests-2.31.0-py3-none-any.whl (62 kB)\n",
      "Using cached tensorflow-2.15.1-cp310-cp310-manylinux_2_17_x86_64.manylinux2014_x86_64.whl (475.2 MB)\n",
      "Using cached tensorflow_hub-0.16.1-py2.py3-none-any.whl (30 kB)\n",
      "Using cached tensorflow_model_optimization-0.8.0-py2.py3-none-any.whl (242 kB)\n",
      "Using cached absl_py-1.4.0-py3-none-any.whl (126 kB)\n",
      "Using cached tensorflow_text-2.15.0-cp310-cp310-manylinux_2_17_x86_64.manylinux2014_x86_64.whl (5.2 MB)\n",
      "Using cached zstandard-0.22.0-cp310-cp310-manylinux_2_17_x86_64.manylinux2014_x86_64.whl (5.4 MB)\n",
      "Using cached gin_config-0.5.0-py3-none-any.whl (61 kB)\n",
      "Using cached immutabledict-4.2.0-py3-none-any.whl (4.7 kB)\n",
      "Using cached oauth2client-4.1.3-py2.py3-none-any.whl (98 kB)\n",
      "Using cached opencv_python_headless-4.10.0.84-cp37-abi3-manylinux_2_17_x86_64.manylinux2014_x86_64.whl (49.9 MB)\n",
      "Downloading portalocker-2.10.0-py3-none-any.whl (18 kB)\n",
      "Using cached tensorflow_datasets-4.9.6-py3-none-any.whl (5.1 MB)\n",
      "Using cached array_record-0.5.1-cp310-cp310-manylinux_2_17_x86_64.manylinux2014_x86_64.whl (2.2 MB)\n",
      "Using cached astunparse-1.6.3-py2.py3-none-any.whl (12 kB)\n",
      "Downloading certifi-2024.7.4-py3-none-any.whl (162 kB)\n",
      "\u001b[2K   \u001b[38;2;114;156;31m━━━━━━━━━━━━━━━━━━━━━━━━━━━━━━━━━━━━━━━\u001b[0m \u001b[32m163.0/163.0 kB\u001b[0m \u001b[31m775.0 kB/s\u001b[0m eta \u001b[36m0:00:00\u001b[0m1m766.7 kB/s\u001b[0m eta \u001b[36m0:00:01\u001b[0m\n",
      "\u001b[?25hUsing cached dm_tree-0.1.8-cp310-cp310-manylinux_2_17_x86_64.manylinux2014_x86_64.whl (152 kB)\n",
      "Using cached dnspython-2.6.1-py3-none-any.whl (307 kB)\n",
      "Using cached etils-1.7.0-py3-none-any.whl (152 kB)\n",
      "Using cached flatbuffers-24.3.25-py2.py3-none-any.whl (26 kB)\n",
      "Downloading gast-0.6.0-py3-none-any.whl (21 kB)\n",
      "Downloading google_api_core-2.19.1-py3-none-any.whl (139 kB)\n",
      "\u001b[2K   \u001b[38;2;114;156;31m━━━━━━━━━━━━━━━━━━━━━━━━━━━━━━━━━━━━━━━\u001b[0m \u001b[32m139.4/139.4 kB\u001b[0m \u001b[31m867.0 kB/s\u001b[0m eta \u001b[36m0:00:00\u001b[0m1m875.1 kB/s\u001b[0m eta \u001b[36m0:00:01\u001b[0m\n",
      "\u001b[?25hDownloading google_auth-2.32.0-py2.py3-none-any.whl (195 kB)\n",
      "\u001b[2K   \u001b[38;2;114;156;31m━━━━━━━━━━━━━━━━━━━━━━━━━━━━━━━━━━━━━━━\u001b[0m \u001b[32m195.5/195.5 kB\u001b[0m \u001b[31m903.0 kB/s\u001b[0m eta \u001b[36m0:00:00\u001b[0mm eta \u001b[36m0:00:01\u001b[0m[36m0:00:01\u001b[0m\n",
      "\u001b[?25hUsing cached google_auth_httplib2-0.2.0-py2.py3-none-any.whl (9.3 kB)\n",
      "Using cached google_pasta-0.2.0-py3-none-any.whl (57 kB)\n",
      "Using cached h5py-3.11.0-cp310-cp310-manylinux_2_17_x86_64.manylinux2014_x86_64.whl (5.3 MB)\n",
      "Using cached keras-2.15.0-py3-none-any.whl (1.7 MB)\n",
      "Using cached libclang-18.1.1-py2.py3-none-manylinux2010_x86_64.whl (24.5 MB)\n",
      "Using cached ml_dtypes-0.3.2-cp310-cp310-manylinux_2_17_x86_64.manylinux2014_x86_64.whl (2.2 MB)\n",
      "Using cached opt_einsum-3.3.0-py3-none-any.whl (65 kB)\n",
      "Using cached rsa-4.9-py3-none-any.whl (34 kB)\n",
      "Using cached tensorboard-2.15.2-py3-none-any.whl (5.5 MB)\n",
      "Using cached tensorflow_estimator-2.15.0-py2.py3-none-any.whl (441 kB)\n",
      "Using cached termcolor-2.4.0-py3-none-any.whl (7.7 kB)\n",
      "Using cached tf_keras-2.15.1-py3-none-any.whl (1.7 MB)\n",
      "Using cached tzlocal-5.2-py3-none-any.whl (17 kB)\n",
      "Using cached uritemplate-4.1.1-py2.py3-none-any.whl (10 kB)\n",
      "Using cached wrapt-1.14.1-cp310-cp310-manylinux_2_5_x86_64.manylinux1_x86_64.manylinux_2_17_x86_64.manylinux2014_x86_64.whl (77 kB)\n",
      "Using cached python_slugify-8.0.4-py2.py3-none-any.whl (10 kB)\n",
      "Using cached simple_parsing-0.1.5-py3-none-any.whl (113 kB)\n",
      "Using cached tensorflow_metadata-1.15.0-py3-none-any.whl (28 kB)\n",
      "Using cached protobuf-3.20.3-cp310-cp310-manylinux_2_12_x86_64.manylinux2010_x86_64.whl (1.1 MB)\n",
      "Using cached toml-0.10.2-py2.py3-none-any.whl (16 kB)\n",
      "Using cached cachetools-5.3.3-py3-none-any.whl (9.3 kB)\n",
      "Using cached docstring_parser-0.16-py3-none-any.whl (36 kB)\n",
      "Downloading google_auth_oauthlib-1.2.1-py2.py3-none-any.whl (24 kB)\n",
      "Downloading googleapis_common_protos-1.63.2-py2.py3-none-any.whl (220 kB)\n",
      "\u001b[2K   \u001b[38;2;114;156;31m━━━━━━━━━━━━━━━━━━━━━━━━━━━━━━━━━━━━━━━━\u001b[0m \u001b[32m220.0/220.0 kB\u001b[0m \u001b[31m1.0 MB/s\u001b[0m eta \u001b[36m0:00:00\u001b[0m7 kB/s\u001b[0m eta \u001b[36m0:00:01\u001b[0m01\u001b[0mm\n",
      "\u001b[?25hUsing cached Markdown-3.6-py3-none-any.whl (105 kB)\n",
      "Using cached tensorboard_data_server-0.7.2-py3-none-manylinux_2_31_x86_64.whl (6.6 MB)\n",
      "Using cached text_unidecode-1.3-py2.py3-none-any.whl (78 kB)\n",
      "Using cached werkzeug-3.0.3-py3-none-any.whl (227 kB)\n",
      "Using cached importlib_resources-6.4.0-py3-none-any.whl (38 kB)\n",
      "Using cached requests_oauthlib-2.0.0-py2.py3-none-any.whl (24 kB)\n",
      "Building wheels for collected packages: object_detection\n",
      "  Building wheel for object_detection (setup.py) ... \u001b[?25ldone\n",
      "\u001b[?25h  Created wheel for object_detection: filename=object_detection-0.1-py3-none-any.whl size=1697362 sha256=fcc8f94baa0156973cac46d50344c3adf64ef5e0a0c5c0a0d2249f8de14d07f1\n",
      "  Stored in directory: /tmp/pip-ephem-wheel-cache-nqbody57/wheels/52/43/32/c8905224fdc75bfb8084ed72affc32418707b30247ab0c84b5\n",
      "Successfully built object_detection\n",
      "\u001b[33mWARNING: Error parsing dependencies of libtorrent: Invalid version: '2.0.5-build-libtorrent-rasterbar-qrM5vM-libtorrent-rasterbar-2.0.5-bindings-python'\u001b[0m\u001b[33m\n",
      "\u001b[0mInstalling collected packages: text-unidecode, pyjsparser, py-cpuinfo, libclang, gin-config, flatbuffers, dm-tree, crcmod, zstandard, wrapt, werkzeug, uritemplate, tzlocal, toml, termcolor, tensorflow-io-gcs-filesystem, tensorflow-estimator, tensorboard-data-server, rsa, redis, pyyaml, python-slugify, pydot, protobuf, promise, portalocker, orjson, opt-einsum, opencv-python-headless, opencv-python, objsize, ml-dtypes, markdown, keras, jsonpickle, importlib_resources, immutabledict, h5py, google-pasta, gast, fasteners, fastavro, etils, docstring-parser, dnspython, dill, Cython, contextlib2, cloudpickle, certifi, cachetools, avro-python3, astunparse, absl-py, tf-slim, tensorflow-model-optimization, tensorflow-metadata, tensorflow_io, simple-parsing, sacrebleu, requests, pymongo, proto-plus, oauth2client, js2py, googleapis-common-protos, google-auth, seqeval, requests-oauthlib, pycocotools, lvis, kaggle, hdfs, google-auth-httplib2, google-api-core, google-auth-oauthlib, google-api-python-client, array-record, apache-beam, tensorboard, tensorflow-datasets, tensorflow, tf-keras, tensorflow-hub, tensorflow-text, tf-models-official, object_detection\n",
      "  Attempting uninstall: wrapt\n",
      "    Found existing installation: wrapt 1.16.0\n",
      "    Uninstalling wrapt-1.16.0:\n",
      "      Successfully uninstalled wrapt-1.16.0\n",
      "  Attempting uninstall: protobuf\n",
      "    Found existing installation: protobuf 4.22.3\n",
      "    Uninstalling protobuf-4.22.3:\n",
      "      Successfully uninstalled protobuf-4.22.3\n",
      "  Attempting uninstall: dill\n",
      "    Found existing installation: dill 0.3.8\n",
      "    Uninstalling dill-0.3.8:\n",
      "      Successfully uninstalled dill-0.3.8\n",
      "  Attempting uninstall: requests\n",
      "    Found existing installation: requests 2.32.3\n",
      "    Uninstalling requests-2.32.3:\n",
      "      Successfully uninstalled requests-2.32.3\n",
      "\u001b[31mERROR: pip's dependency resolver does not currently take into account all the packages that are installed. This behaviour is the source of the following dependency conflicts.\n",
      "datasets 2.20.0 requires requests>=2.32.2, but you have requests 2.31.0 which is incompatible.\n",
      "multiprocess 0.70.16 requires dill>=0.3.8, but you have dill 0.3.1.1 which is incompatible.\n",
      "pydgraph 23.0.2 requires protobuf==4.22.3, but you have protobuf 3.20.3 which is incompatible.\u001b[0m\u001b[31m\n",
      "\u001b[0mSuccessfully installed Cython-3.0.10 absl-py-1.4.0 apache-beam-2.57.0 array-record-0.5.1 astunparse-1.6.3 avro-python3-1.10.2 cachetools-5.3.3 certifi-2024.7.4 cloudpickle-2.2.1 contextlib2-21.6.0 crcmod-1.7 dill-0.3.1.1 dm-tree-0.1.8 dnspython-2.6.1 docstring-parser-0.16 etils-1.7.0 fastavro-1.9.5 fasteners-0.19 flatbuffers-24.3.25 gast-0.6.0 gin-config-0.5.0 google-api-core-2.19.1 google-api-python-client-2.137.0 google-auth-2.32.0 google-auth-httplib2-0.2.0 google-auth-oauthlib-1.2.1 google-pasta-0.2.0 googleapis-common-protos-1.63.2 h5py-3.11.0 hdfs-2.7.3 immutabledict-4.2.0 importlib_resources-6.4.0 js2py-0.74 jsonpickle-3.2.2 kaggle-1.6.14 keras-2.15.0 libclang-18.1.1 lvis-0.5.3 markdown-3.6 ml-dtypes-0.3.2 oauth2client-4.1.3 object_detection-0.1 objsize-0.7.0 opencv-python-4.10.0.84 opencv-python-headless-4.10.0.84 opt-einsum-3.3.0 orjson-3.10.6 portalocker-2.10.0 promise-2.3 proto-plus-1.24.0 protobuf-3.20.3 py-cpuinfo-9.0.0 pycocotools-2.0.8 pydot-1.4.2 pyjsparser-2.7.1 pymongo-4.8.0 python-slugify-8.0.4 pyyaml-6.0.1 redis-5.0.7 requests-2.31.0 requests-oauthlib-2.0.0 rsa-4.9 sacrebleu-2.2.0 seqeval-1.2.2 simple-parsing-0.1.5 tensorboard-2.15.2 tensorboard-data-server-0.7.2 tensorflow-2.15.1 tensorflow-datasets-4.9.6 tensorflow-estimator-2.15.0 tensorflow-hub-0.16.1 tensorflow-io-gcs-filesystem-0.37.1 tensorflow-metadata-1.15.0 tensorflow-model-optimization-0.8.0 tensorflow-text-2.15.0 tensorflow_io-0.37.1 termcolor-2.4.0 text-unidecode-1.3 tf-keras-2.15.1 tf-models-official-2.15.0 tf-slim-1.1.0 toml-0.10.2 tzlocal-5.2 uritemplate-4.1.1 werkzeug-3.0.3 wrapt-1.14.1 zstandard-0.22.0\n",
      "\n",
      "\u001b[1m[\u001b[0m\u001b[34;49mnotice\u001b[0m\u001b[1;39;49m]\u001b[0m\u001b[39;49m A new release of pip is available: \u001b[0m\u001b[31;49m24.1.1\u001b[0m\u001b[39;49m -> \u001b[0m\u001b[32;49m24.1.2\u001b[0m\n",
      "\u001b[1m[\u001b[0m\u001b[34;49mnotice\u001b[0m\u001b[1;39;49m]\u001b[0m\u001b[39;49m To update, run: \u001b[0m\u001b[32;49mpython3 -m pip install --upgrade pip\u001b[0m\n"
     ]
    }
   ],
   "source": [
    "# Install Tensorflow Object Detection \n",
    "if os.name=='posix':  \n",
    "    # !sudo apt-get install protobuf-compiler\n",
    "    !cd Tensorflow/models/research && protoc object_detection/protos/*.proto --python_out=. && cp object_detection/packages/tf2/setup.py . && python3 -m pip install . \n",
    "if os.name=='nt':\n",
    "    url=\"https://github.com/protocolbuffers/protobuf/releases/download/v3.15.6/protoc-3.15.6-win64.zip\"\n",
    "    wget.download(url)\n",
    "    !move protoc-3.15.6-win64.zip {paths['PROTOC_PATH']}\n",
    "    !cd {paths['PROTOC_PATH']} && tar -xf protoc-3.15.6-win64.zip\n",
    "    os.environ['PATH'] += os.pathsep + os.path.abspath(os.path.join(paths['PROTOC_PATH'], 'bin'))   \n",
    "    !cd Tensorflow/models/research && protoc object_detection/protos/*.proto --python_out=. && copy object_detection\\\\packages\\\\tf2\\\\setup.py setup.py && python setup.py build && python setup.py install\n",
    "    !cd Tensorflow/models/research/slim && pip install -e . "
   ]
  },
  {
   "cell_type": "markdown",
   "id": "952b0b68-2c64-402b-8cfb-48cdddea0f75",
   "metadata": {},
   "source": [
    "## Проверяем все ли библиотеки скачались"
   ]
  },
  {
   "cell_type": "code",
   "execution_count": 13,
   "id": "dc2c6a47-0199-47c8-b94a-de1b8f9a3b73",
   "metadata": {},
   "outputs": [
    {
     "name": "stderr",
     "output_type": "stream",
     "text": [
      "2024-07-13 12:49:44.313969: E external/local_xla/xla/stream_executor/cuda/cuda_dnn.cc:9261] Unable to register cuDNN factory: Attempting to register factory for plugin cuDNN when one has already been registered\n",
      "2024-07-13 12:49:44.314105: E external/local_xla/xla/stream_executor/cuda/cuda_fft.cc:607] Unable to register cuFFT factory: Attempting to register factory for plugin cuFFT when one has already been registered\n",
      "2024-07-13 12:49:44.367271: E external/local_xla/xla/stream_executor/cuda/cuda_blas.cc:1515] Unable to register cuBLAS factory: Attempting to register factory for plugin cuBLAS when one has already been registered\n",
      "2024-07-13 12:49:44.476565: I tensorflow/core/platform/cpu_feature_guard.cc:182] This TensorFlow binary is optimized to use available CPU instructions in performance-critical operations.\n",
      "To enable the following instructions: AVX2 FMA, in other operations, rebuild TensorFlow with the appropriate compiler flags.\n",
      "2024-07-13 12:49:45.651369: W tensorflow/compiler/tf2tensorrt/utils/py_utils.cc:38] TF-TRT Warning: Could not find TensorRT\n",
      "2024-07-13 12:49:48.441059: I external/local_xla/xla/stream_executor/cuda/cuda_executor.cc:901] successful NUMA node read from SysFS had negative value (-1), but there must be at least one NUMA node, so returning NUMA node zero. See more at https://github.com/torvalds/linux/blob/v6.0/Documentation/ABI/testing/sysfs-bus-pci#L344-L355\n",
      "Running tests under Python 3.10.12: /home/midnightknight/Blood-object-detection/obj_det/bin/python3\n",
      "2024-07-13 12:49:48.626427: I external/local_xla/xla/stream_executor/cuda/cuda_executor.cc:901] successful NUMA node read from SysFS had negative value (-1), but there must be at least one NUMA node, so returning NUMA node zero. See more at https://github.com/torvalds/linux/blob/v6.0/Documentation/ABI/testing/sysfs-bus-pci#L344-L355\n",
      "2024-07-13 12:49:48.627021: I external/local_xla/xla/stream_executor/cuda/cuda_executor.cc:901] successful NUMA node read from SysFS had negative value (-1), but there must be at least one NUMA node, so returning NUMA node zero. See more at https://github.com/torvalds/linux/blob/v6.0/Documentation/ABI/testing/sysfs-bus-pci#L344-L355\n",
      "[ RUN      ] ModelBuilderTF2Test.test_create_center_net_deepmac\n"
     ]
    },
    {
     "name": "stdout",
     "output_type": "stream",
     "text": [
      "WARNING:tensorflow:`tf.keras.layers.experimental.SyncBatchNormalization` endpoint is deprecated and will be removed in a future release. Please use `tf.keras.layers.BatchNormalization` with parameter `synchronized` set to True.\n"
     ]
    },
    {
     "name": "stderr",
     "output_type": "stream",
     "text": [
      "2024-07-13 12:49:48.637076: I external/local_xla/xla/stream_executor/cuda/cuda_executor.cc:901] successful NUMA node read from SysFS had negative value (-1), but there must be at least one NUMA node, so returning NUMA node zero. See more at https://github.com/torvalds/linux/blob/v6.0/Documentation/ABI/testing/sysfs-bus-pci#L344-L355\n",
      "2024-07-13 12:49:48.637614: I external/local_xla/xla/stream_executor/cuda/cuda_executor.cc:901] successful NUMA node read from SysFS had negative value (-1), but there must be at least one NUMA node, so returning NUMA node zero. See more at https://github.com/torvalds/linux/blob/v6.0/Documentation/ABI/testing/sysfs-bus-pci#L344-L355\n",
      "2024-07-13 12:49:48.638060: I external/local_xla/xla/stream_executor/cuda/cuda_executor.cc:901] successful NUMA node read from SysFS had negative value (-1), but there must be at least one NUMA node, so returning NUMA node zero. See more at https://github.com/torvalds/linux/blob/v6.0/Documentation/ABI/testing/sysfs-bus-pci#L344-L355\n",
      "2024-07-13 12:49:48.747826: I external/local_xla/xla/stream_executor/cuda/cuda_executor.cc:901] successful NUMA node read from SysFS had negative value (-1), but there must be at least one NUMA node, so returning NUMA node zero. See more at https://github.com/torvalds/linux/blob/v6.0/Documentation/ABI/testing/sysfs-bus-pci#L344-L355\n",
      "2024-07-13 12:49:48.748082: I external/local_xla/xla/stream_executor/cuda/cuda_executor.cc:901] successful NUMA node read from SysFS had negative value (-1), but there must be at least one NUMA node, so returning NUMA node zero. See more at https://github.com/torvalds/linux/blob/v6.0/Documentation/ABI/testing/sysfs-bus-pci#L344-L355\n",
      "2024-07-13 12:49:48.748288: I external/local_xla/xla/stream_executor/cuda/cuda_executor.cc:901] successful NUMA node read from SysFS had negative value (-1), but there must be at least one NUMA node, so returning NUMA node zero. See more at https://github.com/torvalds/linux/blob/v6.0/Documentation/ABI/testing/sysfs-bus-pci#L344-L355\n",
      "2024-07-13 12:49:48.748432: I tensorflow/core/common_runtime/gpu/gpu_device.cc:1929] Created device /job:localhost/replica:0/task:0/device:GPU:0 with 2788 MB memory:  -> device: 0, name: NVIDIA GeForce GTX 1650, pci bus id: 0000:01:00.0, compute capability: 7.5\n",
      "W0713 12:49:48.807235 132500559376384 batch_normalization.py:1531] `tf.keras.layers.experimental.SyncBatchNormalization` endpoint is deprecated and will be removed in a future release. Please use `tf.keras.layers.BatchNormalization` with parameter `synchronized` set to True.\n",
      "/home/midnightknight/Blood-object-detection/obj_det/lib/python3.10/site-packages/object_detection/builders/model_builder.py:1112: DeprecationWarning: The 'warn' function is deprecated, use 'warning' instead\n",
      "  logging.warn(('Building experimental DeepMAC meta-arch.'\n",
      "W0713 12:49:49.008559 132500559376384 model_builder.py:1112] Building experimental DeepMAC meta-arch. Some features may be omitted.\n"
     ]
    },
    {
     "name": "stdout",
     "output_type": "stream",
     "text": [
      "INFO:tensorflow:time(__main__.ModelBuilderTF2Test.test_create_center_net_deepmac): 0.6s\n"
     ]
    },
    {
     "name": "stderr",
     "output_type": "stream",
     "text": [
      "I0713 12:49:49.232614 132500559376384 test_util.py:2574] time(__main__.ModelBuilderTF2Test.test_create_center_net_deepmac): 0.6s\n",
      "[       OK ] ModelBuilderTF2Test.test_create_center_net_deepmac\n",
      "[ RUN      ] ModelBuilderTF2Test.test_create_center_net_model0 (customize_head_params=True)\n"
     ]
    },
    {
     "name": "stdout",
     "output_type": "stream",
     "text": [
      "INFO:tensorflow:time(__main__.ModelBuilderTF2Test.test_create_center_net_model0 (customize_head_params=True)): 0.46s\n"
     ]
    },
    {
     "name": "stderr",
     "output_type": "stream",
     "text": [
      "I0713 12:49:49.691251 132500559376384 test_util.py:2574] time(__main__.ModelBuilderTF2Test.test_create_center_net_model0 (customize_head_params=True)): 0.46s\n",
      "[       OK ] ModelBuilderTF2Test.test_create_center_net_model0 (customize_head_params=True)\n",
      "[ RUN      ] ModelBuilderTF2Test.test_create_center_net_model1 (customize_head_params=False)\n"
     ]
    },
    {
     "name": "stdout",
     "output_type": "stream",
     "text": [
      "INFO:tensorflow:time(__main__.ModelBuilderTF2Test.test_create_center_net_model1 (customize_head_params=False)): 0.35s\n"
     ]
    },
    {
     "name": "stderr",
     "output_type": "stream",
     "text": [
      "I0713 12:49:50.045150 132500559376384 test_util.py:2574] time(__main__.ModelBuilderTF2Test.test_create_center_net_model1 (customize_head_params=False)): 0.35s\n",
      "[       OK ] ModelBuilderTF2Test.test_create_center_net_model1 (customize_head_params=False)\n",
      "[ RUN      ] ModelBuilderTF2Test.test_create_center_net_model_from_keypoints\n"
     ]
    },
    {
     "name": "stdout",
     "output_type": "stream",
     "text": [
      "INFO:tensorflow:time(__main__.ModelBuilderTF2Test.test_create_center_net_model_from_keypoints): 0.2s\n"
     ]
    },
    {
     "name": "stderr",
     "output_type": "stream",
     "text": [
      "I0713 12:49:50.244665 132500559376384 test_util.py:2574] time(__main__.ModelBuilderTF2Test.test_create_center_net_model_from_keypoints): 0.2s\n",
      "[       OK ] ModelBuilderTF2Test.test_create_center_net_model_from_keypoints\n",
      "[ RUN      ] ModelBuilderTF2Test.test_create_center_net_model_mobilenet\n"
     ]
    },
    {
     "name": "stdout",
     "output_type": "stream",
     "text": [
      "INFO:tensorflow:time(__main__.ModelBuilderTF2Test.test_create_center_net_model_mobilenet): 1.59s\n"
     ]
    },
    {
     "name": "stderr",
     "output_type": "stream",
     "text": [
      "I0713 12:49:51.831631 132500559376384 test_util.py:2574] time(__main__.ModelBuilderTF2Test.test_create_center_net_model_mobilenet): 1.59s\n",
      "[       OK ] ModelBuilderTF2Test.test_create_center_net_model_mobilenet\n",
      "[ RUN      ] ModelBuilderTF2Test.test_create_experimental_model\n"
     ]
    },
    {
     "name": "stdout",
     "output_type": "stream",
     "text": [
      "INFO:tensorflow:time(__main__.ModelBuilderTF2Test.test_create_experimental_model): 0.0s\n"
     ]
    },
    {
     "name": "stderr",
     "output_type": "stream",
     "text": [
      "I0713 12:49:51.845715 132500559376384 test_util.py:2574] time(__main__.ModelBuilderTF2Test.test_create_experimental_model): 0.0s\n",
      "[       OK ] ModelBuilderTF2Test.test_create_experimental_model\n",
      "[ RUN      ] ModelBuilderTF2Test.test_create_faster_rcnn_from_config_with_crop_feature0 (True)\n"
     ]
    },
    {
     "name": "stdout",
     "output_type": "stream",
     "text": [
      "INFO:tensorflow:time(__main__.ModelBuilderTF2Test.test_create_faster_rcnn_from_config_with_crop_feature0 (True)): 0.02s\n"
     ]
    },
    {
     "name": "stderr",
     "output_type": "stream",
     "text": [
      "I0713 12:49:51.870667 132500559376384 test_util.py:2574] time(__main__.ModelBuilderTF2Test.test_create_faster_rcnn_from_config_with_crop_feature0 (True)): 0.02s\n",
      "[       OK ] ModelBuilderTF2Test.test_create_faster_rcnn_from_config_with_crop_feature0 (True)\n",
      "[ RUN      ] ModelBuilderTF2Test.test_create_faster_rcnn_from_config_with_crop_feature1 (False)\n"
     ]
    },
    {
     "name": "stdout",
     "output_type": "stream",
     "text": [
      "INFO:tensorflow:time(__main__.ModelBuilderTF2Test.test_create_faster_rcnn_from_config_with_crop_feature1 (False)): 0.01s\n"
     ]
    },
    {
     "name": "stderr",
     "output_type": "stream",
     "text": [
      "I0713 12:49:51.886531 132500559376384 test_util.py:2574] time(__main__.ModelBuilderTF2Test.test_create_faster_rcnn_from_config_with_crop_feature1 (False)): 0.01s\n",
      "[       OK ] ModelBuilderTF2Test.test_create_faster_rcnn_from_config_with_crop_feature1 (False)\n",
      "[ RUN      ] ModelBuilderTF2Test.test_create_faster_rcnn_model_from_config_with_example_miner\n"
     ]
    },
    {
     "name": "stdout",
     "output_type": "stream",
     "text": [
      "INFO:tensorflow:time(__main__.ModelBuilderTF2Test.test_create_faster_rcnn_model_from_config_with_example_miner): 0.02s\n"
     ]
    },
    {
     "name": "stderr",
     "output_type": "stream",
     "text": [
      "I0713 12:49:51.903531 132500559376384 test_util.py:2574] time(__main__.ModelBuilderTF2Test.test_create_faster_rcnn_model_from_config_with_example_miner): 0.02s\n",
      "[       OK ] ModelBuilderTF2Test.test_create_faster_rcnn_model_from_config_with_example_miner\n",
      "[ RUN      ] ModelBuilderTF2Test.test_create_faster_rcnn_models_from_config_faster_rcnn_with_matmul\n"
     ]
    },
    {
     "name": "stdout",
     "output_type": "stream",
     "text": [
      "INFO:tensorflow:time(__main__.ModelBuilderTF2Test.test_create_faster_rcnn_models_from_config_faster_rcnn_with_matmul): 0.08s\n"
     ]
    },
    {
     "name": "stderr",
     "output_type": "stream",
     "text": [
      "I0713 12:49:51.988506 132500559376384 test_util.py:2574] time(__main__.ModelBuilderTF2Test.test_create_faster_rcnn_models_from_config_faster_rcnn_with_matmul): 0.08s\n",
      "[       OK ] ModelBuilderTF2Test.test_create_faster_rcnn_models_from_config_faster_rcnn_with_matmul\n",
      "[ RUN      ] ModelBuilderTF2Test.test_create_faster_rcnn_models_from_config_faster_rcnn_without_matmul\n"
     ]
    },
    {
     "name": "stdout",
     "output_type": "stream",
     "text": [
      "INFO:tensorflow:time(__main__.ModelBuilderTF2Test.test_create_faster_rcnn_models_from_config_faster_rcnn_without_matmul): 0.07s\n"
     ]
    },
    {
     "name": "stderr",
     "output_type": "stream",
     "text": [
      "I0713 12:49:52.062598 132500559376384 test_util.py:2574] time(__main__.ModelBuilderTF2Test.test_create_faster_rcnn_models_from_config_faster_rcnn_without_matmul): 0.07s\n",
      "[       OK ] ModelBuilderTF2Test.test_create_faster_rcnn_models_from_config_faster_rcnn_without_matmul\n",
      "[ RUN      ] ModelBuilderTF2Test.test_create_faster_rcnn_models_from_config_mask_rcnn_with_matmul\n"
     ]
    },
    {
     "name": "stdout",
     "output_type": "stream",
     "text": [
      "INFO:tensorflow:time(__main__.ModelBuilderTF2Test.test_create_faster_rcnn_models_from_config_mask_rcnn_with_matmul): 0.08s\n"
     ]
    },
    {
     "name": "stderr",
     "output_type": "stream",
     "text": [
      "I0713 12:49:52.141528 132500559376384 test_util.py:2574] time(__main__.ModelBuilderTF2Test.test_create_faster_rcnn_models_from_config_mask_rcnn_with_matmul): 0.08s\n",
      "[       OK ] ModelBuilderTF2Test.test_create_faster_rcnn_models_from_config_mask_rcnn_with_matmul\n",
      "[ RUN      ] ModelBuilderTF2Test.test_create_faster_rcnn_models_from_config_mask_rcnn_without_matmul\n"
     ]
    },
    {
     "name": "stdout",
     "output_type": "stream",
     "text": [
      "INFO:tensorflow:time(__main__.ModelBuilderTF2Test.test_create_faster_rcnn_models_from_config_mask_rcnn_without_matmul): 0.08s\n"
     ]
    },
    {
     "name": "stderr",
     "output_type": "stream",
     "text": [
      "I0713 12:49:52.226519 132500559376384 test_util.py:2574] time(__main__.ModelBuilderTF2Test.test_create_faster_rcnn_models_from_config_mask_rcnn_without_matmul): 0.08s\n",
      "[       OK ] ModelBuilderTF2Test.test_create_faster_rcnn_models_from_config_mask_rcnn_without_matmul\n",
      "[ RUN      ] ModelBuilderTF2Test.test_create_rfcn_model_from_config\n"
     ]
    },
    {
     "name": "stdout",
     "output_type": "stream",
     "text": [
      "INFO:tensorflow:time(__main__.ModelBuilderTF2Test.test_create_rfcn_model_from_config): 0.08s\n"
     ]
    },
    {
     "name": "stderr",
     "output_type": "stream",
     "text": [
      "I0713 12:49:52.309014 132500559376384 test_util.py:2574] time(__main__.ModelBuilderTF2Test.test_create_rfcn_model_from_config): 0.08s\n",
      "[       OK ] ModelBuilderTF2Test.test_create_rfcn_model_from_config\n",
      "[ RUN      ] ModelBuilderTF2Test.test_create_ssd_fpn_model_from_config\n"
     ]
    },
    {
     "name": "stdout",
     "output_type": "stream",
     "text": [
      "INFO:tensorflow:time(__main__.ModelBuilderTF2Test.test_create_ssd_fpn_model_from_config): 0.03s\n"
     ]
    },
    {
     "name": "stderr",
     "output_type": "stream",
     "text": [
      "I0713 12:49:52.336408 132500559376384 test_util.py:2574] time(__main__.ModelBuilderTF2Test.test_create_ssd_fpn_model_from_config): 0.03s\n",
      "[       OK ] ModelBuilderTF2Test.test_create_ssd_fpn_model_from_config\n",
      "[ RUN      ] ModelBuilderTF2Test.test_create_ssd_models_from_config\n",
      "I0713 12:49:52.481514 132500559376384 ssd_efficientnet_bifpn_feature_extractor.py:161] EfficientDet EfficientNet backbone version: efficientnet-b0\n",
      "I0713 12:49:52.482161 132500559376384 ssd_efficientnet_bifpn_feature_extractor.py:163] EfficientDet BiFPN num filters: 64\n",
      "I0713 12:49:52.482583 132500559376384 ssd_efficientnet_bifpn_feature_extractor.py:164] EfficientDet BiFPN num iterations: 3\n",
      "I0713 12:49:52.485733 132500559376384 efficientnet_model.py:143] round_filter input=32 output=32\n",
      "I0713 12:49:52.515405 132500559376384 efficientnet_model.py:143] round_filter input=32 output=32\n",
      "I0713 12:49:52.515989 132500559376384 efficientnet_model.py:143] round_filter input=16 output=16\n",
      "I0713 12:49:52.592485 132500559376384 efficientnet_model.py:143] round_filter input=16 output=16\n",
      "I0713 12:49:52.593111 132500559376384 efficientnet_model.py:143] round_filter input=24 output=24\n",
      "I0713 12:49:52.761240 132500559376384 efficientnet_model.py:143] round_filter input=24 output=24\n",
      "I0713 12:49:52.761967 132500559376384 efficientnet_model.py:143] round_filter input=40 output=40\n",
      "I0713 12:49:52.921522 132500559376384 efficientnet_model.py:143] round_filter input=40 output=40\n",
      "I0713 12:49:52.922271 132500559376384 efficientnet_model.py:143] round_filter input=80 output=80\n",
      "I0713 12:49:53.163771 132500559376384 efficientnet_model.py:143] round_filter input=80 output=80\n",
      "I0713 12:49:53.164488 132500559376384 efficientnet_model.py:143] round_filter input=112 output=112\n",
      "I0713 12:49:53.393775 132500559376384 efficientnet_model.py:143] round_filter input=112 output=112\n",
      "I0713 12:49:53.394472 132500559376384 efficientnet_model.py:143] round_filter input=192 output=192\n",
      "I0713 12:49:53.712642 132500559376384 efficientnet_model.py:143] round_filter input=192 output=192\n",
      "I0713 12:49:53.713264 132500559376384 efficientnet_model.py:143] round_filter input=320 output=320\n",
      "I0713 12:49:53.789191 132500559376384 efficientnet_model.py:143] round_filter input=1280 output=1280\n",
      "I0713 12:49:53.825695 132500559376384 efficientnet_model.py:453] Building model efficientnet with params ModelConfig(width_coefficient=1.0, depth_coefficient=1.0, resolution=224, dropout_rate=0.2, blocks=(BlockConfig(input_filters=32, output_filters=16, kernel_size=3, num_repeat=1, expand_ratio=1, strides=(1, 1), se_ratio=0.25, id_skip=True, fused_conv=False, conv_type='depthwise'), BlockConfig(input_filters=16, output_filters=24, kernel_size=3, num_repeat=2, expand_ratio=6, strides=(2, 2), se_ratio=0.25, id_skip=True, fused_conv=False, conv_type='depthwise'), BlockConfig(input_filters=24, output_filters=40, kernel_size=5, num_repeat=2, expand_ratio=6, strides=(2, 2), se_ratio=0.25, id_skip=True, fused_conv=False, conv_type='depthwise'), BlockConfig(input_filters=40, output_filters=80, kernel_size=3, num_repeat=3, expand_ratio=6, strides=(2, 2), se_ratio=0.25, id_skip=True, fused_conv=False, conv_type='depthwise'), BlockConfig(input_filters=80, output_filters=112, kernel_size=5, num_repeat=3, expand_ratio=6, strides=(1, 1), se_ratio=0.25, id_skip=True, fused_conv=False, conv_type='depthwise'), BlockConfig(input_filters=112, output_filters=192, kernel_size=5, num_repeat=4, expand_ratio=6, strides=(2, 2), se_ratio=0.25, id_skip=True, fused_conv=False, conv_type='depthwise'), BlockConfig(input_filters=192, output_filters=320, kernel_size=3, num_repeat=1, expand_ratio=6, strides=(1, 1), se_ratio=0.25, id_skip=True, fused_conv=False, conv_type='depthwise')), stem_base_filters=32, top_base_filters=1280, activation='simple_swish', batch_norm='default', bn_momentum=0.99, bn_epsilon=0.001, weight_decay=5e-06, drop_connect_rate=0.2, depth_divisor=8, min_depth=None, use_se=True, input_channels=3, num_classes=1000, model_name='efficientnet', rescale_input=False, data_format='channels_last', dtype='float32')\n",
      "I0713 12:49:53.867982 132500559376384 ssd_efficientnet_bifpn_feature_extractor.py:161] EfficientDet EfficientNet backbone version: efficientnet-b1\n",
      "I0713 12:49:53.868514 132500559376384 ssd_efficientnet_bifpn_feature_extractor.py:163] EfficientDet BiFPN num filters: 88\n",
      "I0713 12:49:53.868936 132500559376384 ssd_efficientnet_bifpn_feature_extractor.py:164] EfficientDet BiFPN num iterations: 4\n",
      "I0713 12:49:53.870800 132500559376384 efficientnet_model.py:143] round_filter input=32 output=32\n",
      "I0713 12:49:53.886882 132500559376384 efficientnet_model.py:143] round_filter input=32 output=32\n",
      "I0713 12:49:53.887414 132500559376384 efficientnet_model.py:143] round_filter input=16 output=16\n",
      "I0713 12:49:54.172086 132500559376384 efficientnet_model.py:143] round_filter input=16 output=16\n",
      "I0713 12:49:54.172666 132500559376384 efficientnet_model.py:143] round_filter input=24 output=24\n",
      "I0713 12:49:54.373263 132500559376384 efficientnet_model.py:143] round_filter input=24 output=24\n",
      "I0713 12:49:54.374101 132500559376384 efficientnet_model.py:143] round_filter input=40 output=40\n",
      "I0713 12:49:54.573936 132500559376384 efficientnet_model.py:143] round_filter input=40 output=40\n",
      "I0713 12:49:54.574520 132500559376384 efficientnet_model.py:143] round_filter input=80 output=80\n",
      "I0713 12:49:54.839987 132500559376384 efficientnet_model.py:143] round_filter input=80 output=80\n",
      "I0713 12:49:54.840793 132500559376384 efficientnet_model.py:143] round_filter input=112 output=112\n",
      "I0713 12:49:55.095648 132500559376384 efficientnet_model.py:143] round_filter input=112 output=112\n",
      "I0713 12:49:55.096206 132500559376384 efficientnet_model.py:143] round_filter input=192 output=192\n",
      "I0713 12:49:55.419196 132500559376384 efficientnet_model.py:143] round_filter input=192 output=192\n",
      "I0713 12:49:55.419826 132500559376384 efficientnet_model.py:143] round_filter input=320 output=320\n",
      "I0713 12:49:55.559921 132500559376384 efficientnet_model.py:143] round_filter input=1280 output=1280\n",
      "I0713 12:49:55.585566 132500559376384 efficientnet_model.py:453] Building model efficientnet with params ModelConfig(width_coefficient=1.0, depth_coefficient=1.1, resolution=240, dropout_rate=0.2, blocks=(BlockConfig(input_filters=32, output_filters=16, kernel_size=3, num_repeat=1, expand_ratio=1, strides=(1, 1), se_ratio=0.25, id_skip=True, fused_conv=False, conv_type='depthwise'), BlockConfig(input_filters=16, output_filters=24, kernel_size=3, num_repeat=2, expand_ratio=6, strides=(2, 2), se_ratio=0.25, id_skip=True, fused_conv=False, conv_type='depthwise'), BlockConfig(input_filters=24, output_filters=40, kernel_size=5, num_repeat=2, expand_ratio=6, strides=(2, 2), se_ratio=0.25, id_skip=True, fused_conv=False, conv_type='depthwise'), BlockConfig(input_filters=40, output_filters=80, kernel_size=3, num_repeat=3, expand_ratio=6, strides=(2, 2), se_ratio=0.25, id_skip=True, fused_conv=False, conv_type='depthwise'), BlockConfig(input_filters=80, output_filters=112, kernel_size=5, num_repeat=3, expand_ratio=6, strides=(1, 1), se_ratio=0.25, id_skip=True, fused_conv=False, conv_type='depthwise'), BlockConfig(input_filters=112, output_filters=192, kernel_size=5, num_repeat=4, expand_ratio=6, strides=(2, 2), se_ratio=0.25, id_skip=True, fused_conv=False, conv_type='depthwise'), BlockConfig(input_filters=192, output_filters=320, kernel_size=3, num_repeat=1, expand_ratio=6, strides=(1, 1), se_ratio=0.25, id_skip=True, fused_conv=False, conv_type='depthwise')), stem_base_filters=32, top_base_filters=1280, activation='simple_swish', batch_norm='default', bn_momentum=0.99, bn_epsilon=0.001, weight_decay=5e-06, drop_connect_rate=0.2, depth_divisor=8, min_depth=None, use_se=True, input_channels=3, num_classes=1000, model_name='efficientnet', rescale_input=False, data_format='channels_last', dtype='float32')\n",
      "I0713 12:49:55.633833 132500559376384 ssd_efficientnet_bifpn_feature_extractor.py:161] EfficientDet EfficientNet backbone version: efficientnet-b2\n",
      "I0713 12:49:55.634613 132500559376384 ssd_efficientnet_bifpn_feature_extractor.py:163] EfficientDet BiFPN num filters: 112\n",
      "I0713 12:49:55.635097 132500559376384 ssd_efficientnet_bifpn_feature_extractor.py:164] EfficientDet BiFPN num iterations: 5\n",
      "I0713 12:49:55.636902 132500559376384 efficientnet_model.py:143] round_filter input=32 output=32\n",
      "I0713 12:49:55.652360 132500559376384 efficientnet_model.py:143] round_filter input=32 output=32\n",
      "I0713 12:49:55.653081 132500559376384 efficientnet_model.py:143] round_filter input=16 output=16\n",
      "I0713 12:49:55.757561 132500559376384 efficientnet_model.py:143] round_filter input=16 output=16\n",
      "I0713 12:49:55.758244 132500559376384 efficientnet_model.py:143] round_filter input=24 output=24\n",
      "I0713 12:49:55.942368 132500559376384 efficientnet_model.py:143] round_filter input=24 output=24\n",
      "I0713 12:49:55.942986 132500559376384 efficientnet_model.py:143] round_filter input=40 output=48\n",
      "I0713 12:49:56.154283 132500559376384 efficientnet_model.py:143] round_filter input=40 output=48\n",
      "I0713 12:49:56.154864 132500559376384 efficientnet_model.py:143] round_filter input=80 output=88\n",
      "I0713 12:49:56.466973 132500559376384 efficientnet_model.py:143] round_filter input=80 output=88\n",
      "I0713 12:49:56.467720 132500559376384 efficientnet_model.py:143] round_filter input=112 output=120\n",
      "I0713 12:49:56.809226 132500559376384 efficientnet_model.py:143] round_filter input=112 output=120\n",
      "I0713 12:49:56.809981 132500559376384 efficientnet_model.py:143] round_filter input=192 output=208\n",
      "I0713 12:49:57.179852 132500559376384 efficientnet_model.py:143] round_filter input=192 output=208\n",
      "I0713 12:49:57.180423 132500559376384 efficientnet_model.py:143] round_filter input=320 output=352\n",
      "I0713 12:49:57.332602 132500559376384 efficientnet_model.py:143] round_filter input=1280 output=1408\n",
      "I0713 12:49:57.365305 132500559376384 efficientnet_model.py:453] Building model efficientnet with params ModelConfig(width_coefficient=1.1, depth_coefficient=1.2, resolution=260, dropout_rate=0.3, blocks=(BlockConfig(input_filters=32, output_filters=16, kernel_size=3, num_repeat=1, expand_ratio=1, strides=(1, 1), se_ratio=0.25, id_skip=True, fused_conv=False, conv_type='depthwise'), BlockConfig(input_filters=16, output_filters=24, kernel_size=3, num_repeat=2, expand_ratio=6, strides=(2, 2), se_ratio=0.25, id_skip=True, fused_conv=False, conv_type='depthwise'), BlockConfig(input_filters=24, output_filters=40, kernel_size=5, num_repeat=2, expand_ratio=6, strides=(2, 2), se_ratio=0.25, id_skip=True, fused_conv=False, conv_type='depthwise'), BlockConfig(input_filters=40, output_filters=80, kernel_size=3, num_repeat=3, expand_ratio=6, strides=(2, 2), se_ratio=0.25, id_skip=True, fused_conv=False, conv_type='depthwise'), BlockConfig(input_filters=80, output_filters=112, kernel_size=5, num_repeat=3, expand_ratio=6, strides=(1, 1), se_ratio=0.25, id_skip=True, fused_conv=False, conv_type='depthwise'), BlockConfig(input_filters=112, output_filters=192, kernel_size=5, num_repeat=4, expand_ratio=6, strides=(2, 2), se_ratio=0.25, id_skip=True, fused_conv=False, conv_type='depthwise'), BlockConfig(input_filters=192, output_filters=320, kernel_size=3, num_repeat=1, expand_ratio=6, strides=(1, 1), se_ratio=0.25, id_skip=True, fused_conv=False, conv_type='depthwise')), stem_base_filters=32, top_base_filters=1280, activation='simple_swish', batch_norm='default', bn_momentum=0.99, bn_epsilon=0.001, weight_decay=5e-06, drop_connect_rate=0.2, depth_divisor=8, min_depth=None, use_se=True, input_channels=3, num_classes=1000, model_name='efficientnet', rescale_input=False, data_format='channels_last', dtype='float32')\n",
      "I0713 12:49:57.413849 132500559376384 ssd_efficientnet_bifpn_feature_extractor.py:161] EfficientDet EfficientNet backbone version: efficientnet-b3\n",
      "I0713 12:49:57.414520 132500559376384 ssd_efficientnet_bifpn_feature_extractor.py:163] EfficientDet BiFPN num filters: 160\n",
      "I0713 12:49:57.414850 132500559376384 ssd_efficientnet_bifpn_feature_extractor.py:164] EfficientDet BiFPN num iterations: 6\n",
      "I0713 12:49:57.416869 132500559376384 efficientnet_model.py:143] round_filter input=32 output=40\n",
      "I0713 12:49:57.439396 132500559376384 efficientnet_model.py:143] round_filter input=32 output=40\n",
      "I0713 12:49:57.439995 132500559376384 efficientnet_model.py:143] round_filter input=16 output=24\n",
      "I0713 12:49:57.561456 132500559376384 efficientnet_model.py:143] round_filter input=16 output=24\n",
      "I0713 12:49:57.562011 132500559376384 efficientnet_model.py:143] round_filter input=24 output=32\n",
      "I0713 12:49:57.796110 132500559376384 efficientnet_model.py:143] round_filter input=24 output=32\n",
      "I0713 12:49:57.796703 132500559376384 efficientnet_model.py:143] round_filter input=40 output=48\n",
      "I0713 12:49:57.991918 132500559376384 efficientnet_model.py:143] round_filter input=40 output=48\n",
      "I0713 12:49:57.992463 132500559376384 efficientnet_model.py:143] round_filter input=80 output=96\n",
      "I0713 12:49:58.355939 132500559376384 efficientnet_model.py:143] round_filter input=80 output=96\n",
      "I0713 12:49:58.356728 132500559376384 efficientnet_model.py:143] round_filter input=112 output=136\n",
      "I0713 12:49:58.732484 132500559376384 efficientnet_model.py:143] round_filter input=112 output=136\n",
      "I0713 12:49:58.733074 132500559376384 efficientnet_model.py:143] round_filter input=192 output=232\n",
      "I0713 12:49:59.176691 132500559376384 efficientnet_model.py:143] round_filter input=192 output=232\n",
      "I0713 12:49:59.177371 132500559376384 efficientnet_model.py:143] round_filter input=320 output=384\n",
      "I0713 12:49:59.326623 132500559376384 efficientnet_model.py:143] round_filter input=1280 output=1536\n",
      "I0713 12:49:59.357668 132500559376384 efficientnet_model.py:453] Building model efficientnet with params ModelConfig(width_coefficient=1.2, depth_coefficient=1.4, resolution=300, dropout_rate=0.3, blocks=(BlockConfig(input_filters=32, output_filters=16, kernel_size=3, num_repeat=1, expand_ratio=1, strides=(1, 1), se_ratio=0.25, id_skip=True, fused_conv=False, conv_type='depthwise'), BlockConfig(input_filters=16, output_filters=24, kernel_size=3, num_repeat=2, expand_ratio=6, strides=(2, 2), se_ratio=0.25, id_skip=True, fused_conv=False, conv_type='depthwise'), BlockConfig(input_filters=24, output_filters=40, kernel_size=5, num_repeat=2, expand_ratio=6, strides=(2, 2), se_ratio=0.25, id_skip=True, fused_conv=False, conv_type='depthwise'), BlockConfig(input_filters=40, output_filters=80, kernel_size=3, num_repeat=3, expand_ratio=6, strides=(2, 2), se_ratio=0.25, id_skip=True, fused_conv=False, conv_type='depthwise'), BlockConfig(input_filters=80, output_filters=112, kernel_size=5, num_repeat=3, expand_ratio=6, strides=(1, 1), se_ratio=0.25, id_skip=True, fused_conv=False, conv_type='depthwise'), BlockConfig(input_filters=112, output_filters=192, kernel_size=5, num_repeat=4, expand_ratio=6, strides=(2, 2), se_ratio=0.25, id_skip=True, fused_conv=False, conv_type='depthwise'), BlockConfig(input_filters=192, output_filters=320, kernel_size=3, num_repeat=1, expand_ratio=6, strides=(1, 1), se_ratio=0.25, id_skip=True, fused_conv=False, conv_type='depthwise')), stem_base_filters=32, top_base_filters=1280, activation='simple_swish', batch_norm='default', bn_momentum=0.99, bn_epsilon=0.001, weight_decay=5e-06, drop_connect_rate=0.2, depth_divisor=8, min_depth=None, use_se=True, input_channels=3, num_classes=1000, model_name='efficientnet', rescale_input=False, data_format='channels_last', dtype='float32')\n",
      "I0713 12:49:59.411617 132500559376384 ssd_efficientnet_bifpn_feature_extractor.py:161] EfficientDet EfficientNet backbone version: efficientnet-b4\n",
      "I0713 12:49:59.412342 132500559376384 ssd_efficientnet_bifpn_feature_extractor.py:163] EfficientDet BiFPN num filters: 224\n",
      "I0713 12:49:59.412704 132500559376384 ssd_efficientnet_bifpn_feature_extractor.py:164] EfficientDet BiFPN num iterations: 7\n",
      "I0713 12:49:59.414970 132500559376384 efficientnet_model.py:143] round_filter input=32 output=48\n",
      "I0713 12:49:59.435040 132500559376384 efficientnet_model.py:143] round_filter input=32 output=48\n",
      "I0713 12:49:59.435642 132500559376384 efficientnet_model.py:143] round_filter input=16 output=24\n",
      "I0713 12:49:59.544942 132500559376384 efficientnet_model.py:143] round_filter input=16 output=24\n",
      "I0713 12:49:59.545642 132500559376384 efficientnet_model.py:143] round_filter input=24 output=32\n",
      "I0713 12:49:59.808477 132500559376384 efficientnet_model.py:143] round_filter input=24 output=32\n",
      "I0713 12:49:59.809031 132500559376384 efficientnet_model.py:143] round_filter input=40 output=56\n",
      "I0713 12:50:00.329863 132500559376384 efficientnet_model.py:143] round_filter input=40 output=56\n",
      "I0713 12:50:00.330551 132500559376384 efficientnet_model.py:143] round_filter input=80 output=112\n",
      "I0713 12:50:00.800331 132500559376384 efficientnet_model.py:143] round_filter input=80 output=112\n",
      "I0713 12:50:00.801023 132500559376384 efficientnet_model.py:143] round_filter input=112 output=160\n",
      "I0713 12:50:01.249156 132500559376384 efficientnet_model.py:143] round_filter input=112 output=160\n",
      "I0713 12:50:01.249777 132500559376384 efficientnet_model.py:143] round_filter input=192 output=272\n",
      "I0713 12:50:01.848282 132500559376384 efficientnet_model.py:143] round_filter input=192 output=272\n",
      "I0713 12:50:01.848958 132500559376384 efficientnet_model.py:143] round_filter input=320 output=448\n",
      "I0713 12:50:02.000563 132500559376384 efficientnet_model.py:143] round_filter input=1280 output=1792\n",
      "I0713 12:50:02.032825 132500559376384 efficientnet_model.py:453] Building model efficientnet with params ModelConfig(width_coefficient=1.4, depth_coefficient=1.8, resolution=380, dropout_rate=0.4, blocks=(BlockConfig(input_filters=32, output_filters=16, kernel_size=3, num_repeat=1, expand_ratio=1, strides=(1, 1), se_ratio=0.25, id_skip=True, fused_conv=False, conv_type='depthwise'), BlockConfig(input_filters=16, output_filters=24, kernel_size=3, num_repeat=2, expand_ratio=6, strides=(2, 2), se_ratio=0.25, id_skip=True, fused_conv=False, conv_type='depthwise'), BlockConfig(input_filters=24, output_filters=40, kernel_size=5, num_repeat=2, expand_ratio=6, strides=(2, 2), se_ratio=0.25, id_skip=True, fused_conv=False, conv_type='depthwise'), BlockConfig(input_filters=40, output_filters=80, kernel_size=3, num_repeat=3, expand_ratio=6, strides=(2, 2), se_ratio=0.25, id_skip=True, fused_conv=False, conv_type='depthwise'), BlockConfig(input_filters=80, output_filters=112, kernel_size=5, num_repeat=3, expand_ratio=6, strides=(1, 1), se_ratio=0.25, id_skip=True, fused_conv=False, conv_type='depthwise'), BlockConfig(input_filters=112, output_filters=192, kernel_size=5, num_repeat=4, expand_ratio=6, strides=(2, 2), se_ratio=0.25, id_skip=True, fused_conv=False, conv_type='depthwise'), BlockConfig(input_filters=192, output_filters=320, kernel_size=3, num_repeat=1, expand_ratio=6, strides=(1, 1), se_ratio=0.25, id_skip=True, fused_conv=False, conv_type='depthwise')), stem_base_filters=32, top_base_filters=1280, activation='simple_swish', batch_norm='default', bn_momentum=0.99, bn_epsilon=0.001, weight_decay=5e-06, drop_connect_rate=0.2, depth_divisor=8, min_depth=None, use_se=True, input_channels=3, num_classes=1000, model_name='efficientnet', rescale_input=False, data_format='channels_last', dtype='float32')\n",
      "I0713 12:50:02.092268 132500559376384 ssd_efficientnet_bifpn_feature_extractor.py:161] EfficientDet EfficientNet backbone version: efficientnet-b5\n",
      "I0713 12:50:02.092979 132500559376384 ssd_efficientnet_bifpn_feature_extractor.py:163] EfficientDet BiFPN num filters: 288\n",
      "I0713 12:50:02.093307 132500559376384 ssd_efficientnet_bifpn_feature_extractor.py:164] EfficientDet BiFPN num iterations: 7\n",
      "I0713 12:50:02.094951 132500559376384 efficientnet_model.py:143] round_filter input=32 output=48\n",
      "I0713 12:50:02.110631 132500559376384 efficientnet_model.py:143] round_filter input=32 output=48\n",
      "I0713 12:50:02.111195 132500559376384 efficientnet_model.py:143] round_filter input=16 output=24\n",
      "I0713 12:50:02.271748 132500559376384 efficientnet_model.py:143] round_filter input=16 output=24\n",
      "I0713 12:50:02.272364 132500559376384 efficientnet_model.py:143] round_filter input=24 output=40\n",
      "I0713 12:50:02.628551 132500559376384 efficientnet_model.py:143] round_filter input=24 output=40\n",
      "I0713 12:50:02.629135 132500559376384 efficientnet_model.py:143] round_filter input=40 output=64\n",
      "I0713 12:50:02.995110 132500559376384 efficientnet_model.py:143] round_filter input=40 output=64\n",
      "I0713 12:50:02.995765 132500559376384 efficientnet_model.py:143] round_filter input=80 output=128\n",
      "I0713 12:50:03.512074 132500559376384 efficientnet_model.py:143] round_filter input=80 output=128\n",
      "I0713 12:50:03.512692 132500559376384 efficientnet_model.py:143] round_filter input=112 output=176\n",
      "I0713 12:50:04.041469 132500559376384 efficientnet_model.py:143] round_filter input=112 output=176\n",
      "I0713 12:50:04.042191 132500559376384 efficientnet_model.py:143] round_filter input=192 output=304\n",
      "I0713 12:50:04.702424 132500559376384 efficientnet_model.py:143] round_filter input=192 output=304\n",
      "I0713 12:50:04.703009 132500559376384 efficientnet_model.py:143] round_filter input=320 output=512\n",
      "I0713 12:50:04.926103 132500559376384 efficientnet_model.py:143] round_filter input=1280 output=2048\n",
      "I0713 12:50:04.957921 132500559376384 efficientnet_model.py:453] Building model efficientnet with params ModelConfig(width_coefficient=1.6, depth_coefficient=2.2, resolution=456, dropout_rate=0.4, blocks=(BlockConfig(input_filters=32, output_filters=16, kernel_size=3, num_repeat=1, expand_ratio=1, strides=(1, 1), se_ratio=0.25, id_skip=True, fused_conv=False, conv_type='depthwise'), BlockConfig(input_filters=16, output_filters=24, kernel_size=3, num_repeat=2, expand_ratio=6, strides=(2, 2), se_ratio=0.25, id_skip=True, fused_conv=False, conv_type='depthwise'), BlockConfig(input_filters=24, output_filters=40, kernel_size=5, num_repeat=2, expand_ratio=6, strides=(2, 2), se_ratio=0.25, id_skip=True, fused_conv=False, conv_type='depthwise'), BlockConfig(input_filters=40, output_filters=80, kernel_size=3, num_repeat=3, expand_ratio=6, strides=(2, 2), se_ratio=0.25, id_skip=True, fused_conv=False, conv_type='depthwise'), BlockConfig(input_filters=80, output_filters=112, kernel_size=5, num_repeat=3, expand_ratio=6, strides=(1, 1), se_ratio=0.25, id_skip=True, fused_conv=False, conv_type='depthwise'), BlockConfig(input_filters=112, output_filters=192, kernel_size=5, num_repeat=4, expand_ratio=6, strides=(2, 2), se_ratio=0.25, id_skip=True, fused_conv=False, conv_type='depthwise'), BlockConfig(input_filters=192, output_filters=320, kernel_size=3, num_repeat=1, expand_ratio=6, strides=(1, 1), se_ratio=0.25, id_skip=True, fused_conv=False, conv_type='depthwise')), stem_base_filters=32, top_base_filters=1280, activation='simple_swish', batch_norm='default', bn_momentum=0.99, bn_epsilon=0.001, weight_decay=5e-06, drop_connect_rate=0.2, depth_divisor=8, min_depth=None, use_se=True, input_channels=3, num_classes=1000, model_name='efficientnet', rescale_input=False, data_format='channels_last', dtype='float32')\n",
      "I0713 12:50:05.024870 132500559376384 ssd_efficientnet_bifpn_feature_extractor.py:161] EfficientDet EfficientNet backbone version: efficientnet-b6\n",
      "I0713 12:50:05.025658 132500559376384 ssd_efficientnet_bifpn_feature_extractor.py:163] EfficientDet BiFPN num filters: 384\n",
      "I0713 12:50:05.026046 132500559376384 ssd_efficientnet_bifpn_feature_extractor.py:164] EfficientDet BiFPN num iterations: 8\n",
      "I0713 12:50:05.027762 132500559376384 efficientnet_model.py:143] round_filter input=32 output=56\n",
      "I0713 12:50:05.047150 132500559376384 efficientnet_model.py:143] round_filter input=32 output=56\n",
      "I0713 12:50:05.047734 132500559376384 efficientnet_model.py:143] round_filter input=16 output=32\n",
      "I0713 12:50:05.230267 132500559376384 efficientnet_model.py:143] round_filter input=16 output=32\n",
      "I0713 12:50:05.230911 132500559376384 efficientnet_model.py:143] round_filter input=24 output=40\n",
      "I0713 12:50:05.673251 132500559376384 efficientnet_model.py:143] round_filter input=24 output=40\n",
      "I0713 12:50:05.673820 132500559376384 efficientnet_model.py:143] round_filter input=40 output=72\n",
      "I0713 12:50:06.134180 132500559376384 efficientnet_model.py:143] round_filter input=40 output=72\n",
      "I0713 12:50:06.134886 132500559376384 efficientnet_model.py:143] round_filter input=80 output=144\n",
      "I0713 12:50:06.734701 132500559376384 efficientnet_model.py:143] round_filter input=80 output=144\n",
      "I0713 12:50:06.735427 132500559376384 efficientnet_model.py:143] round_filter input=112 output=200\n",
      "I0713 12:50:07.659553 132500559376384 efficientnet_model.py:143] round_filter input=112 output=200\n",
      "I0713 12:50:07.660311 132500559376384 efficientnet_model.py:143] round_filter input=192 output=344\n",
      "I0713 12:50:08.607795 132500559376384 efficientnet_model.py:143] round_filter input=192 output=344\n",
      "I0713 12:50:08.608376 132500559376384 efficientnet_model.py:143] round_filter input=320 output=576\n",
      "I0713 12:50:08.844170 132500559376384 efficientnet_model.py:143] round_filter input=1280 output=2304\n",
      "I0713 12:50:08.879118 132500559376384 efficientnet_model.py:453] Building model efficientnet with params ModelConfig(width_coefficient=1.8, depth_coefficient=2.6, resolution=528, dropout_rate=0.5, blocks=(BlockConfig(input_filters=32, output_filters=16, kernel_size=3, num_repeat=1, expand_ratio=1, strides=(1, 1), se_ratio=0.25, id_skip=True, fused_conv=False, conv_type='depthwise'), BlockConfig(input_filters=16, output_filters=24, kernel_size=3, num_repeat=2, expand_ratio=6, strides=(2, 2), se_ratio=0.25, id_skip=True, fused_conv=False, conv_type='depthwise'), BlockConfig(input_filters=24, output_filters=40, kernel_size=5, num_repeat=2, expand_ratio=6, strides=(2, 2), se_ratio=0.25, id_skip=True, fused_conv=False, conv_type='depthwise'), BlockConfig(input_filters=40, output_filters=80, kernel_size=3, num_repeat=3, expand_ratio=6, strides=(2, 2), se_ratio=0.25, id_skip=True, fused_conv=False, conv_type='depthwise'), BlockConfig(input_filters=80, output_filters=112, kernel_size=5, num_repeat=3, expand_ratio=6, strides=(1, 1), se_ratio=0.25, id_skip=True, fused_conv=False, conv_type='depthwise'), BlockConfig(input_filters=112, output_filters=192, kernel_size=5, num_repeat=4, expand_ratio=6, strides=(2, 2), se_ratio=0.25, id_skip=True, fused_conv=False, conv_type='depthwise'), BlockConfig(input_filters=192, output_filters=320, kernel_size=3, num_repeat=1, expand_ratio=6, strides=(1, 1), se_ratio=0.25, id_skip=True, fused_conv=False, conv_type='depthwise')), stem_base_filters=32, top_base_filters=1280, activation='simple_swish', batch_norm='default', bn_momentum=0.99, bn_epsilon=0.001, weight_decay=5e-06, drop_connect_rate=0.2, depth_divisor=8, min_depth=None, use_se=True, input_channels=3, num_classes=1000, model_name='efficientnet', rescale_input=False, data_format='channels_last', dtype='float32')\n",
      "I0713 12:50:08.962519 132500559376384 ssd_efficientnet_bifpn_feature_extractor.py:161] EfficientDet EfficientNet backbone version: efficientnet-b7\n",
      "I0713 12:50:08.963079 132500559376384 ssd_efficientnet_bifpn_feature_extractor.py:163] EfficientDet BiFPN num filters: 384\n",
      "I0713 12:50:08.963488 132500559376384 ssd_efficientnet_bifpn_feature_extractor.py:164] EfficientDet BiFPN num iterations: 8\n",
      "I0713 12:50:08.965227 132500559376384 efficientnet_model.py:143] round_filter input=32 output=64\n",
      "I0713 12:50:08.989181 132500559376384 efficientnet_model.py:143] round_filter input=32 output=64\n",
      "I0713 12:50:08.990142 132500559376384 efficientnet_model.py:143] round_filter input=16 output=32\n",
      "I0713 12:50:09.207000 132500559376384 efficientnet_model.py:143] round_filter input=16 output=32\n",
      "I0713 12:50:09.207578 132500559376384 efficientnet_model.py:143] round_filter input=24 output=48\n",
      "I0713 12:50:09.731127 132500559376384 efficientnet_model.py:143] round_filter input=24 output=48\n",
      "I0713 12:50:09.731946 132500559376384 efficientnet_model.py:143] round_filter input=40 output=80\n",
      "I0713 12:50:10.263916 132500559376384 efficientnet_model.py:143] round_filter input=40 output=80\n",
      "I0713 12:50:10.264571 132500559376384 efficientnet_model.py:143] round_filter input=80 output=160\n",
      "I0713 12:50:11.014631 132500559376384 efficientnet_model.py:143] round_filter input=80 output=160\n",
      "I0713 12:50:11.015226 132500559376384 efficientnet_model.py:143] round_filter input=112 output=224\n",
      "I0713 12:50:11.751127 132500559376384 efficientnet_model.py:143] round_filter input=112 output=224\n",
      "I0713 12:50:11.751758 132500559376384 efficientnet_model.py:143] round_filter input=192 output=384\n",
      "I0713 12:50:12.726991 132500559376384 efficientnet_model.py:143] round_filter input=192 output=384\n",
      "I0713 12:50:12.727797 132500559376384 efficientnet_model.py:143] round_filter input=320 output=640\n",
      "I0713 12:50:13.036170 132500559376384 efficientnet_model.py:143] round_filter input=1280 output=2560\n",
      "I0713 12:50:13.072267 132500559376384 efficientnet_model.py:453] Building model efficientnet with params ModelConfig(width_coefficient=2.0, depth_coefficient=3.1, resolution=600, dropout_rate=0.5, blocks=(BlockConfig(input_filters=32, output_filters=16, kernel_size=3, num_repeat=1, expand_ratio=1, strides=(1, 1), se_ratio=0.25, id_skip=True, fused_conv=False, conv_type='depthwise'), BlockConfig(input_filters=16, output_filters=24, kernel_size=3, num_repeat=2, expand_ratio=6, strides=(2, 2), se_ratio=0.25, id_skip=True, fused_conv=False, conv_type='depthwise'), BlockConfig(input_filters=24, output_filters=40, kernel_size=5, num_repeat=2, expand_ratio=6, strides=(2, 2), se_ratio=0.25, id_skip=True, fused_conv=False, conv_type='depthwise'), BlockConfig(input_filters=40, output_filters=80, kernel_size=3, num_repeat=3, expand_ratio=6, strides=(2, 2), se_ratio=0.25, id_skip=True, fused_conv=False, conv_type='depthwise'), BlockConfig(input_filters=80, output_filters=112, kernel_size=5, num_repeat=3, expand_ratio=6, strides=(1, 1), se_ratio=0.25, id_skip=True, fused_conv=False, conv_type='depthwise'), BlockConfig(input_filters=112, output_filters=192, kernel_size=5, num_repeat=4, expand_ratio=6, strides=(2, 2), se_ratio=0.25, id_skip=True, fused_conv=False, conv_type='depthwise'), BlockConfig(input_filters=192, output_filters=320, kernel_size=3, num_repeat=1, expand_ratio=6, strides=(1, 1), se_ratio=0.25, id_skip=True, fused_conv=False, conv_type='depthwise')), stem_base_filters=32, top_base_filters=1280, activation='simple_swish', batch_norm='default', bn_momentum=0.99, bn_epsilon=0.001, weight_decay=5e-06, drop_connect_rate=0.2, depth_divisor=8, min_depth=None, use_se=True, input_channels=3, num_classes=1000, model_name='efficientnet', rescale_input=False, data_format='channels_last', dtype='float32')\n"
     ]
    },
    {
     "name": "stdout",
     "output_type": "stream",
     "text": [
      "INFO:tensorflow:time(__main__.ModelBuilderTF2Test.test_create_ssd_models_from_config): 20.83s\n"
     ]
    },
    {
     "name": "stderr",
     "output_type": "stream",
     "text": [
      "I0713 12:50:13.164965 132500559376384 test_util.py:2574] time(__main__.ModelBuilderTF2Test.test_create_ssd_models_from_config): 20.83s\n",
      "[       OK ] ModelBuilderTF2Test.test_create_ssd_models_from_config\n",
      "[ RUN      ] ModelBuilderTF2Test.test_invalid_faster_rcnn_batchnorm_update\n"
     ]
    },
    {
     "name": "stdout",
     "output_type": "stream",
     "text": [
      "INFO:tensorflow:time(__main__.ModelBuilderTF2Test.test_invalid_faster_rcnn_batchnorm_update): 0.01s\n"
     ]
    },
    {
     "name": "stderr",
     "output_type": "stream",
     "text": [
      "I0713 12:50:13.294522 132500559376384 test_util.py:2574] time(__main__.ModelBuilderTF2Test.test_invalid_faster_rcnn_batchnorm_update): 0.01s\n",
      "[       OK ] ModelBuilderTF2Test.test_invalid_faster_rcnn_batchnorm_update\n",
      "[ RUN      ] ModelBuilderTF2Test.test_invalid_first_stage_nms_iou_threshold\n"
     ]
    },
    {
     "name": "stdout",
     "output_type": "stream",
     "text": [
      "INFO:tensorflow:time(__main__.ModelBuilderTF2Test.test_invalid_first_stage_nms_iou_threshold): 0.0s\n"
     ]
    },
    {
     "name": "stderr",
     "output_type": "stream",
     "text": [
      "I0713 12:50:13.297503 132500559376384 test_util.py:2574] time(__main__.ModelBuilderTF2Test.test_invalid_first_stage_nms_iou_threshold): 0.0s\n",
      "[       OK ] ModelBuilderTF2Test.test_invalid_first_stage_nms_iou_threshold\n",
      "[ RUN      ] ModelBuilderTF2Test.test_invalid_model_config_proto\n"
     ]
    },
    {
     "name": "stdout",
     "output_type": "stream",
     "text": [
      "INFO:tensorflow:time(__main__.ModelBuilderTF2Test.test_invalid_model_config_proto): 0.0s\n"
     ]
    },
    {
     "name": "stderr",
     "output_type": "stream",
     "text": [
      "I0713 12:50:13.299308 132500559376384 test_util.py:2574] time(__main__.ModelBuilderTF2Test.test_invalid_model_config_proto): 0.0s\n",
      "[       OK ] ModelBuilderTF2Test.test_invalid_model_config_proto\n",
      "[ RUN      ] ModelBuilderTF2Test.test_invalid_second_stage_batch_size\n"
     ]
    },
    {
     "name": "stdout",
     "output_type": "stream",
     "text": [
      "INFO:tensorflow:time(__main__.ModelBuilderTF2Test.test_invalid_second_stage_batch_size): 0.0s\n"
     ]
    },
    {
     "name": "stderr",
     "output_type": "stream",
     "text": [
      "I0713 12:50:13.302208 132500559376384 test_util.py:2574] time(__main__.ModelBuilderTF2Test.test_invalid_second_stage_batch_size): 0.0s\n",
      "[       OK ] ModelBuilderTF2Test.test_invalid_second_stage_batch_size\n",
      "[ RUN      ] ModelBuilderTF2Test.test_session\n",
      "[  SKIPPED ] ModelBuilderTF2Test.test_session\n",
      "[ RUN      ] ModelBuilderTF2Test.test_unknown_faster_rcnn_feature_extractor\n"
     ]
    },
    {
     "name": "stdout",
     "output_type": "stream",
     "text": [
      "INFO:tensorflow:time(__main__.ModelBuilderTF2Test.test_unknown_faster_rcnn_feature_extractor): 0.0s\n"
     ]
    },
    {
     "name": "stderr",
     "output_type": "stream",
     "text": [
      "I0713 12:50:13.304867 132500559376384 test_util.py:2574] time(__main__.ModelBuilderTF2Test.test_unknown_faster_rcnn_feature_extractor): 0.0s\n",
      "[       OK ] ModelBuilderTF2Test.test_unknown_faster_rcnn_feature_extractor\n",
      "[ RUN      ] ModelBuilderTF2Test.test_unknown_meta_architecture\n"
     ]
    },
    {
     "name": "stdout",
     "output_type": "stream",
     "text": [
      "INFO:tensorflow:time(__main__.ModelBuilderTF2Test.test_unknown_meta_architecture): 0.0s\n"
     ]
    },
    {
     "name": "stderr",
     "output_type": "stream",
     "text": [
      "I0713 12:50:13.306478 132500559376384 test_util.py:2574] time(__main__.ModelBuilderTF2Test.test_unknown_meta_architecture): 0.0s\n",
      "[       OK ] ModelBuilderTF2Test.test_unknown_meta_architecture\n",
      "[ RUN      ] ModelBuilderTF2Test.test_unknown_ssd_feature_extractor\n"
     ]
    },
    {
     "name": "stdout",
     "output_type": "stream",
     "text": [
      "INFO:tensorflow:time(__main__.ModelBuilderTF2Test.test_unknown_ssd_feature_extractor): 0.0s\n"
     ]
    },
    {
     "name": "stderr",
     "output_type": "stream",
     "text": [
      "I0713 12:50:13.308800 132500559376384 test_util.py:2574] time(__main__.ModelBuilderTF2Test.test_unknown_ssd_feature_extractor): 0.0s\n",
      "[       OK ] ModelBuilderTF2Test.test_unknown_ssd_feature_extractor\n",
      "----------------------------------------------------------------------\n",
      "Ran 24 tests in 24.679s\n",
      "\n",
      "OK (skipped=1)\n"
     ]
    }
   ],
   "source": [
    "VERIFICATION_SCRIPT = os.path.join(paths['APIMODEL_PATH'], 'research', 'object_detection', 'builders', 'model_builder_tf2_test.py')\n",
    "# Verify Installation\n",
    "%run {VERIFICATION_SCRIPT}"
   ]
  }
 ],
 "metadata": {
  "kernelspec": {
   "display_name": "obj_det",
   "language": "python",
   "name": "obj_det"
  },
  "language_info": {
   "codemirror_mode": {
    "name": "ipython",
    "version": 3
   },
   "file_extension": ".py",
   "mimetype": "text/x-python",
   "name": "python",
   "nbconvert_exporter": "python",
   "pygments_lexer": "ipython3",
   "version": "3.10.12"
  }
 },
 "nbformat": 4,
 "nbformat_minor": 5
}
