{
 "cells": [
  {
   "cell_type": "code",
   "execution_count": 1,
   "id": "d5993113-30b3-4369-a096-76e1edb1cdbf",
   "metadata": {},
   "outputs": [],
   "source": [
    "import os\n",
    "os.environ['TF_CPP_MIN_LOG_LEVEL'] = '2'\n",
    "from object_detection.protos import pipeline_pb2\n",
    "from google.protobuf import text_format\n",
    "import tensorflow as tf"
   ]
  },
  {
   "cell_type": "markdown",
   "id": "2fa5e53c-2553-44c4-a8f5-5035062157ac",
   "metadata": {},
   "source": [
    "# Устанавливаем папки"
   ]
  },
  {
   "cell_type": "code",
   "execution_count": 2,
   "id": "765acce4-13c2-4c4e-a40e-74b5fea7e0a1",
   "metadata": {},
   "outputs": [],
   "source": [
    "# fish_name = input(\"Напишите с какой рыбой работаем:\")\n",
    "fish_name = 'осетр'\n",
    "if fish_name.lower() == 'карп':\n",
    "    LABEL_MAP_NAME = 'label_map_karp.pbtxt'\n",
    "    name = 'karp'\n",
    "elif fish_name.lower() == 'осетр':\n",
    "    LABEL_MAP_NAME = 'label_map_osetr.pbtxt'\n",
    "    name = 'osetr'\n",
    "else:\n",
    "    print('Пока нет фотографий для такой рыбы')"
   ]
  },
  {
   "cell_type": "code",
   "execution_count": 3,
   "id": "428c52f6-1955-493f-8cc3-7fac4706dfd5",
   "metadata": {},
   "outputs": [],
   "source": [
    "CUSTOM_MODEL_NAME = 'my_ssd_mobnet' \n",
    "PRETRAINED_MODEL_NAME = 'ssd_mobilenet_v2_fpnlite_320x320_coco17_tpu-8'\n",
    "PRETRAINED_MODEL_URL = 'http://download.tensorflow.org/models/object_detection/tf2/20200711/ssd_mobilenet_v2_fpnlite_320x320_coco17_tpu-8.tar.gz'\n",
    "TF_RECORD_SCRIPT_NAME = 'generate_tfrecord.py'"
   ]
  },
  {
   "cell_type": "code",
   "execution_count": 4,
   "id": "af27974f-5251-4001-b8c4-2eac94683fb0",
   "metadata": {},
   "outputs": [],
   "source": [
    "paths = {\n",
    "    'WORKSPACE_PATH': os.path.join('Tensorflow', 'workspace'),\n",
    "    'SCRIPTS_PATH': os.path.join('Tensorflow','scripts'),\n",
    "    'APIMODEL_PATH': os.path.join('Tensorflow','models'),\n",
    "    'ANNOTATION_PATH': os.path.join('Tensorflow', 'workspace','annotations'),\n",
    "    'IMAGE_PATH': os.path.join('Tensorflow', 'workspace','data'),\n",
    "    'MODEL_PATH': os.path.join('Tensorflow', 'workspace','models'),\n",
    "    'PRETRAINED_MODEL_PATH': os.path.join('Tensorflow', 'workspace','pre-trained-models'),\n",
    "    'CHECKPOINT_PATH': os.path.join('Tensorflow', 'workspace','models',CUSTOM_MODEL_NAME, name + '_checkpoints'), \n",
    "    'OUTPUT_PATH': os.path.join('Tensorflow', 'workspace','models',CUSTOM_MODEL_NAME, 'export'), \n",
    "    'TFJS_PATH':os.path.join('Tensorflow', 'workspace','models',CUSTOM_MODEL_NAME, 'tfjsexport'), \n",
    "    'TFLITE_PATH':os.path.join('Tensorflow', 'workspace','models',CUSTOM_MODEL_NAME, 'tfliteexport'), \n",
    "    'PROTOC_PATH':os.path.join('Tensorflow','protoc')\n",
    " }"
   ]
  },
  {
   "cell_type": "code",
   "execution_count": 5,
   "id": "507a13fa-11b9-4cb9-9844-40b15259ff5f",
   "metadata": {},
   "outputs": [],
   "source": [
    "files = {\n",
    "    'PIPELINE_CONFIG':os.path.join(paths['CHECKPOINT_PATH'], name + '_pipeline.config'),\n",
    "    'TF_RECORD_SCRIPT': os.path.join(paths['SCRIPTS_PATH'], TF_RECORD_SCRIPT_NAME), \n",
    "    'LABELMAP': os.path.join(paths['ANNOTATION_PATH'], LABEL_MAP_NAME)\n",
    "}"
   ]
  },
  {
   "cell_type": "code",
   "execution_count": 6,
   "id": "98e077b4-e68b-48c7-a823-83c8fb124283",
   "metadata": {},
   "outputs": [],
   "source": [
    "TRAINING_SCRIPT = os.path.join(paths['APIMODEL_PATH'], 'research', 'object_detection', 'model_main_tf2.py')"
   ]
  },
  {
   "cell_type": "markdown",
   "id": "28859782-9bfa-48eb-afc8-f0f7673b0232",
   "metadata": {
    "jp-MarkdownHeadingCollapsed": true
   },
   "source": [
    "# Подгружаем модель"
   ]
  },
  {
   "cell_type": "code",
   "execution_count": 15,
   "id": "db2b6a04-e033-4e2d-82f3-a53f96e52b93",
   "metadata": {},
   "outputs": [
    {
     "name": "stdout",
     "output_type": "stream",
     "text": [
      "--2024-07-28 18:56:44--  http://download.tensorflow.org/models/object_detection/tf2/20200711/ssd_mobilenet_v2_fpnlite_320x320_coco17_tpu-8.tar.gz\n",
      "Resolving download.tensorflow.org (download.tensorflow.org)... 142.250.74.27, 142.250.74.59, 142.250.74.91, ...\n",
      "Connecting to download.tensorflow.org (download.tensorflow.org)|142.250.74.27|:80... connected.\n",
      "HTTP request sent, awaiting response... 200 OK\n",
      "Length: 20515344 (20M) [application/x-tar]\n",
      "Saving to: ‘ssd_mobilenet_v2_fpnlite_320x320_coco17_tpu-8.tar.gz’\n",
      "\n",
      "ssd_mobilenet_v2_fp 100%[===================>]  19.56M  2.34MB/s    in 13s     \n",
      "\n",
      "2024-07-28 18:57:00 (1.49 MB/s) - ‘ssd_mobilenet_v2_fpnlite_320x320_coco17_tpu-8.tar.gz’ saved [20515344/20515344]\n",
      "\n",
      "ssd_mobilenet_v2_fpnlite_320x320_coco17_tpu-8/\n",
      "ssd_mobilenet_v2_fpnlite_320x320_coco17_tpu-8/checkpoint/\n",
      "ssd_mobilenet_v2_fpnlite_320x320_coco17_tpu-8/checkpoint/ckpt-0.data-00000-of-00001\n",
      "ssd_mobilenet_v2_fpnlite_320x320_coco17_tpu-8/checkpoint/checkpoint\n",
      "ssd_mobilenet_v2_fpnlite_320x320_coco17_tpu-8/checkpoint/ckpt-0.index\n",
      "ssd_mobilenet_v2_fpnlite_320x320_coco17_tpu-8/pipeline.config\n",
      "ssd_mobilenet_v2_fpnlite_320x320_coco17_tpu-8/saved_model/\n",
      "ssd_mobilenet_v2_fpnlite_320x320_coco17_tpu-8/saved_model/saved_model.pb\n",
      "ssd_mobilenet_v2_fpnlite_320x320_coco17_tpu-8/saved_model/variables/\n",
      "ssd_mobilenet_v2_fpnlite_320x320_coco17_tpu-8/saved_model/variables/variables.data-00000-of-00001\n",
      "ssd_mobilenet_v2_fpnlite_320x320_coco17_tpu-8/saved_model/variables/variables.index\n"
     ]
    }
   ],
   "source": [
    "if os.name =='posix':\n",
    "    !wget {PRETRAINED_MODEL_URL}\n",
    "    !mv {PRETRAINED_MODEL_NAME+'.tar.gz'} {paths['PRETRAINED_MODEL_PATH']}\n",
    "    !cd {paths['PRETRAINED_MODEL_PATH']} && tar -zxvf {PRETRAINED_MODEL_NAME+'.tar.gz'}\n",
    "if os.name == 'nt':\n",
    "    wget.download(PRETRAINED_MODEL_URL)\n",
    "    !move {PRETRAINED_MODEL_NAME+'.tar.gz'} {paths['PRETRAINED_MODEL_PATH']}\n",
    "    !cd {paths['PRETRAINED_MODEL_PATH']} && tar -zxvf {PRETRAINED_MODEL_NAME+'.tar.gz'}"
   ]
  },
  {
   "cell_type": "markdown",
   "id": "3424b8ae-52f9-4b64-b1d5-3a0ea6192454",
   "metadata": {},
   "source": [
    "Копируем конфиг в тренировочную папку"
   ]
  },
  {
   "cell_type": "code",
   "execution_count": 16,
   "id": "08010b7b-26f9-4715-9bcc-8f7764cbdba9",
   "metadata": {},
   "outputs": [],
   "source": [
    "if os.name =='posix':\n",
    "    !cp {os.path.join(paths['PRETRAINED_MODEL_PATH'], PRETRAINED_MODEL_NAME, 'pipeline.config')} {os.path.join(paths['CHECKPOINT_PATH'], name + '_pipeline.config')}\n",
    "if os.name == 'nt':\n",
    "    !copy {os.path.join(paths['PRETRAINED_MODEL_PATH'], PRETRAINED_MODEL_NAME, 'pipeline.config')} {os.path.join(paths['CHECKPOINT_PATH'], name + '_pipeline.config')}"
   ]
  },
  {
   "cell_type": "code",
   "execution_count": 17,
   "id": "fa86a725-04f3-429b-b7f9-8282c25ea79b",
   "metadata": {},
   "outputs": [
    {
     "data": {
      "text/plain": [
       "'Tensorflow/workspace/pre-trained-models/ssd_mobilenet_v2_fpnlite_320x320_coco17_tpu-8/pipeline.config'"
      ]
     },
     "execution_count": 17,
     "metadata": {},
     "output_type": "execute_result"
    }
   ],
   "source": [
    "os.path.join(paths['PRETRAINED_MODEL_PATH'], PRETRAINED_MODEL_NAME, 'pipeline.config')"
   ]
  },
  {
   "cell_type": "markdown",
   "id": "24ec5777-eb9a-4108-8ca2-4894f4e22b09",
   "metadata": {
    "jp-MarkdownHeadingCollapsed": true
   },
   "source": [
    "# Обновляем конфиг под наши данные"
   ]
  },
  {
   "cell_type": "code",
   "execution_count": 24,
   "id": "389f1824-1bc2-4ce6-a987-cf0b4a074056",
   "metadata": {},
   "outputs": [
    {
     "data": {
      "text/plain": [
       "'Tensorflow/workspace/models/my_ssd_mobnet/osetr_checkpoints/osetr_pipeline.config'"
      ]
     },
     "execution_count": 24,
     "metadata": {},
     "output_type": "execute_result"
    }
   ],
   "source": [
    "files['PIPELINE_CONFIG']"
   ]
  },
  {
   "cell_type": "code",
   "execution_count": 21,
   "id": "e2375c8f-15ff-44c9-b5a0-9077d03d2099",
   "metadata": {},
   "outputs": [
    {
     "data": {
      "text/plain": [
       "'Tensorflow/workspace/annotations/label_map_osetr.pbtxt'"
      ]
     },
     "execution_count": 21,
     "metadata": {},
     "output_type": "execute_result"
    }
   ],
   "source": [
    "files['LABELMAP']"
   ]
  },
  {
   "cell_type": "code",
   "execution_count": 22,
   "id": "2f86baa3-5ac2-4ea4-9efc-b448cccd56e0",
   "metadata": {},
   "outputs": [],
   "source": [
    "with open(files['LABELMAP']) as f:\n",
    "    lines = f.readlines()\n",
    "label_count = lines.count('}\\n')"
   ]
  },
  {
   "cell_type": "code",
   "execution_count": 23,
   "id": "1b8cd571-ddce-4ce9-99db-6609a097abd1",
   "metadata": {},
   "outputs": [
    {
     "data": {
      "text/plain": [
       "9"
      ]
     },
     "execution_count": 23,
     "metadata": {},
     "output_type": "execute_result"
    }
   ],
   "source": [
    "label_count"
   ]
  },
  {
   "cell_type": "code",
   "execution_count": 20,
   "id": "094a217e-ce2e-4f56-b570-4d4b35329d1a",
   "metadata": {
    "scrolled": true
   },
   "outputs": [],
   "source": [
    "# pipeline_config = pipeline_pb2.TrainEvalPipelineConfig()\n",
    "# with tf.io.gfile.GFile(files['PIPELINE_CONFIG'], \"r\") as f:                                                                                                                                                                                                                     \n",
    "#     proto_str = f.read()                                                                                                                                                                                                                                          \n",
    "#     text_format.Merge(proto_str, pipeline_config)  "
   ]
  },
  {
   "cell_type": "code",
   "execution_count": 29,
   "id": "fe20ba8b-e798-4148-91d8-5b28beeaeb07",
   "metadata": {},
   "outputs": [],
   "source": [
    "# pipeline_config.model.ssd.num_classes = label_count\n",
    "# pipeline_config.train_config.batch_size = 2\n",
    "# pipeline_config.train_config.fine_tune_checkpoint = os.path.join(paths['PRETRAINED_MODEL_PATH'], PRETRAINED_MODEL_NAME, 'checkpoint', 'ckpt-0')\n",
    "# pipeline_config.train_config.fine_tune_checkpoint_type = \"detection\"\n",
    "# pipeline_config.train_input_reader.label_map_path= files['LABELMAP']\n",
    "# pipeline_config.train_input_reader.tf_record_input_reader.input_path[:] = [os.path.join(paths['ANNOTATION_PATH'], name + '_train.record')]\n",
    "# pipeline_config.eval_input_reader[0].label_map_path = files['LABELMAP']\n",
    "# pipeline_config.eval_input_reader[0].tf_record_input_reader.input_path[:] = [os.path.join(paths['ANNOTATION_PATH'], name + '_test.record')]"
   ]
  },
  {
   "cell_type": "code",
   "execution_count": 30,
   "id": "d8a2f13c-99bc-482b-9388-21365c031da1",
   "metadata": {},
   "outputs": [],
   "source": [
    "# config_text = text_format.MessageToString(pipeline_config)                                                                                                                                                                                                        \n",
    "# with tf.io.gfile.GFile(files['PIPELINE_CONFIG'], \"wb\") as f:                                                                                                                                                                                                                     \n",
    "#     f.write(config_text)   "
   ]
  },
  {
   "cell_type": "code",
   "execution_count": 31,
   "id": "3ba6a69f-d0a7-4082-9796-1aafd2b43bc0",
   "metadata": {},
   "outputs": [],
   "source": [
    "def update_pipeline_config(config_path, label_map_path, train_record_path, test_record_path, checkpoint_path):\n",
    "    pipeline_config = pipeline_pb2.TrainEvalPipelineConfig()\n",
    "\n",
    "    # Read the existing pipeline config\n",
    "    with open(config_path, 'r') as f:\n",
    "        proto_str = f.read()\n",
    "        # proto_str = proto_str.replace(\"fine_tune_checkpoint_version: V2\", \"\")\n",
    "        text_format.Merge(proto_str, pipeline_config)\n",
    "\n",
    "\n",
    "    # Update the paths\n",
    "    pipeline_config.model.ssd.num_classes = label_count\n",
    "    pipeline_config.train_config.batch_size = 3\n",
    "    pipeline_config.train_config.fine_tune_checkpoint = os.path.join(paths['PRETRAINED_MODEL_PATH'], PRETRAINED_MODEL_NAME, 'checkpoint', 'ckpt-0')\n",
    "    pipeline_config.train_config.fine_tune_checkpoint_type = \"detection\"\n",
    "    pipeline_config.train_input_reader.label_map_path= files['LABELMAP']\n",
    "    pipeline_config.train_input_reader.tf_record_input_reader.input_path[:] = [os.path.join(paths['ANNOTATION_PATH'], name + '_train.record')]\n",
    "    pipeline_config.eval_input_reader[0].label_map_path = files['LABELMAP']\n",
    "    pipeline_config.eval_input_reader[0].tf_record_input_reader.input_path[:] = [os.path.join(paths['ANNOTATION_PATH'], name + '_test.record')]\n",
    "\n",
    "    # Write the updated pipeline config back to the file\n",
    "    with open(config_path, 'w') as f:\n",
    "        f.write(text_format.MessageToString(pipeline_config))"
   ]
  },
  {
   "cell_type": "code",
   "execution_count": 32,
   "id": "4113c5bf-5dbd-4b2f-ad5a-c5682869c210",
   "metadata": {},
   "outputs": [],
   "source": [
    "update_pipeline_config(\n",
    "    config_path=files['PIPELINE_CONFIG'],\n",
    "    label_map_path=files['LABELMAP'],\n",
    "    train_record_path=os.path.join(paths['ANNOTATION_PATH'], name + '_train.record'),\n",
    "    test_record_path=os.path.join(paths['ANNOTATION_PATH'], name + '_test.record'),\n",
    "    checkpoint_path=paths['CHECKPOINT_PATH']\n",
    ")"
   ]
  },
  {
   "cell_type": "markdown",
   "id": "fe0e3d37-74b7-4943-b385-c19d21e2b899",
   "metadata": {
    "jp-MarkdownHeadingCollapsed": true
   },
   "source": [
    "# Обучение модели"
   ]
  },
  {
   "cell_type": "code",
   "execution_count": 9,
   "id": "9ae59a41-6333-4a39-b073-597499fcfe38",
   "metadata": {},
   "outputs": [],
   "source": [
    "command = \"python3 {} --model_dir={} --pipeline_config_path={} --num_train_steps=2000\".format(TRAINING_SCRIPT, paths['CHECKPOINT_PATH'],files['PIPELINE_CONFIG'])"
   ]
  },
  {
   "cell_type": "markdown",
   "id": "5464efef-76bb-4887-a71a-6297a21170e1",
   "metadata": {},
   "source": [
    "Запустить через терминал (внутри venv!)"
   ]
  },
  {
   "cell_type": "code",
   "execution_count": 10,
   "id": "e3cf27c1-4867-4caf-97e4-b44b95a6b093",
   "metadata": {},
   "outputs": [
    {
     "name": "stdout",
     "output_type": "stream",
     "text": [
      "python3 Tensorflow/models/research/object_detection/model_main_tf2.py --model_dir=Tensorflow/workspace/models/my_ssd_mobnet/osetr_checkpoints --pipeline_config_path=Tensorflow/workspace/models/my_ssd_mobnet/osetr_checkpoints/osetr_pipeline.config --num_train_steps=2000\n"
     ]
    }
   ],
   "source": [
    "print(command)"
   ]
  },
  {
   "cell_type": "code",
   "execution_count": 11,
   "id": "4b4a5834-e3ad-4173-80bf-4f38a8de8b2c",
   "metadata": {
    "scrolled": true
   },
   "outputs": [
    {
     "name": "stdout",
     "output_type": "stream",
     "text": [
      "INFO:tensorflow:Using MirroredStrategy with devices ('/job:localhost/replica:0/task:0/device:GPU:0',)\n"
     ]
    },
    {
     "name": "stderr",
     "output_type": "stream",
     "text": [
      "I0728 18:30:43.979378 123802359001088 mirrored_strategy.py:419] Using MirroredStrategy with devices ('/job:localhost/replica:0/task:0/device:GPU:0',)\n"
     ]
    },
    {
     "name": "stdout",
     "output_type": "stream",
     "text": [
      "INFO:tensorflow:Maybe overwriting train_steps: 20000\n"
     ]
    },
    {
     "name": "stderr",
     "output_type": "stream",
     "text": [
      "I0728 18:30:44.031571 123802359001088 config_util.py:552] Maybe overwriting train_steps: 20000\n"
     ]
    },
    {
     "name": "stdout",
     "output_type": "stream",
     "text": [
      "INFO:tensorflow:Maybe overwriting use_bfloat16: False\n"
     ]
    },
    {
     "name": "stderr",
     "output_type": "stream",
     "text": [
      "I0728 18:30:44.032446 123802359001088 config_util.py:552] Maybe overwriting use_bfloat16: False\n"
     ]
    },
    {
     "name": "stdout",
     "output_type": "stream",
     "text": [
      "WARNING:tensorflow:From /home/midnightknight/Blood-object-detection/.obj_det/lib/python3.10/site-packages/object_detection/model_lib_v2.py:563: StrategyBase.experimental_distribute_datasets_from_function (from tensorflow.python.distribute.distribute_lib) is deprecated and will be removed in a future version.\n",
      "Instructions for updating:\n",
      "rename to distribute_datasets_from_function\n"
     ]
    },
    {
     "name": "stderr",
     "output_type": "stream",
     "text": [
      "W0728 18:30:44.054686 123802359001088 deprecation.py:364] From /home/midnightknight/Blood-object-detection/.obj_det/lib/python3.10/site-packages/object_detection/model_lib_v2.py:563: StrategyBase.experimental_distribute_datasets_from_function (from tensorflow.python.distribute.distribute_lib) is deprecated and will be removed in a future version.\n",
      "Instructions for updating:\n",
      "rename to distribute_datasets_from_function\n"
     ]
    },
    {
     "name": "stdout",
     "output_type": "stream",
     "text": [
      "INFO:tensorflow:Reading unweighted datasets: ['Tensorflow/workspace/annotations/osetr_train.record']\n"
     ]
    },
    {
     "name": "stderr",
     "output_type": "stream",
     "text": [
      "I0728 18:30:44.061346 123802359001088 dataset_builder.py:162] Reading unweighted datasets: ['Tensorflow/workspace/annotations/osetr_train.record']\n"
     ]
    },
    {
     "name": "stdout",
     "output_type": "stream",
     "text": [
      "INFO:tensorflow:Reading record datasets for input file: ['Tensorflow/workspace/annotations/osetr_train.record']\n"
     ]
    },
    {
     "name": "stderr",
     "output_type": "stream",
     "text": [
      "I0728 18:30:44.062297 123802359001088 dataset_builder.py:79] Reading record datasets for input file: ['Tensorflow/workspace/annotations/osetr_train.record']\n"
     ]
    },
    {
     "name": "stdout",
     "output_type": "stream",
     "text": [
      "INFO:tensorflow:Number of filenames to read: 1\n"
     ]
    },
    {
     "name": "stderr",
     "output_type": "stream",
     "text": [
      "I0728 18:30:44.062843 123802359001088 dataset_builder.py:80] Number of filenames to read: 1\n"
     ]
    },
    {
     "name": "stdout",
     "output_type": "stream",
     "text": [
      "WARNING:tensorflow:num_readers has been reduced to 1 to match input file shards.\n"
     ]
    },
    {
     "name": "stderr",
     "output_type": "stream",
     "text": [
      "W0728 18:30:44.063520 123802359001088 dataset_builder.py:86] num_readers has been reduced to 1 to match input file shards.\n"
     ]
    },
    {
     "name": "stdout",
     "output_type": "stream",
     "text": [
      "WARNING:tensorflow:From /home/midnightknight/Blood-object-detection/.obj_det/lib/python3.10/site-packages/object_detection/builders/dataset_builder.py:100: parallel_interleave (from tensorflow.python.data.experimental.ops.interleave_ops) is deprecated and will be removed in a future version.\n",
      "Instructions for updating:\n",
      "Use `tf.data.Dataset.interleave(map_func, cycle_length, block_length, num_parallel_calls=tf.data.AUTOTUNE)` instead. If sloppy execution is desired, use `tf.data.Options.deterministic`.\n"
     ]
    },
    {
     "name": "stderr",
     "output_type": "stream",
     "text": [
      "W0728 18:30:44.075886 123802359001088 deprecation.py:364] From /home/midnightknight/Blood-object-detection/.obj_det/lib/python3.10/site-packages/object_detection/builders/dataset_builder.py:100: parallel_interleave (from tensorflow.python.data.experimental.ops.interleave_ops) is deprecated and will be removed in a future version.\n",
      "Instructions for updating:\n",
      "Use `tf.data.Dataset.interleave(map_func, cycle_length, block_length, num_parallel_calls=tf.data.AUTOTUNE)` instead. If sloppy execution is desired, use `tf.data.Options.deterministic`.\n"
     ]
    },
    {
     "name": "stdout",
     "output_type": "stream",
     "text": [
      "WARNING:tensorflow:From /home/midnightknight/Blood-object-detection/.obj_det/lib/python3.10/site-packages/object_detection/builders/dataset_builder.py:235: DatasetV1.map_with_legacy_function (from tensorflow.python.data.ops.dataset_ops) is deprecated and will be removed in a future version.\n",
      "Instructions for updating:\n",
      "Use `tf.data.Dataset.map()\n"
     ]
    },
    {
     "name": "stderr",
     "output_type": "stream",
     "text": [
      "W0728 18:30:44.092563 123802359001088 deprecation.py:364] From /home/midnightknight/Blood-object-detection/.obj_det/lib/python3.10/site-packages/object_detection/builders/dataset_builder.py:235: DatasetV1.map_with_legacy_function (from tensorflow.python.data.ops.dataset_ops) is deprecated and will be removed in a future version.\n",
      "Instructions for updating:\n",
      "Use `tf.data.Dataset.map()\n"
     ]
    },
    {
     "name": "stdout",
     "output_type": "stream",
     "text": [
      "WARNING:tensorflow:From /home/midnightknight/Blood-object-detection/.obj_det/lib/python3.10/site-packages/tensorflow/python/util/dispatch.py:1176: sparse_to_dense (from tensorflow.python.ops.sparse_ops) is deprecated and will be removed in a future version.\n",
      "Instructions for updating:\n",
      "Create a `tf.sparse.SparseTensor` and use `tf.sparse.to_dense` instead.\n"
     ]
    },
    {
     "name": "stderr",
     "output_type": "stream",
     "text": [
      "W0728 18:30:48.661028 123802359001088 deprecation.py:364] From /home/midnightknight/Blood-object-detection/.obj_det/lib/python3.10/site-packages/tensorflow/python/util/dispatch.py:1176: sparse_to_dense (from tensorflow.python.ops.sparse_ops) is deprecated and will be removed in a future version.\n",
      "Instructions for updating:\n",
      "Create a `tf.sparse.SparseTensor` and use `tf.sparse.to_dense` instead.\n"
     ]
    },
    {
     "name": "stdout",
     "output_type": "stream",
     "text": [
      "WARNING:tensorflow:From /home/midnightknight/Blood-object-detection/.obj_det/lib/python3.10/site-packages/tensorflow/python/util/dispatch.py:1176: sample_distorted_bounding_box (from tensorflow.python.ops.image_ops_impl) is deprecated and will be removed in a future version.\n",
      "Instructions for updating:\n",
      "`seed2` arg is deprecated.Use sample_distorted_bounding_box_v2 instead.\n"
     ]
    },
    {
     "name": "stderr",
     "output_type": "stream",
     "text": [
      "W0728 18:30:50.557991 123802359001088 deprecation.py:364] From /home/midnightknight/Blood-object-detection/.obj_det/lib/python3.10/site-packages/tensorflow/python/util/dispatch.py:1176: sample_distorted_bounding_box (from tensorflow.python.ops.image_ops_impl) is deprecated and will be removed in a future version.\n",
      "Instructions for updating:\n",
      "`seed2` arg is deprecated.Use sample_distorted_bounding_box_v2 instead.\n"
     ]
    },
    {
     "name": "stdout",
     "output_type": "stream",
     "text": [
      "WARNING:tensorflow:From /home/midnightknight/Blood-object-detection/.obj_det/lib/python3.10/site-packages/tensorflow/python/util/dispatch.py:1176: to_float (from tensorflow.python.ops.math_ops) is deprecated and will be removed in a future version.\n",
      "Instructions for updating:\n",
      "Use `tf.cast` instead.\n"
     ]
    },
    {
     "name": "stderr",
     "output_type": "stream",
     "text": [
      "W0728 18:30:51.524850 123802359001088 deprecation.py:364] From /home/midnightknight/Blood-object-detection/.obj_det/lib/python3.10/site-packages/tensorflow/python/util/dispatch.py:1176: to_float (from tensorflow.python.ops.math_ops) is deprecated and will be removed in a future version.\n",
      "Instructions for updating:\n",
      "Use `tf.cast` instead.\n",
      "/home/midnightknight/Blood-object-detection/.obj_det/lib/python3.10/site-packages/keras/src/backend.py:452: UserWarning: `tf.keras.backend.set_learning_phase` is deprecated and will be removed after 2020-10-11. To update it, simply pass a True/False value to the `training` argument of the `__call__` method of your layer or model.\n",
      "  warnings.warn(\n",
      "I0728 18:31:00.180924 123794846910016 api.py:460] feature_map_spatial_dims: [(40, 40), (20, 20), (10, 10), (5, 5), (3, 3)]\n",
      "I0728 18:31:05.200944 123794846910016 api.py:460] feature_map_spatial_dims: [(40, 40), (20, 20), (10, 10), (5, 5), (3, 3)]\n"
     ]
    },
    {
     "name": "stdout",
     "output_type": "stream",
     "text": [
      "WARNING:tensorflow:From /home/midnightknight/Blood-object-detection/.obj_det/lib/python3.10/site-packages/tensorflow/python/util/deprecation.py:648: calling map_fn_v2 (from tensorflow.python.ops.map_fn) with dtype is deprecated and will be removed in a future version.\n",
      "Instructions for updating:\n",
      "Use fn_output_signature instead\n"
     ]
    },
    {
     "name": "stderr",
     "output_type": "stream",
     "text": [
      "W0728 18:31:10.403418 123794960156224 deprecation.py:569] From /home/midnightknight/Blood-object-detection/.obj_det/lib/python3.10/site-packages/tensorflow/python/util/deprecation.py:648: calling map_fn_v2 (from tensorflow.python.ops.map_fn) with dtype is deprecated and will be removed in a future version.\n",
      "Instructions for updating:\n",
      "Use fn_output_signature instead\n",
      "I0728 18:31:11.068545 123794960156224 api.py:460] feature_map_spatial_dims: [(40, 40), (20, 20), (10, 10), (5, 5), (3, 3)]\n",
      "I0728 18:31:14.355960 123794960156224 api.py:460] feature_map_spatial_dims: [(40, 40), (20, 20), (10, 10), (5, 5), (3, 3)]\n",
      "I0728 18:31:17.299351 123794960156224 api.py:460] feature_map_spatial_dims: [(40, 40), (20, 20), (10, 10), (5, 5), (3, 3)]\n",
      "I0728 18:31:20.668648 123794960156224 api.py:460] feature_map_spatial_dims: [(40, 40), (20, 20), (10, 10), (5, 5), (3, 3)]\n"
     ]
    },
    {
     "name": "stdout",
     "output_type": "stream",
     "text": [
      "INFO:tensorflow:Step 17100 per-step time 0.420s\n"
     ]
    },
    {
     "name": "stderr",
     "output_type": "stream",
     "text": [
      "I0728 18:31:52.652170 123802359001088 model_lib_v2.py:705] Step 17100 per-step time 0.420s\n"
     ]
    },
    {
     "name": "stdout",
     "output_type": "stream",
     "text": [
      "INFO:tensorflow:{'Loss/classification_loss': 0.509274,\n",
      " 'Loss/localization_loss': 0.035085637,\n",
      " 'Loss/regularization_loss': 0.07572236,\n",
      " 'Loss/total_loss': 0.62008196,\n",
      " 'learning_rate': 0.060515966}\n"
     ]
    },
    {
     "name": "stderr",
     "output_type": "stream",
     "text": [
      "I0728 18:31:52.671134 123802359001088 model_lib_v2.py:708] {'Loss/classification_loss': 0.509274,\n",
      " 'Loss/localization_loss': 0.035085637,\n",
      " 'Loss/regularization_loss': 0.07572236,\n",
      " 'Loss/total_loss': 0.62008196,\n",
      " 'learning_rate': 0.060515966}\n"
     ]
    },
    {
     "name": "stdout",
     "output_type": "stream",
     "text": [
      "INFO:tensorflow:Step 17200 per-step time 0.218s\n"
     ]
    },
    {
     "name": "stderr",
     "output_type": "stream",
     "text": [
      "I0728 18:32:13.954981 123802359001088 model_lib_v2.py:705] Step 17200 per-step time 0.218s\n"
     ]
    },
    {
     "name": "stdout",
     "output_type": "stream",
     "text": [
      "INFO:tensorflow:{'Loss/classification_loss': 0.5752299,\n",
      " 'Loss/localization_loss': 0.02367541,\n",
      " 'Loss/regularization_loss': 0.07542467,\n",
      " 'Loss/total_loss': 0.67432994,\n",
      " 'learning_rate': 0.060295396}\n"
     ]
    },
    {
     "name": "stderr",
     "output_type": "stream",
     "text": [
      "I0728 18:32:13.956403 123802359001088 model_lib_v2.py:708] {'Loss/classification_loss': 0.5752299,\n",
      " 'Loss/localization_loss': 0.02367541,\n",
      " 'Loss/regularization_loss': 0.07542467,\n",
      " 'Loss/total_loss': 0.67432994,\n",
      " 'learning_rate': 0.060295396}\n"
     ]
    },
    {
     "name": "stdout",
     "output_type": "stream",
     "text": [
      "INFO:tensorflow:Step 17300 per-step time 0.226s\n"
     ]
    },
    {
     "name": "stderr",
     "output_type": "stream",
     "text": [
      "I0728 18:32:36.520036 123802359001088 model_lib_v2.py:705] Step 17300 per-step time 0.226s\n"
     ]
    },
    {
     "name": "stdout",
     "output_type": "stream",
     "text": [
      "INFO:tensorflow:{'Loss/classification_loss': 0.6081781,\n",
      " 'Loss/localization_loss': 0.034974348,\n",
      " 'Loss/regularization_loss': 0.07514947,\n",
      " 'Loss/total_loss': 0.7183019,\n",
      " 'learning_rate': 0.060073983}\n"
     ]
    },
    {
     "name": "stderr",
     "output_type": "stream",
     "text": [
      "I0728 18:32:36.521857 123802359001088 model_lib_v2.py:708] {'Loss/classification_loss': 0.6081781,\n",
      " 'Loss/localization_loss': 0.034974348,\n",
      " 'Loss/regularization_loss': 0.07514947,\n",
      " 'Loss/total_loss': 0.7183019,\n",
      " 'learning_rate': 0.060073983}\n"
     ]
    },
    {
     "name": "stdout",
     "output_type": "stream",
     "text": [
      "INFO:tensorflow:Step 17400 per-step time 0.218s\n"
     ]
    },
    {
     "name": "stderr",
     "output_type": "stream",
     "text": [
      "I0728 18:32:58.375263 123802359001088 model_lib_v2.py:705] Step 17400 per-step time 0.218s\n"
     ]
    },
    {
     "name": "stdout",
     "output_type": "stream",
     "text": [
      "INFO:tensorflow:{'Loss/classification_loss': 0.57395804,\n",
      " 'Loss/localization_loss': 0.068203256,\n",
      " 'Loss/regularization_loss': 0.07488455,\n",
      " 'Loss/total_loss': 0.71704584,\n",
      " 'learning_rate': 0.05985175}\n"
     ]
    },
    {
     "name": "stderr",
     "output_type": "stream",
     "text": [
      "I0728 18:32:58.379516 123802359001088 model_lib_v2.py:708] {'Loss/classification_loss': 0.57395804,\n",
      " 'Loss/localization_loss': 0.068203256,\n",
      " 'Loss/regularization_loss': 0.07488455,\n",
      " 'Loss/total_loss': 0.71704584,\n",
      " 'learning_rate': 0.05985175}\n"
     ]
    },
    {
     "name": "stdout",
     "output_type": "stream",
     "text": [
      "INFO:tensorflow:Step 17500 per-step time 0.229s\n"
     ]
    },
    {
     "name": "stderr",
     "output_type": "stream",
     "text": [
      "I0728 18:33:21.273974 123802359001088 model_lib_v2.py:705] Step 17500 per-step time 0.229s\n"
     ]
    },
    {
     "name": "stdout",
     "output_type": "stream",
     "text": [
      "INFO:tensorflow:{'Loss/classification_loss': 0.667454,\n",
      " 'Loss/localization_loss': 0.054442395,\n",
      " 'Loss/regularization_loss': 0.07459968,\n",
      " 'Loss/total_loss': 0.7964961,\n",
      " 'learning_rate': 0.0596287}\n"
     ]
    },
    {
     "name": "stderr",
     "output_type": "stream",
     "text": [
      "I0728 18:33:21.278871 123802359001088 model_lib_v2.py:708] {'Loss/classification_loss': 0.667454,\n",
      " 'Loss/localization_loss': 0.054442395,\n",
      " 'Loss/regularization_loss': 0.07459968,\n",
      " 'Loss/total_loss': 0.7964961,\n",
      " 'learning_rate': 0.0596287}\n"
     ]
    },
    {
     "name": "stdout",
     "output_type": "stream",
     "text": [
      "INFO:tensorflow:Step 17600 per-step time 0.227s\n"
     ]
    },
    {
     "name": "stderr",
     "output_type": "stream",
     "text": [
      "I0728 18:33:44.001196 123802359001088 model_lib_v2.py:705] Step 17600 per-step time 0.227s\n"
     ]
    },
    {
     "name": "stdout",
     "output_type": "stream",
     "text": [
      "INFO:tensorflow:{'Loss/classification_loss': 0.5985753,\n",
      " 'Loss/localization_loss': 0.05501113,\n",
      " 'Loss/regularization_loss': 0.074300475,\n",
      " 'Loss/total_loss': 0.7278869,\n",
      " 'learning_rate': 0.05940484}\n"
     ]
    },
    {
     "name": "stderr",
     "output_type": "stream",
     "text": [
      "I0728 18:33:44.002601 123802359001088 model_lib_v2.py:708] {'Loss/classification_loss': 0.5985753,\n",
      " 'Loss/localization_loss': 0.05501113,\n",
      " 'Loss/regularization_loss': 0.074300475,\n",
      " 'Loss/total_loss': 0.7278869,\n",
      " 'learning_rate': 0.05940484}\n"
     ]
    },
    {
     "name": "stdout",
     "output_type": "stream",
     "text": [
      "INFO:tensorflow:Step 17700 per-step time 0.225s\n"
     ]
    },
    {
     "name": "stderr",
     "output_type": "stream",
     "text": [
      "I0728 18:34:06.459760 123802359001088 model_lib_v2.py:705] Step 17700 per-step time 0.225s\n"
     ]
    },
    {
     "name": "stdout",
     "output_type": "stream",
     "text": [
      "INFO:tensorflow:{'Loss/classification_loss': 0.56412345,\n",
      " 'Loss/localization_loss': 0.055393107,\n",
      " 'Loss/regularization_loss': 0.07400552,\n",
      " 'Loss/total_loss': 0.6935221,\n",
      " 'learning_rate': 0.059180185}\n"
     ]
    },
    {
     "name": "stderr",
     "output_type": "stream",
     "text": [
      "I0728 18:34:06.461977 123802359001088 model_lib_v2.py:708] {'Loss/classification_loss': 0.56412345,\n",
      " 'Loss/localization_loss': 0.055393107,\n",
      " 'Loss/regularization_loss': 0.07400552,\n",
      " 'Loss/total_loss': 0.6935221,\n",
      " 'learning_rate': 0.059180185}\n"
     ]
    },
    {
     "name": "stdout",
     "output_type": "stream",
     "text": [
      "INFO:tensorflow:Step 17800 per-step time 0.221s\n"
     ]
    },
    {
     "name": "stderr",
     "output_type": "stream",
     "text": [
      "I0728 18:34:28.550135 123802359001088 model_lib_v2.py:705] Step 17800 per-step time 0.221s\n"
     ]
    },
    {
     "name": "stdout",
     "output_type": "stream",
     "text": [
      "INFO:tensorflow:{'Loss/classification_loss': 0.5224489,\n",
      " 'Loss/localization_loss': 0.031820916,\n",
      " 'Loss/regularization_loss': 0.07374944,\n",
      " 'Loss/total_loss': 0.6280192,\n",
      " 'learning_rate': 0.05895474}\n"
     ]
    },
    {
     "name": "stderr",
     "output_type": "stream",
     "text": [
      "I0728 18:34:28.559785 123802359001088 model_lib_v2.py:708] {'Loss/classification_loss': 0.5224489,\n",
      " 'Loss/localization_loss': 0.031820916,\n",
      " 'Loss/regularization_loss': 0.07374944,\n",
      " 'Loss/total_loss': 0.6280192,\n",
      " 'learning_rate': 0.05895474}\n"
     ]
    },
    {
     "name": "stdout",
     "output_type": "stream",
     "text": [
      "INFO:tensorflow:Step 17900 per-step time 0.219s\n"
     ]
    },
    {
     "name": "stderr",
     "output_type": "stream",
     "text": [
      "I0728 18:34:50.495864 123802359001088 model_lib_v2.py:705] Step 17900 per-step time 0.219s\n"
     ]
    },
    {
     "name": "stdout",
     "output_type": "stream",
     "text": [
      "INFO:tensorflow:{'Loss/classification_loss': 0.51419085,\n",
      " 'Loss/localization_loss': 0.024221867,\n",
      " 'Loss/regularization_loss': 0.07349132,\n",
      " 'Loss/total_loss': 0.611904,\n",
      " 'learning_rate': 0.058728524}\n"
     ]
    },
    {
     "name": "stderr",
     "output_type": "stream",
     "text": [
      "I0728 18:34:50.498162 123802359001088 model_lib_v2.py:708] {'Loss/classification_loss': 0.51419085,\n",
      " 'Loss/localization_loss': 0.024221867,\n",
      " 'Loss/regularization_loss': 0.07349132,\n",
      " 'Loss/total_loss': 0.611904,\n",
      " 'learning_rate': 0.058728524}\n"
     ]
    },
    {
     "name": "stdout",
     "output_type": "stream",
     "text": [
      "INFO:tensorflow:Step 18000 per-step time 0.237s\n"
     ]
    },
    {
     "name": "stderr",
     "output_type": "stream",
     "text": [
      "I0728 18:35:14.181484 123802359001088 model_lib_v2.py:705] Step 18000 per-step time 0.237s\n"
     ]
    },
    {
     "name": "stdout",
     "output_type": "stream",
     "text": [
      "INFO:tensorflow:{'Loss/classification_loss': 0.5882769,\n",
      " 'Loss/localization_loss': 0.03646037,\n",
      " 'Loss/regularization_loss': 0.073268235,\n",
      " 'Loss/total_loss': 0.6980055,\n",
      " 'learning_rate': 0.058501527}\n"
     ]
    },
    {
     "name": "stderr",
     "output_type": "stream",
     "text": [
      "I0728 18:35:14.183318 123802359001088 model_lib_v2.py:708] {'Loss/classification_loss': 0.5882769,\n",
      " 'Loss/localization_loss': 0.03646037,\n",
      " 'Loss/regularization_loss': 0.073268235,\n",
      " 'Loss/total_loss': 0.6980055,\n",
      " 'learning_rate': 0.058501527}\n"
     ]
    },
    {
     "name": "stdout",
     "output_type": "stream",
     "text": [
      "INFO:tensorflow:Reduce to /job:localhost/replica:0/task:0/device:CPU:0 then broadcast to ('/job:localhost/replica:0/task:0/device:CPU:0',).\n"
     ]
    },
    {
     "name": "stderr",
     "output_type": "stream",
     "text": [
      "I0728 18:35:14.947964 123802359001088 cross_device_ops.py:617] Reduce to /job:localhost/replica:0/task:0/device:CPU:0 then broadcast to ('/job:localhost/replica:0/task:0/device:CPU:0',).\n"
     ]
    },
    {
     "name": "stdout",
     "output_type": "stream",
     "text": [
      "INFO:tensorflow:Reduce to /job:localhost/replica:0/task:0/device:CPU:0 then broadcast to ('/job:localhost/replica:0/task:0/device:CPU:0',).\n"
     ]
    },
    {
     "name": "stderr",
     "output_type": "stream",
     "text": [
      "I0728 18:35:15.205024 123802359001088 cross_device_ops.py:617] Reduce to /job:localhost/replica:0/task:0/device:CPU:0 then broadcast to ('/job:localhost/replica:0/task:0/device:CPU:0',).\n"
     ]
    },
    {
     "name": "stdout",
     "output_type": "stream",
     "text": [
      "INFO:tensorflow:Reduce to /job:localhost/replica:0/task:0/device:CPU:0 then broadcast to ('/job:localhost/replica:0/task:0/device:CPU:0',).\n"
     ]
    },
    {
     "name": "stderr",
     "output_type": "stream",
     "text": [
      "I0728 18:35:15.218722 123802359001088 cross_device_ops.py:617] Reduce to /job:localhost/replica:0/task:0/device:CPU:0 then broadcast to ('/job:localhost/replica:0/task:0/device:CPU:0',).\n"
     ]
    },
    {
     "name": "stdout",
     "output_type": "stream",
     "text": [
      "INFO:tensorflow:Reduce to /job:localhost/replica:0/task:0/device:CPU:0 then broadcast to ('/job:localhost/replica:0/task:0/device:CPU:0',).\n"
     ]
    },
    {
     "name": "stderr",
     "output_type": "stream",
     "text": [
      "I0728 18:35:15.232260 123802359001088 cross_device_ops.py:617] Reduce to /job:localhost/replica:0/task:0/device:CPU:0 then broadcast to ('/job:localhost/replica:0/task:0/device:CPU:0',).\n"
     ]
    },
    {
     "name": "stdout",
     "output_type": "stream",
     "text": [
      "INFO:tensorflow:Reduce to /job:localhost/replica:0/task:0/device:CPU:0 then broadcast to ('/job:localhost/replica:0/task:0/device:CPU:0',).\n"
     ]
    },
    {
     "name": "stderr",
     "output_type": "stream",
     "text": [
      "I0728 18:35:15.260276 123802359001088 cross_device_ops.py:617] Reduce to /job:localhost/replica:0/task:0/device:CPU:0 then broadcast to ('/job:localhost/replica:0/task:0/device:CPU:0',).\n"
     ]
    },
    {
     "name": "stdout",
     "output_type": "stream",
     "text": [
      "INFO:tensorflow:Reduce to /job:localhost/replica:0/task:0/device:CPU:0 then broadcast to ('/job:localhost/replica:0/task:0/device:CPU:0',).\n"
     ]
    },
    {
     "name": "stderr",
     "output_type": "stream",
     "text": [
      "I0728 18:35:15.267452 123802359001088 cross_device_ops.py:617] Reduce to /job:localhost/replica:0/task:0/device:CPU:0 then broadcast to ('/job:localhost/replica:0/task:0/device:CPU:0',).\n"
     ]
    },
    {
     "name": "stdout",
     "output_type": "stream",
     "text": [
      "INFO:tensorflow:Reduce to /job:localhost/replica:0/task:0/device:CPU:0 then broadcast to ('/job:localhost/replica:0/task:0/device:CPU:0',).\n"
     ]
    },
    {
     "name": "stderr",
     "output_type": "stream",
     "text": [
      "I0728 18:35:15.274194 123802359001088 cross_device_ops.py:617] Reduce to /job:localhost/replica:0/task:0/device:CPU:0 then broadcast to ('/job:localhost/replica:0/task:0/device:CPU:0',).\n"
     ]
    },
    {
     "name": "stdout",
     "output_type": "stream",
     "text": [
      "INFO:tensorflow:Reduce to /job:localhost/replica:0/task:0/device:CPU:0 then broadcast to ('/job:localhost/replica:0/task:0/device:CPU:0',).\n"
     ]
    },
    {
     "name": "stderr",
     "output_type": "stream",
     "text": [
      "I0728 18:35:15.281161 123802359001088 cross_device_ops.py:617] Reduce to /job:localhost/replica:0/task:0/device:CPU:0 then broadcast to ('/job:localhost/replica:0/task:0/device:CPU:0',).\n"
     ]
    },
    {
     "name": "stdout",
     "output_type": "stream",
     "text": [
      "INFO:tensorflow:Reduce to /job:localhost/replica:0/task:0/device:CPU:0 then broadcast to ('/job:localhost/replica:0/task:0/device:CPU:0',).\n"
     ]
    },
    {
     "name": "stderr",
     "output_type": "stream",
     "text": [
      "I0728 18:35:15.296708 123802359001088 cross_device_ops.py:617] Reduce to /job:localhost/replica:0/task:0/device:CPU:0 then broadcast to ('/job:localhost/replica:0/task:0/device:CPU:0',).\n"
     ]
    },
    {
     "name": "stdout",
     "output_type": "stream",
     "text": [
      "INFO:tensorflow:Reduce to /job:localhost/replica:0/task:0/device:CPU:0 then broadcast to ('/job:localhost/replica:0/task:0/device:CPU:0',).\n"
     ]
    },
    {
     "name": "stderr",
     "output_type": "stream",
     "text": [
      "I0728 18:35:15.301649 123802359001088 cross_device_ops.py:617] Reduce to /job:localhost/replica:0/task:0/device:CPU:0 then broadcast to ('/job:localhost/replica:0/task:0/device:CPU:0',).\n"
     ]
    },
    {
     "name": "stdout",
     "output_type": "stream",
     "text": [
      "INFO:tensorflow:Step 18100 per-step time 0.219s\n"
     ]
    },
    {
     "name": "stderr",
     "output_type": "stream",
     "text": [
      "I0728 18:35:36.117264 123802359001088 model_lib_v2.py:705] Step 18100 per-step time 0.219s\n"
     ]
    },
    {
     "name": "stdout",
     "output_type": "stream",
     "text": [
      "INFO:tensorflow:{'Loss/classification_loss': 0.53767174,\n",
      " 'Loss/localization_loss': 0.018206034,\n",
      " 'Loss/regularization_loss': 0.07301243,\n",
      " 'Loss/total_loss': 0.6288902,\n",
      " 'learning_rate': 0.058273777}\n"
     ]
    },
    {
     "name": "stderr",
     "output_type": "stream",
     "text": [
      "I0728 18:35:36.123172 123802359001088 model_lib_v2.py:708] {'Loss/classification_loss': 0.53767174,\n",
      " 'Loss/localization_loss': 0.018206034,\n",
      " 'Loss/regularization_loss': 0.07301243,\n",
      " 'Loss/total_loss': 0.6288902,\n",
      " 'learning_rate': 0.058273777}\n"
     ]
    },
    {
     "name": "stdout",
     "output_type": "stream",
     "text": [
      "INFO:tensorflow:Step 18200 per-step time 0.228s\n"
     ]
    },
    {
     "name": "stderr",
     "output_type": "stream",
     "text": [
      "I0728 18:35:58.869476 123802359001088 model_lib_v2.py:705] Step 18200 per-step time 0.228s\n"
     ]
    },
    {
     "name": "stdout",
     "output_type": "stream",
     "text": [
      "INFO:tensorflow:{'Loss/classification_loss': 0.57149243,\n",
      " 'Loss/localization_loss': 0.037890546,\n",
      " 'Loss/regularization_loss': 0.072735876,\n",
      " 'Loss/total_loss': 0.6821189,\n",
      " 'learning_rate': 0.05804527}\n"
     ]
    },
    {
     "name": "stderr",
     "output_type": "stream",
     "text": [
      "I0728 18:35:58.871065 123802359001088 model_lib_v2.py:708] {'Loss/classification_loss': 0.57149243,\n",
      " 'Loss/localization_loss': 0.037890546,\n",
      " 'Loss/regularization_loss': 0.072735876,\n",
      " 'Loss/total_loss': 0.6821189,\n",
      " 'learning_rate': 0.05804527}\n"
     ]
    },
    {
     "name": "stdout",
     "output_type": "stream",
     "text": [
      "INFO:tensorflow:Step 18300 per-step time 0.224s\n"
     ]
    },
    {
     "name": "stderr",
     "output_type": "stream",
     "text": [
      "I0728 18:36:21.306867 123802359001088 model_lib_v2.py:705] Step 18300 per-step time 0.224s\n"
     ]
    },
    {
     "name": "stdout",
     "output_type": "stream",
     "text": [
      "INFO:tensorflow:{'Loss/classification_loss': 0.55151707,\n",
      " 'Loss/localization_loss': 0.03247773,\n",
      " 'Loss/regularization_loss': 0.07248916,\n",
      " 'Loss/total_loss': 0.65648395,\n",
      " 'learning_rate': 0.05781603}\n"
     ]
    },
    {
     "name": "stderr",
     "output_type": "stream",
     "text": [
      "I0728 18:36:21.311101 123802359001088 model_lib_v2.py:708] {'Loss/classification_loss': 0.55151707,\n",
      " 'Loss/localization_loss': 0.03247773,\n",
      " 'Loss/regularization_loss': 0.07248916,\n",
      " 'Loss/total_loss': 0.65648395,\n",
      " 'learning_rate': 0.05781603}\n"
     ]
    },
    {
     "name": "stdout",
     "output_type": "stream",
     "text": [
      "INFO:tensorflow:Step 18400 per-step time 0.229s\n"
     ]
    },
    {
     "name": "stderr",
     "output_type": "stream",
     "text": [
      "I0728 18:36:44.151578 123802359001088 model_lib_v2.py:705] Step 18400 per-step time 0.229s\n"
     ]
    },
    {
     "name": "stdout",
     "output_type": "stream",
     "text": [
      "INFO:tensorflow:{'Loss/classification_loss': 0.56199515,\n",
      " 'Loss/localization_loss': 0.04303598,\n",
      " 'Loss/regularization_loss': 0.072228126,\n",
      " 'Loss/total_loss': 0.67725927,\n",
      " 'learning_rate': 0.057586048}\n"
     ]
    },
    {
     "name": "stderr",
     "output_type": "stream",
     "text": [
      "I0728 18:36:44.153783 123802359001088 model_lib_v2.py:708] {'Loss/classification_loss': 0.56199515,\n",
      " 'Loss/localization_loss': 0.04303598,\n",
      " 'Loss/regularization_loss': 0.072228126,\n",
      " 'Loss/total_loss': 0.67725927,\n",
      " 'learning_rate': 0.057586048}\n"
     ]
    },
    {
     "name": "stdout",
     "output_type": "stream",
     "text": [
      "INFO:tensorflow:Step 18500 per-step time 0.230s\n"
     ]
    },
    {
     "name": "stderr",
     "output_type": "stream",
     "text": [
      "I0728 18:37:07.131864 123802359001088 model_lib_v2.py:705] Step 18500 per-step time 0.230s\n"
     ]
    },
    {
     "name": "stdout",
     "output_type": "stream",
     "text": [
      "INFO:tensorflow:{'Loss/classification_loss': 0.50899845,\n",
      " 'Loss/localization_loss': 0.0129150795,\n",
      " 'Loss/regularization_loss': 0.07198636,\n",
      " 'Loss/total_loss': 0.5938999,\n",
      " 'learning_rate': 0.05735535}\n"
     ]
    },
    {
     "name": "stderr",
     "output_type": "stream",
     "text": [
      "I0728 18:37:07.137557 123802359001088 model_lib_v2.py:708] {'Loss/classification_loss': 0.50899845,\n",
      " 'Loss/localization_loss': 0.0129150795,\n",
      " 'Loss/regularization_loss': 0.07198636,\n",
      " 'Loss/total_loss': 0.5938999,\n",
      " 'learning_rate': 0.05735535}\n"
     ]
    },
    {
     "name": "stdout",
     "output_type": "stream",
     "text": [
      "INFO:tensorflow:Step 18600 per-step time 0.225s\n"
     ]
    },
    {
     "name": "stderr",
     "output_type": "stream",
     "text": [
      "I0728 18:37:29.624444 123802359001088 model_lib_v2.py:705] Step 18600 per-step time 0.225s\n"
     ]
    },
    {
     "name": "stdout",
     "output_type": "stream",
     "text": [
      "INFO:tensorflow:{'Loss/classification_loss': 0.591746,\n",
      " 'Loss/localization_loss': 0.017020723,\n",
      " 'Loss/regularization_loss': 0.07184079,\n",
      " 'Loss/total_loss': 0.68060744,\n",
      " 'learning_rate': 0.057123937}\n"
     ]
    },
    {
     "name": "stderr",
     "output_type": "stream",
     "text": [
      "I0728 18:37:29.627727 123802359001088 model_lib_v2.py:708] {'Loss/classification_loss': 0.591746,\n",
      " 'Loss/localization_loss': 0.017020723,\n",
      " 'Loss/regularization_loss': 0.07184079,\n",
      " 'Loss/total_loss': 0.68060744,\n",
      " 'learning_rate': 0.057123937}\n"
     ]
    },
    {
     "name": "stdout",
     "output_type": "stream",
     "text": [
      "INFO:tensorflow:Step 18700 per-step time 0.237s\n"
     ]
    },
    {
     "name": "stderr",
     "output_type": "stream",
     "text": [
      "I0728 18:37:53.341830 123802359001088 model_lib_v2.py:705] Step 18700 per-step time 0.237s\n"
     ]
    },
    {
     "name": "stdout",
     "output_type": "stream",
     "text": [
      "INFO:tensorflow:{'Loss/classification_loss': 0.5647955,\n",
      " 'Loss/localization_loss': 0.06753483,\n",
      " 'Loss/regularization_loss': 0.071587496,\n",
      " 'Loss/total_loss': 0.7039178,\n",
      " 'learning_rate': 0.056891818}\n"
     ]
    },
    {
     "name": "stderr",
     "output_type": "stream",
     "text": [
      "I0728 18:37:53.344711 123802359001088 model_lib_v2.py:708] {'Loss/classification_loss': 0.5647955,\n",
      " 'Loss/localization_loss': 0.06753483,\n",
      " 'Loss/regularization_loss': 0.071587496,\n",
      " 'Loss/total_loss': 0.7039178,\n",
      " 'learning_rate': 0.056891818}\n"
     ]
    },
    {
     "name": "stdout",
     "output_type": "stream",
     "text": [
      "INFO:tensorflow:Step 18800 per-step time 0.229s\n"
     ]
    },
    {
     "name": "stderr",
     "output_type": "stream",
     "text": [
      "I0728 18:38:16.272093 123802359001088 model_lib_v2.py:705] Step 18800 per-step time 0.229s\n"
     ]
    },
    {
     "name": "stdout",
     "output_type": "stream",
     "text": [
      "INFO:tensorflow:{'Loss/classification_loss': 0.59122014,\n",
      " 'Loss/localization_loss': 0.03680493,\n",
      " 'Loss/regularization_loss': 0.07132086,\n",
      " 'Loss/total_loss': 0.69934595,\n",
      " 'learning_rate': 0.056659}\n"
     ]
    },
    {
     "name": "stderr",
     "output_type": "stream",
     "text": [
      "I0728 18:38:16.274846 123802359001088 model_lib_v2.py:708] {'Loss/classification_loss': 0.59122014,\n",
      " 'Loss/localization_loss': 0.03680493,\n",
      " 'Loss/regularization_loss': 0.07132086,\n",
      " 'Loss/total_loss': 0.69934595,\n",
      " 'learning_rate': 0.056659}\n"
     ]
    },
    {
     "name": "stdout",
     "output_type": "stream",
     "text": [
      "INFO:tensorflow:Step 18900 per-step time 0.220s\n"
     ]
    },
    {
     "name": "stderr",
     "output_type": "stream",
     "text": [
      "I0728 18:38:38.270684 123802359001088 model_lib_v2.py:705] Step 18900 per-step time 0.220s\n"
     ]
    },
    {
     "name": "stdout",
     "output_type": "stream",
     "text": [
      "INFO:tensorflow:{'Loss/classification_loss': 0.63212955,\n",
      " 'Loss/localization_loss': 0.09154527,\n",
      " 'Loss/regularization_loss': 0.07104701,\n",
      " 'Loss/total_loss': 0.79472184,\n",
      " 'learning_rate': 0.056425504}\n"
     ]
    },
    {
     "name": "stderr",
     "output_type": "stream",
     "text": [
      "I0728 18:38:38.272579 123802359001088 model_lib_v2.py:708] {'Loss/classification_loss': 0.63212955,\n",
      " 'Loss/localization_loss': 0.09154527,\n",
      " 'Loss/regularization_loss': 0.07104701,\n",
      " 'Loss/total_loss': 0.79472184,\n",
      " 'learning_rate': 0.056425504}\n"
     ]
    },
    {
     "name": "stdout",
     "output_type": "stream",
     "text": [
      "INFO:tensorflow:Step 19000 per-step time 0.224s\n"
     ]
    },
    {
     "name": "stderr",
     "output_type": "stream",
     "text": [
      "I0728 18:39:00.677045 123802359001088 model_lib_v2.py:705] Step 19000 per-step time 0.224s\n"
     ]
    },
    {
     "name": "stdout",
     "output_type": "stream",
     "text": [
      "INFO:tensorflow:{'Loss/classification_loss': 0.6824464,\n",
      " 'Loss/localization_loss': 0.018213924,\n",
      " 'Loss/regularization_loss': 0.070799254,\n",
      " 'Loss/total_loss': 0.7714596,\n",
      " 'learning_rate': 0.056191333}\n"
     ]
    },
    {
     "name": "stderr",
     "output_type": "stream",
     "text": [
      "I0728 18:39:00.682035 123802359001088 model_lib_v2.py:708] {'Loss/classification_loss': 0.6824464,\n",
      " 'Loss/localization_loss': 0.018213924,\n",
      " 'Loss/regularization_loss': 0.070799254,\n",
      " 'Loss/total_loss': 0.7714596,\n",
      " 'learning_rate': 0.056191333}\n"
     ]
    },
    {
     "name": "stdout",
     "output_type": "stream",
     "text": [
      "INFO:tensorflow:Step 19100 per-step time 0.237s\n"
     ]
    },
    {
     "name": "stderr",
     "output_type": "stream",
     "text": [
      "I0728 18:39:24.393862 123802359001088 model_lib_v2.py:705] Step 19100 per-step time 0.237s\n"
     ]
    },
    {
     "name": "stdout",
     "output_type": "stream",
     "text": [
      "INFO:tensorflow:{'Loss/classification_loss': 0.64738685,\n",
      " 'Loss/localization_loss': 0.05959221,\n",
      " 'Loss/regularization_loss': 0.07055755,\n",
      " 'Loss/total_loss': 0.7775366,\n",
      " 'learning_rate': 0.055956498}\n"
     ]
    },
    {
     "name": "stderr",
     "output_type": "stream",
     "text": [
      "I0728 18:39:24.396781 123802359001088 model_lib_v2.py:708] {'Loss/classification_loss': 0.64738685,\n",
      " 'Loss/localization_loss': 0.05959221,\n",
      " 'Loss/regularization_loss': 0.07055755,\n",
      " 'Loss/total_loss': 0.7775366,\n",
      " 'learning_rate': 0.055956498}\n"
     ]
    },
    {
     "name": "stdout",
     "output_type": "stream",
     "text": [
      "INFO:tensorflow:Step 19200 per-step time 0.224s\n"
     ]
    },
    {
     "name": "stderr",
     "output_type": "stream",
     "text": [
      "I0728 18:39:46.833695 123802359001088 model_lib_v2.py:705] Step 19200 per-step time 0.224s\n"
     ]
    },
    {
     "name": "stdout",
     "output_type": "stream",
     "text": [
      "INFO:tensorflow:{'Loss/classification_loss': 0.5705679,\n",
      " 'Loss/localization_loss': 0.01883917,\n",
      " 'Loss/regularization_loss': 0.070304066,\n",
      " 'Loss/total_loss': 0.6597111,\n",
      " 'learning_rate': 0.055721}\n"
     ]
    },
    {
     "name": "stderr",
     "output_type": "stream",
     "text": [
      "I0728 18:39:46.835844 123802359001088 model_lib_v2.py:708] {'Loss/classification_loss': 0.5705679,\n",
      " 'Loss/localization_loss': 0.01883917,\n",
      " 'Loss/regularization_loss': 0.070304066,\n",
      " 'Loss/total_loss': 0.6597111,\n",
      " 'learning_rate': 0.055721}\n"
     ]
    },
    {
     "name": "stdout",
     "output_type": "stream",
     "text": [
      "INFO:tensorflow:Step 19300 per-step time 0.229s\n"
     ]
    },
    {
     "name": "stderr",
     "output_type": "stream",
     "text": [
      "I0728 18:40:09.715981 123802359001088 model_lib_v2.py:705] Step 19300 per-step time 0.229s\n"
     ]
    },
    {
     "name": "stdout",
     "output_type": "stream",
     "text": [
      "INFO:tensorflow:{'Loss/classification_loss': 0.6252598,\n",
      " 'Loss/localization_loss': 0.030095372,\n",
      " 'Loss/regularization_loss': 0.07004678,\n",
      " 'Loss/total_loss': 0.725402,\n",
      " 'learning_rate': 0.05548486}\n"
     ]
    },
    {
     "name": "stderr",
     "output_type": "stream",
     "text": [
      "I0728 18:40:09.719972 123802359001088 model_lib_v2.py:708] {'Loss/classification_loss': 0.6252598,\n",
      " 'Loss/localization_loss': 0.030095372,\n",
      " 'Loss/regularization_loss': 0.07004678,\n",
      " 'Loss/total_loss': 0.725402,\n",
      " 'learning_rate': 0.05548486}\n"
     ]
    },
    {
     "name": "stdout",
     "output_type": "stream",
     "text": [
      "INFO:tensorflow:Step 19400 per-step time 0.226s\n"
     ]
    },
    {
     "name": "stderr",
     "output_type": "stream",
     "text": [
      "I0728 18:40:32.326087 123802359001088 model_lib_v2.py:705] Step 19400 per-step time 0.226s\n"
     ]
    },
    {
     "name": "stdout",
     "output_type": "stream",
     "text": [
      "INFO:tensorflow:{'Loss/classification_loss': 0.5570749,\n",
      " 'Loss/localization_loss': 0.030624224,\n",
      " 'Loss/regularization_loss': 0.06979064,\n",
      " 'Loss/total_loss': 0.6574898,\n",
      " 'learning_rate': 0.05524808}\n"
     ]
    },
    {
     "name": "stderr",
     "output_type": "stream",
     "text": [
      "I0728 18:40:32.329240 123802359001088 model_lib_v2.py:708] {'Loss/classification_loss': 0.5570749,\n",
      " 'Loss/localization_loss': 0.030624224,\n",
      " 'Loss/regularization_loss': 0.06979064,\n",
      " 'Loss/total_loss': 0.6574898,\n",
      " 'learning_rate': 0.05524808}\n"
     ]
    },
    {
     "name": "stdout",
     "output_type": "stream",
     "text": [
      "INFO:tensorflow:Step 19500 per-step time 0.228s\n"
     ]
    },
    {
     "name": "stderr",
     "output_type": "stream",
     "text": [
      "I0728 18:40:55.127839 123802359001088 model_lib_v2.py:705] Step 19500 per-step time 0.228s\n"
     ]
    },
    {
     "name": "stdout",
     "output_type": "stream",
     "text": [
      "INFO:tensorflow:{'Loss/classification_loss': 0.60659593,\n",
      " 'Loss/localization_loss': 0.040619716,\n",
      " 'Loss/regularization_loss': 0.06956598,\n",
      " 'Loss/total_loss': 0.7167816,\n",
      " 'learning_rate': 0.05501068}\n"
     ]
    },
    {
     "name": "stderr",
     "output_type": "stream",
     "text": [
      "I0728 18:40:55.129868 123802359001088 model_lib_v2.py:708] {'Loss/classification_loss': 0.60659593,\n",
      " 'Loss/localization_loss': 0.040619716,\n",
      " 'Loss/regularization_loss': 0.06956598,\n",
      " 'Loss/total_loss': 0.7167816,\n",
      " 'learning_rate': 0.05501068}\n"
     ]
    },
    {
     "name": "stdout",
     "output_type": "stream",
     "text": [
      "INFO:tensorflow:Step 19600 per-step time 0.224s\n"
     ]
    },
    {
     "name": "stderr",
     "output_type": "stream",
     "text": [
      "I0728 18:41:17.492582 123802359001088 model_lib_v2.py:705] Step 19600 per-step time 0.224s\n"
     ]
    },
    {
     "name": "stdout",
     "output_type": "stream",
     "text": [
      "INFO:tensorflow:{'Loss/classification_loss': 0.50584966,\n",
      " 'Loss/localization_loss': 0.033466674,\n",
      " 'Loss/regularization_loss': 0.069331676,\n",
      " 'Loss/total_loss': 0.60864806,\n",
      " 'learning_rate': 0.054772656}\n"
     ]
    },
    {
     "name": "stderr",
     "output_type": "stream",
     "text": [
      "I0728 18:41:17.494501 123802359001088 model_lib_v2.py:708] {'Loss/classification_loss': 0.50584966,\n",
      " 'Loss/localization_loss': 0.033466674,\n",
      " 'Loss/regularization_loss': 0.069331676,\n",
      " 'Loss/total_loss': 0.60864806,\n",
      " 'learning_rate': 0.054772656}\n"
     ]
    },
    {
     "name": "stdout",
     "output_type": "stream",
     "text": [
      "INFO:tensorflow:Step 19700 per-step time 0.230s\n"
     ]
    },
    {
     "name": "stderr",
     "output_type": "stream",
     "text": [
      "I0728 18:41:40.477559 123802359001088 model_lib_v2.py:705] Step 19700 per-step time 0.230s\n"
     ]
    },
    {
     "name": "stdout",
     "output_type": "stream",
     "text": [
      "INFO:tensorflow:{'Loss/classification_loss': 0.6070616,\n",
      " 'Loss/localization_loss': 0.024126299,\n",
      " 'Loss/regularization_loss': 0.069093436,\n",
      " 'Loss/total_loss': 0.7002814,\n",
      " 'learning_rate': 0.05453403}\n"
     ]
    },
    {
     "name": "stderr",
     "output_type": "stream",
     "text": [
      "I0728 18:41:40.480130 123802359001088 model_lib_v2.py:708] {'Loss/classification_loss': 0.6070616,\n",
      " 'Loss/localization_loss': 0.024126299,\n",
      " 'Loss/regularization_loss': 0.069093436,\n",
      " 'Loss/total_loss': 0.7002814,\n",
      " 'learning_rate': 0.05453403}\n"
     ]
    },
    {
     "name": "stdout",
     "output_type": "stream",
     "text": [
      "INFO:tensorflow:Step 19800 per-step time 0.233s\n"
     ]
    },
    {
     "name": "stderr",
     "output_type": "stream",
     "text": [
      "I0728 18:42:03.823410 123802359001088 model_lib_v2.py:705] Step 19800 per-step time 0.233s\n"
     ]
    },
    {
     "name": "stdout",
     "output_type": "stream",
     "text": [
      "INFO:tensorflow:{'Loss/classification_loss': 0.6157856,\n",
      " 'Loss/localization_loss': 0.019837528,\n",
      " 'Loss/regularization_loss': 0.06885447,\n",
      " 'Loss/total_loss': 0.70447755,\n",
      " 'learning_rate': 0.0542948}\n"
     ]
    },
    {
     "name": "stderr",
     "output_type": "stream",
     "text": [
      "I0728 18:42:03.825095 123802359001088 model_lib_v2.py:708] {'Loss/classification_loss': 0.6157856,\n",
      " 'Loss/localization_loss': 0.019837528,\n",
      " 'Loss/regularization_loss': 0.06885447,\n",
      " 'Loss/total_loss': 0.70447755,\n",
      " 'learning_rate': 0.0542948}\n"
     ]
    },
    {
     "name": "stdout",
     "output_type": "stream",
     "text": [
      "INFO:tensorflow:Step 19900 per-step time 0.229s\n"
     ]
    },
    {
     "name": "stderr",
     "output_type": "stream",
     "text": [
      "I0728 18:42:26.741659 123802359001088 model_lib_v2.py:705] Step 19900 per-step time 0.229s\n"
     ]
    },
    {
     "name": "stdout",
     "output_type": "stream",
     "text": [
      "INFO:tensorflow:{'Loss/classification_loss': 0.55906177,\n",
      " 'Loss/localization_loss': 0.06558376,\n",
      " 'Loss/regularization_loss': 0.06862474,\n",
      " 'Loss/total_loss': 0.69327027,\n",
      " 'learning_rate': 0.054054994}\n"
     ]
    },
    {
     "name": "stderr",
     "output_type": "stream",
     "text": [
      "I0728 18:42:26.743675 123802359001088 model_lib_v2.py:708] {'Loss/classification_loss': 0.55906177,\n",
      " 'Loss/localization_loss': 0.06558376,\n",
      " 'Loss/regularization_loss': 0.06862474,\n",
      " 'Loss/total_loss': 0.69327027,\n",
      " 'learning_rate': 0.054054994}\n"
     ]
    },
    {
     "name": "stdout",
     "output_type": "stream",
     "text": [
      "INFO:tensorflow:Step 20000 per-step time 0.229s\n"
     ]
    },
    {
     "name": "stderr",
     "output_type": "stream",
     "text": [
      "I0728 18:42:49.700241 123802359001088 model_lib_v2.py:705] Step 20000 per-step time 0.229s\n"
     ]
    },
    {
     "name": "stdout",
     "output_type": "stream",
     "text": [
      "INFO:tensorflow:{'Loss/classification_loss': 0.5223027,\n",
      " 'Loss/localization_loss': 0.011995207,\n",
      " 'Loss/regularization_loss': 0.06840765,\n",
      " 'Loss/total_loss': 0.60270554,\n",
      " 'learning_rate': 0.0538146}\n"
     ]
    },
    {
     "name": "stderr",
     "output_type": "stream",
     "text": [
      "I0728 18:42:49.702064 123802359001088 model_lib_v2.py:708] {'Loss/classification_loss': 0.5223027,\n",
      " 'Loss/localization_loss': 0.011995207,\n",
      " 'Loss/regularization_loss': 0.06840765,\n",
      " 'Loss/total_loss': 0.60270554,\n",
      " 'learning_rate': 0.0538146}\n"
     ]
    }
   ],
   "source": [
    "%run Tensorflow/models/research/object_detection/model_main_tf2.py --model_dir=Tensorflow/workspace/models/my_ssd_mobnet/osetr_checkpoints --pipeline_config_path=Tensorflow/workspace/models/my_ssd_mobnet/pipeline.config --num_train_steps=20000"
   ]
  },
  {
   "cell_type": "markdown",
   "id": "ac60e5b7-0ceb-4b47-b40d-aee12eed42e6",
   "metadata": {},
   "source": [
    "Нужно опять поменять код внутри библиотеки\n",
    "https://github.com/tensorflow/models/issues/11099"
   ]
  },
  {
   "cell_type": "raw",
   "id": "fde56c8c-c1df-4af5-9996-3a1766a30226",
   "metadata": {},
   "source": [
    "import shutil\n",
    "import re\n",
    "\n",
    "original_path = 'obj_det/lib/python3.10/site-packages/tf_slim/data/tfexample_decoder.py'\n",
    "with open(original_path, 'r') as file:\n",
    "content = file.read()\n",
    "content = re.sub(r'import abc', 'import tensorflow as tf\\n\\nimport abc', content)\n",
    "content = re.sub(r'control_flow_ops.case', 'tf.case', content)\n",
    "content = re.sub(r'control_flow_ops.cond', 'tf.compat.v1.cond', content)\n",
    "with open(original_path, 'w') as file:\n",
    "file.write(content)\n",
    "\n",
    "print(f\"File {original_path} fixed.\")"
   ]
  },
  {
   "cell_type": "markdown",
   "id": "bf190878-9370-4ad3-b5d6-0f7b28765521",
   "metadata": {},
   "source": [
    "Внизу команда для терминала, которая позволяет посмотреть показатели обучения"
   ]
  },
  {
   "cell_type": "raw",
   "id": "27422d1e-2b60-4144-8b4a-ff28d1bfa7a6",
   "metadata": {},
   "source": [
    "tensorboard  --logdir=Tensorflow/workspace/models/my_ssd_mobnet/train/"
   ]
  },
  {
   "cell_type": "markdown",
   "id": "9ec743c3-74a9-493e-b9dd-023ebb289596",
   "metadata": {},
   "source": [
    "# Оценивание модели"
   ]
  },
  {
   "cell_type": "markdown",
   "id": "6f4caf00-fc68-40f9-8d89-f41940778875",
   "metadata": {},
   "source": [
    "нихера не работает eval"
   ]
  },
  {
   "cell_type": "code",
   "execution_count": 7,
   "id": "1b294a0b-fd1a-44fc-94cd-9c0b99b88cd3",
   "metadata": {},
   "outputs": [],
   "source": [
    "os.environ['CUDA_VISIBLE_DEVICES'] = '-1'"
   ]
  },
  {
   "cell_type": "code",
   "execution_count": 8,
   "id": "bf8335f9-ab4f-4c14-b04b-11f9d5136abc",
   "metadata": {},
   "outputs": [],
   "source": [
    "command = \"python3 {} --model_dir={} --pipeline_config_path={} --checkpoint_dir={}\".format(TRAINING_SCRIPT, paths['CHECKPOINT_PATH'],files['PIPELINE_CONFIG'], paths['CHECKPOINT_PATH'])"
   ]
  },
  {
   "cell_type": "markdown",
   "id": "7b0e566e-f317-4c8b-91cc-3c3bed4942ae",
   "metadata": {},
   "source": [
    "Запустить через терминал (внутри venv!)"
   ]
  },
  {
   "cell_type": "code",
   "execution_count": 9,
   "id": "3e7ae975-6e39-4ae0-863e-1afff4661e09",
   "metadata": {},
   "outputs": [
    {
     "name": "stdout",
     "output_type": "stream",
     "text": [
      "python3 Tensorflow/models/research/object_detection/model_main_tf2.py --model_dir=Tensorflow/workspace/models/my_ssd_mobnet/osetr_checkpoints --pipeline_config_path=Tensorflow/workspace/models/my_ssd_mobnet/osetr_checkpoints/osetr_pipeline.config --checkpoint_dir=Tensorflow/workspace/models/my_ssd_mobnet/osetr_checkpoints\n"
     ]
    }
   ],
   "source": [
    "print(command)"
   ]
  },
  {
   "cell_type": "code",
   "execution_count": 10,
   "id": "5586660c-b46f-4aaa-bda5-a5e67b93f5c5",
   "metadata": {
    "scrolled": true
   },
   "outputs": [
    {
     "name": "stdout",
     "output_type": "stream",
     "text": [
      "WARNING:tensorflow:Forced number of epochs for all eval validations to be 1.\n"
     ]
    },
    {
     "name": "stderr",
     "output_type": "stream",
     "text": [
      "2024-07-28 21:18:15.361562: E tensorflow/compiler/xla/stream_executor/cuda/cuda_driver.cc:268] failed call to cuInit: CUDA_ERROR_NO_DEVICE: no CUDA-capable device is detected\n",
      "W0728 21:18:15.364933 137997177622528 model_lib_v2.py:1089] Forced number of epochs for all eval validations to be 1.\n"
     ]
    },
    {
     "name": "stdout",
     "output_type": "stream",
     "text": [
      "INFO:tensorflow:Maybe overwriting sample_1_of_n_eval_examples: None\n"
     ]
    },
    {
     "name": "stderr",
     "output_type": "stream",
     "text": [
      "I0728 21:18:15.365810 137997177622528 config_util.py:552] Maybe overwriting sample_1_of_n_eval_examples: None\n"
     ]
    },
    {
     "name": "stdout",
     "output_type": "stream",
     "text": [
      "INFO:tensorflow:Maybe overwriting use_bfloat16: False\n"
     ]
    },
    {
     "name": "stderr",
     "output_type": "stream",
     "text": [
      "I0728 21:18:15.366576 137997177622528 config_util.py:552] Maybe overwriting use_bfloat16: False\n"
     ]
    },
    {
     "name": "stdout",
     "output_type": "stream",
     "text": [
      "INFO:tensorflow:Maybe overwriting eval_num_epochs: 1\n"
     ]
    },
    {
     "name": "stderr",
     "output_type": "stream",
     "text": [
      "I0728 21:18:15.367355 137997177622528 config_util.py:552] Maybe overwriting eval_num_epochs: 1\n"
     ]
    },
    {
     "name": "stdout",
     "output_type": "stream",
     "text": [
      "WARNING:tensorflow:Expected number of evaluation epochs is 1, but instead encountered `eval_on_train_input_config.num_epochs` = 0. Overwriting `num_epochs` to 1.\n"
     ]
    },
    {
     "name": "stderr",
     "output_type": "stream",
     "text": [
      "W0728 21:18:15.368126 137997177622528 model_lib_v2.py:1106] Expected number of evaluation epochs is 1, but instead encountered `eval_on_train_input_config.num_epochs` = 0. Overwriting `num_epochs` to 1.\n"
     ]
    },
    {
     "name": "stdout",
     "output_type": "stream",
     "text": [
      "INFO:tensorflow:Reading unweighted datasets: ['Tensorflow/workspace/annotations/osetr_test.record']\n"
     ]
    },
    {
     "name": "stderr",
     "output_type": "stream",
     "text": [
      "I0728 21:18:15.413480 137997177622528 dataset_builder.py:162] Reading unweighted datasets: ['Tensorflow/workspace/annotations/osetr_test.record']\n"
     ]
    },
    {
     "name": "stdout",
     "output_type": "stream",
     "text": [
      "INFO:tensorflow:Reading record datasets for input file: ['Tensorflow/workspace/annotations/osetr_test.record']\n"
     ]
    },
    {
     "name": "stderr",
     "output_type": "stream",
     "text": [
      "I0728 21:18:15.414478 137997177622528 dataset_builder.py:79] Reading record datasets for input file: ['Tensorflow/workspace/annotations/osetr_test.record']\n"
     ]
    },
    {
     "name": "stdout",
     "output_type": "stream",
     "text": [
      "INFO:tensorflow:Number of filenames to read: 1\n"
     ]
    },
    {
     "name": "stderr",
     "output_type": "stream",
     "text": [
      "I0728 21:18:15.415065 137997177622528 dataset_builder.py:80] Number of filenames to read: 1\n"
     ]
    },
    {
     "name": "stdout",
     "output_type": "stream",
     "text": [
      "WARNING:tensorflow:num_readers has been reduced to 1 to match input file shards.\n"
     ]
    },
    {
     "name": "stderr",
     "output_type": "stream",
     "text": [
      "W0728 21:18:15.416364 137997177622528 dataset_builder.py:86] num_readers has been reduced to 1 to match input file shards.\n"
     ]
    },
    {
     "name": "stdout",
     "output_type": "stream",
     "text": [
      "WARNING:tensorflow:From /home/midnightknight/Blood-object-detection/.obj_det/lib/python3.10/site-packages/object_detection/builders/dataset_builder.py:100: parallel_interleave (from tensorflow.python.data.experimental.ops.interleave_ops) is deprecated and will be removed in a future version.\n",
      "Instructions for updating:\n",
      "Use `tf.data.Dataset.interleave(map_func, cycle_length, block_length, num_parallel_calls=tf.data.AUTOTUNE)` instead. If sloppy execution is desired, use `tf.data.Options.deterministic`.\n"
     ]
    },
    {
     "name": "stderr",
     "output_type": "stream",
     "text": [
      "W0728 21:18:15.421190 137997177622528 deprecation.py:364] From /home/midnightknight/Blood-object-detection/.obj_det/lib/python3.10/site-packages/object_detection/builders/dataset_builder.py:100: parallel_interleave (from tensorflow.python.data.experimental.ops.interleave_ops) is deprecated and will be removed in a future version.\n",
      "Instructions for updating:\n",
      "Use `tf.data.Dataset.interleave(map_func, cycle_length, block_length, num_parallel_calls=tf.data.AUTOTUNE)` instead. If sloppy execution is desired, use `tf.data.Options.deterministic`.\n"
     ]
    },
    {
     "name": "stdout",
     "output_type": "stream",
     "text": [
      "WARNING:tensorflow:From /home/midnightknight/Blood-object-detection/.obj_det/lib/python3.10/site-packages/object_detection/builders/dataset_builder.py:235: DatasetV1.map_with_legacy_function (from tensorflow.python.data.ops.dataset_ops) is deprecated and will be removed in a future version.\n",
      "Instructions for updating:\n",
      "Use `tf.data.Dataset.map()\n"
     ]
    },
    {
     "name": "stderr",
     "output_type": "stream",
     "text": [
      "W0728 21:18:15.439730 137997177622528 deprecation.py:364] From /home/midnightknight/Blood-object-detection/.obj_det/lib/python3.10/site-packages/object_detection/builders/dataset_builder.py:235: DatasetV1.map_with_legacy_function (from tensorflow.python.data.ops.dataset_ops) is deprecated and will be removed in a future version.\n",
      "Instructions for updating:\n",
      "Use `tf.data.Dataset.map()\n"
     ]
    },
    {
     "name": "stdout",
     "output_type": "stream",
     "text": [
      "WARNING:tensorflow:From /home/midnightknight/Blood-object-detection/.obj_det/lib/python3.10/site-packages/tensorflow/python/util/dispatch.py:1176: sparse_to_dense (from tensorflow.python.ops.sparse_ops) is deprecated and will be removed in a future version.\n",
      "Instructions for updating:\n",
      "Create a `tf.sparse.SparseTensor` and use `tf.sparse.to_dense` instead.\n"
     ]
    },
    {
     "name": "stderr",
     "output_type": "stream",
     "text": [
      "W0728 21:18:17.853329 137997177622528 deprecation.py:364] From /home/midnightknight/Blood-object-detection/.obj_det/lib/python3.10/site-packages/tensorflow/python/util/dispatch.py:1176: sparse_to_dense (from tensorflow.python.ops.sparse_ops) is deprecated and will be removed in a future version.\n",
      "Instructions for updating:\n",
      "Create a `tf.sparse.SparseTensor` and use `tf.sparse.to_dense` instead.\n"
     ]
    },
    {
     "name": "stdout",
     "output_type": "stream",
     "text": [
      "WARNING:tensorflow:From /home/midnightknight/Blood-object-detection/.obj_det/lib/python3.10/site-packages/tensorflow/python/util/dispatch.py:1176: to_float (from tensorflow.python.ops.math_ops) is deprecated and will be removed in a future version.\n",
      "Instructions for updating:\n",
      "Use `tf.cast` instead.\n"
     ]
    },
    {
     "name": "stderr",
     "output_type": "stream",
     "text": [
      "W0728 21:18:18.588715 137997177622528 deprecation.py:364] From /home/midnightknight/Blood-object-detection/.obj_det/lib/python3.10/site-packages/tensorflow/python/util/dispatch.py:1176: to_float (from tensorflow.python.ops.math_ops) is deprecated and will be removed in a future version.\n",
      "Instructions for updating:\n",
      "Use `tf.cast` instead.\n"
     ]
    },
    {
     "name": "stdout",
     "output_type": "stream",
     "text": [
      "INFO:tensorflow:Waiting for new checkpoint at Tensorflow/workspace/models/my_ssd_mobnet/osetr_checkpoints/\n"
     ]
    },
    {
     "name": "stderr",
     "output_type": "stream",
     "text": [
      "I0728 21:18:20.165576 137997177622528 checkpoint_utils.py:168] Waiting for new checkpoint at Tensorflow/workspace/models/my_ssd_mobnet/osetr_checkpoints/\n"
     ]
    },
    {
     "name": "stdout",
     "output_type": "stream",
     "text": [
      "INFO:tensorflow:Found new checkpoint at Tensorflow/workspace/models/my_ssd_mobnet/osetr_checkpoints/ckpt-21\n"
     ]
    },
    {
     "name": "stderr",
     "output_type": "stream",
     "text": [
      "I0728 21:18:20.167151 137997177622528 checkpoint_utils.py:177] Found new checkpoint at Tensorflow/workspace/models/my_ssd_mobnet/osetr_checkpoints/ckpt-21\n",
      "/home/midnightknight/Blood-object-detection/.obj_det/lib/python3.10/site-packages/keras/src/backend.py:452: UserWarning: `tf.keras.backend.set_learning_phase` is deprecated and will be removed after 2020-10-11. To update it, simply pass a True/False value to the `training` argument of the `__call__` method of your layer or model.\n",
      "  warnings.warn(\n",
      "I0728 21:18:23.870858 137997177622528 api.py:460] feature_map_spatial_dims: [(40, 40), (20, 20), (10, 10), (5, 5), (3, 3)]\n",
      "I0728 21:18:31.842723 137997177622528 api.py:460] feature_map_spatial_dims: [(40, 40), (20, 20), (10, 10), (5, 5), (3, 3)]\n"
     ]
    },
    {
     "name": "stdout",
     "output_type": "stream",
     "text": [
      "INFO:tensorflow:Encountered Graph execution error:\n",
      "\n",
      "Detected at node 'WeightSharedConvolutionalBoxPredictor/WeightSharedConvolutionalClassHead/Reshape_9' defined at (most recent call last):\n",
      "    File \"/usr/lib/python3.10/runpy.py\", line 196, in _run_module_as_main\n",
      "      return _run_code(code, main_globals, None,\n",
      "    File \"/usr/lib/python3.10/runpy.py\", line 86, in _run_code\n",
      "      exec(code, run_globals)\n",
      "    File \"/home/midnightknight/Blood-object-detection/.obj_det/lib/python3.10/site-packages/ipykernel_launcher.py\", line 18, in <module>\n",
      "      app.launch_new_instance()\n",
      "    File \"/home/midnightknight/Blood-object-detection/.obj_det/lib/python3.10/site-packages/traitlets/config/application.py\", line 1075, in launch_instance\n",
      "      app.start()\n",
      "    File \"/home/midnightknight/Blood-object-detection/.obj_det/lib/python3.10/site-packages/ipykernel/kernelapp.py\", line 739, in start\n",
      "      self.io_loop.start()\n",
      "    File \"/home/midnightknight/Blood-object-detection/.obj_det/lib/python3.10/site-packages/tornado/platform/asyncio.py\", line 205, in start\n",
      "      self.asyncio_loop.run_forever()\n",
      "    File \"/usr/lib/python3.10/asyncio/base_events.py\", line 603, in run_forever\n",
      "      self._run_once()\n",
      "    File \"/usr/lib/python3.10/asyncio/base_events.py\", line 1909, in _run_once\n",
      "      handle._run()\n",
      "    File \"/usr/lib/python3.10/asyncio/events.py\", line 80, in _run\n",
      "      self._context.run(self._callback, *self._args)\n",
      "    File \"/home/midnightknight/Blood-object-detection/.obj_det/lib/python3.10/site-packages/ipykernel/kernelbase.py\", line 545, in dispatch_queue\n",
      "      await self.process_one()\n",
      "    File \"/home/midnightknight/Blood-object-detection/.obj_det/lib/python3.10/site-packages/ipykernel/kernelbase.py\", line 534, in process_one\n",
      "      await dispatch(*args)\n",
      "    File \"/home/midnightknight/Blood-object-detection/.obj_det/lib/python3.10/site-packages/ipykernel/kernelbase.py\", line 437, in dispatch_shell\n",
      "      await result\n",
      "    File \"/home/midnightknight/Blood-object-detection/.obj_det/lib/python3.10/site-packages/ipykernel/ipkernel.py\", line 362, in execute_request\n",
      "      await super().execute_request(stream, ident, parent)\n",
      "    File \"/home/midnightknight/Blood-object-detection/.obj_det/lib/python3.10/site-packages/ipykernel/kernelbase.py\", line 778, in execute_request\n",
      "      reply_content = await reply_content\n",
      "    File \"/home/midnightknight/Blood-object-detection/.obj_det/lib/python3.10/site-packages/ipykernel/ipkernel.py\", line 449, in do_execute\n",
      "      res = shell.run_cell(\n",
      "    File \"/home/midnightknight/Blood-object-detection/.obj_det/lib/python3.10/site-packages/ipykernel/zmqshell.py\", line 549, in run_cell\n",
      "      return super().run_cell(*args, **kwargs)\n",
      "    File \"/home/midnightknight/Blood-object-detection/.obj_det/lib/python3.10/site-packages/IPython/core/interactiveshell.py\", line 3075, in run_cell\n",
      "      result = self._run_cell(\n",
      "    File \"/home/midnightknight/Blood-object-detection/.obj_det/lib/python3.10/site-packages/IPython/core/interactiveshell.py\", line 3130, in _run_cell\n",
      "      result = runner(coro)\n",
      "    File \"/home/midnightknight/Blood-object-detection/.obj_det/lib/python3.10/site-packages/IPython/core/async_helpers.py\", line 128, in _pseudo_sync_runner\n",
      "      coro.send(None)\n",
      "    File \"/home/midnightknight/Blood-object-detection/.obj_det/lib/python3.10/site-packages/IPython/core/interactiveshell.py\", line 3334, in run_cell_async\n",
      "      has_raised = await self.run_ast_nodes(code_ast.body, cell_name,\n",
      "    File \"/home/midnightknight/Blood-object-detection/.obj_det/lib/python3.10/site-packages/IPython/core/interactiveshell.py\", line 3517, in run_ast_nodes\n",
      "      if await self.run_code(code, result, async_=asy):\n",
      "    File \"/home/midnightknight/Blood-object-detection/.obj_det/lib/python3.10/site-packages/IPython/core/interactiveshell.py\", line 3577, in run_code\n",
      "      exec(code_obj, self.user_global_ns, self.user_ns)\n",
      "    File \"/tmp/ipykernel_17360/3112555434.py\", line 1, in <module>\n",
      "      get_ipython().run_line_magic('run', 'Tensorflow/models/research/object_detection/model_main_tf2.py --model_dir=Tensorflow/workspace/models/my_ssd_mobnet/osetr_checkpoints/ --pipeline_config_path=Tensorflow/workspace/models/my_ssd_mobnet/osetr_checkpoints/osetr_pipeline.config --checkpoint_dir=Tensorflow/workspace/models/my_ssd_mobnet/osetr_checkpoints/')\n",
      "    File \"/home/midnightknight/Blood-object-detection/.obj_det/lib/python3.10/site-packages/IPython/core/interactiveshell.py\", line 2480, in run_line_magic\n",
      "      result = fn(*args, **kwargs)\n",
      "    File \"/home/midnightknight/Blood-object-detection/.obj_det/lib/python3.10/site-packages/IPython/core/magics/execution.py\", line 849, in run\n",
      "      run()\n",
      "    File \"/home/midnightknight/Blood-object-detection/.obj_det/lib/python3.10/site-packages/IPython/core/magics/execution.py\", line 834, in run\n",
      "      runner(filename, prog_ns, prog_ns,\n",
      "    File \"/home/midnightknight/Blood-object-detection/.obj_det/lib/python3.10/site-packages/IPython/core/interactiveshell.py\", line 2932, in safe_execfile\n",
      "      py3compat.execfile(\n",
      "    File \"/home/midnightknight/Blood-object-detection/.obj_det/lib/python3.10/site-packages/IPython/utils/py3compat.py\", line 55, in execfile\n",
      "      exec(compiler(f.read(), fname, \"exec\"), glob, loc)\n",
      "    File \"/home/midnightknight/Blood-object-detection/Tensorflow/models/research/object_detection/model_main_tf2.py\", line 114, in <module>\n",
      "      tf.compat.v1.app.run()\n",
      "    File \"/home/midnightknight/Blood-object-detection/.obj_det/lib/python3.10/site-packages/absl/app.py\", line 308, in run\n",
      "      _run_main(main, args)\n",
      "    File \"/home/midnightknight/Blood-object-detection/.obj_det/lib/python3.10/site-packages/absl/app.py\", line 254, in _run_main\n",
      "      sys.exit(main(argv))\n",
      "    File \"/home/midnightknight/Blood-object-detection/Tensorflow/models/research/object_detection/model_main_tf2.py\", line 81, in main\n",
      "      model_lib_v2.eval_continuously(\n",
      "    File \"/home/midnightknight/Blood-object-detection/.obj_det/lib/python3.10/site-packages/object_detection/model_lib_v2.py\", line 1158, in eval_continuously\n",
      "      eager_eval_loop(\n",
      "    File \"/home/midnightknight/Blood-object-detection/.obj_det/lib/python3.10/site-packages/object_detection/model_lib_v2.py\", line 939, in eager_eval_loop\n",
      "      eval_features) = strategy.run(\n",
      "    File \"/home/midnightknight/Blood-object-detection/.obj_det/lib/python3.10/site-packages/object_detection/model_lib_v2.py\", line 910, in compute_eval_dict\n",
      "      losses_dict, prediction_dict = _compute_losses_and_predictions_dicts(\n",
      "    File \"/home/midnightknight/Blood-object-detection/.obj_det/lib/python3.10/site-packages/object_detection/model_lib_v2.py\", line 124, in _compute_losses_and_predictions_dicts\n",
      "      prediction_dict = model.predict(\n",
      "    File \"/home/midnightknight/Blood-object-detection/.obj_det/lib/python3.10/site-packages/object_detection/meta_architectures/ssd_meta_arch.py\", line 592, in predict\n",
      "      if self._box_predictor.is_keras_model:\n",
      "    File \"/home/midnightknight/Blood-object-detection/.obj_det/lib/python3.10/site-packages/object_detection/meta_architectures/ssd_meta_arch.py\", line 593, in predict\n",
      "      predictor_results_dict = self._box_predictor(feature_maps)\n",
      "    File \"/home/midnightknight/Blood-object-detection/.obj_det/lib/python3.10/site-packages/keras/src/utils/traceback_utils.py\", line 65, in error_handler\n",
      "      return fn(*args, **kwargs)\n",
      "    File \"/home/midnightknight/Blood-object-detection/.obj_det/lib/python3.10/site-packages/keras/src/engine/base_layer.py\", line 1150, in __call__\n",
      "      outputs = call_fn(inputs, *args, **kwargs)\n",
      "    File \"/home/midnightknight/Blood-object-detection/.obj_det/lib/python3.10/site-packages/keras/src/utils/traceback_utils.py\", line 96, in error_handler\n",
      "      return fn(*args, **kwargs)\n",
      "    File \"/home/midnightknight/Blood-object-detection/.obj_det/lib/python3.10/site-packages/object_detection/core/box_predictor.py\", line 202, in call\n",
      "      return self._predict(image_features, **kwargs)\n",
      "    File \"/home/midnightknight/Blood-object-detection/.obj_det/lib/python3.10/site-packages/object_detection/predictors/convolutional_keras_box_predictor.py\", line 472, in _predict\n",
      "      for (index, image_feature) in enumerate(image_features):\n",
      "    File \"/home/midnightknight/Blood-object-detection/.obj_det/lib/python3.10/site-packages/object_detection/predictors/convolutional_keras_box_predictor.py\", line 484, in _predict\n",
      "      for head_name in self._sorted_head_names:\n",
      "    File \"/home/midnightknight/Blood-object-detection/.obj_det/lib/python3.10/site-packages/object_detection/predictors/convolutional_keras_box_predictor.py\", line 492, in _predict\n",
      "      prediction = head_obj(head_tower_feature)\n",
      "    File \"/home/midnightknight/Blood-object-detection/.obj_det/lib/python3.10/site-packages/keras/src/utils/traceback_utils.py\", line 65, in error_handler\n",
      "      return fn(*args, **kwargs)\n",
      "    File \"/home/midnightknight/Blood-object-detection/.obj_det/lib/python3.10/site-packages/keras/src/engine/base_layer.py\", line 1150, in __call__\n",
      "      outputs = call_fn(inputs, *args, **kwargs)\n",
      "    File \"/home/midnightknight/Blood-object-detection/.obj_det/lib/python3.10/site-packages/keras/src/utils/traceback_utils.py\", line 96, in error_handler\n",
      "      return fn(*args, **kwargs)\n",
      "    File \"/home/midnightknight/Blood-object-detection/.obj_det/lib/python3.10/site-packages/object_detection/predictors/heads/head.py\", line 69, in call\n",
      "      return self._predict(features)\n",
      "    File \"/home/midnightknight/Blood-object-detection/.obj_det/lib/python3.10/site-packages/object_detection/predictors/heads/keras_class_head.py\", line 365, in _predict\n",
      "      if self._return_flat_predictions:\n",
      "    File \"/home/midnightknight/Blood-object-detection/.obj_det/lib/python3.10/site-packages/object_detection/predictors/heads/keras_class_head.py\", line 366, in _predict\n",
      "      class_predictions_with_background = tf.reshape(\n",
      "Node: 'WeightSharedConvolutionalBoxPredictor/WeightSharedConvolutionalClassHead/Reshape_9'\n",
      "Input to reshape is a tensor with 918 values, but the requested shape requires a multiple of 10\n",
      "\t [[{{node WeightSharedConvolutionalBoxPredictor/WeightSharedConvolutionalClassHead/Reshape_9}}]] [Op:__inference_compute_eval_dict_15099] exception.\n"
     ]
    },
    {
     "name": "stderr",
     "output_type": "stream",
     "text": [
      "I0728 21:18:34.844198 137997177622528 model_lib_v2.py:942] Encountered Graph execution error:\n",
      "\n",
      "Detected at node 'WeightSharedConvolutionalBoxPredictor/WeightSharedConvolutionalClassHead/Reshape_9' defined at (most recent call last):\n",
      "    File \"/usr/lib/python3.10/runpy.py\", line 196, in _run_module_as_main\n",
      "      return _run_code(code, main_globals, None,\n",
      "    File \"/usr/lib/python3.10/runpy.py\", line 86, in _run_code\n",
      "      exec(code, run_globals)\n",
      "    File \"/home/midnightknight/Blood-object-detection/.obj_det/lib/python3.10/site-packages/ipykernel_launcher.py\", line 18, in <module>\n",
      "      app.launch_new_instance()\n",
      "    File \"/home/midnightknight/Blood-object-detection/.obj_det/lib/python3.10/site-packages/traitlets/config/application.py\", line 1075, in launch_instance\n",
      "      app.start()\n",
      "    File \"/home/midnightknight/Blood-object-detection/.obj_det/lib/python3.10/site-packages/ipykernel/kernelapp.py\", line 739, in start\n",
      "      self.io_loop.start()\n",
      "    File \"/home/midnightknight/Blood-object-detection/.obj_det/lib/python3.10/site-packages/tornado/platform/asyncio.py\", line 205, in start\n",
      "      self.asyncio_loop.run_forever()\n",
      "    File \"/usr/lib/python3.10/asyncio/base_events.py\", line 603, in run_forever\n",
      "      self._run_once()\n",
      "    File \"/usr/lib/python3.10/asyncio/base_events.py\", line 1909, in _run_once\n",
      "      handle._run()\n",
      "    File \"/usr/lib/python3.10/asyncio/events.py\", line 80, in _run\n",
      "      self._context.run(self._callback, *self._args)\n",
      "    File \"/home/midnightknight/Blood-object-detection/.obj_det/lib/python3.10/site-packages/ipykernel/kernelbase.py\", line 545, in dispatch_queue\n",
      "      await self.process_one()\n",
      "    File \"/home/midnightknight/Blood-object-detection/.obj_det/lib/python3.10/site-packages/ipykernel/kernelbase.py\", line 534, in process_one\n",
      "      await dispatch(*args)\n",
      "    File \"/home/midnightknight/Blood-object-detection/.obj_det/lib/python3.10/site-packages/ipykernel/kernelbase.py\", line 437, in dispatch_shell\n",
      "      await result\n",
      "    File \"/home/midnightknight/Blood-object-detection/.obj_det/lib/python3.10/site-packages/ipykernel/ipkernel.py\", line 362, in execute_request\n",
      "      await super().execute_request(stream, ident, parent)\n",
      "    File \"/home/midnightknight/Blood-object-detection/.obj_det/lib/python3.10/site-packages/ipykernel/kernelbase.py\", line 778, in execute_request\n",
      "      reply_content = await reply_content\n",
      "    File \"/home/midnightknight/Blood-object-detection/.obj_det/lib/python3.10/site-packages/ipykernel/ipkernel.py\", line 449, in do_execute\n",
      "      res = shell.run_cell(\n",
      "    File \"/home/midnightknight/Blood-object-detection/.obj_det/lib/python3.10/site-packages/ipykernel/zmqshell.py\", line 549, in run_cell\n",
      "      return super().run_cell(*args, **kwargs)\n",
      "    File \"/home/midnightknight/Blood-object-detection/.obj_det/lib/python3.10/site-packages/IPython/core/interactiveshell.py\", line 3075, in run_cell\n",
      "      result = self._run_cell(\n",
      "    File \"/home/midnightknight/Blood-object-detection/.obj_det/lib/python3.10/site-packages/IPython/core/interactiveshell.py\", line 3130, in _run_cell\n",
      "      result = runner(coro)\n",
      "    File \"/home/midnightknight/Blood-object-detection/.obj_det/lib/python3.10/site-packages/IPython/core/async_helpers.py\", line 128, in _pseudo_sync_runner\n",
      "      coro.send(None)\n",
      "    File \"/home/midnightknight/Blood-object-detection/.obj_det/lib/python3.10/site-packages/IPython/core/interactiveshell.py\", line 3334, in run_cell_async\n",
      "      has_raised = await self.run_ast_nodes(code_ast.body, cell_name,\n",
      "    File \"/home/midnightknight/Blood-object-detection/.obj_det/lib/python3.10/site-packages/IPython/core/interactiveshell.py\", line 3517, in run_ast_nodes\n",
      "      if await self.run_code(code, result, async_=asy):\n",
      "    File \"/home/midnightknight/Blood-object-detection/.obj_det/lib/python3.10/site-packages/IPython/core/interactiveshell.py\", line 3577, in run_code\n",
      "      exec(code_obj, self.user_global_ns, self.user_ns)\n",
      "    File \"/tmp/ipykernel_17360/3112555434.py\", line 1, in <module>\n",
      "      get_ipython().run_line_magic('run', 'Tensorflow/models/research/object_detection/model_main_tf2.py --model_dir=Tensorflow/workspace/models/my_ssd_mobnet/osetr_checkpoints/ --pipeline_config_path=Tensorflow/workspace/models/my_ssd_mobnet/osetr_checkpoints/osetr_pipeline.config --checkpoint_dir=Tensorflow/workspace/models/my_ssd_mobnet/osetr_checkpoints/')\n",
      "    File \"/home/midnightknight/Blood-object-detection/.obj_det/lib/python3.10/site-packages/IPython/core/interactiveshell.py\", line 2480, in run_line_magic\n",
      "      result = fn(*args, **kwargs)\n",
      "    File \"/home/midnightknight/Blood-object-detection/.obj_det/lib/python3.10/site-packages/IPython/core/magics/execution.py\", line 849, in run\n",
      "      run()\n",
      "    File \"/home/midnightknight/Blood-object-detection/.obj_det/lib/python3.10/site-packages/IPython/core/magics/execution.py\", line 834, in run\n",
      "      runner(filename, prog_ns, prog_ns,\n",
      "    File \"/home/midnightknight/Blood-object-detection/.obj_det/lib/python3.10/site-packages/IPython/core/interactiveshell.py\", line 2932, in safe_execfile\n",
      "      py3compat.execfile(\n",
      "    File \"/home/midnightknight/Blood-object-detection/.obj_det/lib/python3.10/site-packages/IPython/utils/py3compat.py\", line 55, in execfile\n",
      "      exec(compiler(f.read(), fname, \"exec\"), glob, loc)\n",
      "    File \"/home/midnightknight/Blood-object-detection/Tensorflow/models/research/object_detection/model_main_tf2.py\", line 114, in <module>\n",
      "      tf.compat.v1.app.run()\n",
      "    File \"/home/midnightknight/Blood-object-detection/.obj_det/lib/python3.10/site-packages/absl/app.py\", line 308, in run\n",
      "      _run_main(main, args)\n",
      "    File \"/home/midnightknight/Blood-object-detection/.obj_det/lib/python3.10/site-packages/absl/app.py\", line 254, in _run_main\n",
      "      sys.exit(main(argv))\n",
      "    File \"/home/midnightknight/Blood-object-detection/Tensorflow/models/research/object_detection/model_main_tf2.py\", line 81, in main\n",
      "      model_lib_v2.eval_continuously(\n",
      "    File \"/home/midnightknight/Blood-object-detection/.obj_det/lib/python3.10/site-packages/object_detection/model_lib_v2.py\", line 1158, in eval_continuously\n",
      "      eager_eval_loop(\n",
      "    File \"/home/midnightknight/Blood-object-detection/.obj_det/lib/python3.10/site-packages/object_detection/model_lib_v2.py\", line 939, in eager_eval_loop\n",
      "      eval_features) = strategy.run(\n",
      "    File \"/home/midnightknight/Blood-object-detection/.obj_det/lib/python3.10/site-packages/object_detection/model_lib_v2.py\", line 910, in compute_eval_dict\n",
      "      losses_dict, prediction_dict = _compute_losses_and_predictions_dicts(\n",
      "    File \"/home/midnightknight/Blood-object-detection/.obj_det/lib/python3.10/site-packages/object_detection/model_lib_v2.py\", line 124, in _compute_losses_and_predictions_dicts\n",
      "      prediction_dict = model.predict(\n",
      "    File \"/home/midnightknight/Blood-object-detection/.obj_det/lib/python3.10/site-packages/object_detection/meta_architectures/ssd_meta_arch.py\", line 592, in predict\n",
      "      if self._box_predictor.is_keras_model:\n",
      "    File \"/home/midnightknight/Blood-object-detection/.obj_det/lib/python3.10/site-packages/object_detection/meta_architectures/ssd_meta_arch.py\", line 593, in predict\n",
      "      predictor_results_dict = self._box_predictor(feature_maps)\n",
      "    File \"/home/midnightknight/Blood-object-detection/.obj_det/lib/python3.10/site-packages/keras/src/utils/traceback_utils.py\", line 65, in error_handler\n",
      "      return fn(*args, **kwargs)\n",
      "    File \"/home/midnightknight/Blood-object-detection/.obj_det/lib/python3.10/site-packages/keras/src/engine/base_layer.py\", line 1150, in __call__\n",
      "      outputs = call_fn(inputs, *args, **kwargs)\n",
      "    File \"/home/midnightknight/Blood-object-detection/.obj_det/lib/python3.10/site-packages/keras/src/utils/traceback_utils.py\", line 96, in error_handler\n",
      "      return fn(*args, **kwargs)\n",
      "    File \"/home/midnightknight/Blood-object-detection/.obj_det/lib/python3.10/site-packages/object_detection/core/box_predictor.py\", line 202, in call\n",
      "      return self._predict(image_features, **kwargs)\n",
      "    File \"/home/midnightknight/Blood-object-detection/.obj_det/lib/python3.10/site-packages/object_detection/predictors/convolutional_keras_box_predictor.py\", line 472, in _predict\n",
      "      for (index, image_feature) in enumerate(image_features):\n",
      "    File \"/home/midnightknight/Blood-object-detection/.obj_det/lib/python3.10/site-packages/object_detection/predictors/convolutional_keras_box_predictor.py\", line 484, in _predict\n",
      "      for head_name in self._sorted_head_names:\n",
      "    File \"/home/midnightknight/Blood-object-detection/.obj_det/lib/python3.10/site-packages/object_detection/predictors/convolutional_keras_box_predictor.py\", line 492, in _predict\n",
      "      prediction = head_obj(head_tower_feature)\n",
      "    File \"/home/midnightknight/Blood-object-detection/.obj_det/lib/python3.10/site-packages/keras/src/utils/traceback_utils.py\", line 65, in error_handler\n",
      "      return fn(*args, **kwargs)\n",
      "    File \"/home/midnightknight/Blood-object-detection/.obj_det/lib/python3.10/site-packages/keras/src/engine/base_layer.py\", line 1150, in __call__\n",
      "      outputs = call_fn(inputs, *args, **kwargs)\n",
      "    File \"/home/midnightknight/Blood-object-detection/.obj_det/lib/python3.10/site-packages/keras/src/utils/traceback_utils.py\", line 96, in error_handler\n",
      "      return fn(*args, **kwargs)\n",
      "    File \"/home/midnightknight/Blood-object-detection/.obj_det/lib/python3.10/site-packages/object_detection/predictors/heads/head.py\", line 69, in call\n",
      "      return self._predict(features)\n",
      "    File \"/home/midnightknight/Blood-object-detection/.obj_det/lib/python3.10/site-packages/object_detection/predictors/heads/keras_class_head.py\", line 365, in _predict\n",
      "      if self._return_flat_predictions:\n",
      "    File \"/home/midnightknight/Blood-object-detection/.obj_det/lib/python3.10/site-packages/object_detection/predictors/heads/keras_class_head.py\", line 366, in _predict\n",
      "      class_predictions_with_background = tf.reshape(\n",
      "Node: 'WeightSharedConvolutionalBoxPredictor/WeightSharedConvolutionalClassHead/Reshape_9'\n",
      "Input to reshape is a tensor with 918 values, but the requested shape requires a multiple of 10\n",
      "\t [[{{node WeightSharedConvolutionalBoxPredictor/WeightSharedConvolutionalClassHead/Reshape_9}}]] [Op:__inference_compute_eval_dict_15099] exception.\n"
     ]
    },
    {
     "name": "stdout",
     "output_type": "stream",
     "text": [
      "INFO:tensorflow:A replica probably exhausted all examples. Skipping pending examples on other replicas.\n"
     ]
    },
    {
     "name": "stderr",
     "output_type": "stream",
     "text": [
      "I0728 21:18:34.845594 137997177622528 model_lib_v2.py:943] A replica probably exhausted all examples. Skipping pending examples on other replicas.\n"
     ]
    },
    {
     "ename": "TypeError",
     "evalue": "'NoneType' object is not iterable",
     "output_type": "error",
     "traceback": [
      "\u001b[0;31m---------------------------------------------------------------------------\u001b[0m",
      "\u001b[0;31mTypeError\u001b[0m                                 Traceback (most recent call last)",
      "File \u001b[0;32m~/Blood-object-detection/Tensorflow/models/research/object_detection/model_main_tf2.py:114\u001b[0m\n\u001b[1;32m    105\u001b[0m       model_lib_v2\u001b[38;5;241m.\u001b[39mtrain_loop(\n\u001b[1;32m    106\u001b[0m           pipeline_config_path\u001b[38;5;241m=\u001b[39mFLAGS\u001b[38;5;241m.\u001b[39mpipeline_config_path,\n\u001b[1;32m    107\u001b[0m           model_dir\u001b[38;5;241m=\u001b[39mFLAGS\u001b[38;5;241m.\u001b[39mmodel_dir,\n\u001b[0;32m   (...)\u001b[0m\n\u001b[1;32m    110\u001b[0m           checkpoint_every_n\u001b[38;5;241m=\u001b[39mFLAGS\u001b[38;5;241m.\u001b[39mcheckpoint_every_n,\n\u001b[1;32m    111\u001b[0m           record_summaries\u001b[38;5;241m=\u001b[39mFLAGS\u001b[38;5;241m.\u001b[39mrecord_summaries)\n\u001b[1;32m    113\u001b[0m \u001b[38;5;28;01mif\u001b[39;00m \u001b[38;5;18m__name__\u001b[39m \u001b[38;5;241m==\u001b[39m \u001b[38;5;124m'\u001b[39m\u001b[38;5;124m__main__\u001b[39m\u001b[38;5;124m'\u001b[39m:\n\u001b[0;32m--> 114\u001b[0m   \u001b[43mtf\u001b[49m\u001b[38;5;241;43m.\u001b[39;49m\u001b[43mcompat\u001b[49m\u001b[38;5;241;43m.\u001b[39;49m\u001b[43mv1\u001b[49m\u001b[38;5;241;43m.\u001b[39;49m\u001b[43mapp\u001b[49m\u001b[38;5;241;43m.\u001b[39;49m\u001b[43mrun\u001b[49m\u001b[43m(\u001b[49m\u001b[43m)\u001b[49m\n",
      "File \u001b[0;32m~/Blood-object-detection/.obj_det/lib/python3.10/site-packages/tensorflow/python/platform/app.py:36\u001b[0m, in \u001b[0;36mrun\u001b[0;34m(main, argv)\u001b[0m\n\u001b[1;32m     32\u001b[0m \u001b[38;5;250m\u001b[39m\u001b[38;5;124;03m\"\"\"Runs the program with an optional 'main' function and 'argv' list.\"\"\"\u001b[39;00m\n\u001b[1;32m     34\u001b[0m main \u001b[38;5;241m=\u001b[39m main \u001b[38;5;129;01mor\u001b[39;00m _sys\u001b[38;5;241m.\u001b[39mmodules[\u001b[38;5;124m'\u001b[39m\u001b[38;5;124m__main__\u001b[39m\u001b[38;5;124m'\u001b[39m]\u001b[38;5;241m.\u001b[39mmain\n\u001b[0;32m---> 36\u001b[0m \u001b[43m_run\u001b[49m\u001b[43m(\u001b[49m\u001b[43mmain\u001b[49m\u001b[38;5;241;43m=\u001b[39;49m\u001b[43mmain\u001b[49m\u001b[43m,\u001b[49m\u001b[43m \u001b[49m\u001b[43margv\u001b[49m\u001b[38;5;241;43m=\u001b[39;49m\u001b[43margv\u001b[49m\u001b[43m,\u001b[49m\u001b[43m \u001b[49m\u001b[43mflags_parser\u001b[49m\u001b[38;5;241;43m=\u001b[39;49m\u001b[43m_parse_flags_tolerate_undef\u001b[49m\u001b[43m)\u001b[49m\n",
      "File \u001b[0;32m~/Blood-object-detection/.obj_det/lib/python3.10/site-packages/absl/app.py:308\u001b[0m, in \u001b[0;36mrun\u001b[0;34m(main, argv, flags_parser)\u001b[0m\n\u001b[1;32m    306\u001b[0m   callback()\n\u001b[1;32m    307\u001b[0m \u001b[38;5;28;01mtry\u001b[39;00m:\n\u001b[0;32m--> 308\u001b[0m   \u001b[43m_run_main\u001b[49m\u001b[43m(\u001b[49m\u001b[43mmain\u001b[49m\u001b[43m,\u001b[49m\u001b[43m \u001b[49m\u001b[43margs\u001b[49m\u001b[43m)\u001b[49m\n\u001b[1;32m    309\u001b[0m \u001b[38;5;28;01mexcept\u001b[39;00m UsageError \u001b[38;5;28;01mas\u001b[39;00m error:\n\u001b[1;32m    310\u001b[0m   usage(shorthelp\u001b[38;5;241m=\u001b[39m\u001b[38;5;28;01mTrue\u001b[39;00m, detailed_error\u001b[38;5;241m=\u001b[39merror, exitcode\u001b[38;5;241m=\u001b[39merror\u001b[38;5;241m.\u001b[39mexitcode)\n",
      "File \u001b[0;32m~/Blood-object-detection/.obj_det/lib/python3.10/site-packages/absl/app.py:254\u001b[0m, in \u001b[0;36m_run_main\u001b[0;34m(main, argv)\u001b[0m\n\u001b[1;32m    252\u001b[0m   sys\u001b[38;5;241m.\u001b[39mexit(retval)\n\u001b[1;32m    253\u001b[0m \u001b[38;5;28;01melse\u001b[39;00m:\n\u001b[0;32m--> 254\u001b[0m   sys\u001b[38;5;241m.\u001b[39mexit(\u001b[43mmain\u001b[49m\u001b[43m(\u001b[49m\u001b[43margv\u001b[49m\u001b[43m)\u001b[49m)\n",
      "File \u001b[0;32m~/Blood-object-detection/Tensorflow/models/research/object_detection/model_main_tf2.py:81\u001b[0m, in \u001b[0;36mmain\u001b[0;34m(unused_argv)\u001b[0m\n\u001b[1;32m     78\u001b[0m tf\u001b[38;5;241m.\u001b[39mconfig\u001b[38;5;241m.\u001b[39mset_soft_device_placement(\u001b[38;5;28;01mTrue\u001b[39;00m)\n\u001b[1;32m     80\u001b[0m \u001b[38;5;28;01mif\u001b[39;00m FLAGS\u001b[38;5;241m.\u001b[39mcheckpoint_dir:\n\u001b[0;32m---> 81\u001b[0m   \u001b[43mmodel_lib_v2\u001b[49m\u001b[38;5;241;43m.\u001b[39;49m\u001b[43meval_continuously\u001b[49m\u001b[43m(\u001b[49m\n\u001b[1;32m     82\u001b[0m \u001b[43m      \u001b[49m\u001b[43mpipeline_config_path\u001b[49m\u001b[38;5;241;43m=\u001b[39;49m\u001b[43mFLAGS\u001b[49m\u001b[38;5;241;43m.\u001b[39;49m\u001b[43mpipeline_config_path\u001b[49m\u001b[43m,\u001b[49m\n\u001b[1;32m     83\u001b[0m \u001b[43m      \u001b[49m\u001b[43mmodel_dir\u001b[49m\u001b[38;5;241;43m=\u001b[39;49m\u001b[43mFLAGS\u001b[49m\u001b[38;5;241;43m.\u001b[39;49m\u001b[43mmodel_dir\u001b[49m\u001b[43m,\u001b[49m\n\u001b[1;32m     84\u001b[0m \u001b[43m      \u001b[49m\u001b[43mtrain_steps\u001b[49m\u001b[38;5;241;43m=\u001b[39;49m\u001b[43mFLAGS\u001b[49m\u001b[38;5;241;43m.\u001b[39;49m\u001b[43mnum_train_steps\u001b[49m\u001b[43m,\u001b[49m\n\u001b[1;32m     85\u001b[0m \u001b[43m      \u001b[49m\u001b[43msample_1_of_n_eval_examples\u001b[49m\u001b[38;5;241;43m=\u001b[39;49m\u001b[43mFLAGS\u001b[49m\u001b[38;5;241;43m.\u001b[39;49m\u001b[43msample_1_of_n_eval_examples\u001b[49m\u001b[43m,\u001b[49m\n\u001b[1;32m     86\u001b[0m \u001b[43m      \u001b[49m\u001b[43msample_1_of_n_eval_on_train_examples\u001b[49m\u001b[38;5;241;43m=\u001b[39;49m\u001b[43m(\u001b[49m\n\u001b[1;32m     87\u001b[0m \u001b[43m          \u001b[49m\u001b[43mFLAGS\u001b[49m\u001b[38;5;241;43m.\u001b[39;49m\u001b[43msample_1_of_n_eval_on_train_examples\u001b[49m\u001b[43m)\u001b[49m\u001b[43m,\u001b[49m\n\u001b[1;32m     88\u001b[0m \u001b[43m      \u001b[49m\u001b[43mcheckpoint_dir\u001b[49m\u001b[38;5;241;43m=\u001b[39;49m\u001b[43mFLAGS\u001b[49m\u001b[38;5;241;43m.\u001b[39;49m\u001b[43mcheckpoint_dir\u001b[49m\u001b[43m,\u001b[49m\n\u001b[1;32m     89\u001b[0m \u001b[43m      \u001b[49m\u001b[43mwait_interval\u001b[49m\u001b[38;5;241;43m=\u001b[39;49m\u001b[38;5;241;43m300\u001b[39;49m\u001b[43m,\u001b[49m\u001b[43m \u001b[49m\u001b[43mtimeout\u001b[49m\u001b[38;5;241;43m=\u001b[39;49m\u001b[43mFLAGS\u001b[49m\u001b[38;5;241;43m.\u001b[39;49m\u001b[43meval_timeout\u001b[49m\u001b[43m)\u001b[49m\n\u001b[1;32m     90\u001b[0m \u001b[38;5;28;01melse\u001b[39;00m:\n\u001b[1;32m     91\u001b[0m   \u001b[38;5;28;01mif\u001b[39;00m FLAGS\u001b[38;5;241m.\u001b[39muse_tpu:\n\u001b[1;32m     92\u001b[0m     \u001b[38;5;66;03m# TPU is automatically inferred if tpu_name is None and\u001b[39;00m\n\u001b[1;32m     93\u001b[0m     \u001b[38;5;66;03m# we are running under cloud ai-platform.\u001b[39;00m\n",
      "File \u001b[0;32m~/Blood-object-detection/.obj_det/lib/python3.10/site-packages/object_detection/model_lib_v2.py:1158\u001b[0m, in \u001b[0;36meval_continuously\u001b[0;34m(pipeline_config_path, config_override, train_steps, sample_1_of_n_eval_examples, sample_1_of_n_eval_on_train_examples, use_tpu, override_eval_num_epochs, postprocess_on_cpu, model_dir, checkpoint_dir, wait_interval, timeout, eval_index, save_final_config, **kwargs)\u001b[0m\n\u001b[1;32m   1155\u001b[0m summary_writer \u001b[38;5;241m=\u001b[39m tf\u001b[38;5;241m.\u001b[39mcompat\u001b[38;5;241m.\u001b[39mv2\u001b[38;5;241m.\u001b[39msummary\u001b[38;5;241m.\u001b[39mcreate_file_writer(\n\u001b[1;32m   1156\u001b[0m     os\u001b[38;5;241m.\u001b[39mpath\u001b[38;5;241m.\u001b[39mjoin(model_dir, \u001b[38;5;124m'\u001b[39m\u001b[38;5;124meval\u001b[39m\u001b[38;5;124m'\u001b[39m, eval_input_config\u001b[38;5;241m.\u001b[39mname))\n\u001b[1;32m   1157\u001b[0m \u001b[38;5;28;01mwith\u001b[39;00m summary_writer\u001b[38;5;241m.\u001b[39mas_default():\n\u001b[0;32m-> 1158\u001b[0m   \u001b[43meager_eval_loop\u001b[49m\u001b[43m(\u001b[49m\n\u001b[1;32m   1159\u001b[0m \u001b[43m      \u001b[49m\u001b[43mdetection_model\u001b[49m\u001b[43m,\u001b[49m\n\u001b[1;32m   1160\u001b[0m \u001b[43m      \u001b[49m\u001b[43mconfigs\u001b[49m\u001b[43m,\u001b[49m\n\u001b[1;32m   1161\u001b[0m \u001b[43m      \u001b[49m\u001b[43meval_input\u001b[49m\u001b[43m,\u001b[49m\n\u001b[1;32m   1162\u001b[0m \u001b[43m      \u001b[49m\u001b[43muse_tpu\u001b[49m\u001b[38;5;241;43m=\u001b[39;49m\u001b[43muse_tpu\u001b[49m\u001b[43m,\u001b[49m\n\u001b[1;32m   1163\u001b[0m \u001b[43m      \u001b[49m\u001b[43mpostprocess_on_cpu\u001b[49m\u001b[38;5;241;43m=\u001b[39;49m\u001b[43mpostprocess_on_cpu\u001b[49m\u001b[43m,\u001b[49m\n\u001b[1;32m   1164\u001b[0m \u001b[43m      \u001b[49m\u001b[43mglobal_step\u001b[49m\u001b[38;5;241;43m=\u001b[39;49m\u001b[43mglobal_step\u001b[49m\u001b[43m,\u001b[49m\n\u001b[1;32m   1165\u001b[0m \u001b[43m      \u001b[49m\u001b[43m)\u001b[49m\n\u001b[1;32m   1167\u001b[0m \u001b[38;5;28;01mif\u001b[39;00m global_step\u001b[38;5;241m.\u001b[39mnumpy() \u001b[38;5;241m==\u001b[39m configs[\u001b[38;5;124m'\u001b[39m\u001b[38;5;124mtrain_config\u001b[39m\u001b[38;5;124m'\u001b[39m]\u001b[38;5;241m.\u001b[39mnum_steps:\n\u001b[1;32m   1168\u001b[0m   tf\u001b[38;5;241m.\u001b[39mlogging\u001b[38;5;241m.\u001b[39minfo(\u001b[38;5;124m'\u001b[39m\u001b[38;5;124mExiting evaluation at step \u001b[39m\u001b[38;5;132;01m%d\u001b[39;00m\u001b[38;5;124m'\u001b[39m, global_step\u001b[38;5;241m.\u001b[39mnumpy())\n",
      "File \u001b[0;32m~/Blood-object-detection/.obj_det/lib/python3.10/site-packages/object_detection/model_lib_v2.py:1009\u001b[0m, in \u001b[0;36meager_eval_loop\u001b[0;34m(***failed resolving arguments***)\u001b[0m\n\u001b[1;32m   1005\u001b[0m     loss_metrics[loss_key]\u001b[38;5;241m.\u001b[39mappend(loss_tensor)\n\u001b[1;32m   1007\u001b[0m eval_metrics \u001b[38;5;241m=\u001b[39m {}\n\u001b[0;32m-> 1009\u001b[0m \u001b[38;5;28;01mfor\u001b[39;00m evaluator \u001b[38;5;129;01min\u001b[39;00m evaluators:\n\u001b[1;32m   1010\u001b[0m   eval_metrics\u001b[38;5;241m.\u001b[39mupdate(evaluator\u001b[38;5;241m.\u001b[39mevaluate())\n\u001b[1;32m   1011\u001b[0m \u001b[38;5;28;01mfor\u001b[39;00m loss_key \u001b[38;5;129;01min\u001b[39;00m loss_metrics:\n",
      "\u001b[0;31mTypeError\u001b[0m: 'NoneType' object is not iterable"
     ]
    }
   ],
   "source": [
    "%run Tensorflow/models/research/object_detection/model_main_tf2.py --model_dir=Tensorflow/workspace/models/my_ssd_mobnet/osetr_checkpoints/ --pipeline_config_path=Tensorflow/workspace/models/my_ssd_mobnet/osetr_checkpoints/osetr_pipeline.config --checkpoint_dir=Tensorflow/workspace/models/my_ssd_mobnet/osetr_checkpoints/"
   ]
  },
  {
   "cell_type": "raw",
   "id": "2fc72308-822f-43d3-be4f-5d0571b33cb4",
   "metadata": {},
   "source": [
    "tensorboard --logdir=Tensorflow/workspace/models/my_ssd_mobnet/eval/"
   ]
  }
 ],
 "metadata": {
  "kernelspec": {
   "display_name": "obj_det",
   "language": "python",
   "name": "obj_det"
  },
  "language_info": {
   "codemirror_mode": {
    "name": "ipython",
    "version": 3
   },
   "file_extension": ".py",
   "mimetype": "text/x-python",
   "name": "python",
   "nbconvert_exporter": "python",
   "pygments_lexer": "ipython3",
   "version": "3.10.12"
  }
 },
 "nbformat": 4,
 "nbformat_minor": 5
}
