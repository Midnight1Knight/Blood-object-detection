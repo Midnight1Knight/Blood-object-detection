{
 "cells": [
  {
   "cell_type": "code",
   "execution_count": 1,
   "id": "d5993113-30b3-4369-a096-76e1edb1cdbf",
   "metadata": {},
   "outputs": [],
   "source": [
    "import os\n",
    "os.environ['TF_CPP_MIN_LOG_LEVEL'] = '2'\n",
    "from object_detection.protos import pipeline_pb2\n",
    "from google.protobuf import text_format\n",
    "import tensorflow as tf"
   ]
  },
  {
   "cell_type": "markdown",
   "id": "2fa5e53c-2553-44c4-a8f5-5035062157ac",
   "metadata": {},
   "source": [
    "# Устанавливаем папки"
   ]
  },
  {
   "cell_type": "code",
   "execution_count": 2,
   "id": "765acce4-13c2-4c4e-a40e-74b5fea7e0a1",
   "metadata": {},
   "outputs": [],
   "source": [
    "# fish_name = input(\"Напишите с какой рыбой работаем:\")\n",
    "fish_name = 'карп'\n",
    "if fish_name.lower() == 'карп':\n",
    "    LABEL_MAP_NAME = 'label_map_karp.pbtxt'\n",
    "    name = 'karp'\n",
    "elif fish_name.lower() == 'осетр':\n",
    "    LABEL_MAP_NAME = 'label_map_osetr.pbtxt'\n",
    "    name = 'osetr'\n",
    "else:\n",
    "    print('Пока нет фотографий для такой рыбы')"
   ]
  },
  {
   "cell_type": "code",
   "execution_count": 3,
   "id": "428c52f6-1955-493f-8cc3-7fac4706dfd5",
   "metadata": {},
   "outputs": [],
   "source": [
    "CUSTOM_MODEL_NAME = 'my_ssd_mobnet' \n",
    "PRETRAINED_MODEL_NAME = 'ssd_mobilenet_v2_fpnlite_320x320_coco17_tpu-8'\n",
    "PRETRAINED_MODEL_URL = 'http://download.tensorflow.org/models/object_detection/tf2/20200711/ssd_mobilenet_v2_fpnlite_320x320_coco17_tpu-8.tar.gz'\n",
    "TF_RECORD_SCRIPT_NAME = 'generate_tfrecord.py'"
   ]
  },
  {
   "cell_type": "code",
   "execution_count": 4,
   "id": "af27974f-5251-4001-b8c4-2eac94683fb0",
   "metadata": {},
   "outputs": [],
   "source": [
    "paths = {\n",
    "    'WORKSPACE_PATH': os.path.join('Tensorflow', 'workspace'),\n",
    "    'SCRIPTS_PATH': os.path.join('Tensorflow','scripts'),\n",
    "    'APIMODEL_PATH': os.path.join('Tensorflow','models'),\n",
    "    'ANNOTATION_PATH': os.path.join('Tensorflow', 'workspace','annotations'),\n",
    "    'IMAGE_PATH': os.path.join('Tensorflow', 'workspace','data'),\n",
    "    'MODEL_PATH': os.path.join('Tensorflow', 'workspace','models'),\n",
    "    'PRETRAINED_MODEL_PATH': os.path.join('Tensorflow', 'workspace','pre-trained-models'),\n",
    "    'CHECKPOINT_PATH': os.path.join('Tensorflow', 'workspace','models',CUSTOM_MODEL_NAME, name + '_checkpoints'), \n",
    "    'OUTPUT_PATH': os.path.join('Tensorflow', 'workspace','models',CUSTOM_MODEL_NAME, 'export'), \n",
    "    'TFJS_PATH':os.path.join('Tensorflow', 'workspace','models',CUSTOM_MODEL_NAME, 'tfjsexport'), \n",
    "    'TFLITE_PATH':os.path.join('Tensorflow', 'workspace','models',CUSTOM_MODEL_NAME, 'tfliteexport'), \n",
    "    'PROTOC_PATH':os.path.join('Tensorflow','protoc')\n",
    " }"
   ]
  },
  {
   "cell_type": "code",
   "execution_count": 5,
   "id": "507a13fa-11b9-4cb9-9844-40b15259ff5f",
   "metadata": {},
   "outputs": [],
   "source": [
    "files = {\n",
    "    'PIPELINE_CONFIG':os.path.join(paths['CHECKPOINT_PATH'], name + '_pipeline.config'),\n",
    "    'TF_RECORD_SCRIPT': os.path.join(paths['SCRIPTS_PATH'], TF_RECORD_SCRIPT_NAME), \n",
    "    'LABELMAP': os.path.join(paths['ANNOTATION_PATH'], LABEL_MAP_NAME)\n",
    "}"
   ]
  },
  {
   "cell_type": "markdown",
   "id": "28859782-9bfa-48eb-afc8-f0f7673b0232",
   "metadata": {},
   "source": [
    "# Подгружаем модель"
   ]
  },
  {
   "cell_type": "code",
   "execution_count": 6,
   "id": "db2b6a04-e033-4e2d-82f3-a53f96e52b93",
   "metadata": {},
   "outputs": [
    {
     "name": "stdout",
     "output_type": "stream",
     "text": [
      "--2024-07-13 18:19:32--  http://download.tensorflow.org/models/object_detection/tf2/20200711/ssd_mobilenet_v2_fpnlite_320x320_coco17_tpu-8.tar.gz\n",
      "Resolving download.tensorflow.org (download.tensorflow.org)... 216.58.207.251, 142.250.74.59, 142.250.74.91, ...\n",
      "Connecting to download.tensorflow.org (download.tensorflow.org)|216.58.207.251|:80... connected.\n",
      "HTTP request sent, awaiting response... 200 OK\n",
      "Length: 20515344 (20M) [application/x-tar]\n",
      "Saving to: ‘ssd_mobilenet_v2_fpnlite_320x320_coco17_tpu-8.tar.gz’\n",
      "\n",
      "ssd_mobilenet_v2_fp 100%[===================>]  19.56M  6.19MB/s    in 3.2s    \n",
      "\n",
      "2024-07-13 18:19:36 (6.19 MB/s) - ‘ssd_mobilenet_v2_fpnlite_320x320_coco17_tpu-8.tar.gz’ saved [20515344/20515344]\n",
      "\n",
      "ssd_mobilenet_v2_fpnlite_320x320_coco17_tpu-8/\n",
      "ssd_mobilenet_v2_fpnlite_320x320_coco17_tpu-8/checkpoint/\n",
      "ssd_mobilenet_v2_fpnlite_320x320_coco17_tpu-8/checkpoint/ckpt-0.data-00000-of-00001\n",
      "ssd_mobilenet_v2_fpnlite_320x320_coco17_tpu-8/checkpoint/checkpoint\n",
      "ssd_mobilenet_v2_fpnlite_320x320_coco17_tpu-8/checkpoint/ckpt-0.index\n",
      "ssd_mobilenet_v2_fpnlite_320x320_coco17_tpu-8/pipeline.config\n",
      "ssd_mobilenet_v2_fpnlite_320x320_coco17_tpu-8/saved_model/\n",
      "ssd_mobilenet_v2_fpnlite_320x320_coco17_tpu-8/saved_model/saved_model.pb\n",
      "ssd_mobilenet_v2_fpnlite_320x320_coco17_tpu-8/saved_model/variables/\n",
      "ssd_mobilenet_v2_fpnlite_320x320_coco17_tpu-8/saved_model/variables/variables.data-00000-of-00001\n",
      "ssd_mobilenet_v2_fpnlite_320x320_coco17_tpu-8/saved_model/variables/variables.index\n"
     ]
    }
   ],
   "source": [
    "if os.name =='posix':\n",
    "    !wget {PRETRAINED_MODEL_URL}\n",
    "    !mv {PRETRAINED_MODEL_NAME+'.tar.gz'} {paths['PRETRAINED_MODEL_PATH']}\n",
    "    !cd {paths['PRETRAINED_MODEL_PATH']} && tar -zxvf {PRETRAINED_MODEL_NAME+'.tar.gz'}\n",
    "if os.name == 'nt':\n",
    "    wget.download(PRETRAINED_MODEL_URL)\n",
    "    !move {PRETRAINED_MODEL_NAME+'.tar.gz'} {paths['PRETRAINED_MODEL_PATH']}\n",
    "    !cd {paths['PRETRAINED_MODEL_PATH']} && tar -zxvf {PRETRAINED_MODEL_NAME+'.tar.gz'}"
   ]
  },
  {
   "cell_type": "markdown",
   "id": "3424b8ae-52f9-4b64-b1d5-3a0ea6192454",
   "metadata": {},
   "source": [
    "Копируем конфиг в тренировочную папку"
   ]
  },
  {
   "cell_type": "code",
   "execution_count": 6,
   "id": "08010b7b-26f9-4715-9bcc-8f7764cbdba9",
   "metadata": {},
   "outputs": [],
   "source": [
    "if os.name =='posix':\n",
    "    !cp {os.path.join(paths['PRETRAINED_MODEL_PATH'], PRETRAINED_MODEL_NAME, 'pipeline.config')} {os.path.join(paths['CHECKPOINT_PATH'], name + '_pipeline.config')}\n",
    "if os.name == 'nt':\n",
    "    !copy {os.path.join(paths['PRETRAINED_MODEL_PATH'], PRETRAINED_MODEL_NAME, 'pipeline.config')} {os.path.join(paths['CHECKPOINT_PATH'], name + '_pipeline.config')}"
   ]
  },
  {
   "cell_type": "code",
   "execution_count": 7,
   "id": "fa86a725-04f3-429b-b7f9-8282c25ea79b",
   "metadata": {},
   "outputs": [
    {
     "data": {
      "text/plain": [
       "'Tensorflow/workspace/pre-trained-models/ssd_mobilenet_v2_fpnlite_320x320_coco17_tpu-8/pipeline.config'"
      ]
     },
     "execution_count": 7,
     "metadata": {},
     "output_type": "execute_result"
    }
   ],
   "source": [
    "os.path.join(paths['PRETRAINED_MODEL_PATH'], PRETRAINED_MODEL_NAME, 'pipeline.config')"
   ]
  },
  {
   "cell_type": "markdown",
   "id": "24ec5777-eb9a-4108-8ca2-4894f4e22b09",
   "metadata": {},
   "source": [
    "# Обновляем конфиг под наши данные"
   ]
  },
  {
   "cell_type": "code",
   "execution_count": 23,
   "id": "3ba6a69f-d0a7-4082-9796-1aafd2b43bc0",
   "metadata": {},
   "outputs": [],
   "source": [
    "def update_pipeline_config(config_path, label_map_path, train_record_path, test_record_path, checkpoint_path):\n",
    "    pipeline_config = pipeline_pb2.TrainEvalPipelineConfig()\n",
    "\n",
    "    # Read the existing pipeline config\n",
    "    with open(config_path, 'r') as f:\n",
    "        proto_str = f.read()\n",
    "        # proto_str = proto_str.replace(\"fine_tune_checkpoint_version: V2\", \"\")\n",
    "        text_format.Merge(proto_str, pipeline_config)\n",
    "\n",
    "\n",
    "    # Update the paths\n",
    "    pipeline_config.model.ssd.num_classes = label_count\n",
    "    pipeline_config.train_config.batch_size = 3\n",
    "    pipeline_config.train_config.fine_tune_checkpoint = os.path.join(paths['PRETRAINED_MODEL_PATH'], PRETRAINED_MODEL_NAME, 'checkpoint', 'ckpt-0')\n",
    "    pipeline_config.train_config.fine_tune_checkpoint_type = \"detection\"\n",
    "    pipeline_config.train_input_reader.label_map_path= files['LABELMAP']\n",
    "    pipeline_config.train_input_reader.tf_record_input_reader.input_path[:] = [os.path.join(paths['ANNOTATION_PATH'], name + '_train.record')]\n",
    "    pipeline_config.eval_input_reader[0].label_map_path = files['LABELMAP']\n",
    "    pipeline_config.eval_input_reader[0].tf_record_input_reader.input_path[:] = [os.path.join(paths['ANNOTATION_PATH'], name + '_test.record')]\n",
    "\n",
    "    # Write the updated pipeline config back to the file\n",
    "    with open(config_path, 'w') as f:\n",
    "        f.write(text_format.MessageToString(pipeline_config))"
   ]
  },
  {
   "cell_type": "code",
   "execution_count": 24,
   "id": "3ee5fb67-c68a-4460-83c0-86fbec92e91e",
   "metadata": {},
   "outputs": [],
   "source": [
    "with open(files['LABELMAP']) as f:\n",
    "    lines = f.readlines()\n",
    "label_count = lines.count('}\\n')"
   ]
  },
  {
   "cell_type": "code",
   "execution_count": 25,
   "id": "0cee2081-9030-4b42-9df5-76df65541c9f",
   "metadata": {},
   "outputs": [
    {
     "data": {
      "text/plain": [
       "14"
      ]
     },
     "execution_count": 25,
     "metadata": {},
     "output_type": "execute_result"
    }
   ],
   "source": [
    "label_count"
   ]
  },
  {
   "cell_type": "code",
   "execution_count": 26,
   "id": "4113c5bf-5dbd-4b2f-ad5a-c5682869c210",
   "metadata": {},
   "outputs": [],
   "source": [
    "update_pipeline_config(\n",
    "    config_path=files['PIPELINE_CONFIG'],\n",
    "    label_map_path=files['LABELMAP'],\n",
    "    train_record_path=os.path.join(paths['ANNOTATION_PATH'], name + '_train.record'),\n",
    "    test_record_path=os.path.join(paths['ANNOTATION_PATH'], name + '_test.record'),\n",
    "    checkpoint_path=paths['CHECKPOINT_PATH']\n",
    ")"
   ]
  },
  {
   "cell_type": "code",
   "execution_count": 27,
   "id": "389f1824-1bc2-4ce6-a987-cf0b4a074056",
   "metadata": {},
   "outputs": [
    {
     "data": {
      "text/plain": [
       "'Tensorflow/workspace/models/my_ssd_mobnet/karp_checkpoints/karp_pipeline.config'"
      ]
     },
     "execution_count": 27,
     "metadata": {},
     "output_type": "execute_result"
    }
   ],
   "source": [
    "files['PIPELINE_CONFIG']"
   ]
  },
  {
   "cell_type": "code",
   "execution_count": 28,
   "id": "094a217e-ce2e-4f56-b570-4d4b35329d1a",
   "metadata": {
    "scrolled": true
   },
   "outputs": [],
   "source": [
    "pipeline_config = pipeline_pb2.TrainEvalPipelineConfig()\n",
    "with tf.io.gfile.GFile(files['PIPELINE_CONFIG'], \"r\") as f:                                                                                                                                                                                                                     \n",
    "    proto_str = f.read()                                                                                                                                                                                                                                          \n",
    "    text_format.Merge(proto_str, pipeline_config)  "
   ]
  },
  {
   "cell_type": "code",
   "execution_count": 29,
   "id": "e2375c8f-15ff-44c9-b5a0-9077d03d2099",
   "metadata": {},
   "outputs": [
    {
     "data": {
      "text/plain": [
       "'Tensorflow/workspace/annotations/label_map_karp.pbtxt'"
      ]
     },
     "execution_count": 29,
     "metadata": {},
     "output_type": "execute_result"
    }
   ],
   "source": [
    "files['LABELMAP']"
   ]
  },
  {
   "cell_type": "code",
   "execution_count": 30,
   "id": "2f86baa3-5ac2-4ea4-9efc-b448cccd56e0",
   "metadata": {},
   "outputs": [],
   "source": [
    "with open(files['LABELMAP']) as f:\n",
    "    lines = f.readlines()\n",
    "label_count = lines.count('}\\n')"
   ]
  },
  {
   "cell_type": "code",
   "execution_count": 31,
   "id": "1b8cd571-ddce-4ce9-99db-6609a097abd1",
   "metadata": {},
   "outputs": [
    {
     "data": {
      "text/plain": [
       "14"
      ]
     },
     "execution_count": 31,
     "metadata": {},
     "output_type": "execute_result"
    }
   ],
   "source": [
    "label_count"
   ]
  },
  {
   "cell_type": "code",
   "execution_count": 32,
   "id": "fe20ba8b-e798-4148-91d8-5b28beeaeb07",
   "metadata": {},
   "outputs": [],
   "source": [
    "pipeline_config.model.ssd.num_classes = label_count\n",
    "pipeline_config.train_config.batch_size = 2\n",
    "pipeline_config.train_config.fine_tune_checkpoint = os.path.join(paths['PRETRAINED_MODEL_PATH'], PRETRAINED_MODEL_NAME, 'checkpoint', 'ckpt-0')\n",
    "pipeline_config.train_config.fine_tune_checkpoint_type = \"detection\"\n",
    "pipeline_config.train_input_reader.label_map_path= files['LABELMAP']\n",
    "pipeline_config.train_input_reader.tf_record_input_reader.input_path[:] = [os.path.join(paths['ANNOTATION_PATH'], name + '_train.record')]\n",
    "pipeline_config.eval_input_reader[0].label_map_path = files['LABELMAP']\n",
    "pipeline_config.eval_input_reader[0].tf_record_input_reader.input_path[:] = [os.path.join(paths['ANNOTATION_PATH'], name + '_test.record')]"
   ]
  },
  {
   "cell_type": "code",
   "execution_count": 33,
   "id": "d8a2f13c-99bc-482b-9388-21365c031da1",
   "metadata": {},
   "outputs": [],
   "source": [
    "config_text = text_format.MessageToString(pipeline_config)                                                                                                                                                                                                        \n",
    "with tf.io.gfile.GFile(files['PIPELINE_CONFIG'], \"wb\") as f:                                                                                                                                                                                                                     \n",
    "    f.write(config_text)   "
   ]
  },
  {
   "cell_type": "markdown",
   "id": "fe0e3d37-74b7-4943-b385-c19d21e2b899",
   "metadata": {},
   "source": [
    "# Обучение модели"
   ]
  },
  {
   "cell_type": "code",
   "execution_count": 34,
   "id": "b5267d7b-d438-42e5-973d-857750bbceca",
   "metadata": {},
   "outputs": [],
   "source": [
    "TRAINING_SCRIPT = os.path.join(paths['APIMODEL_PATH'], 'research', 'object_detection', 'model_main_tf2.py')"
   ]
  },
  {
   "cell_type": "code",
   "execution_count": 35,
   "id": "9ae59a41-6333-4a39-b073-597499fcfe38",
   "metadata": {},
   "outputs": [],
   "source": [
    "command = \"python3 {} --model_dir={} --pipeline_config_path={} --num_train_steps=2000\".format(TRAINING_SCRIPT, paths['CHECKPOINT_PATH'],files['PIPELINE_CONFIG'])"
   ]
  },
  {
   "cell_type": "markdown",
   "id": "5464efef-76bb-4887-a71a-6297a21170e1",
   "metadata": {},
   "source": [
    "Запустить через терминал (внутри venv!)"
   ]
  },
  {
   "cell_type": "code",
   "execution_count": 36,
   "id": "e3cf27c1-4867-4caf-97e4-b44b95a6b093",
   "metadata": {},
   "outputs": [
    {
     "name": "stdout",
     "output_type": "stream",
     "text": [
      "python3 Tensorflow/models/research/object_detection/model_main_tf2.py --model_dir=Tensorflow/workspace/models/my_ssd_mobnet/karp_checkpoints --pipeline_config_path=Tensorflow/workspace/models/my_ssd_mobnet/karp_checkpoints/karp_pipeline.config --num_train_steps=2000\n"
     ]
    }
   ],
   "source": [
    "print(command)"
   ]
  },
  {
   "cell_type": "code",
   "execution_count": 37,
   "id": "4b4a5834-e3ad-4173-80bf-4f38a8de8b2c",
   "metadata": {
    "scrolled": true
   },
   "outputs": [
    {
     "ename": "DuplicateFlagError",
     "evalue": "The flag 'pipeline_config_path' is defined twice. First from Tensorflow/models/research/object_detection/model_main_tf2.py, Second from Tensorflow/models/research/object_detection/model_main_tf2.py.  Description from first occurrence: Path to pipeline config file.",
     "output_type": "error",
     "traceback": [
      "\u001b[0;31m---------------------------------------------------------------------------\u001b[0m",
      "\u001b[0;31mDuplicateFlagError\u001b[0m                        Traceback (most recent call last)",
      "File \u001b[0;32m~/Blood-object-detection/Tensorflow/models/research/object_detection/model_main_tf2.py:33\u001b[0m\n\u001b[1;32m     30\u001b[0m \u001b[38;5;28;01mimport\u001b[39;00m \u001b[38;5;21;01mtensorflow\u001b[39;00m\u001b[38;5;21;01m.\u001b[39;00m\u001b[38;5;21;01mcompat\u001b[39;00m\u001b[38;5;21;01m.\u001b[39;00m\u001b[38;5;21;01mv2\u001b[39;00m \u001b[38;5;28;01mas\u001b[39;00m \u001b[38;5;21;01mtf\u001b[39;00m\n\u001b[1;32m     31\u001b[0m \u001b[38;5;28;01mfrom\u001b[39;00m \u001b[38;5;21;01mobject_detection\u001b[39;00m \u001b[38;5;28;01mimport\u001b[39;00m model_lib_v2\n\u001b[0;32m---> 33\u001b[0m \u001b[43mflags\u001b[49m\u001b[38;5;241;43m.\u001b[39;49m\u001b[43mDEFINE_string\u001b[49m\u001b[43m(\u001b[49m\u001b[38;5;124;43m'\u001b[39;49m\u001b[38;5;124;43mpipeline_config_path\u001b[39;49m\u001b[38;5;124;43m'\u001b[39;49m\u001b[43m,\u001b[49m\u001b[43m \u001b[49m\u001b[38;5;28;43;01mNone\u001b[39;49;00m\u001b[43m,\u001b[49m\u001b[43m \u001b[49m\u001b[38;5;124;43m'\u001b[39;49m\u001b[38;5;124;43mPath to pipeline config \u001b[39;49m\u001b[38;5;124;43m'\u001b[39;49m\n\u001b[1;32m     34\u001b[0m \u001b[43m                    \u001b[49m\u001b[38;5;124;43m'\u001b[39;49m\u001b[38;5;124;43mfile.\u001b[39;49m\u001b[38;5;124;43m'\u001b[39;49m\u001b[43m)\u001b[49m\n\u001b[1;32m     35\u001b[0m flags\u001b[38;5;241m.\u001b[39mDEFINE_integer(\u001b[38;5;124m'\u001b[39m\u001b[38;5;124mnum_train_steps\u001b[39m\u001b[38;5;124m'\u001b[39m, \u001b[38;5;28;01mNone\u001b[39;00m, \u001b[38;5;124m'\u001b[39m\u001b[38;5;124mNumber of train steps.\u001b[39m\u001b[38;5;124m'\u001b[39m)\n\u001b[1;32m     36\u001b[0m flags\u001b[38;5;241m.\u001b[39mDEFINE_bool(\u001b[38;5;124m'\u001b[39m\u001b[38;5;124meval_on_train_data\u001b[39m\u001b[38;5;124m'\u001b[39m, \u001b[38;5;28;01mFalse\u001b[39;00m, \u001b[38;5;124m'\u001b[39m\u001b[38;5;124mEnable evaluating on train \u001b[39m\u001b[38;5;124m'\u001b[39m\n\u001b[1;32m     37\u001b[0m                   \u001b[38;5;124m'\u001b[39m\u001b[38;5;124mdata (only supported in distributed training).\u001b[39m\u001b[38;5;124m'\u001b[39m)\n",
      "File \u001b[0;32m~/Blood-object-detection/.obj_det/lib/python3.10/site-packages/absl/flags/_defines.py:301\u001b[0m, in \u001b[0;36mDEFINE_string\u001b[0;34m(name, default, help, flag_values, required, **args)\u001b[0m\n\u001b[1;32m    299\u001b[0m parser \u001b[38;5;241m=\u001b[39m _argument_parser\u001b[38;5;241m.\u001b[39mArgumentParser()\n\u001b[1;32m    300\u001b[0m serializer \u001b[38;5;241m=\u001b[39m _argument_parser\u001b[38;5;241m.\u001b[39mArgumentSerializer()\n\u001b[0;32m--> 301\u001b[0m \u001b[38;5;28;01mreturn\u001b[39;00m \u001b[43mDEFINE\u001b[49m\u001b[43m(\u001b[49m\n\u001b[1;32m    302\u001b[0m \u001b[43m    \u001b[49m\u001b[43mparser\u001b[49m\u001b[43m,\u001b[49m\n\u001b[1;32m    303\u001b[0m \u001b[43m    \u001b[49m\u001b[43mname\u001b[49m\u001b[43m,\u001b[49m\n\u001b[1;32m    304\u001b[0m \u001b[43m    \u001b[49m\u001b[43mdefault\u001b[49m\u001b[43m,\u001b[49m\n\u001b[1;32m    305\u001b[0m \u001b[43m    \u001b[49m\u001b[43mhelp\u001b[49m\u001b[43m,\u001b[49m\n\u001b[1;32m    306\u001b[0m \u001b[43m    \u001b[49m\u001b[43mflag_values\u001b[49m\u001b[43m,\u001b[49m\n\u001b[1;32m    307\u001b[0m \u001b[43m    \u001b[49m\u001b[43mserializer\u001b[49m\u001b[43m,\u001b[49m\n\u001b[1;32m    308\u001b[0m \u001b[43m    \u001b[49m\u001b[43mrequired\u001b[49m\u001b[38;5;241;43m=\u001b[39;49m\u001b[43mrequired\u001b[49m\u001b[43m,\u001b[49m\n\u001b[1;32m    309\u001b[0m \u001b[43m    \u001b[49m\u001b[38;5;241;43m*\u001b[39;49m\u001b[38;5;241;43m*\u001b[39;49m\u001b[43margs\u001b[49m\u001b[43m)\u001b[49m\n",
      "File \u001b[0;32m~/Blood-object-detection/.obj_det/lib/python3.10/site-packages/absl/flags/_defines.py:100\u001b[0m, in \u001b[0;36mDEFINE\u001b[0;34m(parser, name, default, help, flag_values, serializer, module_name, required, **args)\u001b[0m\n\u001b[1;32m     65\u001b[0m \u001b[38;5;28;01mdef\u001b[39;00m \u001b[38;5;21mDEFINE\u001b[39m(  \u001b[38;5;66;03m# pylint: disable=invalid-name\u001b[39;00m\n\u001b[1;32m     66\u001b[0m     parser,\n\u001b[1;32m     67\u001b[0m     name,\n\u001b[0;32m   (...)\u001b[0m\n\u001b[1;32m     73\u001b[0m     required\u001b[38;5;241m=\u001b[39m\u001b[38;5;28;01mFalse\u001b[39;00m,\n\u001b[1;32m     74\u001b[0m     \u001b[38;5;241m*\u001b[39m\u001b[38;5;241m*\u001b[39margs):\n\u001b[1;32m     75\u001b[0m \u001b[38;5;250m  \u001b[39m\u001b[38;5;124;03m\"\"\"Registers a generic Flag object.\u001b[39;00m\n\u001b[1;32m     76\u001b[0m \n\u001b[1;32m     77\u001b[0m \u001b[38;5;124;03m  NOTE: in the docstrings of all DEFINE* functions, \"registers\" is short\u001b[39;00m\n\u001b[0;32m   (...)\u001b[0m\n\u001b[1;32m     98\u001b[0m \u001b[38;5;124;03m    a handle to defined flag.\u001b[39;00m\n\u001b[1;32m     99\u001b[0m \u001b[38;5;124;03m  \"\"\"\u001b[39;00m\n\u001b[0;32m--> 100\u001b[0m   \u001b[38;5;28;01mreturn\u001b[39;00m \u001b[43mDEFINE_flag\u001b[49m\u001b[43m(\u001b[49m\n\u001b[1;32m    101\u001b[0m \u001b[43m      \u001b[49m\u001b[43m_flag\u001b[49m\u001b[38;5;241;43m.\u001b[39;49m\u001b[43mFlag\u001b[49m\u001b[43m(\u001b[49m\u001b[43mparser\u001b[49m\u001b[43m,\u001b[49m\u001b[43m \u001b[49m\u001b[43mserializer\u001b[49m\u001b[43m,\u001b[49m\u001b[43m \u001b[49m\u001b[43mname\u001b[49m\u001b[43m,\u001b[49m\u001b[43m \u001b[49m\u001b[43mdefault\u001b[49m\u001b[43m,\u001b[49m\u001b[43m \u001b[49m\u001b[43mhelp\u001b[49m\u001b[43m,\u001b[49m\u001b[43m \u001b[49m\u001b[38;5;241;43m*\u001b[39;49m\u001b[38;5;241;43m*\u001b[39;49m\u001b[43margs\u001b[49m\u001b[43m)\u001b[49m\u001b[43m,\u001b[49m\u001b[43m \u001b[49m\u001b[43mflag_values\u001b[49m\u001b[43m,\u001b[49m\n\u001b[1;32m    102\u001b[0m \u001b[43m      \u001b[49m\u001b[43mmodule_name\u001b[49m\u001b[43m,\u001b[49m\u001b[43m \u001b[49m\u001b[43mrequired\u001b[49m\u001b[43m)\u001b[49m\n",
      "File \u001b[0;32m~/Blood-object-detection/.obj_det/lib/python3.10/site-packages/absl/flags/_defines.py:136\u001b[0m, in \u001b[0;36mDEFINE_flag\u001b[0;34m(flag, flag_values, module_name, required)\u001b[0m\n\u001b[1;32m    134\u001b[0m \u001b[38;5;66;03m# Copying the reference to flag_values prevents pychecker warnings.\u001b[39;00m\n\u001b[1;32m    135\u001b[0m fv \u001b[38;5;241m=\u001b[39m flag_values\n\u001b[0;32m--> 136\u001b[0m \u001b[43mfv\u001b[49m\u001b[43m[\u001b[49m\u001b[43mflag\u001b[49m\u001b[38;5;241;43m.\u001b[39;49m\u001b[43mname\u001b[49m\u001b[43m]\u001b[49m \u001b[38;5;241m=\u001b[39m flag\n\u001b[1;32m    137\u001b[0m \u001b[38;5;66;03m# Tell flag_values who's defining the flag.\u001b[39;00m\n\u001b[1;32m    138\u001b[0m \u001b[38;5;28;01mif\u001b[39;00m module_name:\n",
      "File \u001b[0;32m~/Blood-object-detection/.obj_det/lib/python3.10/site-packages/absl/flags/_flagvalues.py:432\u001b[0m, in \u001b[0;36mFlagValues.__setitem__\u001b[0;34m(self, name, flag)\u001b[0m\n\u001b[1;32m    426\u001b[0m   \u001b[38;5;28;01mif\u001b[39;00m (\u001b[38;5;28mself\u001b[39m\u001b[38;5;241m.\u001b[39mfind_module_defining_flag(name) \u001b[38;5;241m==\u001b[39m module_name \u001b[38;5;129;01mand\u001b[39;00m\n\u001b[1;32m    427\u001b[0m       \u001b[38;5;28mid\u001b[39m(module) \u001b[38;5;241m!=\u001b[39m \u001b[38;5;28mself\u001b[39m\u001b[38;5;241m.\u001b[39mfind_module_id_defining_flag(name)):\n\u001b[1;32m    428\u001b[0m     \u001b[38;5;66;03m# If the flag has already been defined by a module with the same name,\u001b[39;00m\n\u001b[1;32m    429\u001b[0m     \u001b[38;5;66;03m# but a different ID, we can stop here because it indicates that the\u001b[39;00m\n\u001b[1;32m    430\u001b[0m     \u001b[38;5;66;03m# module is simply being imported a subsequent time.\u001b[39;00m\n\u001b[1;32m    431\u001b[0m     \u001b[38;5;28;01mreturn\u001b[39;00m\n\u001b[0;32m--> 432\u001b[0m   \u001b[38;5;28;01mraise\u001b[39;00m _exceptions\u001b[38;5;241m.\u001b[39mDuplicateFlagError\u001b[38;5;241m.\u001b[39mfrom_flag(name, \u001b[38;5;28mself\u001b[39m)\n\u001b[1;32m    433\u001b[0m short_name \u001b[38;5;241m=\u001b[39m flag\u001b[38;5;241m.\u001b[39mshort_name\n\u001b[1;32m    434\u001b[0m \u001b[38;5;66;03m# If a new flag overrides an old one, we need to cleanup the old flag's\u001b[39;00m\n\u001b[1;32m    435\u001b[0m \u001b[38;5;66;03m# modules if it's not registered.\u001b[39;00m\n",
      "\u001b[0;31mDuplicateFlagError\u001b[0m: The flag 'pipeline_config_path' is defined twice. First from Tensorflow/models/research/object_detection/model_main_tf2.py, Second from Tensorflow/models/research/object_detection/model_main_tf2.py.  Description from first occurrence: Path to pipeline config file."
     ]
    }
   ],
   "source": [
    "%run Tensorflow/models/research/object_detection/model_main_tf2.py --model_dir=Tensorflow/workspace/models/my_ssd_mobnet --pipeline_config_path=Tensorflow/workspace/models/my_ssd_mobnet/pipeline.config --num_train_steps=2000"
   ]
  },
  {
   "cell_type": "markdown",
   "id": "ac60e5b7-0ceb-4b47-b40d-aee12eed42e6",
   "metadata": {},
   "source": [
    "Нужно опять поменять код внутри библиотеки\n",
    "https://github.com/tensorflow/models/issues/11099"
   ]
  },
  {
   "cell_type": "raw",
   "id": "fde56c8c-c1df-4af5-9996-3a1766a30226",
   "metadata": {},
   "source": [
    "import shutil\n",
    "import re\n",
    "\n",
    "original_path = 'obj_det/lib/python3.10/site-packages/tf_slim/data/tfexample_decoder.py'\n",
    "with open(original_path, 'r') as file:\n",
    "content = file.read()\n",
    "content = re.sub(r'import abc', 'import tensorflow as tf\\n\\nimport abc', content)\n",
    "content = re.sub(r'control_flow_ops.case', 'tf.case', content)\n",
    "content = re.sub(r'control_flow_ops.cond', 'tf.compat.v1.cond', content)\n",
    "with open(original_path, 'w') as file:\n",
    "file.write(content)\n",
    "\n",
    "print(f\"File {original_path} fixed.\")"
   ]
  },
  {
   "cell_type": "markdown",
   "id": "bf190878-9370-4ad3-b5d6-0f7b28765521",
   "metadata": {},
   "source": [
    "Внизу команда для терминала, которая позволяет посмотреть показатели обучения"
   ]
  },
  {
   "cell_type": "raw",
   "id": "27422d1e-2b60-4144-8b4a-ff28d1bfa7a6",
   "metadata": {},
   "source": [
    "tensorboard  --logdir=Tensorflow/workspace/models/my_ssd_mobnet/train/"
   ]
  },
  {
   "cell_type": "markdown",
   "id": "9ec743c3-74a9-493e-b9dd-023ebb289596",
   "metadata": {},
   "source": [
    "# Оценивание модели"
   ]
  },
  {
   "cell_type": "code",
   "execution_count": 15,
   "id": "bf8335f9-ab4f-4c14-b04b-11f9d5136abc",
   "metadata": {},
   "outputs": [],
   "source": [
    "command = \"python3 {} --model_dir={} --pipeline_config_path={} --checkpoint_dir={}\".format(TRAINING_SCRIPT, paths['CHECKPOINT_PATH'],files['PIPELINE_CONFIG'], paths['CHECKPOINT_PATH'])"
   ]
  },
  {
   "cell_type": "markdown",
   "id": "7b0e566e-f317-4c8b-91cc-3c3bed4942ae",
   "metadata": {},
   "source": [
    "Запустить через терминал (внутри venv!)"
   ]
  },
  {
   "cell_type": "code",
   "execution_count": 16,
   "id": "3e7ae975-6e39-4ae0-863e-1afff4661e09",
   "metadata": {},
   "outputs": [
    {
     "name": "stdout",
     "output_type": "stream",
     "text": [
      "python3 Tensorflow/models/research/object_detection/model_main_tf2.py --model_dir=Tensorflow/workspace/models/my_ssd_mobnet --pipeline_config_path=Tensorflow/workspace/models/my_ssd_mobnet/pipeline.config --checkpoint_dir=Tensorflow/workspace/models/my_ssd_mobnet\n"
     ]
    }
   ],
   "source": [
    "print(command)"
   ]
  },
  {
   "cell_type": "raw",
   "id": "2fc72308-822f-43d3-be4f-5d0571b33cb4",
   "metadata": {},
   "source": [
    "tensorboard --logdir=Tensorflow/workspace/models/my_ssd_mobnet/eval/"
   ]
  }
 ],
 "metadata": {
  "kernelspec": {
   "display_name": "obj_det",
   "language": "python",
   "name": "obj_det"
  },
  "language_info": {
   "codemirror_mode": {
    "name": "ipython",
    "version": 3
   },
   "file_extension": ".py",
   "mimetype": "text/x-python",
   "name": "python",
   "nbconvert_exporter": "python",
   "pygments_lexer": "ipython3",
   "version": "3.10.12"
  }
 },
 "nbformat": 4,
 "nbformat_minor": 5
}
