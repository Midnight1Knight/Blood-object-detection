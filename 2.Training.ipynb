{
 "cells": [
  {
   "cell_type": "code",
   "execution_count": 1,
   "id": "0969bf9a",
   "metadata": {
    "scrolled": true
   },
   "outputs": [],
   "source": [
    "import numpy as np\n",
    "import pandas as pd\n",
    "import tensorflow as tf\n",
    "from object_detection.utils import config_util\n",
    "from google.protobuf import text_format\n",
    "from object_detection.protos import pipeline_pb2\n",
    "# from google.protobuf import text_format\n",
    "# from keras.models import Sequential\n",
    "# from keras.layers import Dense, Dropout, Activation, Flatten, Conv2D, MaxPooling2D, Lambda, MaxPool2D, BatchNormalization\n",
    "# from keras.utils import to_categorical\n",
    "# from keras.preprocessing.image import ImageDataGenerator\n",
    "# from keras.optimizers import RMSprop\n",
    "# from sklearn.preprocessing import LabelEncoder\n",
    "# from sklearn.model_selection import train_test_split\n",
    "# from sklearn.metrics import confusion_matrix\n",
    "# from sklearn.metrics import accuracy_score\n",
    "# import xml.etree.ElementTree as ET\n",
    "# import sklearn\n",
    "# import itertools\n",
    "# import cv2\n",
    "# import scipy\n",
    "import os\n",
    "import csv\n",
    "# import matplotlib.pyplot as plt\n",
    "# %matplotlib inline"
   ]
  },
  {
   "cell_type": "markdown",
   "id": "2fa5e53c-2553-44c4-a8f5-5035062157ac",
   "metadata": {},
   "source": [
    "# Устанавливаем папки"
   ]
  },
  {
   "cell_type": "code",
   "execution_count": 2,
   "id": "765acce4-13c2-4c4e-a40e-74b5fea7e0a1",
   "metadata": {},
   "outputs": [
    {
     "name": "stdin",
     "output_type": "stream",
     "text": [
      "Напишите с какой рыбой работаем: карп\n"
     ]
    }
   ],
   "source": [
    "fish_name = input(\"Напишите с какой рыбой работаем:\")\n",
    "if fish_name.lower() == 'карп':\n",
    "    LABEL_MAP_NAME = 'label_map_karp.pbtxt'\n",
    "    name = 'karp'\n",
    "elif fish_name.lower() == 'осетр':\n",
    "    LABEL_MAP_NAME = 'label_map_osetr.pbtxt'\n",
    "    name = 'osetr'\n",
    "else:\n",
    "    print('Пока нет фотографий для такой рыбы')"
   ]
  },
  {
   "cell_type": "code",
   "execution_count": 3,
   "id": "428c52f6-1955-493f-8cc3-7fac4706dfd5",
   "metadata": {},
   "outputs": [],
   "source": [
    "CUSTOM_MODEL_NAME = 'my_ssd_mobnet' \n",
    "PRETRAINED_MODEL_NAME = 'ssd_mobilenet_v2_fpnlite_320x320_coco17_tpu-8'\n",
    "PRETRAINED_MODEL_URL = 'http://download.tensorflow.org/models/object_detection/tf2/20200711/ssd_mobilenet_v2_fpnlite_320x320_coco17_tpu-8.tar.gz'\n",
    "TF_RECORD_SCRIPT_NAME = 'generate_tfrecord.py'"
   ]
  },
  {
   "cell_type": "code",
   "execution_count": 4,
   "id": "af27974f-5251-4001-b8c4-2eac94683fb0",
   "metadata": {},
   "outputs": [],
   "source": [
    "paths = {\n",
    "    'WORKSPACE_PATH': os.path.join('Tensorflow', 'workspace'),\n",
    "    'SCRIPTS_PATH': os.path.join('Tensorflow','scripts'),\n",
    "    'APIMODEL_PATH': os.path.join('Tensorflow','models'),\n",
    "    'ANNOTATION_PATH': os.path.join('Tensorflow', 'workspace','annotations'),\n",
    "    'IMAGE_PATH': os.path.join('Tensorflow', 'workspace','data'),\n",
    "    'MODEL_PATH': os.path.join('Tensorflow', 'workspace','models'),\n",
    "    'PRETRAINED_MODEL_PATH': os.path.join('Tensorflow', 'workspace','pre-trained-models'),\n",
    "    'CHECKPOINT_PATH': os.path.join('Tensorflow', 'workspace','models',CUSTOM_MODEL_NAME, name + '_checkpoints'), \n",
    "    'OUTPUT_PATH': os.path.join('Tensorflow', 'workspace','models',CUSTOM_MODEL_NAME, 'export'), \n",
    "    'TFJS_PATH':os.path.join('Tensorflow', 'workspace','models',CUSTOM_MODEL_NAME, 'tfjsexport'), \n",
    "    'TFLITE_PATH':os.path.join('Tensorflow', 'workspace','models',CUSTOM_MODEL_NAME, 'tfliteexport'), \n",
    "    'PROTOC_PATH':os.path.join('Tensorflow','protoc')\n",
    " }"
   ]
  },
  {
   "cell_type": "code",
   "execution_count": 5,
   "id": "507a13fa-11b9-4cb9-9844-40b15259ff5f",
   "metadata": {},
   "outputs": [],
   "source": [
    "files = {\n",
    "    'PIPELINE_CONFIG':os.path.join(paths['CHECKPOINT_PATH'], name + '_pipeline.config'),\n",
    "    'TF_RECORD_SCRIPT': os.path.join(paths['SCRIPTS_PATH'], TF_RECORD_SCRIPT_NAME), \n",
    "    'LABELMAP': os.path.join(paths['ANNOTATION_PATH'], LABEL_MAP_NAME)\n",
    "}"
   ]
  },
  {
   "cell_type": "code",
   "execution_count": 6,
   "id": "f526ace8-0afb-4a51-a080-730c653c25af",
   "metadata": {},
   "outputs": [],
   "source": [
    "for path in paths.values():\n",
    "    if not os.path.exists(path):\n",
    "        if os.name == 'posix':\n",
    "            !mkdir -p {path}\n",
    "        if os.name == 'nt':\n",
    "            !mkdir {path}"
   ]
  },
  {
   "cell_type": "code",
   "execution_count": 7,
   "id": "7bccf142-7a5d-44e4-969b-bf5c0233857a",
   "metadata": {},
   "outputs": [],
   "source": [
    "if not os.path.exists(os.path.join(paths['APIMODEL_PATH'], 'research', 'object_detection')):\n",
    "    !git clone https://github.com/tensorflow/models {paths['APIMODEL_PATH']}"
   ]
  },
  {
   "cell_type": "markdown",
   "id": "c1995c27-6c8e-466d-968f-629ed8fd6d9a",
   "metadata": {},
   "source": [
    "Лучше запускать через терминал (нужно активировать venv)"
   ]
  },
  {
   "cell_type": "code",
   "execution_count": 8,
   "id": "d78d6078-79e1-45e0-ad87-cb07dcecc5b5",
   "metadata": {
    "scrolled": true
   },
   "outputs": [],
   "source": [
    "# # Install Tensorflow Object Detection \n",
    "# if os.name=='posix':  \n",
    "#     # !sudo apt-get install protobuf-compiler\n",
    "#     # !cd Tensorflow/models/research && protoc object_detection/protos/*.proto --python_out=. && cp object_detection/packages/tf2/setup.py . && python3 -m pip install . \n",
    "#     ...\n",
    "# if os.name=='nt':\n",
    "#     url=\"https://github.com/protocolbuffers/protobuf/releases/download/v3.15.6/protoc-3.15.6-win64.zip\"\n",
    "#     wget.download(url)\n",
    "#     !move protoc-3.15.6-win64.zip {paths['PROTOC_PATH']}\n",
    "#     !cd {paths['PROTOC_PATH']} && tar -xf protoc-3.15.6-win64.zip\n",
    "#     os.environ['PATH'] += os.pathsep + os.path.abspath(os.path.join(paths['PROTOC_PATH'], 'bin'))   \n",
    "#     !cd Tensorflow/models/research && protoc object_detection/protos/*.proto --python_out=. && copy object_detection\\\\packages\\\\tf2\\\\setup.py setup.py && python setup.py build && python setup.py install\n",
    "#     !cd Tensorflow/models/research/slim && pip install -e . "
   ]
  },
  {
   "cell_type": "markdown",
   "id": "387a1f99-2707-4ec4-925a-e53f9f22107a",
   "metadata": {},
   "source": [
    "## Проверяем все ли библиотеки скачались"
   ]
  },
  {
   "cell_type": "code",
   "execution_count": 1,
   "id": "42c6b442-d7de-4d86-8c31-0ea6e8fdfd5f",
   "metadata": {
    "scrolled": true
   },
   "outputs": [
    {
     "ename": "NameError",
     "evalue": "name 'os' is not defined",
     "output_type": "error",
     "traceback": [
      "\u001b[0;31m---------------------------------------------------------------------------\u001b[0m",
      "\u001b[0;31mNameError\u001b[0m                                 Traceback (most recent call last)",
      "Cell \u001b[0;32mIn[1], line 1\u001b[0m\n\u001b[0;32m----> 1\u001b[0m VERIFICATION_SCRIPT \u001b[38;5;241m=\u001b[39m \u001b[43mos\u001b[49m\u001b[38;5;241m.\u001b[39mpath\u001b[38;5;241m.\u001b[39mjoin(paths[\u001b[38;5;124m'\u001b[39m\u001b[38;5;124mAPIMODEL_PATH\u001b[39m\u001b[38;5;124m'\u001b[39m], \u001b[38;5;124m'\u001b[39m\u001b[38;5;124mresearch\u001b[39m\u001b[38;5;124m'\u001b[39m, \u001b[38;5;124m'\u001b[39m\u001b[38;5;124mobject_detection\u001b[39m\u001b[38;5;124m'\u001b[39m, \u001b[38;5;124m'\u001b[39m\u001b[38;5;124mbuilders\u001b[39m\u001b[38;5;124m'\u001b[39m, \u001b[38;5;124m'\u001b[39m\u001b[38;5;124mmodel_builder_tf2_test.py\u001b[39m\u001b[38;5;124m'\u001b[39m)\n\u001b[1;32m      2\u001b[0m \u001b[38;5;66;03m# Verify Installation\u001b[39;00m\n\u001b[1;32m      3\u001b[0m get_ipython()\u001b[38;5;241m.\u001b[39mrun_line_magic(\u001b[38;5;124m'\u001b[39m\u001b[38;5;124mrun\u001b[39m\u001b[38;5;124m'\u001b[39m, \u001b[38;5;124m'\u001b[39m\u001b[38;5;132;01m{VERIFICATION_SCRIPT}\u001b[39;00m\u001b[38;5;124m'\u001b[39m)\n",
      "\u001b[0;31mNameError\u001b[0m: name 'os' is not defined"
     ]
    }
   ],
   "source": [
    "VERIFICATION_SCRIPT = os.path.join(paths['APIMODEL_PATH'], 'research', 'object_detection', 'builders', 'model_builder_tf2_test.py')\n",
    "# Verify Installation\n",
    "%run {VERIFICATION_SCRIPT}"
   ]
  },
  {
   "cell_type": "markdown",
   "id": "28859782-9bfa-48eb-afc8-f0f7673b0232",
   "metadata": {},
   "source": [
    "# Подгружаем модель"
   ]
  },
  {
   "cell_type": "code",
   "execution_count": 10,
   "id": "db2b6a04-e033-4e2d-82f3-a53f96e52b93",
   "metadata": {},
   "outputs": [
    {
     "name": "stdout",
     "output_type": "stream",
     "text": [
      "--2024-06-13 17:09:27--  http://download.tensorflow.org/models/object_detection/tf2/20200711/ssd_mobilenet_v2_fpnlite_320x320_coco17_tpu-8.tar.gz\n",
      "Resolving download.tensorflow.org (download.tensorflow.org)... 216.58.207.251, 216.58.211.27, 142.250.74.59, ...\n",
      "Connecting to download.tensorflow.org (download.tensorflow.org)|216.58.207.251|:80... connected.\n",
      "HTTP request sent, awaiting response... 200 OK\n",
      "Length: 20515344 (20M) [application/x-tar]\n",
      "Saving to: ‘ssd_mobilenet_v2_fpnlite_320x320_coco17_tpu-8.tar.gz’\n",
      "\n",
      "ssd_mobilenet_v2_fp 100%[===================>]  19.56M  6.82MB/s    in 2.9s    \n",
      "\n",
      "2024-06-13 17:09:31 (6.82 MB/s) - ‘ssd_mobilenet_v2_fpnlite_320x320_coco17_tpu-8.tar.gz’ saved [20515344/20515344]\n",
      "\n",
      "ssd_mobilenet_v2_fpnlite_320x320_coco17_tpu-8/\n",
      "ssd_mobilenet_v2_fpnlite_320x320_coco17_tpu-8/checkpoint/\n",
      "ssd_mobilenet_v2_fpnlite_320x320_coco17_tpu-8/checkpoint/ckpt-0.data-00000-of-00001\n",
      "ssd_mobilenet_v2_fpnlite_320x320_coco17_tpu-8/checkpoint/checkpoint\n",
      "ssd_mobilenet_v2_fpnlite_320x320_coco17_tpu-8/checkpoint/ckpt-0.index\n",
      "ssd_mobilenet_v2_fpnlite_320x320_coco17_tpu-8/pipeline.config\n",
      "ssd_mobilenet_v2_fpnlite_320x320_coco17_tpu-8/saved_model/\n",
      "ssd_mobilenet_v2_fpnlite_320x320_coco17_tpu-8/saved_model/saved_model.pb\n",
      "ssd_mobilenet_v2_fpnlite_320x320_coco17_tpu-8/saved_model/variables/\n",
      "ssd_mobilenet_v2_fpnlite_320x320_coco17_tpu-8/saved_model/variables/variables.data-00000-of-00001\n",
      "ssd_mobilenet_v2_fpnlite_320x320_coco17_tpu-8/saved_model/variables/variables.index\n"
     ]
    }
   ],
   "source": [
    "if os.name =='posix':\n",
    "    !wget {PRETRAINED_MODEL_URL}\n",
    "    !mv {PRETRAINED_MODEL_NAME+'.tar.gz'} {paths['PRETRAINED_MODEL_PATH']}\n",
    "    !cd {paths['PRETRAINED_MODEL_PATH']} && tar -zxvf {PRETRAINED_MODEL_NAME+'.tar.gz'}\n",
    "if os.name == 'nt':\n",
    "    wget.download(PRETRAINED_MODEL_URL)\n",
    "    !move {PRETRAINED_MODEL_NAME+'.tar.gz'} {paths['PRETRAINED_MODEL_PATH']}\n",
    "    !cd {paths['PRETRAINED_MODEL_PATH']} && tar -zxvf {PRETRAINED_MODEL_NAME+'.tar.gz'}"
   ]
  },
  {
   "cell_type": "markdown",
   "id": "3424b8ae-52f9-4b64-b1d5-3a0ea6192454",
   "metadata": {},
   "source": [
    "Копируем конфиг в тренировочную папку"
   ]
  },
  {
   "cell_type": "code",
   "execution_count": 11,
   "id": "08010b7b-26f9-4715-9bcc-8f7764cbdba9",
   "metadata": {},
   "outputs": [],
   "source": [
    "if os.name =='posix':\n",
    "    !cp {os.path.join(paths['PRETRAINED_MODEL_PATH'], PRETRAINED_MODEL_NAME, 'pipeline.config')} {os.path.join(paths['CHECKPOINT_PATH'], name + '_pipeline.config')}\n",
    "if os.name == 'nt':\n",
    "    !copy {os.path.join(paths['PRETRAINED_MODEL_PATH'], PRETRAINED_MODEL_NAME, 'pipeline.config')} {os.path.join(paths['CHECKPOINT_PATH'])}"
   ]
  },
  {
   "cell_type": "markdown",
   "id": "24ec5777-eb9a-4108-8ca2-4894f4e22b09",
   "metadata": {},
   "source": [
    "# Обновляем конфиг под наши данные"
   ]
  },
  {
   "cell_type": "code",
   "execution_count": 16,
   "id": "3ba6a69f-d0a7-4082-9796-1aafd2b43bc0",
   "metadata": {},
   "outputs": [],
   "source": [
    "def update_pipeline_config(config_path, label_map_path, train_record_path, test_record_path, checkpoint_path):\n",
    "    pipeline_config = pipeline_pb2.TrainEvalPipelineConfig()\n",
    "\n",
    "    # Read the existing pipeline config\n",
    "    with open(config_path, 'r') as f:\n",
    "        proto_str = f.read()\n",
    "        proto_str = proto_str.replace(\"fine_tune_checkpoint_version: V2\", \"\")\n",
    "        text_format.Merge(proto_str, pipeline_config)\n",
    "\n",
    "\n",
    "    # Update the paths\n",
    "    pipeline_config.model.ssd.num_classes = label_count\n",
    "    pipeline_config.train_config.batch_size = 4\n",
    "    pipeline_config.train_config.fine_tune_checkpoint = os.path.join(paths['PRETRAINED_MODEL_PATH'], PRETRAINED_MODEL_NAME, 'checkpoint', 'ckpt-0')\n",
    "    pipeline_config.train_config.fine_tune_checkpoint_type = \"detection\"\n",
    "    pipeline_config.train_input_reader.label_map_path= files['LABELMAP']\n",
    "    pipeline_config.train_input_reader.tf_record_input_reader.input_path[:] = [os.path.join(paths['ANNOTATION_PATH'], name + '_train.record')]\n",
    "    pipeline_config.eval_input_reader[0].label_map_path = files['LABELMAP']\n",
    "    pipeline_config.eval_input_reader[0].tf_record_input_reader.input_path[:] = [os.path.join(paths['ANNOTATION_PATH'], name + '_test.record')]\n",
    "\n",
    "    # Write the updated pipeline config back to the file\n",
    "    with open(config_path, 'w') as f:\n",
    "        f.write(text_format.MessageToString(pipeline_config))"
   ]
  },
  {
   "cell_type": "code",
   "execution_count": 18,
   "id": "3ee5fb67-c68a-4460-83c0-86fbec92e91e",
   "metadata": {},
   "outputs": [],
   "source": [
    "with open(files['LABELMAP']) as f:\n",
    "    lines = f.readlines()\n",
    "label_count = lines.count('}\\n')"
   ]
  },
  {
   "cell_type": "code",
   "execution_count": 19,
   "id": "4113c5bf-5dbd-4b2f-ad5a-c5682869c210",
   "metadata": {},
   "outputs": [],
   "source": [
    "update_pipeline_config(\n",
    "    config_path=files['PIPELINE_CONFIG'],\n",
    "    label_map_path=files['LABELMAP'],\n",
    "    train_record_path=os.path.join(paths['ANNOTATION_PATH'], name + '_train.record'),\n",
    "    test_record_path=os.path.join(paths['ANNOTATION_PATH'], name + '_test.record'),\n",
    "    checkpoint_path=paths['CHECKPOINT_PATH']\n",
    ")"
   ]
  },
  {
   "cell_type": "code",
   "execution_count": 14,
   "id": "094a217e-ce2e-4f56-b570-4d4b35329d1a",
   "metadata": {
    "scrolled": true
   },
   "outputs": [
    {
     "ename": "ParseError",
     "evalue": "172:3 : Message type \"object_detection.protos.TrainConfig\" has no field named \"fine_tune_checkpoint_version\".",
     "output_type": "error",
     "traceback": [
      "\u001b[0;31m---------------------------------------------------------------------------\u001b[0m",
      "\u001b[0;31mParseError\u001b[0m                                Traceback (most recent call last)",
      "Cell \u001b[0;32mIn[14], line 4\u001b[0m\n\u001b[1;32m      2\u001b[0m \u001b[38;5;28;01mwith\u001b[39;00m tf\u001b[38;5;241m.\u001b[39mio\u001b[38;5;241m.\u001b[39mgfile\u001b[38;5;241m.\u001b[39mGFile(files[\u001b[38;5;124m'\u001b[39m\u001b[38;5;124mPIPELINE_CONFIG\u001b[39m\u001b[38;5;124m'\u001b[39m], \u001b[38;5;124m\"\u001b[39m\u001b[38;5;124mr\u001b[39m\u001b[38;5;124m\"\u001b[39m) \u001b[38;5;28;01mas\u001b[39;00m f:                                                                                                                                                                                                                     \n\u001b[1;32m      3\u001b[0m     proto_str \u001b[38;5;241m=\u001b[39m f\u001b[38;5;241m.\u001b[39mread()                                                                                                                                                                                                                                          \n\u001b[0;32m----> 4\u001b[0m     \u001b[43mtext_format\u001b[49m\u001b[38;5;241;43m.\u001b[39;49m\u001b[43mMerge\u001b[49m\u001b[43m(\u001b[49m\u001b[43mproto_str\u001b[49m\u001b[43m,\u001b[49m\u001b[43m \u001b[49m\u001b[43mpipeline_config\u001b[49m\u001b[43m)\u001b[49m  \n",
      "File \u001b[0;32m~/Blood-object-detection/test1/lib/python3.10/site-packages/google/protobuf/text_format.py:719\u001b[0m, in \u001b[0;36mMerge\u001b[0;34m(text, message, allow_unknown_extension, allow_field_number, descriptor_pool, allow_unknown_field)\u001b[0m\n\u001b[1;32m    690\u001b[0m \u001b[38;5;28;01mdef\u001b[39;00m \u001b[38;5;21mMerge\u001b[39m(text,\n\u001b[1;32m    691\u001b[0m           message,\n\u001b[1;32m    692\u001b[0m           allow_unknown_extension\u001b[38;5;241m=\u001b[39m\u001b[38;5;28;01mFalse\u001b[39;00m,\n\u001b[1;32m    693\u001b[0m           allow_field_number\u001b[38;5;241m=\u001b[39m\u001b[38;5;28;01mFalse\u001b[39;00m,\n\u001b[1;32m    694\u001b[0m           descriptor_pool\u001b[38;5;241m=\u001b[39m\u001b[38;5;28;01mNone\u001b[39;00m,\n\u001b[1;32m    695\u001b[0m           allow_unknown_field\u001b[38;5;241m=\u001b[39m\u001b[38;5;28;01mFalse\u001b[39;00m):\n\u001b[1;32m    696\u001b[0m \u001b[38;5;250m  \u001b[39m\u001b[38;5;124;03m\"\"\"Parses a text representation of a protocol message into a message.\u001b[39;00m\n\u001b[1;32m    697\u001b[0m \n\u001b[1;32m    698\u001b[0m \u001b[38;5;124;03m  Like Parse(), but allows repeated values for a non-repeated field, and uses\u001b[39;00m\n\u001b[0;32m   (...)\u001b[0m\n\u001b[1;32m    717\u001b[0m \u001b[38;5;124;03m    ParseError: On text parsing problems.\u001b[39;00m\n\u001b[1;32m    718\u001b[0m \u001b[38;5;124;03m  \"\"\"\u001b[39;00m\n\u001b[0;32m--> 719\u001b[0m   \u001b[38;5;28;01mreturn\u001b[39;00m \u001b[43mMergeLines\u001b[49m\u001b[43m(\u001b[49m\n\u001b[1;32m    720\u001b[0m \u001b[43m      \u001b[49m\u001b[43mtext\u001b[49m\u001b[38;5;241;43m.\u001b[39;49m\u001b[43msplit\u001b[49m\u001b[43m(\u001b[49m\u001b[38;5;124;43mb\u001b[39;49m\u001b[38;5;124;43m'\u001b[39;49m\u001b[38;5;130;43;01m\\n\u001b[39;49;00m\u001b[38;5;124;43m'\u001b[39;49m\u001b[43m \u001b[49m\u001b[38;5;28;43;01mif\u001b[39;49;00m\u001b[43m \u001b[49m\u001b[38;5;28;43misinstance\u001b[39;49m\u001b[43m(\u001b[49m\u001b[43mtext\u001b[49m\u001b[43m,\u001b[49m\u001b[43m \u001b[49m\u001b[38;5;28;43mbytes\u001b[39;49m\u001b[43m)\u001b[49m\u001b[43m \u001b[49m\u001b[38;5;28;43;01melse\u001b[39;49;00m\u001b[43m \u001b[49m\u001b[38;5;124;43mu\u001b[39;49m\u001b[38;5;124;43m'\u001b[39;49m\u001b[38;5;130;43;01m\\n\u001b[39;49;00m\u001b[38;5;124;43m'\u001b[39;49m\u001b[43m)\u001b[49m\u001b[43m,\u001b[49m\n\u001b[1;32m    721\u001b[0m \u001b[43m      \u001b[49m\u001b[43mmessage\u001b[49m\u001b[43m,\u001b[49m\n\u001b[1;32m    722\u001b[0m \u001b[43m      \u001b[49m\u001b[43mallow_unknown_extension\u001b[49m\u001b[43m,\u001b[49m\n\u001b[1;32m    723\u001b[0m \u001b[43m      \u001b[49m\u001b[43mallow_field_number\u001b[49m\u001b[43m,\u001b[49m\n\u001b[1;32m    724\u001b[0m \u001b[43m      \u001b[49m\u001b[43mdescriptor_pool\u001b[49m\u001b[38;5;241;43m=\u001b[39;49m\u001b[43mdescriptor_pool\u001b[49m\u001b[43m,\u001b[49m\n\u001b[1;32m    725\u001b[0m \u001b[43m      \u001b[49m\u001b[43mallow_unknown_field\u001b[49m\u001b[38;5;241;43m=\u001b[39;49m\u001b[43mallow_unknown_field\u001b[49m\u001b[43m)\u001b[49m\n",
      "File \u001b[0;32m~/Blood-object-detection/test1/lib/python3.10/site-packages/google/protobuf/text_format.py:793\u001b[0m, in \u001b[0;36mMergeLines\u001b[0;34m(lines, message, allow_unknown_extension, allow_field_number, descriptor_pool, allow_unknown_field)\u001b[0m\n\u001b[1;32m    768\u001b[0m \u001b[38;5;250m\u001b[39m\u001b[38;5;124;03m\"\"\"Parses a text representation of a protocol message into a message.\u001b[39;00m\n\u001b[1;32m    769\u001b[0m \n\u001b[1;32m    770\u001b[0m \u001b[38;5;124;03mSee Merge() for more details.\u001b[39;00m\n\u001b[0;32m   (...)\u001b[0m\n\u001b[1;32m    787\u001b[0m \u001b[38;5;124;03m  ParseError: On text parsing problems.\u001b[39;00m\n\u001b[1;32m    788\u001b[0m \u001b[38;5;124;03m\"\"\"\u001b[39;00m\n\u001b[1;32m    789\u001b[0m parser \u001b[38;5;241m=\u001b[39m _Parser(allow_unknown_extension,\n\u001b[1;32m    790\u001b[0m                  allow_field_number,\n\u001b[1;32m    791\u001b[0m                  descriptor_pool\u001b[38;5;241m=\u001b[39mdescriptor_pool,\n\u001b[1;32m    792\u001b[0m                  allow_unknown_field\u001b[38;5;241m=\u001b[39mallow_unknown_field)\n\u001b[0;32m--> 793\u001b[0m \u001b[38;5;28;01mreturn\u001b[39;00m \u001b[43mparser\u001b[49m\u001b[38;5;241;43m.\u001b[39;49m\u001b[43mMergeLines\u001b[49m\u001b[43m(\u001b[49m\u001b[43mlines\u001b[49m\u001b[43m,\u001b[49m\u001b[43m \u001b[49m\u001b[43mmessage\u001b[49m\u001b[43m)\u001b[49m\n",
      "File \u001b[0;32m~/Blood-object-detection/test1/lib/python3.10/site-packages/google/protobuf/text_format.py:818\u001b[0m, in \u001b[0;36m_Parser.MergeLines\u001b[0;34m(self, lines, message)\u001b[0m\n\u001b[1;32m    816\u001b[0m \u001b[38;5;250m\u001b[39m\u001b[38;5;124;03m\"\"\"Merges a text representation of a protocol message into a message.\"\"\"\u001b[39;00m\n\u001b[1;32m    817\u001b[0m \u001b[38;5;28mself\u001b[39m\u001b[38;5;241m.\u001b[39m_allow_multiple_scalars \u001b[38;5;241m=\u001b[39m \u001b[38;5;28;01mTrue\u001b[39;00m\n\u001b[0;32m--> 818\u001b[0m \u001b[38;5;28;43mself\u001b[39;49m\u001b[38;5;241;43m.\u001b[39;49m\u001b[43m_ParseOrMerge\u001b[49m\u001b[43m(\u001b[49m\u001b[43mlines\u001b[49m\u001b[43m,\u001b[49m\u001b[43m \u001b[49m\u001b[43mmessage\u001b[49m\u001b[43m)\u001b[49m\n\u001b[1;32m    819\u001b[0m \u001b[38;5;28;01mreturn\u001b[39;00m message\n",
      "File \u001b[0;32m~/Blood-object-detection/test1/lib/python3.10/site-packages/google/protobuf/text_format.py:837\u001b[0m, in \u001b[0;36m_Parser._ParseOrMerge\u001b[0;34m(self, lines, message)\u001b[0m\n\u001b[1;32m    835\u001b[0m tokenizer \u001b[38;5;241m=\u001b[39m Tokenizer(str_lines)\n\u001b[1;32m    836\u001b[0m \u001b[38;5;28;01mwhile\u001b[39;00m \u001b[38;5;129;01mnot\u001b[39;00m tokenizer\u001b[38;5;241m.\u001b[39mAtEnd():\n\u001b[0;32m--> 837\u001b[0m   \u001b[38;5;28;43mself\u001b[39;49m\u001b[38;5;241;43m.\u001b[39;49m\u001b[43m_MergeField\u001b[49m\u001b[43m(\u001b[49m\u001b[43mtokenizer\u001b[49m\u001b[43m,\u001b[49m\u001b[43m \u001b[49m\u001b[43mmessage\u001b[49m\u001b[43m)\u001b[49m\n",
      "File \u001b[0;32m~/Blood-object-detection/test1/lib/python3.10/site-packages/google/protobuf/text_format.py:967\u001b[0m, in \u001b[0;36m_Parser._MergeField\u001b[0;34m(self, tokenizer, message)\u001b[0m\n\u001b[1;32m    964\u001b[0m         tokenizer\u001b[38;5;241m.\u001b[39mConsume(\u001b[38;5;124m'\u001b[39m\u001b[38;5;124m,\u001b[39m\u001b[38;5;124m'\u001b[39m)\n\u001b[1;32m    966\u001b[0m   \u001b[38;5;28;01melse\u001b[39;00m:\n\u001b[0;32m--> 967\u001b[0m     \u001b[43mmerger\u001b[49m\u001b[43m(\u001b[49m\u001b[43mtokenizer\u001b[49m\u001b[43m,\u001b[49m\u001b[43m \u001b[49m\u001b[43mmessage\u001b[49m\u001b[43m,\u001b[49m\u001b[43m \u001b[49m\u001b[43mfield\u001b[49m\u001b[43m)\u001b[49m\n\u001b[1;32m    969\u001b[0m \u001b[38;5;28;01melse\u001b[39;00m:  \u001b[38;5;66;03m# Proto field is unknown.\u001b[39;00m\n\u001b[1;32m    970\u001b[0m   \u001b[38;5;28;01massert\u001b[39;00m (\u001b[38;5;28mself\u001b[39m\u001b[38;5;241m.\u001b[39mallow_unknown_extension \u001b[38;5;129;01mor\u001b[39;00m \u001b[38;5;28mself\u001b[39m\u001b[38;5;241m.\u001b[39mallow_unknown_field)\n",
      "File \u001b[0;32m~/Blood-object-detection/test1/lib/python3.10/site-packages/google/protobuf/text_format.py:1042\u001b[0m, in \u001b[0;36m_Parser._MergeMessageField\u001b[0;34m(self, tokenizer, message, field)\u001b[0m\n\u001b[1;32m   1040\u001b[0m   \u001b[38;5;28;01mif\u001b[39;00m tokenizer\u001b[38;5;241m.\u001b[39mAtEnd():\n\u001b[1;32m   1041\u001b[0m     \u001b[38;5;28;01mraise\u001b[39;00m tokenizer\u001b[38;5;241m.\u001b[39mParseErrorPreviousToken(\u001b[38;5;124m'\u001b[39m\u001b[38;5;124mExpected \u001b[39m\u001b[38;5;124m\"\u001b[39m\u001b[38;5;132;01m%s\u001b[39;00m\u001b[38;5;124m\"\u001b[39m\u001b[38;5;124m.\u001b[39m\u001b[38;5;124m'\u001b[39m \u001b[38;5;241m%\u001b[39m (end_token,))\n\u001b[0;32m-> 1042\u001b[0m   \u001b[38;5;28;43mself\u001b[39;49m\u001b[38;5;241;43m.\u001b[39;49m\u001b[43m_MergeField\u001b[49m\u001b[43m(\u001b[49m\u001b[43mtokenizer\u001b[49m\u001b[43m,\u001b[49m\u001b[43m \u001b[49m\u001b[43msub_message\u001b[49m\u001b[43m)\u001b[49m\n\u001b[1;32m   1044\u001b[0m \u001b[38;5;28;01mif\u001b[39;00m is_map_entry:\n\u001b[1;32m   1045\u001b[0m   value_cpptype \u001b[38;5;241m=\u001b[39m field\u001b[38;5;241m.\u001b[39mmessage_type\u001b[38;5;241m.\u001b[39mfields_by_name[\u001b[38;5;124m'\u001b[39m\u001b[38;5;124mvalue\u001b[39m\u001b[38;5;124m'\u001b[39m]\u001b[38;5;241m.\u001b[39mcpp_type\n",
      "File \u001b[0;32m~/Blood-object-detection/test1/lib/python3.10/site-packages/google/protobuf/text_format.py:932\u001b[0m, in \u001b[0;36m_Parser._MergeField\u001b[0;34m(self, tokenizer, message)\u001b[0m\n\u001b[1;32m    929\u001b[0m       field \u001b[38;5;241m=\u001b[39m \u001b[38;5;28;01mNone\u001b[39;00m\n\u001b[1;32m    931\u001b[0m   \u001b[38;5;28;01mif\u001b[39;00m \u001b[38;5;129;01mnot\u001b[39;00m field \u001b[38;5;129;01mand\u001b[39;00m \u001b[38;5;129;01mnot\u001b[39;00m \u001b[38;5;28mself\u001b[39m\u001b[38;5;241m.\u001b[39mallow_unknown_field:\n\u001b[0;32m--> 932\u001b[0m     \u001b[38;5;28;01mraise\u001b[39;00m tokenizer\u001b[38;5;241m.\u001b[39mParseErrorPreviousToken(\n\u001b[1;32m    933\u001b[0m         \u001b[38;5;124m'\u001b[39m\u001b[38;5;124mMessage type \u001b[39m\u001b[38;5;124m\"\u001b[39m\u001b[38;5;132;01m%s\u001b[39;00m\u001b[38;5;124m\"\u001b[39m\u001b[38;5;124m has no field named \u001b[39m\u001b[38;5;124m\"\u001b[39m\u001b[38;5;132;01m%s\u001b[39;00m\u001b[38;5;124m\"\u001b[39m\u001b[38;5;124m.\u001b[39m\u001b[38;5;124m'\u001b[39m \u001b[38;5;241m%\u001b[39m\n\u001b[1;32m    934\u001b[0m         (message_descriptor\u001b[38;5;241m.\u001b[39mfull_name, name))\n\u001b[1;32m    936\u001b[0m \u001b[38;5;28;01mif\u001b[39;00m field:\n\u001b[1;32m    937\u001b[0m   \u001b[38;5;28;01mif\u001b[39;00m \u001b[38;5;129;01mnot\u001b[39;00m \u001b[38;5;28mself\u001b[39m\u001b[38;5;241m.\u001b[39m_allow_multiple_scalars \u001b[38;5;129;01mand\u001b[39;00m field\u001b[38;5;241m.\u001b[39mcontaining_oneof:\n\u001b[1;32m    938\u001b[0m     \u001b[38;5;66;03m# Check if there's a different field set in this oneof.\u001b[39;00m\n\u001b[1;32m    939\u001b[0m     \u001b[38;5;66;03m# Note that we ignore the case if the same field was set before, and we\u001b[39;00m\n\u001b[1;32m    940\u001b[0m     \u001b[38;5;66;03m# apply _allow_multiple_scalars to non-scalar fields as well.\u001b[39;00m\n",
      "\u001b[0;31mParseError\u001b[0m: 172:3 : Message type \"object_detection.protos.TrainConfig\" has no field named \"fine_tune_checkpoint_version\"."
     ]
    }
   ],
   "source": [
    "pipeline_config = pipeline_pb2.TrainEvalPipelineConfig()\n",
    "with tf.io.gfile.GFile(files['PIPELINE_CONFIG'], \"r\") as f:                                                                                                                                                                                                                     \n",
    "    proto_str = f.read()                                                                                                                                                                                                                                          \n",
    "    text_format.Merge(proto_str, pipeline_config)  "
   ]
  },
  {
   "cell_type": "code",
   "execution_count": 15,
   "id": "e2375c8f-15ff-44c9-b5a0-9077d03d2099",
   "metadata": {},
   "outputs": [
    {
     "data": {
      "text/plain": [
       "'Tensorflow/workspace/annotations/label_map_karp.pbtxt'"
      ]
     },
     "execution_count": 15,
     "metadata": {},
     "output_type": "execute_result"
    }
   ],
   "source": [
    "files['LABELMAP']"
   ]
  },
  {
   "cell_type": "code",
   "execution_count": 16,
   "id": "2f86baa3-5ac2-4ea4-9efc-b448cccd56e0",
   "metadata": {},
   "outputs": [],
   "source": [
    "with open(files['LABELMAP']) as f:\n",
    "    lines = f.readlines()\n",
    "label_count = lines.count('}\\n')"
   ]
  },
  {
   "cell_type": "code",
   "execution_count": 17,
   "id": "1b8cd571-ddce-4ce9-99db-6609a097abd1",
   "metadata": {},
   "outputs": [
    {
     "data": {
      "text/plain": [
       "14"
      ]
     },
     "execution_count": 17,
     "metadata": {},
     "output_type": "execute_result"
    }
   ],
   "source": [
    "label_count"
   ]
  },
  {
   "cell_type": "code",
   "execution_count": 18,
   "id": "fe20ba8b-e798-4148-91d8-5b28beeaeb07",
   "metadata": {},
   "outputs": [],
   "source": [
    "pipeline_config.model.ssd.num_classes = label_count\n",
    "pipeline_config.train_config.batch_size = 4\n",
    "pipeline_config.train_config.fine_tune_checkpoint = os.path.join(paths['PRETRAINED_MODEL_PATH'], PRETRAINED_MODEL_NAME, 'checkpoint', 'ckpt-0')\n",
    "pipeline_config.train_config.fine_tune_checkpoint_type = \"detection\"\n",
    "pipeline_config.train_input_reader.label_map_path= files['LABELMAP']\n",
    "pipeline_config.train_input_reader.tf_record_input_reader.input_path[:] = [os.path.join(paths['ANNOTATION_PATH'], name + '_train.record')]\n",
    "pipeline_config.eval_input_reader[0].label_map_path = files['LABELMAP']\n",
    "pipeline_config.eval_input_reader[0].tf_record_input_reader.input_path[:] = [os.path.join(paths['ANNOTATION_PATH'], name + '_test.record')]"
   ]
  },
  {
   "cell_type": "code",
   "execution_count": 19,
   "id": "d8a2f13c-99bc-482b-9388-21365c031da1",
   "metadata": {},
   "outputs": [],
   "source": [
    "config_text = text_format.MessageToString(pipeline_config)                                                                                                                                                                                                        \n",
    "with tf.io.gfile.GFile(files['PIPELINE_CONFIG'], \"wb\") as f:                                                                                                                                                                                                                     \n",
    "    f.write(config_text)   "
   ]
  },
  {
   "cell_type": "markdown",
   "id": "fe0e3d37-74b7-4943-b385-c19d21e2b899",
   "metadata": {},
   "source": [
    "# Обучение модели"
   ]
  },
  {
   "cell_type": "code",
   "execution_count": 21,
   "id": "b5267d7b-d438-42e5-973d-857750bbceca",
   "metadata": {},
   "outputs": [],
   "source": [
    "TRAINING_SCRIPT = os.path.join(paths['APIMODEL_PATH'], 'research', 'object_detection', 'model_main_tf2.py')"
   ]
  },
  {
   "cell_type": "code",
   "execution_count": 22,
   "id": "9ae59a41-6333-4a39-b073-597499fcfe38",
   "metadata": {},
   "outputs": [],
   "source": [
    "command = \"python3 {} --model_dir={} --pipeline_config_path={} --num_train_steps=2000\".format(TRAINING_SCRIPT, paths['CHECKPOINT_PATH'],files['PIPELINE_CONFIG'])"
   ]
  },
  {
   "cell_type": "markdown",
   "id": "5464efef-76bb-4887-a71a-6297a21170e1",
   "metadata": {},
   "source": [
    "Запустить через терминал (внутри venv!)"
   ]
  },
  {
   "cell_type": "code",
   "execution_count": 23,
   "id": "e3cf27c1-4867-4caf-97e4-b44b95a6b093",
   "metadata": {},
   "outputs": [
    {
     "name": "stdout",
     "output_type": "stream",
     "text": [
      "python3 Tensorflow/models/research/object_detection/model_main_tf2.py --model_dir=Tensorflow/workspace/models/my_ssd_mobnet/karp_checkpoints --pipeline_config_path=Tensorflow/workspace/models/my_ssd_mobnet/karp_checkpoints/karp_pipeline.config --num_train_steps=2000\n"
     ]
    }
   ],
   "source": [
    "print(command)"
   ]
  },
  {
   "cell_type": "code",
   "execution_count": 29,
   "id": "4b4a5834-e3ad-4173-80bf-4f38a8de8b2c",
   "metadata": {
    "scrolled": true
   },
   "outputs": [
    {
     "name": "stdout",
     "output_type": "stream",
     "text": [
      "INFO:tensorflow:Using MirroredStrategy with devices ('/job:localhost/replica:0/task:0/device:GPU:0',)\n"
     ]
    },
    {
     "name": "stderr",
     "output_type": "stream",
     "text": [
      "2024-03-04 11:59:50.825219: I external/local_xla/xla/stream_executor/cuda/cuda_executor.cc:901] successful NUMA node read from SysFS had negative value (-1), but there must be at least one NUMA node, so returning NUMA node zero. See more at https://github.com/torvalds/linux/blob/v6.0/Documentation/ABI/testing/sysfs-bus-pci#L344-L355\n",
      "2024-03-04 11:59:50.935897: I external/local_xla/xla/stream_executor/cuda/cuda_executor.cc:901] successful NUMA node read from SysFS had negative value (-1), but there must be at least one NUMA node, so returning NUMA node zero. See more at https://github.com/torvalds/linux/blob/v6.0/Documentation/ABI/testing/sysfs-bus-pci#L344-L355\n",
      "2024-03-04 11:59:50.936425: I external/local_xla/xla/stream_executor/cuda/cuda_executor.cc:901] successful NUMA node read from SysFS had negative value (-1), but there must be at least one NUMA node, so returning NUMA node zero. See more at https://github.com/torvalds/linux/blob/v6.0/Documentation/ABI/testing/sysfs-bus-pci#L344-L355\n",
      "2024-03-04 11:59:50.938203: I external/local_xla/xla/stream_executor/cuda/cuda_executor.cc:901] successful NUMA node read from SysFS had negative value (-1), but there must be at least one NUMA node, so returning NUMA node zero. See more at https://github.com/torvalds/linux/blob/v6.0/Documentation/ABI/testing/sysfs-bus-pci#L344-L355\n",
      "2024-03-04 11:59:50.938691: I external/local_xla/xla/stream_executor/cuda/cuda_executor.cc:901] successful NUMA node read from SysFS had negative value (-1), but there must be at least one NUMA node, so returning NUMA node zero. See more at https://github.com/torvalds/linux/blob/v6.0/Documentation/ABI/testing/sysfs-bus-pci#L344-L355\n",
      "2024-03-04 11:59:50.939125: I external/local_xla/xla/stream_executor/cuda/cuda_executor.cc:901] successful NUMA node read from SysFS had negative value (-1), but there must be at least one NUMA node, so returning NUMA node zero. See more at https://github.com/torvalds/linux/blob/v6.0/Documentation/ABI/testing/sysfs-bus-pci#L344-L355\n",
      "2024-03-04 11:59:51.046378: I external/local_xla/xla/stream_executor/cuda/cuda_executor.cc:901] successful NUMA node read from SysFS had negative value (-1), but there must be at least one NUMA node, so returning NUMA node zero. See more at https://github.com/torvalds/linux/blob/v6.0/Documentation/ABI/testing/sysfs-bus-pci#L344-L355\n",
      "2024-03-04 11:59:51.046631: I external/local_xla/xla/stream_executor/cuda/cuda_executor.cc:901] successful NUMA node read from SysFS had negative value (-1), but there must be at least one NUMA node, so returning NUMA node zero. See more at https://github.com/torvalds/linux/blob/v6.0/Documentation/ABI/testing/sysfs-bus-pci#L344-L355\n",
      "2024-03-04 11:59:51.046879: I external/local_xla/xla/stream_executor/cuda/cuda_executor.cc:901] successful NUMA node read from SysFS had negative value (-1), but there must be at least one NUMA node, so returning NUMA node zero. See more at https://github.com/torvalds/linux/blob/v6.0/Documentation/ABI/testing/sysfs-bus-pci#L344-L355\n",
      "2024-03-04 11:59:51.047060: I tensorflow/core/common_runtime/gpu/gpu_device.cc:1929] Created device /job:localhost/replica:0/task:0/device:GPU:0 with 2795 MB memory:  -> device: 0, name: NVIDIA GeForce GTX 1650, pci bus id: 0000:01:00.0, compute capability: 7.5\n",
      "I0304 11:59:51.048652 140160170041344 mirrored_strategy.py:423] Using MirroredStrategy with devices ('/job:localhost/replica:0/task:0/device:GPU:0',)\n"
     ]
    },
    {
     "name": "stdout",
     "output_type": "stream",
     "text": [
      "INFO:tensorflow:Maybe overwriting train_steps: 2000\n"
     ]
    },
    {
     "name": "stderr",
     "output_type": "stream",
     "text": [
      "I0304 11:59:51.115087 140160170041344 config_util.py:552] Maybe overwriting train_steps: 2000\n"
     ]
    },
    {
     "name": "stdout",
     "output_type": "stream",
     "text": [
      "INFO:tensorflow:Maybe overwriting use_bfloat16: False\n"
     ]
    },
    {
     "name": "stderr",
     "output_type": "stream",
     "text": [
      "I0304 11:59:51.116015 140160170041344 config_util.py:552] Maybe overwriting use_bfloat16: False\n"
     ]
    },
    {
     "name": "stdout",
     "output_type": "stream",
     "text": [
      "WARNING:tensorflow:From /home/midnightknight/Blood-object-detection/obj_det/lib/python3.10/site-packages/object_detection/model_lib_v2.py:563: StrategyBase.experimental_distribute_datasets_from_function (from tensorflow.python.distribute.distribute_lib) is deprecated and will be removed in a future version.\n",
      "Instructions for updating:\n",
      "rename to distribute_datasets_from_function\n"
     ]
    },
    {
     "name": "stderr",
     "output_type": "stream",
     "text": [
      "W0304 11:59:51.142272 140160170041344 deprecation.py:50] From /home/midnightknight/Blood-object-detection/obj_det/lib/python3.10/site-packages/object_detection/model_lib_v2.py:563: StrategyBase.experimental_distribute_datasets_from_function (from tensorflow.python.distribute.distribute_lib) is deprecated and will be removed in a future version.\n",
      "Instructions for updating:\n",
      "rename to distribute_datasets_from_function\n"
     ]
    },
    {
     "name": "stdout",
     "output_type": "stream",
     "text": [
      "INFO:tensorflow:Reading unweighted datasets: ['Tensorflow/workspace/annotations/osetr_train.record']\n"
     ]
    },
    {
     "name": "stderr",
     "output_type": "stream",
     "text": [
      "I0304 11:59:51.150909 140160170041344 dataset_builder.py:162] Reading unweighted datasets: ['Tensorflow/workspace/annotations/osetr_train.record']\n"
     ]
    },
    {
     "name": "stdout",
     "output_type": "stream",
     "text": [
      "INFO:tensorflow:Reading record datasets for input file: ['Tensorflow/workspace/annotations/osetr_train.record']\n"
     ]
    },
    {
     "name": "stderr",
     "output_type": "stream",
     "text": [
      "I0304 11:59:51.151841 140160170041344 dataset_builder.py:79] Reading record datasets for input file: ['Tensorflow/workspace/annotations/osetr_train.record']\n"
     ]
    },
    {
     "name": "stdout",
     "output_type": "stream",
     "text": [
      "INFO:tensorflow:Number of filenames to read: 1\n"
     ]
    },
    {
     "name": "stderr",
     "output_type": "stream",
     "text": [
      "I0304 11:59:51.152432 140160170041344 dataset_builder.py:80] Number of filenames to read: 1\n"
     ]
    },
    {
     "name": "stdout",
     "output_type": "stream",
     "text": [
      "WARNING:tensorflow:num_readers has been reduced to 1 to match input file shards.\n"
     ]
    },
    {
     "name": "stderr",
     "output_type": "stream",
     "text": [
      "W0304 11:59:51.152981 140160170041344 dataset_builder.py:86] num_readers has been reduced to 1 to match input file shards.\n"
     ]
    },
    {
     "name": "stdout",
     "output_type": "stream",
     "text": [
      "WARNING:tensorflow:From /home/midnightknight/Blood-object-detection/obj_det/lib/python3.10/site-packages/object_detection/builders/dataset_builder.py:100: parallel_interleave (from tensorflow.python.data.experimental.ops.interleave_ops) is deprecated and will be removed in a future version.\n",
      "Instructions for updating:\n",
      "Use `tf.data.Dataset.interleave(map_func, cycle_length, block_length, num_parallel_calls=tf.data.AUTOTUNE)` instead. If sloppy execution is desired, use `tf.data.Options.deterministic`.\n"
     ]
    },
    {
     "name": "stderr",
     "output_type": "stream",
     "text": [
      "W0304 11:59:51.159386 140160170041344 deprecation.py:50] From /home/midnightknight/Blood-object-detection/obj_det/lib/python3.10/site-packages/object_detection/builders/dataset_builder.py:100: parallel_interleave (from tensorflow.python.data.experimental.ops.interleave_ops) is deprecated and will be removed in a future version.\n",
      "Instructions for updating:\n",
      "Use `tf.data.Dataset.interleave(map_func, cycle_length, block_length, num_parallel_calls=tf.data.AUTOTUNE)` instead. If sloppy execution is desired, use `tf.data.Options.deterministic`.\n"
     ]
    },
    {
     "name": "stdout",
     "output_type": "stream",
     "text": [
      "WARNING:tensorflow:From /home/midnightknight/Blood-object-detection/obj_det/lib/python3.10/site-packages/object_detection/builders/dataset_builder.py:235: DatasetV1.map_with_legacy_function (from tensorflow.python.data.ops.dataset_ops) is deprecated and will be removed in a future version.\n",
      "Instructions for updating:\n",
      "Use `tf.data.Dataset.map()\n"
     ]
    },
    {
     "name": "stderr",
     "output_type": "stream",
     "text": [
      "W0304 11:59:51.179977 140160170041344 deprecation.py:50] From /home/midnightknight/Blood-object-detection/obj_det/lib/python3.10/site-packages/object_detection/builders/dataset_builder.py:235: DatasetV1.map_with_legacy_function (from tensorflow.python.data.ops.dataset_ops) is deprecated and will be removed in a future version.\n",
      "Instructions for updating:\n",
      "Use `tf.data.Dataset.map()\n"
     ]
    },
    {
     "name": "stdout",
     "output_type": "stream",
     "text": [
      "WARNING:tensorflow:From /home/midnightknight/Blood-object-detection/obj_det/lib/python3.10/site-packages/tensorflow/python/util/dispatch.py:1260: sparse_to_dense (from tensorflow.python.ops.sparse_ops) is deprecated and will be removed in a future version.\n",
      "Instructions for updating:\n",
      "Create a `tf.sparse.SparseTensor` and use `tf.sparse.to_dense` instead.\n"
     ]
    },
    {
     "name": "stderr",
     "output_type": "stream",
     "text": [
      "W0304 11:59:56.162764 140160170041344 deprecation.py:50] From /home/midnightknight/Blood-object-detection/obj_det/lib/python3.10/site-packages/tensorflow/python/util/dispatch.py:1260: sparse_to_dense (from tensorflow.python.ops.sparse_ops) is deprecated and will be removed in a future version.\n",
      "Instructions for updating:\n",
      "Create a `tf.sparse.SparseTensor` and use `tf.sparse.to_dense` instead.\n"
     ]
    },
    {
     "name": "stdout",
     "output_type": "stream",
     "text": [
      "WARNING:tensorflow:From /home/midnightknight/Blood-object-detection/obj_det/lib/python3.10/site-packages/tensorflow/python/util/dispatch.py:1260: sample_distorted_bounding_box (from tensorflow.python.ops.image_ops_impl) is deprecated and will be removed in a future version.\n",
      "Instructions for updating:\n",
      "`seed2` arg is deprecated.Use sample_distorted_bounding_box_v2 instead.\n"
     ]
    },
    {
     "name": "stderr",
     "output_type": "stream",
     "text": [
      "W0304 11:59:58.351308 140160170041344 deprecation.py:50] From /home/midnightknight/Blood-object-detection/obj_det/lib/python3.10/site-packages/tensorflow/python/util/dispatch.py:1260: sample_distorted_bounding_box (from tensorflow.python.ops.image_ops_impl) is deprecated and will be removed in a future version.\n",
      "Instructions for updating:\n",
      "`seed2` arg is deprecated.Use sample_distorted_bounding_box_v2 instead.\n"
     ]
    },
    {
     "name": "stdout",
     "output_type": "stream",
     "text": [
      "WARNING:tensorflow:From /home/midnightknight/Blood-object-detection/obj_det/lib/python3.10/site-packages/tensorflow/python/util/dispatch.py:1260: to_float (from tensorflow.python.ops.math_ops) is deprecated and will be removed in a future version.\n",
      "Instructions for updating:\n",
      "Use `tf.cast` instead.\n"
     ]
    },
    {
     "name": "stderr",
     "output_type": "stream",
     "text": [
      "W0304 11:59:59.429207 140160170041344 deprecation.py:50] From /home/midnightknight/Blood-object-detection/obj_det/lib/python3.10/site-packages/tensorflow/python/util/dispatch.py:1260: to_float (from tensorflow.python.ops.math_ops) is deprecated and will be removed in a future version.\n",
      "Instructions for updating:\n",
      "Use `tf.cast` instead.\n",
      "2024-03-04 12:00:02.318178: W external/local_tsl/tsl/framework/cpu_allocator_impl.cc:83] Allocation of 109495296 exceeds 10% of free system memory.\n",
      "2024-03-04 12:00:02.437699: W external/local_tsl/tsl/framework/cpu_allocator_impl.cc:83] Allocation of 109495296 exceeds 10% of free system memory.\n",
      "2024-03-04 12:00:02.441547: W external/local_tsl/tsl/framework/cpu_allocator_impl.cc:83] Allocation of 109495296 exceeds 10% of free system memory.\n",
      "2024-03-04 12:00:02.459641: W external/local_tsl/tsl/framework/cpu_allocator_impl.cc:83] Allocation of 109495296 exceeds 10% of free system memory.\n",
      "2024-03-04 12:00:02.501806: W external/local_tsl/tsl/framework/cpu_allocator_impl.cc:83] Allocation of 109495296 exceeds 10% of free system memory.\n",
      "/home/midnightknight/Blood-object-detection/obj_det/lib/python3.10/site-packages/keras/src/backend.py:452: UserWarning: `tf.keras.backend.set_learning_phase` is deprecated and will be removed after 2020-10-11. To update it, simply pass a True/False value to the `training` argument of the `__call__` method of your layer or model.\n",
      "  warnings.warn(\n",
      "I0304 12:00:09.775856 140149757978176 api.py:460] feature_map_spatial_dims: [(40, 40), (20, 20), (10, 10), (5, 5), (3, 3)]\n",
      "I0304 12:00:15.420441 140149757978176 api.py:460] feature_map_spatial_dims: [(40, 40), (20, 20), (10, 10), (5, 5), (3, 3)]\n",
      "2024-03-04 12:00:18.174942: I external/local_xla/xla/stream_executor/cuda/cuda_dnn.cc:454] Loaded cuDNN version 8904\n"
     ]
    },
    {
     "name": "stdout",
     "output_type": "stream",
     "text": [
      "WARNING:tensorflow:Detecting that an object or model or tf.train.Checkpoint is being deleted with unrestored values. See the following logs for the specific values in question. To silence these warnings, use `status.expect_partial()`. See https://www.tensorflow.org/api_docs/python/tf/train/Checkpoint#restorefor details about the status object returned by the restore function.\n"
     ]
    },
    {
     "name": "stderr",
     "output_type": "stream",
     "text": [
      "W0304 12:00:23.688475 140160170041344 checkpoint.py:225] Detecting that an object or model or tf.train.Checkpoint is being deleted with unrestored values. See the following logs for the specific values in question. To silence these warnings, use `status.expect_partial()`. See https://www.tensorflow.org/api_docs/python/tf/train/Checkpoint#restorefor details about the status object returned by the restore function.\n"
     ]
    },
    {
     "name": "stdout",
     "output_type": "stream",
     "text": [
      "WARNING:tensorflow:Value in checkpoint could not be found in the restored object: (root).optimizer.iter\n"
     ]
    },
    {
     "name": "stderr",
     "output_type": "stream",
     "text": [
      "W0304 12:00:23.689536 140160170041344 checkpoint.py:234] Value in checkpoint could not be found in the restored object: (root).optimizer.iter\n"
     ]
    },
    {
     "name": "stdout",
     "output_type": "stream",
     "text": [
      "WARNING:tensorflow:Value in checkpoint could not be found in the restored object: (root).optimizer.decay\n"
     ]
    },
    {
     "name": "stderr",
     "output_type": "stream",
     "text": [
      "W0304 12:00:23.690171 140160170041344 checkpoint.py:234] Value in checkpoint could not be found in the restored object: (root).optimizer.decay\n"
     ]
    },
    {
     "name": "stdout",
     "output_type": "stream",
     "text": [
      "WARNING:tensorflow:Value in checkpoint could not be found in the restored object: (root).optimizer.momentum\n"
     ]
    },
    {
     "name": "stderr",
     "output_type": "stream",
     "text": [
      "W0304 12:00:23.690841 140160170041344 checkpoint.py:234] Value in checkpoint could not be found in the restored object: (root).optimizer.momentum\n"
     ]
    }
   ],
   "source": [
    "%run Tensorflow/models/research/object_detection/model_main_tf2.py --model_dir=Tensorflow/workspace/models/my_ssd_mobnet --pipeline_config_path=Tensorflow/workspace/models/my_ssd_mobnet/pipeline.config --num_train_steps=2000"
   ]
  },
  {
   "cell_type": "markdown",
   "id": "ac60e5b7-0ceb-4b47-b40d-aee12eed42e6",
   "metadata": {},
   "source": [
    "Нужно опять поменять код внутри библиотеки\n",
    "https://github.com/tensorflow/models/issues/11099"
   ]
  },
  {
   "cell_type": "raw",
   "id": "fde56c8c-c1df-4af5-9996-3a1766a30226",
   "metadata": {},
   "source": [
    "import shutil\n",
    "import re\n",
    "\n",
    "original_path = 'obj_det/lib/python3.10/site-packages/tf_slim/data/tfexample_decoder.py'\n",
    "with open(original_path, 'r') as file:\n",
    "content = file.read()\n",
    "content = re.sub(r'import abc', 'import tensorflow as tf\\n\\nimport abc', content)\n",
    "content = re.sub(r'control_flow_ops.case', 'tf.case', content)\n",
    "content = re.sub(r'control_flow_ops.cond', 'tf.compat.v1.cond', content)\n",
    "with open(original_path, 'w') as file:\n",
    "file.write(content)\n",
    "\n",
    "print(f\"File {original_path} fixed.\")"
   ]
  },
  {
   "cell_type": "markdown",
   "id": "bf190878-9370-4ad3-b5d6-0f7b28765521",
   "metadata": {},
   "source": [
    "Внизу команда для терминала, которая позволяет посмотреть показатели обучения"
   ]
  },
  {
   "cell_type": "raw",
   "id": "27422d1e-2b60-4144-8b4a-ff28d1bfa7a6",
   "metadata": {},
   "source": [
    "tensorboard  --logdir=Tensorflow/workspace/models/my_ssd_mobnet/train/"
   ]
  },
  {
   "cell_type": "markdown",
   "id": "9ec743c3-74a9-493e-b9dd-023ebb289596",
   "metadata": {},
   "source": [
    "# Оценивание модели"
   ]
  },
  {
   "cell_type": "code",
   "execution_count": 15,
   "id": "bf8335f9-ab4f-4c14-b04b-11f9d5136abc",
   "metadata": {},
   "outputs": [],
   "source": [
    "command = \"python3 {} --model_dir={} --pipeline_config_path={} --checkpoint_dir={}\".format(TRAINING_SCRIPT, paths['CHECKPOINT_PATH'],files['PIPELINE_CONFIG'], paths['CHECKPOINT_PATH'])"
   ]
  },
  {
   "cell_type": "markdown",
   "id": "7b0e566e-f317-4c8b-91cc-3c3bed4942ae",
   "metadata": {},
   "source": [
    "Запустить через терминал (внутри venv!)"
   ]
  },
  {
   "cell_type": "code",
   "execution_count": 16,
   "id": "3e7ae975-6e39-4ae0-863e-1afff4661e09",
   "metadata": {},
   "outputs": [
    {
     "name": "stdout",
     "output_type": "stream",
     "text": [
      "python3 Tensorflow/models/research/object_detection/model_main_tf2.py --model_dir=Tensorflow/workspace/models/my_ssd_mobnet --pipeline_config_path=Tensorflow/workspace/models/my_ssd_mobnet/pipeline.config --checkpoint_dir=Tensorflow/workspace/models/my_ssd_mobnet\n"
     ]
    }
   ],
   "source": [
    "print(command)"
   ]
  },
  {
   "cell_type": "raw",
   "id": "2fc72308-822f-43d3-be4f-5d0571b33cb4",
   "metadata": {},
   "source": [
    "tensorboard --logdir=Tensorflow/workspace/models/my_ssd_mobnet/eval/"
   ]
  }
 ],
 "metadata": {
  "kernelspec": {
   "display_name": "obj_det",
   "language": "python",
   "name": "obj_det"
  },
  "language_info": {
   "codemirror_mode": {
    "name": "ipython",
    "version": 3
   },
   "file_extension": ".py",
   "mimetype": "text/x-python",
   "name": "python",
   "nbconvert_exporter": "python",
   "pygments_lexer": "ipython3",
   "version": "3.10.12"
  }
 },
 "nbformat": 4,
 "nbformat_minor": 5
}
